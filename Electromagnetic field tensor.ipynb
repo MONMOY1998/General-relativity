{
 "cells": [
  {
   "cell_type": "code",
   "execution_count": 1,
   "id": "cfd785aa",
   "metadata": {},
   "outputs": [],
   "source": [
    "import pytearcat as pt"
   ]
  },
  {
   "cell_type": "code",
   "execution_count": 2,
   "id": "c3c4f52d",
   "metadata": {},
   "outputs": [
    {
     "name": "stdout",
     "output_type": "stream",
     "text": [
      "['C', 'D', '__builtins__', '__cached__', '__doc__', '__file__', '__loader__', '__name__', '__package__', '__path__', '__spec__', 'christoffel', 'con', 'coords', 'det', 'display', 'einstein', 'expand', 'factor', 'fun', 'geodesic', 'gr', 'kdelta', 'lcivita', 'metric', 'order', 'ricci', 'riccis', 'riemann', 'series', 'simplify', 'spacetime', 'ten', 'tensor', 'var']\n"
     ]
    }
   ],
   "source": [
    "print(dir(pt))"
   ]
  },
  {
   "cell_type": "code",
   "execution_count": 3,
   "id": "b6d42265",
   "metadata": {},
   "outputs": [
    {
     "name": "stdout",
     "output_type": "stream",
     "text": [
      "Remember that the time coordinate must be the first coordinate.\n"
     ]
    }
   ],
   "source": [
    "t,x,y,z=pt.coords(\"t,x,y,z\")\n",
    "c=pt.con(\"c\")\n",
    "Ax=pt.fun(\"Ax\",\"t,x,y,z\")\n",
    "Ay=pt.fun(\"Ay\",\"t,x,y,z\")\n",
    "Az=pt.fun(\"Az\",\"t,x,y,z\")\n",
    "phi=pt.fun(\"phi\",\"t,x,y,z\")\n",
    "\n"
   ]
  },
  {
   "cell_type": "code",
   "execution_count": 4,
   "id": "0aa1cf9c",
   "metadata": {},
   "outputs": [],
   "source": [
    "ds=\"ds2=-dt**2 + dx**2 + dy**2 +  dz**2\""
   ]
  },
  {
   "cell_type": "code",
   "execution_count": 5,
   "id": "31c06593",
   "metadata": {},
   "outputs": [
    {
     "name": "stdout",
     "output_type": "stream",
     "text": [
      "\n",
      "Dimension = 4\n",
      "Coordinates = t,x,y,z\n",
      "Metric defined successfully: \n",
      "\n"
     ]
    },
    {
     "data": {
      "text/latex": [
       "$\\displaystyle ds^2 = -1 \\cdot dt^2+1 \\cdot dx^2+1 \\cdot dy^2+1 \\cdot dz^2$"
      ],
      "text/plain": [
       "<IPython.core.display.Math object>"
      ]
     },
     "metadata": {},
     "output_type": "display_data"
    },
    {
     "data": {
      "text/latex": [
       "$\\displaystyle \\left[\\begin{matrix}-1 & 0 & 0 & 0\\\\0 & 1 & 0 & 0\\\\0 & 0 & 1 & 0\\\\0 & 0 & 0 & 1\\end{matrix}\\right]$"
      ],
      "text/plain": [
       "Matrix([\n",
       "[-1, 0, 0, 0],\n",
       "[ 0, 1, 0, 0],\n",
       "[ 0, 0, 1, 0],\n",
       "[ 0, 0, 0, 1]])"
      ]
     },
     "metadata": {},
     "output_type": "display_data"
    }
   ],
   "source": [
    "g=pt.metric(ds)"
   ]
  },
  {
   "cell_type": "code",
   "execution_count": 6,
   "id": "3d05a427",
   "metadata": {},
   "outputs": [
    {
     "name": "stdout",
     "output_type": "stream",
     "text": [
      "Elements assigned correctly to the ^ components\n"
     ]
    },
    {
     "data": {
      "application/vnd.jupyter.widget-view+json": {
       "model_id": "096ea35435714da58b038dfb9fd2f7ac",
       "version_major": 2,
       "version_minor": 0
      },
      "text/plain": [
       "A Tensor $A{_\\alpha}$:   0%|          | 0/4 [00:00<?, ?it/s]"
      ]
     },
     "metadata": {},
     "output_type": "display_data"
    },
    {
     "data": {
      "text/latex": [
       "All other indices of A Tensor $A$  already calculated."
      ],
      "text/plain": [
       "<IPython.core.display.Latex object>"
      ]
     },
     "metadata": {},
     "output_type": "display_data"
    },
    {
     "data": {
      "text/latex": [
       "$\\displaystyle \\left[\\begin{matrix}\\phi{\\left(t,x,y,z \\right)}\\\\\\operatorname{Ax}{\\left(t,x,y,z \\right)}\\\\\\operatorname{Ay}{\\left(t,x,y,z \\right)}\\\\\\operatorname{Az}{\\left(t,x,y,z \\right)}\\end{matrix}\\right]$"
      ],
      "text/plain": [
       "⎡φ(t, x, y, z) ⎤\n",
       "⎢              ⎥\n",
       "⎢Ax(t, x, y, z)⎥\n",
       "⎢              ⎥\n",
       "⎢Ay(t, x, y, z)⎥\n",
       "⎢              ⎥\n",
       "⎣Az(t, x, y, z)⎦"
      ]
     },
     "metadata": {},
     "output_type": "display_data"
    }
   ],
   "source": [
    "A=pt.ten(\"A\",1)\n",
    "A.assign([phi,Ax,Ay,Az],\"^\")\n",
    "A.complete(\"^\")\n",
    "A.display(\"^\")"
   ]
  },
  {
   "cell_type": "code",
   "execution_count": 7,
   "id": "9f13d809",
   "metadata": {},
   "outputs": [
    {
     "name": "stdout",
     "output_type": "stream",
     "text": [
      "Elements assigned correctly to the _mu,_nu components\n"
     ]
    },
    {
     "data": {
      "text/latex": [
       "$\\displaystyle {F}{}_{0}\\,{}_{1}\\, = \\frac{\\partial}{\\partial t} \\operatorname{Ax}{\\left(t,x,y,z \\right)} + \\frac{\\partial}{\\partial x} \\phi{\\left(t,x,y,z \\right)}$"
      ],
      "text/plain": [
       "<IPython.core.display.Math object>"
      ]
     },
     "metadata": {},
     "output_type": "display_data"
    },
    {
     "data": {
      "text/latex": [
       "$\\displaystyle {F}{}_{0}\\,{}_{2}\\, = \\frac{\\partial}{\\partial t} \\operatorname{Ay}{\\left(t,x,y,z \\right)} + \\frac{\\partial}{\\partial y} \\phi{\\left(t,x,y,z \\right)}$"
      ],
      "text/plain": [
       "<IPython.core.display.Math object>"
      ]
     },
     "metadata": {},
     "output_type": "display_data"
    },
    {
     "data": {
      "text/latex": [
       "$\\displaystyle {F}{}_{0}\\,{}_{3}\\, = \\frac{\\partial}{\\partial t} \\operatorname{Az}{\\left(t,x,y,z \\right)} + \\frac{\\partial}{\\partial z} \\phi{\\left(t,x,y,z \\right)}$"
      ],
      "text/plain": [
       "<IPython.core.display.Math object>"
      ]
     },
     "metadata": {},
     "output_type": "display_data"
    },
    {
     "data": {
      "text/latex": [
       "$\\displaystyle {F}{}_{1}\\,{}_{0}\\, = - \\frac{\\partial}{\\partial t} \\operatorname{Ax}{\\left(t,x,y,z \\right)} - \\frac{\\partial}{\\partial x} \\phi{\\left(t,x,y,z \\right)}$"
      ],
      "text/plain": [
       "<IPython.core.display.Math object>"
      ]
     },
     "metadata": {},
     "output_type": "display_data"
    },
    {
     "data": {
      "text/latex": [
       "$\\displaystyle {F}{}_{1}\\,{}_{2}\\, = - \\frac{\\partial}{\\partial y} \\operatorname{Ax}{\\left(t,x,y,z \\right)} + \\frac{\\partial}{\\partial x} \\operatorname{Ay}{\\left(t,x,y,z \\right)}$"
      ],
      "text/plain": [
       "<IPython.core.display.Math object>"
      ]
     },
     "metadata": {},
     "output_type": "display_data"
    },
    {
     "data": {
      "text/latex": [
       "$\\displaystyle {F}{}_{1}\\,{}_{3}\\, = - \\frac{\\partial}{\\partial z} \\operatorname{Ax}{\\left(t,x,y,z \\right)} + \\frac{\\partial}{\\partial x} \\operatorname{Az}{\\left(t,x,y,z \\right)}$"
      ],
      "text/plain": [
       "<IPython.core.display.Math object>"
      ]
     },
     "metadata": {},
     "output_type": "display_data"
    },
    {
     "data": {
      "text/latex": [
       "$\\displaystyle {F}{}_{2}\\,{}_{0}\\, = - \\frac{\\partial}{\\partial t} \\operatorname{Ay}{\\left(t,x,y,z \\right)} - \\frac{\\partial}{\\partial y} \\phi{\\left(t,x,y,z \\right)}$"
      ],
      "text/plain": [
       "<IPython.core.display.Math object>"
      ]
     },
     "metadata": {},
     "output_type": "display_data"
    },
    {
     "data": {
      "text/latex": [
       "$\\displaystyle {F}{}_{2}\\,{}_{1}\\, = \\frac{\\partial}{\\partial y} \\operatorname{Ax}{\\left(t,x,y,z \\right)} - \\frac{\\partial}{\\partial x} \\operatorname{Ay}{\\left(t,x,y,z \\right)}$"
      ],
      "text/plain": [
       "<IPython.core.display.Math object>"
      ]
     },
     "metadata": {},
     "output_type": "display_data"
    },
    {
     "data": {
      "text/latex": [
       "$\\displaystyle {F}{}_{2}\\,{}_{3}\\, = - \\frac{\\partial}{\\partial z} \\operatorname{Ay}{\\left(t,x,y,z \\right)} + \\frac{\\partial}{\\partial y} \\operatorname{Az}{\\left(t,x,y,z \\right)}$"
      ],
      "text/plain": [
       "<IPython.core.display.Math object>"
      ]
     },
     "metadata": {},
     "output_type": "display_data"
    },
    {
     "data": {
      "text/latex": [
       "$\\displaystyle {F}{}_{3}\\,{}_{0}\\, = - \\frac{\\partial}{\\partial t} \\operatorname{Az}{\\left(t,x,y,z \\right)} - \\frac{\\partial}{\\partial z} \\phi{\\left(t,x,y,z \\right)}$"
      ],
      "text/plain": [
       "<IPython.core.display.Math object>"
      ]
     },
     "metadata": {},
     "output_type": "display_data"
    },
    {
     "data": {
      "text/latex": [
       "$\\displaystyle {F}{}_{3}\\,{}_{1}\\, = \\frac{\\partial}{\\partial z} \\operatorname{Ax}{\\left(t,x,y,z \\right)} - \\frac{\\partial}{\\partial x} \\operatorname{Az}{\\left(t,x,y,z \\right)}$"
      ],
      "text/plain": [
       "<IPython.core.display.Math object>"
      ]
     },
     "metadata": {},
     "output_type": "display_data"
    },
    {
     "data": {
      "text/latex": [
       "$\\displaystyle {F}{}_{3}\\,{}_{2}\\, = \\frac{\\partial}{\\partial z} \\operatorname{Ay}{\\left(t,x,y,z \\right)} - \\frac{\\partial}{\\partial y} \\operatorname{Az}{\\left(t,x,y,z \\right)}$"
      ],
      "text/plain": [
       "<IPython.core.display.Math object>"
      ]
     },
     "metadata": {},
     "output_type": "display_data"
    }
   ],
   "source": [
    "F=pt.ten(\"F\",2)\n",
    "val=pt.D(A(\"_nu\"),\"_mu\")-pt.D(A(\"_mu\"),\"_nu\")\n",
    "F.assign(val,\"_mu,_nu\")\n",
    "F.display(\"_,_\",aslist=True)"
   ]
  },
  {
   "cell_type": "code",
   "execution_count": 10,
   "id": "59402636",
   "metadata": {},
   "outputs": [
    {
     "data": {
      "text/latex": [
       "$\\displaystyle \\text{NaN}$"
      ],
      "text/plain": [
       "nan"
      ]
     },
     "execution_count": 10,
     "metadata": {},
     "output_type": "execute_result"
    }
   ],
   "source": [
    "LC=pt.lcivita()\n",
    "value=0.5*LC(\"_alpha,_beta,_gamma,_delta\")*F(\"^alpha,^beta\")*F(\"^gamma,^delta\")\n",
    "value.factor()"
   ]
  },
  {
   "cell_type": "code",
   "execution_count": null,
   "id": "490d1f40",
   "metadata": {},
   "outputs": [],
   "source": []
  }
 ],
 "metadata": {
  "kernelspec": {
   "display_name": "Python 3 (ipykernel)",
   "language": "python",
   "name": "python3"
  },
  "language_info": {
   "codemirror_mode": {
    "name": "ipython",
    "version": 3
   },
   "file_extension": ".py",
   "mimetype": "text/x-python",
   "name": "python",
   "nbconvert_exporter": "python",
   "pygments_lexer": "ipython3",
   "version": "3.10.7"
  }
 },
 "nbformat": 4,
 "nbformat_minor": 5
}
