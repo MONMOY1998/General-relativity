{
 "cells": [
  {
   "cell_type": "markdown",
   "id": "2e4efbc1",
   "metadata": {},
   "source": [
    "# Cosmologic Perturbations\n",
    "\n",
    "This Notebook follows the prescription in [Chung-Pei Ma & Edmund Bertschinger](https://arxiv.org/abs/astro-ph/9506072) to obtain the perturbed equations in the Conformal Newtonian Gauge (Their Eq.30).\n",
    "\n",
    "Special thanks to Prof. Suresh Kumar for the suggestion of performing this calculation."
   ]
  },
  {
   "cell_type": "code",
   "execution_count": 1,
   "id": "ccd67e82",
   "metadata": {},
   "outputs": [],
   "source": [
    "import pytearcat as pt\n",
    "import sympy as sp"
   ]
  },
  {
   "cell_type": "code",
   "execution_count": 2,
   "id": "7a9d2d8a",
   "metadata": {},
   "outputs": [
    {
     "name": "stdout",
     "output_type": "stream",
     "text": [
      "Remember that the time coordinate must be the first coordinate.\n",
      "\n",
      "Dimension = 4\n",
      "Coordinates = eta,x,y,z\n",
      "Metric defined successfully: \n",
      "\n"
     ]
    },
    {
     "data": {
      "text/latex": [
       "$\\displaystyle ds^2 = \\left(- 2 \\kappa a^{2}{\\left(\\eta \\right)} \\psi{\\left(\\eta,x,y,z \\right)} - a^{2}{\\left(\\eta \\right)}\\right) \\cdot d\\eta^2+\\left(- 2 \\kappa a^{2}{\\left(\\eta \\right)} \\phi{\\left(\\eta,x,y,z \\right)} + a^{2}{\\left(\\eta \\right)}\\right) \\cdot dx^2+\\left(- 2 \\kappa a^{2}{\\left(\\eta \\right)} \\phi{\\left(\\eta,x,y,z \\right)} + a^{2}{\\left(\\eta \\right)}\\right) \\cdot dy^2+\\left(- 2 \\kappa a^{2}{\\left(\\eta \\right)} \\phi{\\left(\\eta,x,y,z \\right)} + a^{2}{\\left(\\eta \\right)}\\right) \\cdot dz^2$"
      ],
      "text/plain": [
       "<IPython.core.display.Math object>"
      ]
     },
     "metadata": {},
     "output_type": "display_data"
    },
    {
     "data": {
      "text/latex": [
       "$\\displaystyle \\left[\\begin{matrix}- 2 \\kappa a^{2}{\\left(\\eta \\right)} \\psi{\\left(\\eta,x,y,z \\right)} - a^{2}{\\left(\\eta \\right)} & 0 & 0 & 0\\\\0 & - 2 \\kappa a^{2}{\\left(\\eta \\right)} \\phi{\\left(\\eta,x,y,z \\right)} + a^{2}{\\left(\\eta \\right)} & 0 & 0\\\\0 & 0 & - 2 \\kappa a^{2}{\\left(\\eta \\right)} \\phi{\\left(\\eta,x,y,z \\right)} + a^{2}{\\left(\\eta \\right)} & 0\\\\0 & 0 & 0 & - 2 \\kappa a^{2}{\\left(\\eta \\right)} \\phi{\\left(\\eta,x,y,z \\right)} + a^{2}{\\left(\\eta \\right)}\\end{matrix}\\right]$"
      ],
      "text/plain": [
       "Matrix([\n",
       "[-2*kappa*a(eta)**2*psi(eta, x, y, z) - a(eta)**2,                                                0,                                                0,                                                0],\n",
       "[                                               0, -2*kappa*a(eta)**2*phi(eta, x, y, z) + a(eta)**2,                                                0,                                                0],\n",
       "[                                               0,                                                0, -2*kappa*a(eta)**2*phi(eta, x, y, z) + a(eta)**2,                                                0],\n",
       "[                                               0,                                                0,                                                0, -2*kappa*a(eta)**2*phi(eta, x, y, z) + a(eta)**2]])"
      ]
     },
     "metadata": {},
     "output_type": "display_data"
    }
   ],
   "source": [
    "eta,x,y,z = pt.coords('eta,x,y,z')\n",
    "phi = pt.fun('phi','eta,x,y,z')\n",
    "psi = pt.fun('psi','eta,x,y,z')\n",
    "a = pt.fun('a','eta')\n",
    "kappa = pt.con('kappa')\n",
    "pt.order(kappa,1)\n",
    "g = pt.metric('ds2 = a**2*(-(1+2*kappa*psi)*deta**2 + (1-2*kappa*phi)*dx**2+(1-2*kappa*phi)*dy**2+(1-2*kappa*phi)*dz**2)')"
   ]
  },
  {
   "cell_type": "code",
   "execution_count": 20,
   "id": "5875f1f2",
   "metadata": {},
   "outputs": [
    {
     "data": {
      "text/latex": [
       "First and Second Kind Christoffel Symbol $\\Gamma_{\\alpha \\beta \\gamma}$ and $\\Gamma^{\\alpha}_{\\beta \\gamma}$ already calculated"
      ],
      "text/plain": [
       "<IPython.core.display.Latex object>"
      ]
     },
     "metadata": {},
     "output_type": "display_data"
    },
    {
     "data": {
      "text/latex": [
       "$\\displaystyle {\\Gamma}{}^{0}\\,{}_{0}\\,{}_{0}\\, = \\frac{\\frac{d}{d \\eta} a{\\left(\\eta \\right)}}{a{\\left(\\eta \\right)}} + \\kappa \\frac{\\partial}{\\partial \\eta} \\psi{\\left(\\eta,x,y,z \\right)} + O\\left(\\kappa^{2}\\right)$"
      ],
      "text/plain": [
       "<IPython.core.display.Math object>"
      ]
     },
     "metadata": {},
     "output_type": "display_data"
    },
    {
     "data": {
      "text/latex": [
       "$\\displaystyle {\\Gamma}{}^{0}\\,{}_{0}\\,{}_{1}\\, = \\kappa \\frac{\\partial}{\\partial x} \\psi{\\left(\\eta,x,y,z \\right)} + O\\left(\\kappa^{2}\\right)$"
      ],
      "text/plain": [
       "<IPython.core.display.Math object>"
      ]
     },
     "metadata": {},
     "output_type": "display_data"
    },
    {
     "data": {
      "text/latex": [
       "$\\displaystyle {\\Gamma}{}^{0}\\,{}_{0}\\,{}_{2}\\, = \\kappa \\frac{\\partial}{\\partial y} \\psi{\\left(\\eta,x,y,z \\right)} + O\\left(\\kappa^{2}\\right)$"
      ],
      "text/plain": [
       "<IPython.core.display.Math object>"
      ]
     },
     "metadata": {},
     "output_type": "display_data"
    },
    {
     "data": {
      "text/latex": [
       "$\\displaystyle {\\Gamma}{}^{0}\\,{}_{0}\\,{}_{3}\\, = \\kappa \\frac{\\partial}{\\partial z} \\psi{\\left(\\eta,x,y,z \\right)} + O\\left(\\kappa^{2}\\right)$"
      ],
      "text/plain": [
       "<IPython.core.display.Math object>"
      ]
     },
     "metadata": {},
     "output_type": "display_data"
    },
    {
     "data": {
      "text/latex": [
       "$\\displaystyle {\\Gamma}{}^{0}\\,{}_{1}\\,{}_{0}\\, = \\kappa \\frac{\\partial}{\\partial x} \\psi{\\left(\\eta,x,y,z \\right)} + O\\left(\\kappa^{2}\\right)$"
      ],
      "text/plain": [
       "<IPython.core.display.Math object>"
      ]
     },
     "metadata": {},
     "output_type": "display_data"
    },
    {
     "data": {
      "text/latex": [
       "$\\displaystyle {\\Gamma}{}^{0}\\,{}_{1}\\,{}_{1}\\, = \\frac{\\frac{d}{d \\eta} a{\\left(\\eta \\right)}}{a{\\left(\\eta \\right)}} + \\kappa \\left(- \\frac{\\partial}{\\partial \\eta} \\phi{\\left(\\eta,x,y,z \\right)} - \\frac{2 \\phi{\\left(\\eta,x,y,z \\right)} \\frac{d}{d \\eta} a{\\left(\\eta \\right)}}{a{\\left(\\eta \\right)}} - \\frac{2 \\psi{\\left(\\eta,x,y,z \\right)} \\frac{d}{d \\eta} a{\\left(\\eta \\right)}}{a{\\left(\\eta \\right)}}\\right) + O\\left(\\kappa^{2}\\right)$"
      ],
      "text/plain": [
       "<IPython.core.display.Math object>"
      ]
     },
     "metadata": {},
     "output_type": "display_data"
    },
    {
     "data": {
      "text/latex": [
       "$\\displaystyle {\\Gamma}{}^{0}\\,{}_{2}\\,{}_{0}\\, = \\kappa \\frac{\\partial}{\\partial y} \\psi{\\left(\\eta,x,y,z \\right)} + O\\left(\\kappa^{2}\\right)$"
      ],
      "text/plain": [
       "<IPython.core.display.Math object>"
      ]
     },
     "metadata": {},
     "output_type": "display_data"
    },
    {
     "data": {
      "text/latex": [
       "$\\displaystyle {\\Gamma}{}^{0}\\,{}_{2}\\,{}_{2}\\, = \\frac{\\frac{d}{d \\eta} a{\\left(\\eta \\right)}}{a{\\left(\\eta \\right)}} + \\kappa \\left(- \\frac{\\partial}{\\partial \\eta} \\phi{\\left(\\eta,x,y,z \\right)} - \\frac{2 \\phi{\\left(\\eta,x,y,z \\right)} \\frac{d}{d \\eta} a{\\left(\\eta \\right)}}{a{\\left(\\eta \\right)}} - \\frac{2 \\psi{\\left(\\eta,x,y,z \\right)} \\frac{d}{d \\eta} a{\\left(\\eta \\right)}}{a{\\left(\\eta \\right)}}\\right) + O\\left(\\kappa^{2}\\right)$"
      ],
      "text/plain": [
       "<IPython.core.display.Math object>"
      ]
     },
     "metadata": {},
     "output_type": "display_data"
    },
    {
     "data": {
      "text/latex": [
       "$\\displaystyle {\\Gamma}{}^{0}\\,{}_{3}\\,{}_{0}\\, = \\kappa \\frac{\\partial}{\\partial z} \\psi{\\left(\\eta,x,y,z \\right)} + O\\left(\\kappa^{2}\\right)$"
      ],
      "text/plain": [
       "<IPython.core.display.Math object>"
      ]
     },
     "metadata": {},
     "output_type": "display_data"
    },
    {
     "data": {
      "text/latex": [
       "$\\displaystyle {\\Gamma}{}^{0}\\,{}_{3}\\,{}_{3}\\, = \\frac{\\frac{d}{d \\eta} a{\\left(\\eta \\right)}}{a{\\left(\\eta \\right)}} + \\kappa \\left(- \\frac{\\partial}{\\partial \\eta} \\phi{\\left(\\eta,x,y,z \\right)} - \\frac{2 \\phi{\\left(\\eta,x,y,z \\right)} \\frac{d}{d \\eta} a{\\left(\\eta \\right)}}{a{\\left(\\eta \\right)}} - \\frac{2 \\psi{\\left(\\eta,x,y,z \\right)} \\frac{d}{d \\eta} a{\\left(\\eta \\right)}}{a{\\left(\\eta \\right)}}\\right) + O\\left(\\kappa^{2}\\right)$"
      ],
      "text/plain": [
       "<IPython.core.display.Math object>"
      ]
     },
     "metadata": {},
     "output_type": "display_data"
    },
    {
     "data": {
      "text/latex": [
       "$\\displaystyle {\\Gamma}{}^{1}\\,{}_{0}\\,{}_{0}\\, = \\kappa \\frac{\\partial}{\\partial x} \\psi{\\left(\\eta,x,y,z \\right)} + O\\left(\\kappa^{2}\\right)$"
      ],
      "text/plain": [
       "<IPython.core.display.Math object>"
      ]
     },
     "metadata": {},
     "output_type": "display_data"
    },
    {
     "data": {
      "text/latex": [
       "$\\displaystyle {\\Gamma}{}^{1}\\,{}_{0}\\,{}_{1}\\, = \\frac{\\frac{d}{d \\eta} a{\\left(\\eta \\right)}}{a{\\left(\\eta \\right)}} - \\kappa \\frac{\\partial}{\\partial \\eta} \\phi{\\left(\\eta,x,y,z \\right)} + O\\left(\\kappa^{2}\\right)$"
      ],
      "text/plain": [
       "<IPython.core.display.Math object>"
      ]
     },
     "metadata": {},
     "output_type": "display_data"
    },
    {
     "data": {
      "text/latex": [
       "$\\displaystyle {\\Gamma}{}^{1}\\,{}_{1}\\,{}_{0}\\, = \\frac{\\frac{d}{d \\eta} a{\\left(\\eta \\right)}}{a{\\left(\\eta \\right)}} - \\kappa \\frac{\\partial}{\\partial \\eta} \\phi{\\left(\\eta,x,y,z \\right)} + O\\left(\\kappa^{2}\\right)$"
      ],
      "text/plain": [
       "<IPython.core.display.Math object>"
      ]
     },
     "metadata": {},
     "output_type": "display_data"
    },
    {
     "data": {
      "text/latex": [
       "$\\displaystyle {\\Gamma}{}^{1}\\,{}_{1}\\,{}_{1}\\, = - \\kappa \\frac{\\partial}{\\partial x} \\phi{\\left(\\eta,x,y,z \\right)} + O\\left(\\kappa^{2}\\right)$"
      ],
      "text/plain": [
       "<IPython.core.display.Math object>"
      ]
     },
     "metadata": {},
     "output_type": "display_data"
    },
    {
     "data": {
      "text/latex": [
       "$\\displaystyle {\\Gamma}{}^{1}\\,{}_{1}\\,{}_{2}\\, = - \\kappa \\frac{\\partial}{\\partial y} \\phi{\\left(\\eta,x,y,z \\right)} + O\\left(\\kappa^{2}\\right)$"
      ],
      "text/plain": [
       "<IPython.core.display.Math object>"
      ]
     },
     "metadata": {},
     "output_type": "display_data"
    },
    {
     "data": {
      "text/latex": [
       "$\\displaystyle {\\Gamma}{}^{1}\\,{}_{1}\\,{}_{3}\\, = - \\kappa \\frac{\\partial}{\\partial z} \\phi{\\left(\\eta,x,y,z \\right)} + O\\left(\\kappa^{2}\\right)$"
      ],
      "text/plain": [
       "<IPython.core.display.Math object>"
      ]
     },
     "metadata": {},
     "output_type": "display_data"
    },
    {
     "data": {
      "text/latex": [
       "$\\displaystyle {\\Gamma}{}^{1}\\,{}_{2}\\,{}_{1}\\, = - \\kappa \\frac{\\partial}{\\partial y} \\phi{\\left(\\eta,x,y,z \\right)} + O\\left(\\kappa^{2}\\right)$"
      ],
      "text/plain": [
       "<IPython.core.display.Math object>"
      ]
     },
     "metadata": {},
     "output_type": "display_data"
    },
    {
     "data": {
      "text/latex": [
       "$\\displaystyle {\\Gamma}{}^{1}\\,{}_{2}\\,{}_{2}\\, = \\kappa \\frac{\\partial}{\\partial x} \\phi{\\left(\\eta,x,y,z \\right)} + O\\left(\\kappa^{2}\\right)$"
      ],
      "text/plain": [
       "<IPython.core.display.Math object>"
      ]
     },
     "metadata": {},
     "output_type": "display_data"
    },
    {
     "data": {
      "text/latex": [
       "$\\displaystyle {\\Gamma}{}^{1}\\,{}_{3}\\,{}_{1}\\, = - \\kappa \\frac{\\partial}{\\partial z} \\phi{\\left(\\eta,x,y,z \\right)} + O\\left(\\kappa^{2}\\right)$"
      ],
      "text/plain": [
       "<IPython.core.display.Math object>"
      ]
     },
     "metadata": {},
     "output_type": "display_data"
    },
    {
     "data": {
      "text/latex": [
       "$\\displaystyle {\\Gamma}{}^{1}\\,{}_{3}\\,{}_{3}\\, = \\kappa \\frac{\\partial}{\\partial x} \\phi{\\left(\\eta,x,y,z \\right)} + O\\left(\\kappa^{2}\\right)$"
      ],
      "text/plain": [
       "<IPython.core.display.Math object>"
      ]
     },
     "metadata": {},
     "output_type": "display_data"
    },
    {
     "data": {
      "text/latex": [
       "$\\displaystyle {\\Gamma}{}^{2}\\,{}_{0}\\,{}_{0}\\, = \\kappa \\frac{\\partial}{\\partial y} \\psi{\\left(\\eta,x,y,z \\right)} + O\\left(\\kappa^{2}\\right)$"
      ],
      "text/plain": [
       "<IPython.core.display.Math object>"
      ]
     },
     "metadata": {},
     "output_type": "display_data"
    },
    {
     "data": {
      "text/latex": [
       "$\\displaystyle {\\Gamma}{}^{2}\\,{}_{0}\\,{}_{2}\\, = \\frac{\\frac{d}{d \\eta} a{\\left(\\eta \\right)}}{a{\\left(\\eta \\right)}} - \\kappa \\frac{\\partial}{\\partial \\eta} \\phi{\\left(\\eta,x,y,z \\right)} + O\\left(\\kappa^{2}\\right)$"
      ],
      "text/plain": [
       "<IPython.core.display.Math object>"
      ]
     },
     "metadata": {},
     "output_type": "display_data"
    },
    {
     "data": {
      "text/latex": [
       "$\\displaystyle {\\Gamma}{}^{2}\\,{}_{1}\\,{}_{1}\\, = \\kappa \\frac{\\partial}{\\partial y} \\phi{\\left(\\eta,x,y,z \\right)} + O\\left(\\kappa^{2}\\right)$"
      ],
      "text/plain": [
       "<IPython.core.display.Math object>"
      ]
     },
     "metadata": {},
     "output_type": "display_data"
    },
    {
     "data": {
      "text/latex": [
       "$\\displaystyle {\\Gamma}{}^{2}\\,{}_{1}\\,{}_{2}\\, = - \\kappa \\frac{\\partial}{\\partial x} \\phi{\\left(\\eta,x,y,z \\right)} + O\\left(\\kappa^{2}\\right)$"
      ],
      "text/plain": [
       "<IPython.core.display.Math object>"
      ]
     },
     "metadata": {},
     "output_type": "display_data"
    },
    {
     "data": {
      "text/latex": [
       "$\\displaystyle {\\Gamma}{}^{2}\\,{}_{2}\\,{}_{0}\\, = \\frac{\\frac{d}{d \\eta} a{\\left(\\eta \\right)}}{a{\\left(\\eta \\right)}} - \\kappa \\frac{\\partial}{\\partial \\eta} \\phi{\\left(\\eta,x,y,z \\right)} + O\\left(\\kappa^{2}\\right)$"
      ],
      "text/plain": [
       "<IPython.core.display.Math object>"
      ]
     },
     "metadata": {},
     "output_type": "display_data"
    },
    {
     "data": {
      "text/latex": [
       "$\\displaystyle {\\Gamma}{}^{2}\\,{}_{2}\\,{}_{1}\\, = - \\kappa \\frac{\\partial}{\\partial x} \\phi{\\left(\\eta,x,y,z \\right)} + O\\left(\\kappa^{2}\\right)$"
      ],
      "text/plain": [
       "<IPython.core.display.Math object>"
      ]
     },
     "metadata": {},
     "output_type": "display_data"
    },
    {
     "data": {
      "text/latex": [
       "$\\displaystyle {\\Gamma}{}^{2}\\,{}_{2}\\,{}_{2}\\, = - \\kappa \\frac{\\partial}{\\partial y} \\phi{\\left(\\eta,x,y,z \\right)} + O\\left(\\kappa^{2}\\right)$"
      ],
      "text/plain": [
       "<IPython.core.display.Math object>"
      ]
     },
     "metadata": {},
     "output_type": "display_data"
    },
    {
     "data": {
      "text/latex": [
       "$\\displaystyle {\\Gamma}{}^{2}\\,{}_{2}\\,{}_{3}\\, = - \\kappa \\frac{\\partial}{\\partial z} \\phi{\\left(\\eta,x,y,z \\right)} + O\\left(\\kappa^{2}\\right)$"
      ],
      "text/plain": [
       "<IPython.core.display.Math object>"
      ]
     },
     "metadata": {},
     "output_type": "display_data"
    },
    {
     "data": {
      "text/latex": [
       "$\\displaystyle {\\Gamma}{}^{2}\\,{}_{3}\\,{}_{2}\\, = - \\kappa \\frac{\\partial}{\\partial z} \\phi{\\left(\\eta,x,y,z \\right)} + O\\left(\\kappa^{2}\\right)$"
      ],
      "text/plain": [
       "<IPython.core.display.Math object>"
      ]
     },
     "metadata": {},
     "output_type": "display_data"
    },
    {
     "data": {
      "text/latex": [
       "$\\displaystyle {\\Gamma}{}^{2}\\,{}_{3}\\,{}_{3}\\, = \\kappa \\frac{\\partial}{\\partial y} \\phi{\\left(\\eta,x,y,z \\right)} + O\\left(\\kappa^{2}\\right)$"
      ],
      "text/plain": [
       "<IPython.core.display.Math object>"
      ]
     },
     "metadata": {},
     "output_type": "display_data"
    },
    {
     "data": {
      "text/latex": [
       "$\\displaystyle {\\Gamma}{}^{3}\\,{}_{0}\\,{}_{0}\\, = \\kappa \\frac{\\partial}{\\partial z} \\psi{\\left(\\eta,x,y,z \\right)} + O\\left(\\kappa^{2}\\right)$"
      ],
      "text/plain": [
       "<IPython.core.display.Math object>"
      ]
     },
     "metadata": {},
     "output_type": "display_data"
    },
    {
     "data": {
      "text/latex": [
       "$\\displaystyle {\\Gamma}{}^{3}\\,{}_{0}\\,{}_{3}\\, = \\frac{\\frac{d}{d \\eta} a{\\left(\\eta \\right)}}{a{\\left(\\eta \\right)}} - \\kappa \\frac{\\partial}{\\partial \\eta} \\phi{\\left(\\eta,x,y,z \\right)} + O\\left(\\kappa^{2}\\right)$"
      ],
      "text/plain": [
       "<IPython.core.display.Math object>"
      ]
     },
     "metadata": {},
     "output_type": "display_data"
    },
    {
     "data": {
      "text/latex": [
       "$\\displaystyle {\\Gamma}{}^{3}\\,{}_{1}\\,{}_{1}\\, = \\kappa \\frac{\\partial}{\\partial z} \\phi{\\left(\\eta,x,y,z \\right)} + O\\left(\\kappa^{2}\\right)$"
      ],
      "text/plain": [
       "<IPython.core.display.Math object>"
      ]
     },
     "metadata": {},
     "output_type": "display_data"
    },
    {
     "data": {
      "text/latex": [
       "$\\displaystyle {\\Gamma}{}^{3}\\,{}_{1}\\,{}_{3}\\, = - \\kappa \\frac{\\partial}{\\partial x} \\phi{\\left(\\eta,x,y,z \\right)} + O\\left(\\kappa^{2}\\right)$"
      ],
      "text/plain": [
       "<IPython.core.display.Math object>"
      ]
     },
     "metadata": {},
     "output_type": "display_data"
    },
    {
     "data": {
      "text/latex": [
       "$\\displaystyle {\\Gamma}{}^{3}\\,{}_{2}\\,{}_{2}\\, = \\kappa \\frac{\\partial}{\\partial z} \\phi{\\left(\\eta,x,y,z \\right)} + O\\left(\\kappa^{2}\\right)$"
      ],
      "text/plain": [
       "<IPython.core.display.Math object>"
      ]
     },
     "metadata": {},
     "output_type": "display_data"
    },
    {
     "data": {
      "text/latex": [
       "$\\displaystyle {\\Gamma}{}^{3}\\,{}_{2}\\,{}_{3}\\, = - \\kappa \\frac{\\partial}{\\partial y} \\phi{\\left(\\eta,x,y,z \\right)} + O\\left(\\kappa^{2}\\right)$"
      ],
      "text/plain": [
       "<IPython.core.display.Math object>"
      ]
     },
     "metadata": {},
     "output_type": "display_data"
    },
    {
     "data": {
      "text/latex": [
       "$\\displaystyle {\\Gamma}{}^{3}\\,{}_{3}\\,{}_{0}\\, = \\frac{\\frac{d}{d \\eta} a{\\left(\\eta \\right)}}{a{\\left(\\eta \\right)}} - \\kappa \\frac{\\partial}{\\partial \\eta} \\phi{\\left(\\eta,x,y,z \\right)} + O\\left(\\kappa^{2}\\right)$"
      ],
      "text/plain": [
       "<IPython.core.display.Math object>"
      ]
     },
     "metadata": {},
     "output_type": "display_data"
    },
    {
     "data": {
      "text/latex": [
       "$\\displaystyle {\\Gamma}{}^{3}\\,{}_{3}\\,{}_{1}\\, = - \\kappa \\frac{\\partial}{\\partial x} \\phi{\\left(\\eta,x,y,z \\right)} + O\\left(\\kappa^{2}\\right)$"
      ],
      "text/plain": [
       "<IPython.core.display.Math object>"
      ]
     },
     "metadata": {},
     "output_type": "display_data"
    },
    {
     "data": {
      "text/latex": [
       "$\\displaystyle {\\Gamma}{}^{3}\\,{}_{3}\\,{}_{2}\\, = - \\kappa \\frac{\\partial}{\\partial y} \\phi{\\left(\\eta,x,y,z \\right)} + O\\left(\\kappa^{2}\\right)$"
      ],
      "text/plain": [
       "<IPython.core.display.Math object>"
      ]
     },
     "metadata": {},
     "output_type": "display_data"
    },
    {
     "data": {
      "text/latex": [
       "$\\displaystyle {\\Gamma}{}^{3}\\,{}_{3}\\,{}_{3}\\, = - \\kappa \\frac{\\partial}{\\partial z} \\phi{\\left(\\eta,x,y,z \\right)} + O\\left(\\kappa^{2}\\right)$"
      ],
      "text/plain": [
       "<IPython.core.display.Math object>"
      ]
     },
     "metadata": {},
     "output_type": "display_data"
    }
   ],
   "source": [
    "# To compute Covariant derivatives\n",
    "\n",
    "Chr = pt.christoffel()\n",
    "Chr.display('^,_,_',aslist=True)"
   ]
  },
  {
   "cell_type": "code",
   "execution_count": 22,
   "id": "64216b1d",
   "metadata": {},
   "outputs": [
    {
     "data": {
      "text/latex": [
       "Riemann Tensor $R^{\\alpha}_{\\beta \\gamma \\delta}$"
      ],
      "text/plain": [
       "<IPython.core.display.Latex object>"
      ]
     },
     "metadata": {},
     "output_type": "display_data"
    },
    {
     "data": {
      "application/vnd.jupyter.widget-view+json": {
       "model_id": "5eb919d38221414496e8974b88a5849d",
       "version_major": 2,
       "version_minor": 0
      },
      "text/plain": [
       "  0%|          | 0/256 [00:00<?, ?it/s]"
      ]
     },
     "metadata": {},
     "output_type": "display_data"
    },
    {
     "data": {
      "text/latex": [
       "Ricci Tensor $R_{\\alpha \\beta}$"
      ],
      "text/plain": [
       "<IPython.core.display.Latex object>"
      ]
     },
     "metadata": {},
     "output_type": "display_data"
    },
    {
     "data": {
      "application/vnd.jupyter.widget-view+json": {
       "model_id": "9b9b798bc4464575b179739c643c9d83",
       "version_major": 2,
       "version_minor": 0
      },
      "text/plain": [
       "  0%|          | 0/16 [00:00<?, ?it/s]"
      ]
     },
     "metadata": {},
     "output_type": "display_data"
    },
    {
     "data": {
      "text/latex": [
       "$\\displaystyle {R}{}_{0}\\,{}_{0}\\, = \\frac{3 \\left(\\frac{d}{d \\eta} a{\\left(\\eta \\right)}\\right)^{2}}{a^{2}{\\left(\\eta \\right)}} - \\frac{3 \\frac{d^{2}}{d \\eta^{2}} a{\\left(\\eta \\right)}}{a{\\left(\\eta \\right)}} + \\kappa \\left(3 \\frac{\\partial^{2}}{\\partial \\eta^{2}} \\phi{\\left(\\eta,x,y,z \\right)} + \\frac{\\partial^{2}}{\\partial x^{2}} \\psi{\\left(\\eta,x,y,z \\right)} + \\frac{\\partial^{2}}{\\partial y^{2}} \\psi{\\left(\\eta,x,y,z \\right)} + \\frac{\\partial^{2}}{\\partial z^{2}} \\psi{\\left(\\eta,x,y,z \\right)} + \\frac{3 \\frac{d}{d \\eta} a{\\left(\\eta \\right)} \\frac{\\partial}{\\partial \\eta} \\phi{\\left(\\eta,x,y,z \\right)}}{a{\\left(\\eta \\right)}} + \\frac{3 \\frac{d}{d \\eta} a{\\left(\\eta \\right)} \\frac{\\partial}{\\partial \\eta} \\psi{\\left(\\eta,x,y,z \\right)}}{a{\\left(\\eta \\right)}}\\right) + O\\left(\\kappa^{2}\\right)$"
      ],
      "text/plain": [
       "<IPython.core.display.Math object>"
      ]
     },
     "metadata": {},
     "output_type": "display_data"
    },
    {
     "data": {
      "text/latex": [
       "$\\displaystyle {R}{}_{0}\\,{}_{1}\\, = \\frac{2 \\kappa \\frac{d}{d \\eta} a{\\left(\\eta \\right)} \\frac{\\partial}{\\partial x} \\psi{\\left(\\eta,x,y,z \\right)}}{a{\\left(\\eta \\right)}} + 2 \\kappa \\frac{\\partial^{2}}{\\partial x\\partial \\eta} \\phi{\\left(\\eta,x,y,z \\right)} + O\\left(\\kappa^{2}\\right)$"
      ],
      "text/plain": [
       "<IPython.core.display.Math object>"
      ]
     },
     "metadata": {},
     "output_type": "display_data"
    },
    {
     "data": {
      "text/latex": [
       "$\\displaystyle {R}{}_{0}\\,{}_{2}\\, = \\frac{2 \\kappa \\frac{d}{d \\eta} a{\\left(\\eta \\right)} \\frac{\\partial}{\\partial y} \\psi{\\left(\\eta,x,y,z \\right)}}{a{\\left(\\eta \\right)}} + 2 \\kappa \\frac{\\partial^{2}}{\\partial y\\partial \\eta} \\phi{\\left(\\eta,x,y,z \\right)} + O\\left(\\kappa^{2}\\right)$"
      ],
      "text/plain": [
       "<IPython.core.display.Math object>"
      ]
     },
     "metadata": {},
     "output_type": "display_data"
    },
    {
     "data": {
      "text/latex": [
       "$\\displaystyle {R}{}_{0}\\,{}_{3}\\, = \\frac{2 \\kappa \\frac{d}{d \\eta} a{\\left(\\eta \\right)} \\frac{\\partial}{\\partial z} \\psi{\\left(\\eta,x,y,z \\right)}}{a{\\left(\\eta \\right)}} + 2 \\kappa \\frac{\\partial^{2}}{\\partial z\\partial \\eta} \\phi{\\left(\\eta,x,y,z \\right)} + O\\left(\\kappa^{2}\\right)$"
      ],
      "text/plain": [
       "<IPython.core.display.Math object>"
      ]
     },
     "metadata": {},
     "output_type": "display_data"
    },
    {
     "data": {
      "text/latex": [
       "$\\displaystyle {R}{}_{1}\\,{}_{0}\\, = \\frac{2 \\kappa \\frac{d}{d \\eta} a{\\left(\\eta \\right)} \\frac{\\partial}{\\partial x} \\psi{\\left(\\eta,x,y,z \\right)}}{a{\\left(\\eta \\right)}} + 2 \\kappa \\frac{\\partial^{2}}{\\partial x\\partial \\eta} \\phi{\\left(\\eta,x,y,z \\right)} + O\\left(\\kappa^{2}\\right)$"
      ],
      "text/plain": [
       "<IPython.core.display.Math object>"
      ]
     },
     "metadata": {},
     "output_type": "display_data"
    },
    {
     "data": {
      "text/latex": [
       "$\\displaystyle {R}{}_{1}\\,{}_{1}\\, = \\frac{\\left(\\frac{d}{d \\eta} a{\\left(\\eta \\right)}\\right)^{2}}{a^{2}{\\left(\\eta \\right)}} + \\frac{\\frac{d^{2}}{d \\eta^{2}} a{\\left(\\eta \\right)}}{a{\\left(\\eta \\right)}} + \\kappa \\left(- \\frac{\\partial^{2}}{\\partial \\eta^{2}} \\phi{\\left(\\eta,x,y,z \\right)} + 2 \\frac{\\partial^{2}}{\\partial x^{2}} \\phi{\\left(\\eta,x,y,z \\right)} + \\frac{\\partial^{2}}{\\partial y^{2}} \\phi{\\left(\\eta,x,y,z \\right)} + \\frac{\\partial^{2}}{\\partial z^{2}} \\phi{\\left(\\eta,x,y,z \\right)} - \\frac{\\partial^{2}}{\\partial x^{2}} \\psi{\\left(\\eta,x,y,z \\right)} - \\frac{2 \\phi{\\left(\\eta,x,y,z \\right)} \\frac{d^{2}}{d \\eta^{2}} a{\\left(\\eta \\right)}}{a{\\left(\\eta \\right)}} - \\frac{2 \\psi{\\left(\\eta,x,y,z \\right)} \\frac{d^{2}}{d \\eta^{2}} a{\\left(\\eta \\right)}}{a{\\left(\\eta \\right)}} - \\frac{5 \\frac{d}{d \\eta} a{\\left(\\eta \\right)} \\frac{\\partial}{\\partial \\eta} \\phi{\\left(\\eta,x,y,z \\right)}}{a{\\left(\\eta \\right)}} - \\frac{\\frac{d}{d \\eta} a{\\left(\\eta \\right)} \\frac{\\partial}{\\partial \\eta} \\psi{\\left(\\eta,x,y,z \\right)}}{a{\\left(\\eta \\right)}} - \\frac{2 \\phi{\\left(\\eta,x,y,z \\right)} \\left(\\frac{d}{d \\eta} a{\\left(\\eta \\right)}\\right)^{2}}{a^{2}{\\left(\\eta \\right)}} - \\frac{2 \\psi{\\left(\\eta,x,y,z \\right)} \\left(\\frac{d}{d \\eta} a{\\left(\\eta \\right)}\\right)^{2}}{a^{2}{\\left(\\eta \\right)}}\\right) + O\\left(\\kappa^{2}\\right)$"
      ],
      "text/plain": [
       "<IPython.core.display.Math object>"
      ]
     },
     "metadata": {},
     "output_type": "display_data"
    },
    {
     "data": {
      "text/latex": [
       "$\\displaystyle {R}{}_{1}\\,{}_{2}\\, = - \\kappa \\frac{\\partial^{2}}{\\partial y\\partial x} \\psi{\\left(\\eta,x,y,z \\right)} + \\kappa \\frac{\\partial^{2}}{\\partial y\\partial x} \\phi{\\left(\\eta,x,y,z \\right)} + O\\left(\\kappa^{2}\\right)$"
      ],
      "text/plain": [
       "<IPython.core.display.Math object>"
      ]
     },
     "metadata": {},
     "output_type": "display_data"
    },
    {
     "data": {
      "text/latex": [
       "$\\displaystyle {R}{}_{1}\\,{}_{3}\\, = - \\kappa \\frac{\\partial^{2}}{\\partial z\\partial x} \\psi{\\left(\\eta,x,y,z \\right)} + \\kappa \\frac{\\partial^{2}}{\\partial z\\partial x} \\phi{\\left(\\eta,x,y,z \\right)} + O\\left(\\kappa^{2}\\right)$"
      ],
      "text/plain": [
       "<IPython.core.display.Math object>"
      ]
     },
     "metadata": {},
     "output_type": "display_data"
    },
    {
     "data": {
      "text/latex": [
       "$\\displaystyle {R}{}_{2}\\,{}_{0}\\, = \\frac{2 \\kappa \\frac{d}{d \\eta} a{\\left(\\eta \\right)} \\frac{\\partial}{\\partial y} \\psi{\\left(\\eta,x,y,z \\right)}}{a{\\left(\\eta \\right)}} + 2 \\kappa \\frac{\\partial^{2}}{\\partial y\\partial \\eta} \\phi{\\left(\\eta,x,y,z \\right)} + O\\left(\\kappa^{2}\\right)$"
      ],
      "text/plain": [
       "<IPython.core.display.Math object>"
      ]
     },
     "metadata": {},
     "output_type": "display_data"
    },
    {
     "data": {
      "text/latex": [
       "$\\displaystyle {R}{}_{2}\\,{}_{1}\\, = - \\kappa \\frac{\\partial^{2}}{\\partial y\\partial x} \\psi{\\left(\\eta,x,y,z \\right)} + \\kappa \\frac{\\partial^{2}}{\\partial y\\partial x} \\phi{\\left(\\eta,x,y,z \\right)} + O\\left(\\kappa^{2}\\right)$"
      ],
      "text/plain": [
       "<IPython.core.display.Math object>"
      ]
     },
     "metadata": {},
     "output_type": "display_data"
    },
    {
     "data": {
      "text/latex": [
       "$\\displaystyle {R}{}_{2}\\,{}_{2}\\, = \\frac{\\left(\\frac{d}{d \\eta} a{\\left(\\eta \\right)}\\right)^{2}}{a^{2}{\\left(\\eta \\right)}} + \\frac{\\frac{d^{2}}{d \\eta^{2}} a{\\left(\\eta \\right)}}{a{\\left(\\eta \\right)}} + \\kappa \\left(- \\frac{\\partial^{2}}{\\partial \\eta^{2}} \\phi{\\left(\\eta,x,y,z \\right)} + \\frac{\\partial^{2}}{\\partial x^{2}} \\phi{\\left(\\eta,x,y,z \\right)} + 2 \\frac{\\partial^{2}}{\\partial y^{2}} \\phi{\\left(\\eta,x,y,z \\right)} + \\frac{\\partial^{2}}{\\partial z^{2}} \\phi{\\left(\\eta,x,y,z \\right)} - \\frac{\\partial^{2}}{\\partial y^{2}} \\psi{\\left(\\eta,x,y,z \\right)} - \\frac{2 \\phi{\\left(\\eta,x,y,z \\right)} \\frac{d^{2}}{d \\eta^{2}} a{\\left(\\eta \\right)}}{a{\\left(\\eta \\right)}} - \\frac{2 \\psi{\\left(\\eta,x,y,z \\right)} \\frac{d^{2}}{d \\eta^{2}} a{\\left(\\eta \\right)}}{a{\\left(\\eta \\right)}} - \\frac{5 \\frac{d}{d \\eta} a{\\left(\\eta \\right)} \\frac{\\partial}{\\partial \\eta} \\phi{\\left(\\eta,x,y,z \\right)}}{a{\\left(\\eta \\right)}} - \\frac{\\frac{d}{d \\eta} a{\\left(\\eta \\right)} \\frac{\\partial}{\\partial \\eta} \\psi{\\left(\\eta,x,y,z \\right)}}{a{\\left(\\eta \\right)}} - \\frac{2 \\phi{\\left(\\eta,x,y,z \\right)} \\left(\\frac{d}{d \\eta} a{\\left(\\eta \\right)}\\right)^{2}}{a^{2}{\\left(\\eta \\right)}} - \\frac{2 \\psi{\\left(\\eta,x,y,z \\right)} \\left(\\frac{d}{d \\eta} a{\\left(\\eta \\right)}\\right)^{2}}{a^{2}{\\left(\\eta \\right)}}\\right) + O\\left(\\kappa^{2}\\right)$"
      ],
      "text/plain": [
       "<IPython.core.display.Math object>"
      ]
     },
     "metadata": {},
     "output_type": "display_data"
    },
    {
     "data": {
      "text/latex": [
       "$\\displaystyle {R}{}_{2}\\,{}_{3}\\, = - \\kappa \\frac{\\partial^{2}}{\\partial z\\partial y} \\psi{\\left(\\eta,x,y,z \\right)} + \\kappa \\frac{\\partial^{2}}{\\partial z\\partial y} \\phi{\\left(\\eta,x,y,z \\right)} + O\\left(\\kappa^{2}\\right)$"
      ],
      "text/plain": [
       "<IPython.core.display.Math object>"
      ]
     },
     "metadata": {},
     "output_type": "display_data"
    },
    {
     "data": {
      "text/latex": [
       "$\\displaystyle {R}{}_{3}\\,{}_{0}\\, = \\frac{2 \\kappa \\frac{d}{d \\eta} a{\\left(\\eta \\right)} \\frac{\\partial}{\\partial z} \\psi{\\left(\\eta,x,y,z \\right)}}{a{\\left(\\eta \\right)}} + 2 \\kappa \\frac{\\partial^{2}}{\\partial z\\partial \\eta} \\phi{\\left(\\eta,x,y,z \\right)} + O\\left(\\kappa^{2}\\right)$"
      ],
      "text/plain": [
       "<IPython.core.display.Math object>"
      ]
     },
     "metadata": {},
     "output_type": "display_data"
    },
    {
     "data": {
      "text/latex": [
       "$\\displaystyle {R}{}_{3}\\,{}_{1}\\, = - \\kappa \\frac{\\partial^{2}}{\\partial z\\partial x} \\psi{\\left(\\eta,x,y,z \\right)} + \\kappa \\frac{\\partial^{2}}{\\partial z\\partial x} \\phi{\\left(\\eta,x,y,z \\right)} + O\\left(\\kappa^{2}\\right)$"
      ],
      "text/plain": [
       "<IPython.core.display.Math object>"
      ]
     },
     "metadata": {},
     "output_type": "display_data"
    },
    {
     "data": {
      "text/latex": [
       "$\\displaystyle {R}{}_{3}\\,{}_{2}\\, = - \\kappa \\frac{\\partial^{2}}{\\partial z\\partial y} \\psi{\\left(\\eta,x,y,z \\right)} + \\kappa \\frac{\\partial^{2}}{\\partial z\\partial y} \\phi{\\left(\\eta,x,y,z \\right)} + O\\left(\\kappa^{2}\\right)$"
      ],
      "text/plain": [
       "<IPython.core.display.Math object>"
      ]
     },
     "metadata": {},
     "output_type": "display_data"
    },
    {
     "data": {
      "text/latex": [
       "$\\displaystyle {R}{}_{3}\\,{}_{3}\\, = \\frac{\\left(\\frac{d}{d \\eta} a{\\left(\\eta \\right)}\\right)^{2}}{a^{2}{\\left(\\eta \\right)}} + \\frac{\\frac{d^{2}}{d \\eta^{2}} a{\\left(\\eta \\right)}}{a{\\left(\\eta \\right)}} + \\kappa \\left(- \\frac{\\partial^{2}}{\\partial \\eta^{2}} \\phi{\\left(\\eta,x,y,z \\right)} + \\frac{\\partial^{2}}{\\partial x^{2}} \\phi{\\left(\\eta,x,y,z \\right)} + \\frac{\\partial^{2}}{\\partial y^{2}} \\phi{\\left(\\eta,x,y,z \\right)} + 2 \\frac{\\partial^{2}}{\\partial z^{2}} \\phi{\\left(\\eta,x,y,z \\right)} - \\frac{\\partial^{2}}{\\partial z^{2}} \\psi{\\left(\\eta,x,y,z \\right)} - \\frac{2 \\phi{\\left(\\eta,x,y,z \\right)} \\frac{d^{2}}{d \\eta^{2}} a{\\left(\\eta \\right)}}{a{\\left(\\eta \\right)}} - \\frac{2 \\psi{\\left(\\eta,x,y,z \\right)} \\frac{d^{2}}{d \\eta^{2}} a{\\left(\\eta \\right)}}{a{\\left(\\eta \\right)}} - \\frac{5 \\frac{d}{d \\eta} a{\\left(\\eta \\right)} \\frac{\\partial}{\\partial \\eta} \\phi{\\left(\\eta,x,y,z \\right)}}{a{\\left(\\eta \\right)}} - \\frac{\\frac{d}{d \\eta} a{\\left(\\eta \\right)} \\frac{\\partial}{\\partial \\eta} \\psi{\\left(\\eta,x,y,z \\right)}}{a{\\left(\\eta \\right)}} - \\frac{2 \\phi{\\left(\\eta,x,y,z \\right)} \\left(\\frac{d}{d \\eta} a{\\left(\\eta \\right)}\\right)^{2}}{a^{2}{\\left(\\eta \\right)}} - \\frac{2 \\psi{\\left(\\eta,x,y,z \\right)} \\left(\\frac{d}{d \\eta} a{\\left(\\eta \\right)}\\right)^{2}}{a^{2}{\\left(\\eta \\right)}}\\right) + O\\left(\\kappa^{2}\\right)$"
      ],
      "text/plain": [
       "<IPython.core.display.Math object>"
      ]
     },
     "metadata": {},
     "output_type": "display_data"
    }
   ],
   "source": [
    "Ric=pt.ricci()\n",
    "Ric.display(\"_,_\",aslist=True)"
   ]
  },
  {
   "cell_type": "markdown",
   "id": "957d6c1f",
   "metadata": {},
   "source": [
    "Definition of the arbitrary functions to be used."
   ]
  },
  {
   "cell_type": "code",
   "execution_count": 21,
   "id": "e679f98a",
   "metadata": {},
   "outputs": [
    {
     "name": "stdout",
     "output_type": "stream",
     "text": [
      "Function rho(eta,x,y,z) is already defined\n",
      "Function P(eta,x,y,z) is already defined\n",
      "Function rhobar(eta) is already defined\n",
      "Function delta_rho(eta,x,y,z) is already defined\n",
      "Function Pbar(eta) is already defined\n",
      "Function delta_P(eta,x,y,z) is already defined\n",
      "Function v_x(eta,x,y,z) is already defined\n",
      "Function v_y(eta,x,y,z) is already defined\n",
      "Function v_z(eta,x,y,z) is already defined\n",
      "Function w(eta) is already defined\n",
      "Function delta(eta,x,y,z) is already defined\n"
     ]
    }
   ],
   "source": [
    "rho=pt.fun('rho','eta,x,y,z')\n",
    "P=pt.fun('P','eta,x,y,z')\n",
    "rho_bar = pt.fun('rhobar','eta')\n",
    "drho = pt.fun('delta_rho','eta,x,y,z')\n",
    "P_bar = pt.fun('Pbar','eta')\n",
    "dP = pt.fun('delta_P','eta,x,y,z')\n",
    "vx = pt.fun('v_x','eta,x,y,z')\n",
    "vy = pt.fun('v_y','eta,x,y,z')\n",
    "vz = pt.fun('v_z','eta,x,y,z')\n",
    "w = pt.fun('w','eta')\n",
    "delta = pt.fun('delta','eta,x,y,z')"
   ]
  },
  {
   "cell_type": "markdown",
   "id": "0afd9f30",
   "metadata": {},
   "source": [
    "Note that $w \\equiv \\frac{P}{\\rho}$  and $\\delta \\equiv \\frac{\\delta \\rho}{\\bar{\\rho}}$, as defined in the paper."
   ]
  },
  {
   "cell_type": "code",
   "execution_count": 5,
   "id": "5b0a400a",
   "metadata": {},
   "outputs": [
    {
     "name": "stdout",
     "output_type": "stream",
     "text": [
      "Elements assigned correctly to the ^,_ components\n"
     ]
    },
    {
     "data": {
      "application/vnd.jupyter.widget-view+json": {
       "model_id": "33c7b42d76c44b7f885df9b93c927984",
       "version_major": 2,
       "version_minor": 0
      },
      "text/plain": [
       "T Tensor $T{_\\alpha}{_\\beta}$:   0%|          | 0/16 [00:00<?, ?it/s]"
      ]
     },
     "metadata": {},
     "output_type": "display_data"
    },
    {
     "data": {
      "application/vnd.jupyter.widget-view+json": {
       "model_id": "f3fd9df47c164d37a590b0d01793d347",
       "version_major": 2,
       "version_minor": 0
      },
      "text/plain": [
       "T Tensor $T{^\\alpha}{^\\beta}$:   0%|          | 0/16 [00:00<?, ?it/s]"
      ]
     },
     "metadata": {},
     "output_type": "display_data"
    },
    {
     "data": {
      "application/vnd.jupyter.widget-view+json": {
       "model_id": "e2e27bfe8283474f88b95f47f758591c",
       "version_major": 2,
       "version_minor": 0
      },
      "text/plain": [
       "T Tensor $T{_\\alpha}{^\\beta}$:   0%|          | 0/16 [00:00<?, ?it/s]"
      ]
     },
     "metadata": {},
     "output_type": "display_data"
    },
    {
     "data": {
      "text/latex": [
       "All other indices of T Tensor $T$  already calculated."
      ],
      "text/plain": [
       "<IPython.core.display.Latex object>"
      ]
     },
     "metadata": {},
     "output_type": "display_data"
    }
   ],
   "source": [
    "T=pt.ten('T',2)\n",
    "\n",
    "# Defined as Eq.(25)\n",
    "\n",
    "T_dat = [\n",
    "         [-(rho_bar+kappa*delta*rho_bar),(rho_bar + w*rho_bar)*kappa*vx,(rho_bar + w*rho_bar)*kappa*vy,(rho_bar + w*rho_bar)*kappa*vz],\n",
    "         [-(rho_bar + w*rho_bar)*kappa*vx,(w*rho_bar+kappa*dP),0,0],\n",
    "         [-(rho_bar + w*rho_bar)*kappa*vy,0,(w*rho_bar+kappa*dP),0],\n",
    "         [-(rho_bar + w*rho_bar)*kappa*vz,0,0,(w*rho_bar+kappa*dP)]\n",
    "        ]\n",
    "\n",
    "T.assign(T_dat,\"^,_\")\n",
    "T.complete('^,_')"
   ]
  },
  {
   "cell_type": "code",
   "execution_count": 6,
   "id": "39ca3aab",
   "metadata": {},
   "outputs": [
    {
     "data": {
      "text/latex": [
       "$\\displaystyle {T}{}^{0}\\,{}_{0}\\, = \\left(- \\kappa \\delta{\\left(\\eta,x,y,z \\right)} - 1\\right) \\bar{\\rho}{\\left(\\eta \\right)}$"
      ],
      "text/plain": [
       "<IPython.core.display.Math object>"
      ]
     },
     "metadata": {},
     "output_type": "display_data"
    },
    {
     "data": {
      "text/latex": [
       "$\\displaystyle {T}{}^{0}\\,{}_{1}\\, = \\kappa \\left(w{\\left(\\eta \\right)} + 1\\right) \\bar{\\rho}{\\left(\\eta \\right)} v_{x}{\\left(\\eta,x,y,z \\right)}$"
      ],
      "text/plain": [
       "<IPython.core.display.Math object>"
      ]
     },
     "metadata": {},
     "output_type": "display_data"
    },
    {
     "data": {
      "text/latex": [
       "$\\displaystyle {T}{}^{0}\\,{}_{2}\\, = \\kappa \\left(w{\\left(\\eta \\right)} + 1\\right) \\bar{\\rho}{\\left(\\eta \\right)} v_{y}{\\left(\\eta,x,y,z \\right)}$"
      ],
      "text/plain": [
       "<IPython.core.display.Math object>"
      ]
     },
     "metadata": {},
     "output_type": "display_data"
    },
    {
     "data": {
      "text/latex": [
       "$\\displaystyle {T}{}^{0}\\,{}_{3}\\, = \\kappa \\left(w{\\left(\\eta \\right)} + 1\\right) \\bar{\\rho}{\\left(\\eta \\right)} v_{z}{\\left(\\eta,x,y,z \\right)}$"
      ],
      "text/plain": [
       "<IPython.core.display.Math object>"
      ]
     },
     "metadata": {},
     "output_type": "display_data"
    },
    {
     "data": {
      "text/latex": [
       "$\\displaystyle {T}{}^{1}\\,{}_{0}\\, = - \\kappa \\left(w{\\left(\\eta \\right)} + 1\\right) \\bar{\\rho}{\\left(\\eta \\right)} v_{x}{\\left(\\eta,x,y,z \\right)}$"
      ],
      "text/plain": [
       "<IPython.core.display.Math object>"
      ]
     },
     "metadata": {},
     "output_type": "display_data"
    },
    {
     "data": {
      "text/latex": [
       "$\\displaystyle {T}{}^{1}\\,{}_{1}\\, = \\kappa \\delta_{P}{\\left(\\eta,x,y,z \\right)} + \\bar{\\rho}{\\left(\\eta \\right)} w{\\left(\\eta \\right)}$"
      ],
      "text/plain": [
       "<IPython.core.display.Math object>"
      ]
     },
     "metadata": {},
     "output_type": "display_data"
    },
    {
     "data": {
      "text/latex": [
       "$\\displaystyle {T}{}^{2}\\,{}_{0}\\, = - \\kappa \\left(w{\\left(\\eta \\right)} + 1\\right) \\bar{\\rho}{\\left(\\eta \\right)} v_{y}{\\left(\\eta,x,y,z \\right)}$"
      ],
      "text/plain": [
       "<IPython.core.display.Math object>"
      ]
     },
     "metadata": {},
     "output_type": "display_data"
    },
    {
     "data": {
      "text/latex": [
       "$\\displaystyle {T}{}^{2}\\,{}_{2}\\, = \\kappa \\delta_{P}{\\left(\\eta,x,y,z \\right)} + \\bar{\\rho}{\\left(\\eta \\right)} w{\\left(\\eta \\right)}$"
      ],
      "text/plain": [
       "<IPython.core.display.Math object>"
      ]
     },
     "metadata": {},
     "output_type": "display_data"
    },
    {
     "data": {
      "text/latex": [
       "$\\displaystyle {T}{}^{3}\\,{}_{0}\\, = - \\kappa \\left(w{\\left(\\eta \\right)} + 1\\right) \\bar{\\rho}{\\left(\\eta \\right)} v_{z}{\\left(\\eta,x,y,z \\right)}$"
      ],
      "text/plain": [
       "<IPython.core.display.Math object>"
      ]
     },
     "metadata": {},
     "output_type": "display_data"
    },
    {
     "data": {
      "text/latex": [
       "$\\displaystyle {T}{}^{3}\\,{}_{3}\\, = \\kappa \\delta_{P}{\\left(\\eta,x,y,z \\right)} + \\bar{\\rho}{\\left(\\eta \\right)} w{\\left(\\eta \\right)}$"
      ],
      "text/plain": [
       "<IPython.core.display.Math object>"
      ]
     },
     "metadata": {},
     "output_type": "display_data"
    }
   ],
   "source": [
    "T.simplify()\n",
    "T.display('^,_',aslist=True)"
   ]
  },
  {
   "cell_type": "code",
   "execution_count": 7,
   "id": "faa89543",
   "metadata": {},
   "outputs": [
    {
     "name": "stdout",
     "output_type": "stream",
     "text": [
      "Elements assigned correctly to the ^nu components\n"
     ]
    },
    {
     "data": {
      "text/latex": [
       "$\\displaystyle {CT}{}^{0}\\, = \\frac{a^{8}{\\left(\\eta \\right)} \\frac{d}{d \\eta} \\bar{\\rho}{\\left(\\eta \\right)} + 3 \\left(w{\\left(\\eta \\right)} + 1\\right) a^{7}{\\left(\\eta \\right)} \\bar{\\rho}{\\left(\\eta \\right)} \\frac{d}{d \\eta} a{\\left(\\eta \\right)} + \\kappa \\left(3 \\left(\\delta{\\left(\\eta,x,y,z \\right)} \\bar{\\rho}{\\left(\\eta \\right)} + \\delta_{P}{\\left(\\eta,x,y,z \\right)} - 2 \\psi{\\left(\\eta,x,y,z \\right)} \\bar{\\rho}{\\left(\\eta \\right)} w{\\left(\\eta \\right)} - 2 \\psi{\\left(\\eta,x,y,z \\right)} \\bar{\\rho}{\\left(\\eta \\right)}\\right) \\frac{d}{d \\eta} a{\\left(\\eta \\right)} + \\left(\\delta{\\left(\\eta,x,y,z \\right)} \\frac{d}{d \\eta} \\bar{\\rho}{\\left(\\eta \\right)} - 2 \\psi{\\left(\\eta,x,y,z \\right)} \\frac{d}{d \\eta} \\bar{\\rho}{\\left(\\eta \\right)} - 3 \\bar{\\rho}{\\left(\\eta \\right)} w{\\left(\\eta \\right)} \\frac{\\partial}{\\partial \\eta} \\phi{\\left(\\eta,x,y,z \\right)} + \\bar{\\rho}{\\left(\\eta \\right)} w{\\left(\\eta \\right)} \\frac{\\partial}{\\partial x} v_{x}{\\left(\\eta,x,y,z \\right)} + \\bar{\\rho}{\\left(\\eta \\right)} w{\\left(\\eta \\right)} \\frac{\\partial}{\\partial y} v_{y}{\\left(\\eta,x,y,z \\right)} + \\bar{\\rho}{\\left(\\eta \\right)} w{\\left(\\eta \\right)} \\frac{\\partial}{\\partial z} v_{z}{\\left(\\eta,x,y,z \\right)} + \\bar{\\rho}{\\left(\\eta \\right)} \\frac{\\partial}{\\partial \\eta} \\delta{\\left(\\eta,x,y,z \\right)} - 3 \\bar{\\rho}{\\left(\\eta \\right)} \\frac{\\partial}{\\partial \\eta} \\phi{\\left(\\eta,x,y,z \\right)} + \\bar{\\rho}{\\left(\\eta \\right)} \\frac{\\partial}{\\partial x} v_{x}{\\left(\\eta,x,y,z \\right)} + \\bar{\\rho}{\\left(\\eta \\right)} \\frac{\\partial}{\\partial y} v_{y}{\\left(\\eta,x,y,z \\right)} + \\bar{\\rho}{\\left(\\eta \\right)} \\frac{\\partial}{\\partial z} v_{z}{\\left(\\eta,x,y,z \\right)}\\right) a{\\left(\\eta \\right)}\\right) a^{7}{\\left(\\eta \\right)} + O\\left(\\kappa^{2}\\right)}{a^{10}{\\left(\\eta \\right)}}$"
      ],
      "text/plain": [
       "<IPython.core.display.Math object>"
      ]
     },
     "metadata": {},
     "output_type": "display_data"
    },
    {
     "data": {
      "text/latex": [
       "$\\displaystyle {CT}{}^{1}\\, = \\frac{\\kappa \\left(4 \\left(w{\\left(\\eta \\right)} + 1\\right) \\bar{\\rho}{\\left(\\eta \\right)} v_{x}{\\left(\\eta,x,y,z \\right)} \\frac{d}{d \\eta} a{\\left(\\eta \\right)} + \\left(\\bar{\\rho}{\\left(\\eta \\right)} v_{x}{\\left(\\eta,x,y,z \\right)} \\frac{d}{d \\eta} w{\\left(\\eta \\right)} + \\bar{\\rho}{\\left(\\eta \\right)} w{\\left(\\eta \\right)} \\frac{\\partial}{\\partial x} \\psi{\\left(\\eta,x,y,z \\right)} + \\bar{\\rho}{\\left(\\eta \\right)} w{\\left(\\eta \\right)} \\frac{\\partial}{\\partial \\eta} v_{x}{\\left(\\eta,x,y,z \\right)} + \\bar{\\rho}{\\left(\\eta \\right)} \\frac{\\partial}{\\partial x} \\psi{\\left(\\eta,x,y,z \\right)} + \\bar{\\rho}{\\left(\\eta \\right)} \\frac{\\partial}{\\partial \\eta} v_{x}{\\left(\\eta,x,y,z \\right)} + v_{x}{\\left(\\eta,x,y,z \\right)} w{\\left(\\eta \\right)} \\frac{d}{d \\eta} \\bar{\\rho}{\\left(\\eta \\right)} + v_{x}{\\left(\\eta,x,y,z \\right)} \\frac{d}{d \\eta} \\bar{\\rho}{\\left(\\eta \\right)} + \\frac{\\partial}{\\partial x} \\delta_{P}{\\left(\\eta,x,y,z \\right)}\\right) a{\\left(\\eta \\right)}\\right) a^{2}{\\left(\\eta \\right)} + O\\left(\\kappa^{2}\\right)}{a^{5}{\\left(\\eta \\right)}}$"
      ],
      "text/plain": [
       "<IPython.core.display.Math object>"
      ]
     },
     "metadata": {},
     "output_type": "display_data"
    },
    {
     "data": {
      "text/latex": [
       "$\\displaystyle {CT}{}^{2}\\, = \\frac{\\kappa \\left(4 \\left(w{\\left(\\eta \\right)} + 1\\right) \\bar{\\rho}{\\left(\\eta \\right)} v_{y}{\\left(\\eta,x,y,z \\right)} \\frac{d}{d \\eta} a{\\left(\\eta \\right)} + \\left(\\bar{\\rho}{\\left(\\eta \\right)} v_{y}{\\left(\\eta,x,y,z \\right)} \\frac{d}{d \\eta} w{\\left(\\eta \\right)} + \\bar{\\rho}{\\left(\\eta \\right)} w{\\left(\\eta \\right)} \\frac{\\partial}{\\partial y} \\psi{\\left(\\eta,x,y,z \\right)} + \\bar{\\rho}{\\left(\\eta \\right)} w{\\left(\\eta \\right)} \\frac{\\partial}{\\partial \\eta} v_{y}{\\left(\\eta,x,y,z \\right)} + \\bar{\\rho}{\\left(\\eta \\right)} \\frac{\\partial}{\\partial y} \\psi{\\left(\\eta,x,y,z \\right)} + \\bar{\\rho}{\\left(\\eta \\right)} \\frac{\\partial}{\\partial \\eta} v_{y}{\\left(\\eta,x,y,z \\right)} + v_{y}{\\left(\\eta,x,y,z \\right)} w{\\left(\\eta \\right)} \\frac{d}{d \\eta} \\bar{\\rho}{\\left(\\eta \\right)} + v_{y}{\\left(\\eta,x,y,z \\right)} \\frac{d}{d \\eta} \\bar{\\rho}{\\left(\\eta \\right)} + \\frac{\\partial}{\\partial y} \\delta_{P}{\\left(\\eta,x,y,z \\right)}\\right) a{\\left(\\eta \\right)}\\right) a^{2}{\\left(\\eta \\right)} + O\\left(\\kappa^{2}\\right)}{a^{5}{\\left(\\eta \\right)}}$"
      ],
      "text/plain": [
       "<IPython.core.display.Math object>"
      ]
     },
     "metadata": {},
     "output_type": "display_data"
    },
    {
     "data": {
      "text/latex": [
       "$\\displaystyle {CT}{}^{3}\\, = \\frac{\\kappa \\left(4 \\left(w{\\left(\\eta \\right)} + 1\\right) \\bar{\\rho}{\\left(\\eta \\right)} v_{z}{\\left(\\eta,x,y,z \\right)} \\frac{d}{d \\eta} a{\\left(\\eta \\right)} + \\left(\\bar{\\rho}{\\left(\\eta \\right)} v_{z}{\\left(\\eta,x,y,z \\right)} \\frac{d}{d \\eta} w{\\left(\\eta \\right)} + \\bar{\\rho}{\\left(\\eta \\right)} w{\\left(\\eta \\right)} \\frac{\\partial}{\\partial z} \\psi{\\left(\\eta,x,y,z \\right)} + \\bar{\\rho}{\\left(\\eta \\right)} w{\\left(\\eta \\right)} \\frac{\\partial}{\\partial \\eta} v_{z}{\\left(\\eta,x,y,z \\right)} + \\bar{\\rho}{\\left(\\eta \\right)} \\frac{\\partial}{\\partial z} \\psi{\\left(\\eta,x,y,z \\right)} + \\bar{\\rho}{\\left(\\eta \\right)} \\frac{\\partial}{\\partial \\eta} v_{z}{\\left(\\eta,x,y,z \\right)} + v_{z}{\\left(\\eta,x,y,z \\right)} w{\\left(\\eta \\right)} \\frac{d}{d \\eta} \\bar{\\rho}{\\left(\\eta \\right)} + v_{z}{\\left(\\eta,x,y,z \\right)} \\frac{d}{d \\eta} \\bar{\\rho}{\\left(\\eta \\right)} + \\frac{\\partial}{\\partial z} \\delta_{P}{\\left(\\eta,x,y,z \\right)}\\right) a{\\left(\\eta \\right)}\\right) a^{2}{\\left(\\eta \\right)} + O\\left(\\kappa^{2}\\right)}{a^{5}{\\left(\\eta \\right)}}$"
      ],
      "text/plain": [
       "<IPython.core.display.Math object>"
      ]
     },
     "metadata": {},
     "output_type": "display_data"
    }
   ],
   "source": [
    "CT_dat = pt.C(T('^mu,^nu'),'_mu')\n",
    "\n",
    "CT = pt.ten('CT',1)\n",
    "\n",
    "CT.assign(CT_dat,'^nu')\n",
    "\n",
    "CT.simplify(\"^\")\n",
    "\n",
    "CT.display('^', aslist=True)"
   ]
  },
  {
   "cell_type": "markdown",
   "id": "0c52054a",
   "metadata": {},
   "source": [
    "### Eq. (30a)"
   ]
  },
  {
   "cell_type": "code",
   "execution_count": 8,
   "id": "f33de77d",
   "metadata": {},
   "outputs": [
    {
     "data": {
      "text/latex": [
       "$\\displaystyle \\frac{3 \\frac{d}{d \\eta} a{\\left(\\eta \\right)}}{a{\\left(\\eta \\right)}} + \\frac{3 w{\\left(\\eta \\right)} \\frac{d}{d \\eta} a{\\left(\\eta \\right)}}{a{\\left(\\eta \\right)}} + \\frac{\\frac{d}{d \\eta} \\bar{\\rho}{\\left(\\eta \\right)}}{\\bar{\\rho}{\\left(\\eta \\right)}} - \\frac{6 \\kappa \\psi{\\left(\\eta,x,y,z \\right)} \\frac{d}{d \\eta} a{\\left(\\eta \\right)}}{a{\\left(\\eta \\right)}} - \\frac{6 \\kappa \\psi{\\left(\\eta,x,y,z \\right)} w{\\left(\\eta \\right)} \\frac{d}{d \\eta} a{\\left(\\eta \\right)}}{a{\\left(\\eta \\right)}} + \\frac{3 \\kappa \\delta_{P}{\\left(\\eta,x,y,z \\right)} \\frac{d}{d \\eta} a{\\left(\\eta \\right)}}{a{\\left(\\eta \\right)} \\bar{\\rho}{\\left(\\eta \\right)}} + \\frac{3 \\kappa \\delta{\\left(\\eta,x,y,z \\right)} \\frac{d}{d \\eta} a{\\left(\\eta \\right)}}{a{\\left(\\eta \\right)}} + \\kappa \\frac{\\partial}{\\partial z} v_{z}{\\left(\\eta,x,y,z \\right)} + \\kappa \\frac{\\partial}{\\partial y} v_{y}{\\left(\\eta,x,y,z \\right)} + \\kappa \\frac{\\partial}{\\partial x} v_{x}{\\left(\\eta,x,y,z \\right)} - 3 \\kappa \\frac{\\partial}{\\partial \\eta} \\phi{\\left(\\eta,x,y,z \\right)} + \\kappa \\frac{\\partial}{\\partial \\eta} \\delta{\\left(\\eta,x,y,z \\right)} + \\kappa w{\\left(\\eta \\right)} \\frac{\\partial}{\\partial z} v_{z}{\\left(\\eta,x,y,z \\right)} + \\kappa w{\\left(\\eta \\right)} \\frac{\\partial}{\\partial y} v_{y}{\\left(\\eta,x,y,z \\right)} + \\kappa w{\\left(\\eta \\right)} \\frac{\\partial}{\\partial x} v_{x}{\\left(\\eta,x,y,z \\right)} - 3 \\kappa w{\\left(\\eta \\right)} \\frac{\\partial}{\\partial \\eta} \\phi{\\left(\\eta,x,y,z \\right)} - \\frac{2 \\kappa \\psi{\\left(\\eta,x,y,z \\right)} \\frac{d}{d \\eta} \\bar{\\rho}{\\left(\\eta \\right)}}{\\bar{\\rho}{\\left(\\eta \\right)}} + \\frac{\\kappa \\delta{\\left(\\eta,x,y,z \\right)} \\frac{d}{d \\eta} \\bar{\\rho}{\\left(\\eta \\right)}}{\\bar{\\rho}{\\left(\\eta \\right)}} + O\\left(\\kappa^{2}\\right)$"
      ],
      "text/plain": [
       "<IPython.core.display.Math object>"
      ]
     },
     "metadata": {},
     "output_type": "display_data"
    }
   ],
   "source": [
    "Eq30a = (CT('^0')*a**2/rho_bar).expand()\n",
    "pt.display(Eq30a)"
   ]
  },
  {
   "cell_type": "code",
   "execution_count": 9,
   "id": "1da9d633",
   "metadata": {},
   "outputs": [],
   "source": [
    "# We define H to simplify the expressions.\n",
    "H = pt.fun('H','eta')"
   ]
  },
  {
   "cell_type": "code",
   "execution_count": 10,
   "id": "14ac56a9",
   "metadata": {},
   "outputs": [
    {
     "data": {
      "text/latex": [
       "$\\displaystyle \\frac{\\frac{d}{d \\eta} \\bar{\\rho}{\\left(\\eta \\right)}}{\\bar{\\rho}{\\left(\\eta \\right)}} + 3 H{\\left(\\eta \\right)} + 3 H{\\left(\\eta \\right)} w{\\left(\\eta \\right)} + \\kappa \\frac{\\partial}{\\partial z} v_{z}{\\left(\\eta,x,y,z \\right)} + \\kappa \\frac{\\partial}{\\partial y} v_{y}{\\left(\\eta,x,y,z \\right)} + \\kappa \\frac{\\partial}{\\partial x} v_{x}{\\left(\\eta,x,y,z \\right)} - 3 \\kappa \\frac{\\partial}{\\partial \\eta} \\phi{\\left(\\eta,x,y,z \\right)} + \\kappa \\frac{\\partial}{\\partial \\eta} \\delta{\\left(\\eta,x,y,z \\right)} + \\kappa w{\\left(\\eta \\right)} \\frac{\\partial}{\\partial z} v_{z}{\\left(\\eta,x,y,z \\right)} + \\kappa w{\\left(\\eta \\right)} \\frac{\\partial}{\\partial y} v_{y}{\\left(\\eta,x,y,z \\right)} + \\kappa w{\\left(\\eta \\right)} \\frac{\\partial}{\\partial x} v_{x}{\\left(\\eta,x,y,z \\right)} - 3 \\kappa w{\\left(\\eta \\right)} \\frac{\\partial}{\\partial \\eta} \\phi{\\left(\\eta,x,y,z \\right)} - \\frac{2 \\kappa \\psi{\\left(\\eta,x,y,z \\right)} \\frac{d}{d \\eta} \\bar{\\rho}{\\left(\\eta \\right)}}{\\bar{\\rho}{\\left(\\eta \\right)}} + \\frac{\\kappa \\delta{\\left(\\eta,x,y,z \\right)} \\frac{d}{d \\eta} \\bar{\\rho}{\\left(\\eta \\right)}}{\\bar{\\rho}{\\left(\\eta \\right)}} - 6 \\kappa H{\\left(\\eta \\right)} \\psi{\\left(\\eta,x,y,z \\right)} - 6 \\kappa H{\\left(\\eta \\right)} \\psi{\\left(\\eta,x,y,z \\right)} w{\\left(\\eta \\right)} + \\frac{3 \\kappa H{\\left(\\eta \\right)} \\delta_{P}{\\left(\\eta,x,y,z \\right)}}{\\bar{\\rho}{\\left(\\eta \\right)}} + 3 \\kappa H{\\left(\\eta \\right)} \\delta{\\left(\\eta,x,y,z \\right)} + O\\left(\\kappa^{2}\\right)$"
      ],
      "text/plain": [
       "<IPython.core.display.Math object>"
      ]
     },
     "metadata": {},
     "output_type": "display_data"
    }
   ],
   "source": [
    "Eq30a = Eq30a.subs(sp.diff(a,eta)/a,H)\n",
    "pt.display(Eq30a)"
   ]
  },
  {
   "cell_type": "code",
   "execution_count": 11,
   "id": "a1e63f3f",
   "metadata": {},
   "outputs": [
    {
     "data": {
      "text/latex": [
       "$\\displaystyle 3 H{\\left(\\eta \\right)} w{\\left(\\eta \\right)} + 3 H{\\left(\\eta \\right)} + \\frac{\\frac{d}{d \\eta} \\bar{\\rho}{\\left(\\eta \\right)}}{\\bar{\\rho}{\\left(\\eta \\right)}}$"
      ],
      "text/plain": [
       "<IPython.core.display.Math object>"
      ]
     },
     "metadata": {},
     "output_type": "display_data"
    },
    {
     "data": {
      "text/latex": [
       "$\\displaystyle 3 H{\\left(\\eta \\right)} \\delta{\\left(\\eta,x,y,z \\right)} + \\frac{3 H{\\left(\\eta \\right)} \\delta_{P}{\\left(\\eta,x,y,z \\right)}}{\\bar{\\rho}{\\left(\\eta \\right)}} - 6 H{\\left(\\eta \\right)} \\psi{\\left(\\eta,x,y,z \\right)} w{\\left(\\eta \\right)} - 6 H{\\left(\\eta \\right)} \\psi{\\left(\\eta,x,y,z \\right)} + \\frac{\\delta{\\left(\\eta,x,y,z \\right)} \\frac{d}{d \\eta} \\bar{\\rho}{\\left(\\eta \\right)}}{\\bar{\\rho}{\\left(\\eta \\right)}} - \\frac{2 \\psi{\\left(\\eta,x,y,z \\right)} \\frac{d}{d \\eta} \\bar{\\rho}{\\left(\\eta \\right)}}{\\bar{\\rho}{\\left(\\eta \\right)}} - 3 w{\\left(\\eta \\right)} \\frac{\\partial}{\\partial \\eta} \\phi{\\left(\\eta,x,y,z \\right)} + w{\\left(\\eta \\right)} \\frac{\\partial}{\\partial x} v_{x}{\\left(\\eta,x,y,z \\right)} + w{\\left(\\eta \\right)} \\frac{\\partial}{\\partial y} v_{y}{\\left(\\eta,x,y,z \\right)} + w{\\left(\\eta \\right)} \\frac{\\partial}{\\partial z} v_{z}{\\left(\\eta,x,y,z \\right)} + \\frac{\\partial}{\\partial \\eta} \\delta{\\left(\\eta,x,y,z \\right)} - 3 \\frac{\\partial}{\\partial \\eta} \\phi{\\left(\\eta,x,y,z \\right)} + \\frac{\\partial}{\\partial x} v_{x}{\\left(\\eta,x,y,z \\right)} + \\frac{\\partial}{\\partial y} v_{y}{\\left(\\eta,x,y,z \\right)} + \\frac{\\partial}{\\partial z} v_{z}{\\left(\\eta,x,y,z \\right)}$"
      ],
      "text/plain": [
       "<IPython.core.display.Math object>"
      ]
     },
     "metadata": {},
     "output_type": "display_data"
    }
   ],
   "source": [
    "# Separate 0th and 1st order solutions of the temporal component.\n",
    "\n",
    "Eq30a_1, Eq30a_0 = sp.Poly(Eq30a.removeO(),kappa).as_list()\n",
    "\n",
    "pt.display(Eq30a_0)\n",
    "pt.display(Eq30a_1)"
   ]
  },
  {
   "cell_type": "code",
   "execution_count": 12,
   "id": "188a61f1",
   "metadata": {},
   "outputs": [
    {
     "data": {
      "text/latex": [
       "$\\displaystyle 3 \\left(- w{\\left(\\eta \\right)} - 1\\right) H{\\left(\\eta \\right)}$"
      ],
      "text/plain": [
       "<IPython.core.display.Math object>"
      ]
     },
     "metadata": {},
     "output_type": "display_data"
    }
   ],
   "source": [
    "Eq30a_00 = sp.solve(Eq30a_0,sp.diff(rho_bar)/rho_bar)[0]\n",
    "pt.display(Eq30a_00)"
   ]
  },
  {
   "cell_type": "markdown",
   "id": "43c4cb2d",
   "metadata": {},
   "source": [
    "The 0th order solution is used to replace\n",
    "\n",
    "$$ \\frac{\\dot{\\bar{\\rho}}(\\eta)}{\\bar{\\rho}(\\eta)} = \\displaystyle - 3 \\left(w{\\left(\\eta \\right)} + 1\\right) H{\\left(\\eta \\right)}$$\n",
    "\n",
    "in the 1st order solution."
   ]
  },
  {
   "cell_type": "code",
   "execution_count": 13,
   "id": "90ceebf1",
   "metadata": {},
   "outputs": [
    {
     "data": {
      "image/png": "[encoded data removed]",
      "text/latex": [
       "$\\displaystyle \\frac{3 H{\\left(\\eta \\right)} \\delta{\\left(\\eta,x,y,z \\right)} \\delta_{P}{\\left(\\eta,x,y,z \\right)}}{\\delta_{\\rho}{\\left(\\eta,x,y,z \\right)}} - 3 H{\\left(\\eta \\right)} \\delta{\\left(\\eta,x,y,z \\right)} w{\\left(\\eta \\right)} - 3 w{\\left(\\eta \\right)} \\frac{\\partial}{\\partial \\eta} \\phi{\\left(\\eta,x,y,z \\right)} + w{\\left(\\eta \\right)} \\frac{\\partial}{\\partial x} v_{x}{\\left(\\eta,x,y,z \\right)} + w{\\left(\\eta \\right)} \\frac{\\partial}{\\partial y} v_{y}{\\left(\\eta,x,y,z \\right)} + w{\\left(\\eta \\right)} \\frac{\\partial}{\\partial z} v_{z}{\\left(\\eta,x,y,z \\right)} + \\frac{\\partial}{\\partial \\eta} \\delta{\\left(\\eta,x,y,z \\right)} - 3 \\frac{\\partial}{\\partial \\eta} \\phi{\\left(\\eta,x,y,z \\right)} + \\frac{\\partial}{\\partial x} v_{x}{\\left(\\eta,x,y,z \\right)} + \\frac{\\partial}{\\partial y} v_{y}{\\left(\\eta,x,y,z \\right)} + \\frac{\\partial}{\\partial z} v_{z}{\\left(\\eta,x,y,z \\right)}$"
      ],
      "text/plain": [
       "3⋅H(η)⋅δ(η, x, y, z)⋅δ_P(η, x, y, z)                                      ∂   \n",
       "──────────────────────────────────── - 3⋅H(η)⋅δ(η, x, y, z)⋅w(η) - 3⋅w(η)⋅──(φ\n",
       "           δᵨ(η, x, y, z)                                                 ∂η  \n",
       "\n",
       "                     ∂                         ∂                          ∂   \n",
       "(η, x, y, z)) + w(η)⋅──(vₓ(η, x, y, z)) + w(η)⋅──(v_y(η, x, y, z)) + w(η)⋅──(v\n",
       "                     ∂x                        ∂y                         ∂z  \n",
       "\n",
       "                  ∂                     ∂                   ∂                 \n",
       "_z(η, x, y, z)) + ──(δ(η, x, y, z)) - 3⋅──(φ(η, x, y, z)) + ──(vₓ(η, x, y, z))\n",
       "                  ∂η                    ∂η                  ∂x                \n",
       "\n",
       "   ∂                     ∂                  \n",
       " + ──(v_y(η, x, y, z)) + ──(v_z(η, x, y, z))\n",
       "   ∂y                    ∂z                 "
      ]
     },
     "execution_count": 13,
     "metadata": {},
     "output_type": "execute_result"
    }
   ],
   "source": [
    "Eq30a_1 = sp.simplify(Eq30a_1.subs(sp.diff(rho_bar)/rho_bar,Eq30a_00))\n",
    "Eq30a_1 = Eq30a_1.subs(rho_bar,drho/delta)\n",
    "Eq30a_1"
   ]
  },
  {
   "cell_type": "markdown",
   "id": "629a0249",
   "metadata": {},
   "source": [
    "Where the following definition was used:\n",
    "\n",
    "$$\\delta = \\frac{\\delta \\rho}{\\bar{\\rho}}$$.\n",
    "\n",
    "Applying the Fourier Transform, where $f_k(\\eta)$ is the Fourier Transform of $f(\\eta,x,y,z)$."
   ]
  },
  {
   "cell_type": "code",
   "execution_count": 14,
   "id": "ac72961a",
   "metadata": {},
   "outputs": [],
   "source": [
    "deltak = pt.fun(r\"delta_k\",'eta')\n",
    "phik = pt.fun(r\"phi_k\",'eta')\n",
    "dPk = pt.fun(r\"delta_P_k\",'eta')\n",
    "drhok = pt.fun(r\"delta_rho_k\",'eta')\n",
    "theta = pt.fun(\"theta_k\",'eta')"
   ]
  },
  {
   "cell_type": "markdown",
   "id": "1928f5b4",
   "metadata": {},
   "source": [
    "Where $\\theta_k \\equiv ik^j \\hat{v}_j$ and $\\hat{v}_j$ is the Fourier Transform of $v_j$"
   ]
  },
  {
   "cell_type": "code",
   "execution_count": 15,
   "id": "563217fa",
   "metadata": {},
   "outputs": [
    {
     "data": {
      "text/latex": [
       "$\\displaystyle - \\frac{3 H{\\left(\\eta \\right)} \\delta_{P k}{\\left(\\eta \\right)} \\delta_{k}{\\left(\\eta \\right)}}{\\delta_{\\rho k}{\\left(\\eta \\right)}} + 3 H{\\left(\\eta \\right)} \\delta_{k}{\\left(\\eta \\right)} w{\\left(\\eta \\right)} - \\theta_{k}{\\left(\\eta \\right)} w{\\left(\\eta \\right)} - \\theta_{k}{\\left(\\eta \\right)} + 3 w{\\left(\\eta \\right)} \\frac{d}{d \\eta} \\phi_{k}{\\left(\\eta \\right)} + 3 \\frac{d}{d \\eta} \\phi_{k}{\\left(\\eta \\right)}$"
      ],
      "text/plain": [
       "<IPython.core.display.Math object>"
      ]
     },
     "metadata": {},
     "output_type": "display_data"
    }
   ],
   "source": [
    "Eq30a_1 = sp.simplify(Eq30a_1.subs(sp.diff(vx,x),theta-sp.diff(vy,y)-sp.diff(vz,z)))\n",
    "\n",
    "Eq30a_1 = Eq30a_1.subs(delta,deltak)\n",
    "Eq30a_1 = Eq30a_1.subs(phi,phik)\n",
    "Eq30a_1 = Eq30a_1.subs(drho,drhok)\n",
    "Eq30a_1 = Eq30a_1.subs(dP,dPk)\n",
    "\n",
    "# Solve for dot{delta_k}\n",
    "\n",
    "Sol_Eq30a_1 = sp.simplify(sp.solve(Eq30a_1,sp.diff(deltak,eta))[0])\n",
    "\n",
    "pt.display(Sol_Eq30a_1)"
   ]
  },
  {
   "cell_type": "markdown",
   "id": "c046d483",
   "metadata": {},
   "source": [
    "$$ \\boxed{\\dot{\\delta}_k =\\displaystyle - \\frac{3 H{\\left(\\eta \\right)} \\delta_{P k}{\\left(\\eta \\right)} \\delta_{k}{\\left(\\eta \\right)}}{\\delta_{\\rho k}{\\left(\\eta \\right)}} + 3 H{\\left(\\eta \\right)} \\delta_{k}{\\left(\\eta \\right)} w{\\left(\\eta \\right)} - \\theta_{k}{\\left(\\eta \\right)} w{\\left(\\eta \\right)} - \\theta_{k}{\\left(\\eta \\right)} + 3 w{\\left(\\eta \\right)} \\frac{d}{d \\eta} \\phi_{k}{\\left(\\eta \\right)} + 3 \\frac{d}{d \\eta} \\phi_{k}{\\left(\\eta \\right)} }$$"
   ]
  },
  {
   "cell_type": "markdown",
   "id": "3766a711",
   "metadata": {},
   "source": [
    "This corresponds to Eq(30a)."
   ]
  },
  {
   "cell_type": "markdown",
   "id": "bda77bbe",
   "metadata": {},
   "source": [
    "### Eq. (30b)"
   ]
  },
  {
   "cell_type": "code",
   "execution_count": 16,
   "id": "ca6f484c",
   "metadata": {},
   "outputs": [
    {
     "data": {
      "image/png": "[encoded data removed]",
      "text/latex": [
       "$\\displaystyle w{\\left(\\eta \\right)} \\frac{\\partial^{2}}{\\partial x^{2}} \\psi{\\left(\\eta,x,y,z \\right)} + w{\\left(\\eta \\right)} \\frac{\\partial^{2}}{\\partial y^{2}} \\psi{\\left(\\eta,x,y,z \\right)} + w{\\left(\\eta \\right)} \\frac{\\partial^{2}}{\\partial z^{2}} \\psi{\\left(\\eta,x,y,z \\right)} + w{\\left(\\eta \\right)} \\frac{\\partial^{2}}{\\partial x\\partial \\eta} v_{x}{\\left(\\eta,x,y,z \\right)} + w{\\left(\\eta \\right)} \\frac{\\partial^{2}}{\\partial y\\partial \\eta} v_{y}{\\left(\\eta,x,y,z \\right)} + w{\\left(\\eta \\right)} \\frac{\\partial^{2}}{\\partial z\\partial \\eta} v_{z}{\\left(\\eta,x,y,z \\right)} + \\frac{\\partial^{2}}{\\partial x^{2}} \\psi{\\left(\\eta,x,y,z \\right)} + \\frac{\\partial^{2}}{\\partial y^{2}} \\psi{\\left(\\eta,x,y,z \\right)} + \\frac{\\partial^{2}}{\\partial z^{2}} \\psi{\\left(\\eta,x,y,z \\right)} + \\frac{\\partial}{\\partial x} v_{x}{\\left(\\eta,x,y,z \\right)} \\frac{d}{d \\eta} w{\\left(\\eta \\right)} + \\frac{\\partial}{\\partial y} v_{y}{\\left(\\eta,x,y,z \\right)} \\frac{d}{d \\eta} w{\\left(\\eta \\right)} + \\frac{\\partial}{\\partial z} v_{z}{\\left(\\eta,x,y,z \\right)} \\frac{d}{d \\eta} w{\\left(\\eta \\right)} + \\frac{\\partial^{2}}{\\partial x\\partial \\eta} v_{x}{\\left(\\eta,x,y,z \\right)} + \\frac{\\partial^{2}}{\\partial y\\partial \\eta} v_{y}{\\left(\\eta,x,y,z \\right)} + \\frac{\\partial^{2}}{\\partial z\\partial \\eta} v_{z}{\\left(\\eta,x,y,z \\right)} + \\frac{w{\\left(\\eta \\right)} \\frac{d}{d \\eta} \\bar{\\rho}{\\left(\\eta \\right)} \\frac{\\partial}{\\partial x} v_{x}{\\left(\\eta,x,y,z \\right)}}{\\bar{\\rho}{\\left(\\eta \\right)}} + \\frac{w{\\left(\\eta \\right)} \\frac{d}{d \\eta} \\bar{\\rho}{\\left(\\eta \\right)} \\frac{\\partial}{\\partial y} v_{y}{\\left(\\eta,x,y,z \\right)}}{\\bar{\\rho}{\\left(\\eta \\right)}} + \\frac{w{\\left(\\eta \\right)} \\frac{d}{d \\eta} \\bar{\\rho}{\\left(\\eta \\right)} \\frac{\\partial}{\\partial z} v_{z}{\\left(\\eta,x,y,z \\right)}}{\\bar{\\rho}{\\left(\\eta \\right)}} + \\frac{\\frac{\\partial^{2}}{\\partial x^{2}} \\delta_{P}{\\left(\\eta,x,y,z \\right)}}{\\bar{\\rho}{\\left(\\eta \\right)}} + \\frac{\\frac{\\partial^{2}}{\\partial y^{2}} \\delta_{P}{\\left(\\eta,x,y,z \\right)}}{\\bar{\\rho}{\\left(\\eta \\right)}} + \\frac{\\frac{\\partial^{2}}{\\partial z^{2}} \\delta_{P}{\\left(\\eta,x,y,z \\right)}}{\\bar{\\rho}{\\left(\\eta \\right)}} + \\frac{\\frac{d}{d \\eta} \\bar{\\rho}{\\left(\\eta \\right)} \\frac{\\partial}{\\partial x} v_{x}{\\left(\\eta,x,y,z \\right)}}{\\bar{\\rho}{\\left(\\eta \\right)}} + \\frac{\\frac{d}{d \\eta} \\bar{\\rho}{\\left(\\eta \\right)} \\frac{\\partial}{\\partial y} v_{y}{\\left(\\eta,x,y,z \\right)}}{\\bar{\\rho}{\\left(\\eta \\right)}} + \\frac{\\frac{d}{d \\eta} \\bar{\\rho}{\\left(\\eta \\right)} \\frac{\\partial}{\\partial z} v_{z}{\\left(\\eta,x,y,z \\right)}}{\\bar{\\rho}{\\left(\\eta \\right)}} + \\frac{4 w{\\left(\\eta \\right)} \\frac{d}{d \\eta} a{\\left(\\eta \\right)} \\frac{\\partial}{\\partial x} v_{x}{\\left(\\eta,x,y,z \\right)}}{a{\\left(\\eta \\right)}} + \\frac{4 w{\\left(\\eta \\right)} \\frac{d}{d \\eta} a{\\left(\\eta \\right)} \\frac{\\partial}{\\partial y} v_{y}{\\left(\\eta,x,y,z \\right)}}{a{\\left(\\eta \\right)}} + \\frac{4 w{\\left(\\eta \\right)} \\frac{d}{d \\eta} a{\\left(\\eta \\right)} \\frac{\\partial}{\\partial z} v_{z}{\\left(\\eta,x,y,z \\right)}}{a{\\left(\\eta \\right)}} + \\frac{4 \\frac{d}{d \\eta} a{\\left(\\eta \\right)} \\frac{\\partial}{\\partial x} v_{x}{\\left(\\eta,x,y,z \\right)}}{a{\\left(\\eta \\right)}} + \\frac{4 \\frac{d}{d \\eta} a{\\left(\\eta \\right)} \\frac{\\partial}{\\partial y} v_{y}{\\left(\\eta,x,y,z \\right)}}{a{\\left(\\eta \\right)}} + \\frac{4 \\frac{d}{d \\eta} a{\\left(\\eta \\right)} \\frac{\\partial}{\\partial z} v_{z}{\\left(\\eta,x,y,z \\right)}}{a{\\left(\\eta \\right)}}$"
      ],
      "text/plain": [
       "                                                                              \n",
       "                                                                              \n",
       "                                                                              \n",
       "       2                         2                         2                  \n",
       "      ∂                         ∂                         ∂                   \n",
       "w(η)⋅───(ψ(η, x, y, z)) + w(η)⋅───(ψ(η, x, y, z)) + w(η)⋅───(ψ(η, x, y, z)) + \n",
       "       2                         2                         2                  \n",
       "     ∂x                        ∂y                        ∂z                   \n",
       "\n",
       "                                                                              \n",
       "                                                                              \n",
       "                                                                              \n",
       "        2                            2                             2          \n",
       "       ∂                            ∂                             ∂           \n",
       "w(η)⋅─────(vₓ(η, x, y, z)) + w(η)⋅─────(v_y(η, x, y, z)) + w(η)⋅─────(v_z(η, x\n",
       "     ∂x ∂η                        ∂y ∂η                         ∂z ∂η         \n",
       "                                                                              \n",
       "\n",
       "                                                                              \n",
       "                                                                              \n",
       "                                                                              \n",
       "             2                    2                    2                      \n",
       "            ∂                    ∂                    ∂                   ∂   \n",
       ", y, z)) + ───(ψ(η, x, y, z)) + ───(ψ(η, x, y, z)) + ───(ψ(η, x, y, z)) + ──(v\n",
       "             2                    2                    2                  ∂x  \n",
       "           ∂x                   ∂y                   ∂z                       \n",
       "\n",
       "                                                                              \n",
       "                                                                              \n",
       "                                                                              \n",
       "                                                                              \n",
       "               d          ∂                   d          ∂                   d\n",
       "ₓ(η, x, y, z))⋅──(w(η)) + ──(v_y(η, x, y, z))⋅──(w(η)) + ──(v_z(η, x, y, z))⋅─\n",
       "               dη         ∂y                  dη         ∂z                  d\n",
       "                                                                              \n",
       "\n",
       "                                                                              \n",
       "                                                                              \n",
       "                                                                              \n",
       "             2                       2                        2               \n",
       "            ∂                       ∂                        ∂                \n",
       "─(w(η)) + ─────(vₓ(η, x, y, z)) + ─────(v_y(η, x, y, z)) + ─────(v_z(η, x, y, \n",
       "η         ∂x ∂η                   ∂y ∂η                    ∂z ∂η              \n",
       "                                                                              \n",
       "\n",
       "                                                                              \n",
       "                                                                              \n",
       "           d        ∂                         d        ∂                      \n",
       "      w(η)⋅──(ρ̅(η))⋅──(vₓ(η, x, y, z))   w(η)⋅──(ρ̅(η))⋅──(v_y(η, x, y, z))  \n",
       "           dη       ∂x                        dη       ∂y                     \n",
       "z)) + ──────────────────────────────── + ───────────────────────────────── + ─\n",
       "                   ρ̅(η)                               ρ̅(η)                  \n",
       "                                                                              \n",
       "\n",
       "                                     2                      2                 \n",
       "                                    ∂                      ∂                  \n",
       "    d        ∂                     ───(δ_P(η, x, y, z))   ───(δ_P(η, x, y, z))\n",
       " w(η)⋅──(ρ̅(η))⋅──(v_z(η, x, y, z))     2                      2              \n",
       "    dη       ∂z                    ∂x                     ∂y                  \n",
       "──────────────────────────────── + ──────────────────── + ────────────────────\n",
       "             ρ̅(η)                        ρ̅(η)                  ρ̅(η)        \n",
       "                                                                              \n",
       "\n",
       "     2                                                                        \n",
       "    ∂                                                                         \n",
       "   ───(δ_P(η, x, y, z))   d        ∂                    d        ∂            \n",
       "        2                    ──(ρ̅(η))⋅──(vₓ(η, x, y, z))   ──(ρ̅(η))⋅──(v_y(η\n",
       "   ∂z                     dη       ∂x                   dη       ∂y           \n",
       " + ──────────────────── + ─────────────────────────── + ──────────────────────\n",
       "          ρ̅(η)                      ρ̅(η)                         ρ̅(η)      \n",
       "                                                                              \n",
       "\n",
       "                                                                              \n",
       "                                                                              \n",
       "         d        ∂                            d        ∂                     \n",
       ", x, y, z))   ──(ρ̅(η))⋅──(v_z(η, x, y, z))   4⋅w(η)⋅──(a(η))⋅──(vₓ(η, x, y, z\n",
       "         dη       ∂z                           dη       ∂x                    \n",
       "────── + ──────────────────────────── + ────────────────────────────────── + ─\n",
       "                    ρ̅(η)                              a(η)                   \n",
       "                                                                              \n",
       "\n",
       "                                                                              \n",
       "                                                                              \n",
       "      d        ∂                            d        ∂                       d\n",
       "))   4⋅w(η)⋅──(a(η))⋅──(v_y(η, x, y, z))   4⋅w(η)⋅──(a(η))⋅──(v_z(η, x, y, z))\n",
       "      dη       ∂y                           dη       ∂z                      d\n",
       "────────────────────────────────── + ─────────────────────────────────── + ───\n",
       "               a(η)                                  a(η)                     \n",
       "                                                                              \n",
       "\n",
       "                                                                              \n",
       "                                                                              \n",
       "        ∂                      d        ∂                       d        ∂    \n",
       "   4⋅──(a(η))⋅──(vₓ(η, x, y, z))   4⋅──(a(η))⋅──(v_y(η, x, y, z))   4⋅──(a(η))\n",
       "η       ∂x                     dη       ∂y                      dη       ∂z   \n",
       "────────────────────────── + ────────────────────────────── + ────────────────\n",
       "          a(η)                            a(η)                             a(η\n",
       "                                                                              \n",
       "\n",
       "              \n",
       "              \n",
       "              \n",
       "⋅──(v_z(η, x, y, z))\n",
       "              \n",
       "──────────────\n",
       ")             \n",
       "              "
      ]
     },
     "execution_count": 16,
     "metadata": {},
     "output_type": "execute_result"
    }
   ],
   "source": [
    "# The sum of the derivatives of the spatial components gives\n",
    "\n",
    "Eq30b = (((sp.diff(CT('^1'),x)+sp.diff(CT('^2'),y)+sp.diff(CT('^3'),z))*a**2/rho_bar).expand()).removeO()\n",
    "Eq30b = Eq30b.subs(kappa,1) # Replaced by 1 since it only contains 1st order terms\n",
    "\n",
    "Eq30b"
   ]
  },
  {
   "cell_type": "code",
   "execution_count": 17,
   "id": "5126f211",
   "metadata": {
    "scrolled": true
   },
   "outputs": [
    {
     "data": {
      "image/png": "[encoded data removed]",
      "text/latex": [
       "$\\displaystyle 4 H{\\left(\\eta \\right)} w{\\left(\\eta \\right)} \\frac{\\partial}{\\partial x} v_{x}{\\left(\\eta,x,y,z \\right)} + 4 H{\\left(\\eta \\right)} w{\\left(\\eta \\right)} \\frac{\\partial}{\\partial y} v_{y}{\\left(\\eta,x,y,z \\right)} + 4 H{\\left(\\eta \\right)} w{\\left(\\eta \\right)} \\frac{\\partial}{\\partial z} v_{z}{\\left(\\eta,x,y,z \\right)} + 4 H{\\left(\\eta \\right)} \\frac{\\partial}{\\partial x} v_{x}{\\left(\\eta,x,y,z \\right)} + 4 H{\\left(\\eta \\right)} \\frac{\\partial}{\\partial y} v_{y}{\\left(\\eta,x,y,z \\right)} + 4 H{\\left(\\eta \\right)} \\frac{\\partial}{\\partial z} v_{z}{\\left(\\eta,x,y,z \\right)} + w{\\left(\\eta \\right)} \\frac{\\partial^{2}}{\\partial x^{2}} \\psi{\\left(\\eta,x,y,z \\right)} + w{\\left(\\eta \\right)} \\frac{\\partial^{2}}{\\partial y^{2}} \\psi{\\left(\\eta,x,y,z \\right)} + w{\\left(\\eta \\right)} \\frac{\\partial^{2}}{\\partial z^{2}} \\psi{\\left(\\eta,x,y,z \\right)} + w{\\left(\\eta \\right)} \\frac{\\partial^{2}}{\\partial x\\partial \\eta} v_{x}{\\left(\\eta,x,y,z \\right)} + w{\\left(\\eta \\right)} \\frac{\\partial^{2}}{\\partial y\\partial \\eta} v_{y}{\\left(\\eta,x,y,z \\right)} + w{\\left(\\eta \\right)} \\frac{\\partial^{2}}{\\partial z\\partial \\eta} v_{z}{\\left(\\eta,x,y,z \\right)} + \\frac{\\partial^{2}}{\\partial x^{2}} \\psi{\\left(\\eta,x,y,z \\right)} + \\frac{\\partial^{2}}{\\partial y^{2}} \\psi{\\left(\\eta,x,y,z \\right)} + \\frac{\\partial^{2}}{\\partial z^{2}} \\psi{\\left(\\eta,x,y,z \\right)} + \\frac{\\partial}{\\partial x} v_{x}{\\left(\\eta,x,y,z \\right)} \\frac{d}{d \\eta} w{\\left(\\eta \\right)} + \\frac{\\partial}{\\partial y} v_{y}{\\left(\\eta,x,y,z \\right)} \\frac{d}{d \\eta} w{\\left(\\eta \\right)} + \\frac{\\partial}{\\partial z} v_{z}{\\left(\\eta,x,y,z \\right)} \\frac{d}{d \\eta} w{\\left(\\eta \\right)} + \\frac{\\partial^{2}}{\\partial x\\partial \\eta} v_{x}{\\left(\\eta,x,y,z \\right)} + \\frac{\\partial^{2}}{\\partial y\\partial \\eta} v_{y}{\\left(\\eta,x,y,z \\right)} + \\frac{\\partial^{2}}{\\partial z\\partial \\eta} v_{z}{\\left(\\eta,x,y,z \\right)} + \\frac{w{\\left(\\eta \\right)} \\frac{d}{d \\eta} \\bar{\\rho}{\\left(\\eta \\right)} \\frac{\\partial}{\\partial x} v_{x}{\\left(\\eta,x,y,z \\right)}}{\\bar{\\rho}{\\left(\\eta \\right)}} + \\frac{w{\\left(\\eta \\right)} \\frac{d}{d \\eta} \\bar{\\rho}{\\left(\\eta \\right)} \\frac{\\partial}{\\partial y} v_{y}{\\left(\\eta,x,y,z \\right)}}{\\bar{\\rho}{\\left(\\eta \\right)}} + \\frac{w{\\left(\\eta \\right)} \\frac{d}{d \\eta} \\bar{\\rho}{\\left(\\eta \\right)} \\frac{\\partial}{\\partial z} v_{z}{\\left(\\eta,x,y,z \\right)}}{\\bar{\\rho}{\\left(\\eta \\right)}} + \\frac{\\frac{\\partial^{2}}{\\partial x^{2}} \\delta_{P}{\\left(\\eta,x,y,z \\right)}}{\\bar{\\rho}{\\left(\\eta \\right)}} + \\frac{\\frac{\\partial^{2}}{\\partial y^{2}} \\delta_{P}{\\left(\\eta,x,y,z \\right)}}{\\bar{\\rho}{\\left(\\eta \\right)}} + \\frac{\\frac{\\partial^{2}}{\\partial z^{2}} \\delta_{P}{\\left(\\eta,x,y,z \\right)}}{\\bar{\\rho}{\\left(\\eta \\right)}} + \\frac{\\frac{d}{d \\eta} \\bar{\\rho}{\\left(\\eta \\right)} \\frac{\\partial}{\\partial x} v_{x}{\\left(\\eta,x,y,z \\right)}}{\\bar{\\rho}{\\left(\\eta \\right)}} + \\frac{\\frac{d}{d \\eta} \\bar{\\rho}{\\left(\\eta \\right)} \\frac{\\partial}{\\partial y} v_{y}{\\left(\\eta,x,y,z \\right)}}{\\bar{\\rho}{\\left(\\eta \\right)}} + \\frac{\\frac{d}{d \\eta} \\bar{\\rho}{\\left(\\eta \\right)} \\frac{\\partial}{\\partial z} v_{z}{\\left(\\eta,x,y,z \\right)}}{\\bar{\\rho}{\\left(\\eta \\right)}}$"
      ],
      "text/plain": [
       "                                                                              \n",
       "                                                                              \n",
       "                                                                              \n",
       "                                                                              \n",
       "            ∂                                ∂                                \n",
       "4⋅H(η)⋅w(η)⋅──(vₓ(η, x, y, z)) + 4⋅H(η)⋅w(η)⋅──(v_y(η, x, y, z)) + 4⋅H(η)⋅w(η)\n",
       "            ∂x                               ∂y                               \n",
       "                                                                              \n",
       "\n",
       "                                                                              \n",
       "                                                                              \n",
       "                                                                              \n",
       "                                                                              \n",
       " ∂                            ∂                           ∂                   \n",
       "⋅──(v_z(η, x, y, z)) + 4⋅H(η)⋅──(vₓ(η, x, y, z)) + 4⋅H(η)⋅──(v_y(η, x, y, z)) \n",
       " ∂z                           ∂x                          ∂y                  \n",
       "                                                                              \n",
       "\n",
       "                                                                              \n",
       "                                                                              \n",
       "                                                                              \n",
       "                                      2                         2             \n",
       "         ∂                           ∂                         ∂              \n",
       "+ 4⋅H(η)⋅──(v_z(η, x, y, z)) + w(η)⋅───(ψ(η, x, y, z)) + w(η)⋅───(ψ(η, x, y, z\n",
       "         ∂z                           2                         2             \n",
       "                                    ∂x                        ∂y              \n",
       "\n",
       "                                                                              \n",
       "                                                                              \n",
       "                                                                              \n",
       "            2                          2                            2         \n",
       "           ∂                          ∂                            ∂          \n",
       ")) + w(η)⋅───(ψ(η, x, y, z)) + w(η)⋅─────(vₓ(η, x, y, z)) + w(η)⋅─────(v_y(η, \n",
       "            2                       ∂x ∂η                        ∂y ∂η        \n",
       "          ∂z                                                                  \n",
       "\n",
       "                                                                              \n",
       "                                                                              \n",
       "                                                                              \n",
       "                    2                       2                    2            \n",
       "                   ∂                       ∂                    ∂             \n",
       "x, y, z)) + w(η)⋅─────(v_z(η, x, y, z)) + ───(ψ(η, x, y, z)) + ───(ψ(η, x, y, \n",
       "                 ∂z ∂η                      2                    2            \n",
       "                                          ∂x                   ∂y             \n",
       "\n",
       "                                                                              \n",
       "                                                                              \n",
       "                                                                              \n",
       "        2                                                                     \n",
       "       ∂                   ∂                  d          ∂                   d\n",
       "z)) + ───(ψ(η, x, y, z)) + ──(vₓ(η, x, y, z))⋅──(w(η)) + ──(v_y(η, x, y, z))⋅─\n",
       "        2                  ∂x                 dη         ∂y                  d\n",
       "      ∂z                                                                      \n",
       "\n",
       "                                                                              \n",
       "                                                                              \n",
       "                                                                              \n",
       "                                            2                       2         \n",
       "          ∂                   d            ∂                       ∂          \n",
       "─(w(η)) + ──(v_z(η, x, y, z))⋅──(w(η)) + ─────(vₓ(η, x, y, z)) + ─────(v_y(η, \n",
       "η         ∂z                  dη         ∂x ∂η                   ∂y ∂η        \n",
       "                                                                              \n",
       "\n",
       "                                                                              \n",
       "                                                                              \n",
       "                                          d        ∂                         d\n",
       "               2                     w(η)⋅──(ρ̅(η))⋅──(vₓ(η, x, y, z))   w(η)⋅\n",
       "              ∂                           dη       ∂x                        d\n",
       "x, y, z)) + ─────(v_z(η, x, y, z)) + ──────────────────────────────── + ──────\n",
       "            ∂z ∂η                                 ρ̅(η)                       \n",
       "                                                                              \n",
       "\n",
       "                                                                    2         \n",
       "                                                                   ∂          \n",
       "        ∂                          d        ∂                     ───(δ_P(η, x\n",
       "──(ρ̅(η))⋅──(v_y(η, x, y, z))   w(η)⋅──(ρ̅(η))⋅──(v_z(η, x, y, z))     2      \n",
       "η       ∂y                         dη       ∂z                    ∂x          \n",
       "─────────────────────────── + ───────────────────────────────── + ────────────\n",
       "        ρ̅(η)                               ρ̅(η)                        ρ̅(η)\n",
       "                                                                              \n",
       "\n",
       "             2                      2                                         \n",
       "            ∂                      ∂                                          \n",
       ", y, z))   ───(δ_P(η, x, y, z))   ───(δ_P(η, x, y, z))   d        ∂           \n",
       "                2                      2                    ──(ρ̅(η))⋅──(vₓ(η,\n",
       "           ∂y                     ∂z                     dη       ∂x          \n",
       "──────── + ──────────────────── + ──────────────────── + ─────────────────────\n",
       "                  ρ̅(η)                  ρ̅(η)                      ρ̅(η)     \n",
       "                                                                              \n",
       "\n",
       "                                                                    \n",
       "                                                                    \n",
       "         d        ∂                     d        ∂                  \n",
       " x, y, z))   ──(ρ̅(η))⋅──(v_y(η, x, y, z))   ──(ρ̅(η))⋅──(v_z(η, x, y, z))\n",
       "         dη       ∂y                    dη       ∂z                 \n",
       "────── + ──────────────────────────── + ────────────────────────────\n",
       "                    ρ̅(η)                          ρ̅(η)            \n",
       "                                                                    "
      ]
     },
     "execution_count": 17,
     "metadata": {},
     "output_type": "execute_result"
    }
   ],
   "source": [
    "# Introducing H to simplify the expressions\n",
    "Eq30b = Eq30b.subs(sp.diff(a,eta)/a,H)\n",
    "Eq30b"
   ]
  },
  {
   "cell_type": "markdown",
   "id": "59277c99",
   "metadata": {},
   "source": [
    "Applying the Fourier transform"
   ]
  },
  {
   "cell_type": "code",
   "execution_count": 18,
   "id": "fc8e274c",
   "metadata": {},
   "outputs": [],
   "source": [
    "psik = pt.fun(r\"psi_k\",'eta')\n",
    "k = pt.con('k')"
   ]
  },
  {
   "cell_type": "code",
   "execution_count": 19,
   "id": "bfa4d1fc",
   "metadata": {},
   "outputs": [
    {
     "data": {
      "image/png": "[encoded data removed]",
      "text/latex": [
       "$\\displaystyle - \\frac{k^{2} \\delta_{P k}{\\left(\\eta \\right)}}{\\bar{\\rho}{\\left(\\eta \\right)}} - k^{2} \\psi_{k}{\\left(\\eta \\right)} w{\\left(\\eta \\right)} - k^{2} \\psi_{k}{\\left(\\eta \\right)} + 4 H{\\left(\\eta \\right)} \\theta_{k}{\\left(\\eta \\right)} w{\\left(\\eta \\right)} + 4 H{\\left(\\eta \\right)} \\theta_{k}{\\left(\\eta \\right)} + \\theta_{k}{\\left(\\eta \\right)} \\frac{d}{d \\eta} w{\\left(\\eta \\right)} + w{\\left(\\eta \\right)} \\frac{d}{d \\eta} \\theta_{k}{\\left(\\eta \\right)} + \\frac{d}{d \\eta} \\theta_{k}{\\left(\\eta \\right)} + \\frac{\\theta_{k}{\\left(\\eta \\right)} w{\\left(\\eta \\right)} \\frac{d}{d \\eta} \\bar{\\rho}{\\left(\\eta \\right)}}{\\bar{\\rho}{\\left(\\eta \\right)}} + \\frac{\\theta_{k}{\\left(\\eta \\right)} \\frac{d}{d \\eta} \\bar{\\rho}{\\left(\\eta \\right)}}{\\bar{\\rho}{\\left(\\eta \\right)}}$"
      ],
      "text/plain": [
       "                                                                              \n",
       "   2                                                                          \n",
       "  k ⋅δ_P_k(η)    2               2                                            \n",
       "- ─────────── - k ⋅ψₖ(η)⋅w(η) - k ⋅ψₖ(η) + 4⋅H(η)⋅θₖ(η)⋅w(η) + 4⋅H(η)⋅θₖ(η) + \n",
       "     ρ̅(η)                                                                    \n",
       "\n",
       "                                                         d                d   \n",
       "                                              θₖ(η)⋅w(η)⋅──(ρ̅(η))   θₖ(η)⋅──(\n",
       "      d               d           d                      dη               dη  \n",
       "θₖ(η)⋅──(w(η)) + w(η)⋅──(θₖ(η)) + ──(θₖ(η)) + ─────────────────── + ──────────\n",
       "      dη              dη          dη                 ρ̅(η)              ρ̅(η) \n",
       "\n",
       "    \n",
       "ρ̅(η))\n",
       "    \n",
       "────\n",
       "    "
      ]
     },
     "execution_count": 19,
     "metadata": {},
     "output_type": "execute_result"
    }
   ],
   "source": [
    "Eq30b = sp.expand(Eq30b.subs(sp.diff(psi,x,2),-k**2*psik - sp.diff(psi,y,2) - sp.diff(psi,z,2)))\n",
    "Eq30b = sp.expand(sp.simplify(Eq30b.subs(sp.diff(vx,x),theta - sp.diff(vy,y) - sp.diff(vz,z))))\n",
    "Eq30b = sp.expand(sp.simplify(Eq30b.subs(sp.diff(dP,x,2),-k**2*dPk - sp.diff(dP,y,2) - sp.diff(dP,z,2))))\n",
    "Eq30b = Eq30b.subs(delta,deltak)\n",
    "Eq30b = Eq30b.subs(drho,drhok)\n",
    "\n",
    "Eq30b"
   ]
  },
  {
   "cell_type": "code",
   "execution_count": null,
   "id": "5f33c843",
   "metadata": {},
   "outputs": [],
   "source": [
    "# Using the 0th order solution of the temporal component\n",
    "\n",
    "Eq30b = Eq30b.subs(sp.diff(rho_bar)/rho_bar,Eq30a_00)\n",
    "Eq30b"
   ]
  },
  {
   "cell_type": "code",
   "execution_count": null,
   "id": "781fed24",
   "metadata": {
    "scrolled": true
   },
   "outputs": [],
   "source": [
    "# Including the definition of delta = diff(rho_bar)/rho_bar\n",
    "\n",
    "Eq30b = Eq30b.subs(rho_bar,drhok/deltak)\n",
    "Eq30b"
   ]
  },
  {
   "cell_type": "markdown",
   "id": "38cf8f63",
   "metadata": {},
   "source": [
    "At this point, the same solution in Eq.(30b) is obtained. Only some extra algebra is required to rewrite this expression in the same way as in Eq.(30b)."
   ]
  },
  {
   "cell_type": "markdown",
   "id": "c1784234",
   "metadata": {},
   "source": [
    "Solving for $\\dot{\\theta}_k(\\eta)$:\n",
    "\n",
    "$$ \\dot{\\theta}_k(\\eta) = \\frac{1}{1+w(\\eta)}\\left(\\displaystyle \\frac{k^{2} \\delta_{P k}{\\left(\\eta \\right)} \\delta_{k}{\\left(\\eta \\right)}}{\\delta_{\\rho k}{\\left(\\eta \\right)}} + k^{2} \\psi_{k}{\\left(\\eta \\right)} w{\\left(\\eta \\right)} + k^{2} \\psi_{k}{\\left(\\eta \\right)} + 3 \\left(w{\\left(\\eta \\right)} + 1\\right) H{\\left(\\eta \\right)} \\theta_{k}{\\left(\\eta \\right)} w{\\left(\\eta \\right)} + 3 \\left(w{\\left(\\eta \\right)} + 1\\right) H{\\left(\\eta \\right)} \\theta_{k}{\\left(\\eta \\right)} - 4 H{\\left(\\eta \\right)} \\theta_{k}{\\left(\\eta \\right)} w{\\left(\\eta \\right)} - 4 H{\\left(\\eta \\right)} \\theta_{k}{\\left(\\eta \\right)} - \\theta_{k}{\\left(\\eta \\right)} \\frac{d}{d \\eta} w{\\left(\\eta \\right)} \\right)$$\n",
    "\n",
    "Combining common terms:\n",
    "\n",
    "$$ \\dot{\\theta}_k(\\eta) = \\frac{1}{w(\\eta)+1}\\left(\\displaystyle \\frac{k^{2} \\delta_{P k}{\\left(\\eta \\right)} \\delta_{k}{\\left(\\eta \\right)}}{\\delta_{\\rho k}{\\left(\\eta \\right)}} + k^{2} (w(\\eta)+1)\\psi_{k}{\\left(\\eta \\right)} + 3 \\left(w{\\left(\\eta \\right)} + 1\\right) H{\\left(\\eta \\right)} \\theta_{k}{\\left(\\eta \\right)} w{\\left(\\eta \\right)} + 3 \\left(w{\\left(\\eta \\right)} + 1\\right) H{\\left(\\eta \\right)} \\theta_{k}{\\left(\\eta \\right)} - 4 H{\\left(\\eta \\right)} \\theta_{k}{\\left(\\eta \\right)} ( w{\\left(\\eta \\right)}+1 ) - \\theta_{k}{\\left(\\eta \\right)} \\dot{w}{\\left(\\eta \\right)} \\right)$$\n",
    "\n",
    "$$ \\dot{\\theta}_k(\\eta) = \\displaystyle \\frac{ \\frac{\\delta_{P k}{\\left(\\eta \\right)}}{\\delta_{\\rho k}{\\left(\\eta \\right)}}}{(w(\\eta)+1)} k^{2}\\delta_{k}{\\left(\\eta \\right)} + k^{2} \\psi_{k}{\\left(\\eta \\right)} + 3 H{\\left(\\eta \\right)} \\theta_{k}{\\left(\\eta \\right)} w{\\left(\\eta \\right)} + 3 H{\\left(\\eta \\right)} \\theta_{k}{\\left(\\eta \\right)} - 4 H{\\left(\\eta \\right)} \\theta_{k}{\\left(\\eta \\right)} -  \\frac{\\dot{w}{\\left(\\eta \\right)}}{(w(\\eta)+1)}\\theta_{k}{\\left(\\eta \\right)}$$\n",
    "\n",
    "$$ \\dot{\\theta}_k(\\eta) = \\displaystyle \\frac{ \\frac{\\delta_{P k}{\\left(\\eta \\right)}}{\\delta_{\\rho k}{\\left(\\eta \\right)}}}{(w(\\eta)+1)} k^{2}\\delta_{k}{\\left(\\eta \\right)} + k^{2} \\psi_{k}{\\left(\\eta \\right)} + 3 H{\\left(\\eta \\right)} \\theta_{k}{\\left(\\eta \\right)} w{\\left(\\eta \\right)} - H{\\left(\\eta \\right)} \\theta_{k}{\\left(\\eta \\right)}  -  \\frac{\\dot{w}{\\left(\\eta \\right)}}{(w(\\eta)+1)}\\theta_{k}{\\left(\\eta \\right)}$$\n",
    "\n",
    "$$ \\dot{\\theta}_k(\\eta) = \\displaystyle \\frac{ \\frac{\\delta_{P k}{\\left(\\eta \\right)}}{\\delta_{\\rho k}{\\left(\\eta \\right)}}}{(w(\\eta)+1)} k^{2}\\delta_{k}{\\left(\\eta \\right)} + k^{2} \\psi_{k}{\\left(\\eta \\right)} - H{\\left(\\eta \\right)}(1-3w{\\left(\\eta \\right)}) \\theta_{k}{\\left(\\eta \\right)}   -  \\frac{\\dot{w}{\\left(\\eta \\right)}}{(w(\\eta)+1)}\\theta_{k}{\\left(\\eta \\right)}$$\n",
    "\n",
    "$$ \\boxed{\n",
    "\\dot{\\theta}_k(\\eta) = - H{\\left(\\eta \\right)}(1-3w{\\left(\\eta \\right)}) \\theta_{k}{\\left(\\eta \\right)}  -  \\frac{\\dot{w}{\\left(\\eta \\right)}}{(w(\\eta)+1)}\\theta_{k}{\\left(\\eta \\right)} + \\displaystyle \\frac{ \\delta_{P k}\\left(\\eta \\right)/\\delta_{\\rho k}\\left(\\eta \\right)}{(w(\\eta)+1)} k^{2}\\delta_{k}{\\left(\\eta \\right)} + k^{2} \\psi_{k}{\\left(\\eta \\right)}.   \n",
    "} $$"
   ]
  },
  {
   "cell_type": "markdown",
   "id": "ed536894",
   "metadata": {},
   "source": [
    "This equation corresponds to Eq.(30b) considering $\\sigma = 0$ since we have not included any anisotropy in the Energy-Momentum tensor."
   ]
  }
 ],
 "metadata": {
  "kernelspec": {
   "display_name": "Python 3 (ipykernel)",
   "language": "python",
   "name": "python3"
  },
  "language_info": {
   "codemirror_mode": {
    "name": "ipython",
    "version": 3
   },
   "file_extension": ".py",
   "mimetype": "text/x-python",
   "name": "python",
   "nbconvert_exporter": "python",
   "pygments_lexer": "ipython3",
   "version": "3.10.7"
  }
 },
 "nbformat": 4,
 "nbformat_minor": 5
}
