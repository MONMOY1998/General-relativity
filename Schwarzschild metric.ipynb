{
 "cells": [
  {
   "cell_type": "code",
   "execution_count": 1,
   "id": "b354e090",
   "metadata": {},
   "outputs": [
    {
     "name": "stdout",
     "output_type": "stream",
     "text": [
      "['AlcubierreWarp', 'AntiDeSitter', 'AntiDeSitterStatic', 'BarriolaVilekin', 'BaseRelativityTensor', 'BertottiKasner', 'BesselGravitationalWave', 'CMetric', 'ChristoffelSymbols', 'Davidson', 'DeSitter', 'EinsteinTensor', 'Ernst', 'GenericVector', 'Godel', 'JanisNewmanWinicour', 'Kerr', 'KerrNewman', 'MetricTensor', 'Minkowski', 'MinkowskiCartesian', 'MinkowskiPolar', 'ReissnerNordstorm', 'RicciScalar', 'RicciTensor', 'RiemannCurvatureTensor', 'SchoutenTensor', 'Schwarzschild', 'StressEnergyMomentumTensor', 'SymbolicConstant', 'Tensor', 'TransformationMatrix', 'WeylTensor', '__all__', '__builtins__', '__cached__', '__doc__', '__file__', '__loader__', '__name__', '__package__', '__path__', '__spec__', 'christoffel', 'constants', 'einstein', 'find', 'get_constant', 'helpers', 'metric', 'predefined', 'ricci', 'riemann', 'schouten', 'simplify_sympy_array', 'stress_energy_momentum', 'tensor', 'vector', 'weyl']\n"
     ]
    }
   ],
   "source": [
    "import einsteinpy.symbolic as esp\n",
    "\n",
    "print(dir(esp))\n"
   ]
  },
  {
   "cell_type": "markdown",
   "id": "ef0170e6",
   "metadata": {},
   "source": [
    "* `sympy`: **A Python library for symbolic mathematics.** <br><br> \n",
    "\n",
    "* `einsteinpy.symbolic`: **A module in the einsteinpy library for symbolic calculations in general relativity.**<br><br> \n",
    "\n",
    "* `MetricTensor`: **Class for creating metric tensors.**<br><br> \n",
    "\n",
    "* `ChristoffelSymbols`: **Class for calculating Christoffel symbols from a metric tensor.**<br><br> \n",
    "\n",
    "* `RicciTensor`: **Class for computing the Ricci tensor.**<br><br> \n",
    "\n",
    "* `RicciScalar`: **Class for computing the Ricci scalar.**<br><br> \n",
    " \n",
    "* `EinsteinTensor`: **Class for computing the Einstein tensor.**<br><br> "
   ]
  },
  {
   "cell_type": "code",
   "execution_count": 2,
   "id": "bd6dc3d3",
   "metadata": {},
   "outputs": [],
   "source": [
    "import sympy as sp\n",
    "from einsteinpy.symbolic import MetricTensor, ChristoffelSymbols, RicciTensor, RicciScalar, EinsteinTensor,StressEnergyMomentumTensor"
   ]
  },
  {
   "cell_type": "code",
   "execution_count": 3,
   "id": "45ba5990",
   "metadata": {},
   "outputs": [
    {
     "name": "stdout",
     "output_type": "stream",
     "text": [
      "['Abs', 'AccumBounds', 'Add', 'Adjoint', 'AlgebraicField', 'AlgebraicNumber', 'And', 'AppliedPredicate', 'Array', 'AssumptionsContext', 'Atom', 'AtomicExpr', 'BasePolynomialError', 'Basic', 'BlockDiagMatrix', 'BlockMatrix', 'CC', 'CRootOf', 'Catalan', 'Chi', 'Ci', 'Circle', 'CoercionFailed', 'Complement', 'ComplexField', 'ComplexRegion', 'ComplexRootOf', 'Complexes', 'ComputationFailed', 'ConditionSet', 'Contains', 'CosineTransform', 'Curve', 'DeferredVector', 'DenseNDimArray', 'Derivative', 'Determinant', 'DiagMatrix', 'DiagonalMatrix', 'DiagonalOf', 'Dict', 'DiracDelta', 'DisjointUnion', 'Domain', 'DomainError', 'DotProduct', 'Dummy', 'E', 'E1', 'EPath', 'EX', 'EXRAW', 'Ei', 'Eijk', 'Ellipse', 'EmptySequence', 'EmptySet', 'Eq', 'Equality', 'Equivalent', 'EulerGamma', 'EvaluationFailed', 'ExactQuotientFailed', 'Expr', 'ExpressionDomain', 'ExtraneousFactors', 'FF', 'FF_gmpy', 'FF_python', 'FU', 'FallingFactorial', 'FiniteField', 'FiniteSet', 'FlagError', 'Float', 'FourierTransform', 'FractionField', 'Function', 'FunctionClass', 'FunctionMatrix', 'GF', 'GMPYFiniteField', 'GMPYIntegerRing', 'GMPYRationalField', 'Ge', 'GeneratorsError', 'GeneratorsNeeded', 'GeometryError', 'GoldenRatio', 'GramSchmidt', 'GreaterThan', 'GroebnerBasis', 'Gt', 'HadamardPower', 'HadamardProduct', 'HankelTransform', 'Heaviside', 'HeuristicGCDFailed', 'HomomorphismFailed', 'I', 'ITE', 'Id', 'Identity', 'Idx', 'ImageSet', 'ImmutableDenseMatrix', 'ImmutableDenseNDimArray', 'ImmutableMatrix', 'ImmutableSparseMatrix', 'ImmutableSparseNDimArray', 'Implies', 'Indexed', 'IndexedBase', 'Integer', 'IntegerRing', 'Integers', 'Integral', 'Intersection', 'Interval', 'Inverse', 'InverseCosineTransform', 'InverseFourierTransform', 'InverseHankelTransform', 'InverseLaplaceTransform', 'InverseMellinTransform', 'InverseSineTransform', 'IsomorphismFailed', 'KroneckerDelta', 'KroneckerProduct', 'LC', 'LM', 'LT', 'Lambda', 'LambertW', 'LaplaceTransform', 'Le', 'LessThan', 'LeviCivita', 'Li', 'Limit', 'Line', 'Line2D', 'Line3D', 'Lt', 'MatAdd', 'MatMul', 'MatPow', 'Matrix', 'MatrixBase', 'MatrixExpr', 'MatrixPermute', 'MatrixSlice', 'MatrixSymbol', 'Max', 'MellinTransform', 'Min', 'Mod', 'Monomial', 'Mul', 'MultivariatePolynomialError', 'MutableDenseMatrix', 'MutableDenseNDimArray', 'MutableMatrix', 'MutableSparseMatrix', 'MutableSparseNDimArray', 'N', 'NDimArray', 'Nand', 'Naturals', 'Naturals0', 'Ne', 'NonSquareMatrixError', 'Nor', 'Not', 'NotAlgebraic', 'NotInvertible', 'NotReversible', 'Number', 'NumberSymbol', 'O', 'OmegaPower', 'OneMatrix', 'OperationNotSupported', 'OptionError', 'Options', 'Or', 'Order', 'Ordinal', 'POSform', 'Parabola', 'Permanent', 'PermutationMatrix', 'Piecewise', 'Plane', 'Point', 'Point2D', 'Point3D', 'PoleError', 'PolificationFailed', 'Poly', 'Polygon', 'PolynomialDivisionFailed', 'PolynomialError', 'PolynomialRing', 'Pow', 'PowerSet', 'PrecisionExhausted', 'Predicate', 'Product', 'ProductSet', 'PurePoly', 'PythonFiniteField', 'PythonIntegerRing', 'PythonRational', 'Q', 'QQ', 'QQ_I', 'QQ_gmpy', 'QQ_python', 'Quaternion', 'RR', 'Range', 'Rational', 'RationalField', 'Rationals', 'Ray', 'Ray2D', 'Ray3D', 'RealField', 'RealNumber', 'Reals', 'RefinementFailed', 'RegularPolygon', 'Rel', 'Rem', 'RisingFactorial', 'RootOf', 'RootSum', 'S', 'SOPform', 'SYMPY_DEBUG', 'Segment', 'Segment2D', 'Segment3D', 'SeqAdd', 'SeqFormula', 'SeqMul', 'SeqPer', 'Set', 'ShapeError', 'Shi', 'Si', 'Sieve', 'SineTransform', 'SingularityFunction', 'SparseMatrix', 'SparseNDimArray', 'StrPrinter', 'StrictGreaterThan', 'StrictLessThan', 'Subs', 'Sum', 'Symbol', 'SymmetricDifference', 'SympifyError', 'TableForm', 'Trace', 'Transpose', 'Triangle', 'TribonacciConstant', 'Tuple', 'Unequality', 'UnevaluatedExpr', 'UnificationFailed', 'Union', 'UnivariatePolynomialError', 'UniversalSet', 'Wild', 'WildFunction', 'Xor', 'Ynm', 'Ynm_c', 'ZZ', 'ZZ_I', 'ZZ_gmpy', 'ZZ_python', 'ZeroMatrix', 'Znm', '__all__', '__builtins__', '__cached__', '__doc__', '__file__', '__loader__', '__name__', '__package__', '__path__', '__spec__', '__sympy_debug', '__version__', 'abundance', 'acos', 'acosh', 'acot', 'acoth', 'acsc', 'acsch', 'adjoint', 'airyai', 'airyaiprime', 'airybi', 'airybiprime', 'algebras', 'andre', 'apart', 'apart_list', 'appellf1', 'apply_finite_diff', 'approximants', 'are_similar', 'arg', 'arity', 'asec', 'asech', 'asin', 'asinh', 'ask', 'assemble_partfrac_list', 'assoc_laguerre', 'assoc_legendre', 'assuming', 'assumptions', 'atan', 'atan2', 'atanh', 'banded', 'bell', 'bernoulli', 'besseli', 'besselj', 'besselk', 'besselsimp', 'bessely', 'beta', 'betainc', 'betainc_regularized', 'binomial', 'binomial_coefficients', 'binomial_coefficients_list', 'block_collapse', 'blockcut', 'bool_map', 'bottom_up', 'bspline_basis', 'bspline_basis_set', 'cacheit', 'calculus', 'cancel', 'capture', 'carmichael', 'cartes', 'casoratian', 'catalan', 'cbrt', 'ccode', 'ceiling', 'centroid', 'chebyshevt', 'chebyshevt_poly', 'chebyshevt_root', 'chebyshevu', 'chebyshevu_poly', 'chebyshevu_root', 'check_assumptions', 'checkodesol', 'checkpdesol', 'checksol', 'classify_ode', 'classify_pde', 'closest_points', 'cofactors', 'collect', 'collect_const', 'combsimp', 'comp', 'compose', 'composite', 'compositepi', 'concrete', 'conjugate', 'construct_domain', 'content', 'continued_fraction', 'continued_fraction_convergents', 'continued_fraction_iterator', 'continued_fraction_periodic', 'continued_fraction_reduce', 'convex_hull', 'convolution', 'core', 'cos', 'cosh', 'cosine_transform', 'cot', 'coth', 'count_ops', 'count_roots', 'covering_product', 'csc', 'csch', 'cse', 'cxxcode', 'cycle_length', 'cyclotomic_poly', 'decompogen', 'decompose', 'default_sort_key', 'deg', 'degree', 'degree_list', 'denom', 'derive_by_array', 'det', 'det_quick', 'diag', 'diagonalize_vector', 'dict_merge', 'diff', 'difference_delta', 'differentiate_finite', 'digamma', 'diophantine', 'dirichlet_eta', 'discrete', 'discrete_log', 'discriminant', 'div', 'divisor_count', 'divisor_sigma', 'divisors', 'doctest', 'dotprint', 'dsolve', 'egyptian_fraction', 'elliptic_e', 'elliptic_f', 'elliptic_k', 'elliptic_pi', 'epath', 'erf', 'erf2', 'erf2inv', 'erfc', 'erfcinv', 'erfi', 'erfinv', 'euler', 'euler_equations', 'evalf', 'evaluate', 'exp', 'exp_polar', 'expand', 'expand_complex', 'expand_func', 'expand_log', 'expand_mul', 'expand_multinomial', 'expand_power_base', 'expand_power_exp', 'expand_trig', 'expint', 'exptrigsimp', 'exquo', 'external', 'eye', 'factor', 'factor_list', 'factor_nc', 'factor_terms', 'factorial', 'factorial2', 'factorint', 'factorrat', 'failing_assumptions', 'false', 'farthest_points', 'fcode', 'ff', 'fft', 'fibonacci', 'field', 'field_isomorphism', 'filldedent', 'finite_diff_weights', 'flatten', 'floor', 'fourier_series', 'fourier_transform', 'fps', 'frac', 'fraction', 'fresnelc', 'fresnels', 'fu', 'functions', 'fwht', 'galois_group', 'gamma', 'gammasimp', 'gcd', 'gcd_list', 'gcd_terms', 'gcdex', 'gegenbauer', 'genocchi', 'geometry', 'get_contraction_structure', 'get_indices', 'gff', 'gff_list', 'glsl_code', 'grevlex', 'grlex', 'groebner', 'ground_roots', 'group', 'gruntz', 'hadamard_product', 'half_gcdex', 'hankel1', 'hankel2', 'hankel_transform', 'harmonic', 'has_dups', 'has_variety', 'hermite', 'hermite_poly', 'hermite_prob', 'hermite_prob_poly', 'hessian', 'hn1', 'hn2', 'homogeneous_order', 'horner', 'hyper', 'hyperexpand', 'hypersimilar', 'hypersimp', 'idiff', 'ifft', 'ifwht', 'igcd', 'igrevlex', 'igrlex', 'ilcm', 'ilex', 'im', 'imageset', 'init_printing', 'init_session', 'integer_log', 'integer_nthroot', 'integrals', 'integrate', 'interactive', 'interactive_traversal', 'interpolate', 'interpolating_poly', 'interpolating_spline', 'intersecting_product', 'intersection', 'intervals', 'intt', 'inv_quick', 'inverse_cosine_transform', 'inverse_fourier_transform', 'inverse_hankel_transform', 'inverse_laplace_transform', 'inverse_mellin_transform', 'inverse_mobius_transform', 'inverse_sine_transform', 'invert', 'is_abundant', 'is_amicable', 'is_convex', 'is_decreasing', 'is_deficient', 'is_increasing', 'is_mersenne_prime', 'is_monotonic', 'is_nthpow_residue', 'is_perfect', 'is_primitive_root', 'is_quad_residue', 'is_strictly_decreasing', 'is_strictly_increasing', 'is_zero_dimensional', 'isolate', 'isprime', 'itermonomials', 'jacobi', 'jacobi_normalized', 'jacobi_poly', 'jacobi_symbol', 'jn', 'jn_zeros', 'jordan_cell', 'jscode', 'julia_code', 'kronecker_product', 'kroneckersimp', 'laguerre', 'laguerre_poly', 'lambdify', 'laplace_transform', 'latex', 'lazy_function', 'lcm', 'lcm_list', 'legendre', 'legendre_poly', 'legendre_symbol', 'lerchphi', 'lex', 'li', 'limit', 'limit_seq', 'line_integrate', 'linear_eq_to_matrix', 'linsolve', 'list2numpy', 'ln', 'log', 'logcombine', 'loggamma', 'logic', 'lowergamma', 'lucas', 'maple_code', 'marcumq', 'mathematica_code', 'mathieuc', 'mathieucprime', 'mathieus', 'mathieusprime', 'mathml', 'matrices', 'matrix2numpy', 'matrix_multiply_elementwise', 'matrix_symbols', 'maximum', 'meijerg', 'mellin_transform', 'memoize_property', 'mersenne_prime_exponent', 'minimal_polynomial', 'minimum', 'minpoly', 'mobius', 'mobius_transform', 'mod_inverse', 'monic', 'motzkin', 'multigamma', 'multiline_latex', 'multinomial_coefficients', 'multipledispatch', 'multiplicity', 'n_order', 'nan', 'nextprime', 'nfloat', 'nonlinsolve', 'not_empty_in', 'npartitions', 'nroots', 'nsimplify', 'nsolve', 'nth_power_roots_poly', 'ntheory', 'nthroot_mod', 'ntt', 'numbered_symbols', 'numer', 'octave_code', 'ode_order', 'ones', 'oo', 'ord0', 'ordered', 'pager_print', 'parallel_poly_from_expr', 'parse_expr', 'parsing', 'partition', 'pde_separate', 'pde_separate_add', 'pde_separate_mul', 'pdiv', 'pdsolve', 'per', 'perfect_power', 'periodic_argument', 'periodicity', 'permutedims', 'pexquo', 'pi', 'piecewise_exclusive', 'piecewise_fold', 'plot', 'plot_backends', 'plot_implicit', 'plot_parametric', 'plotting', 'polar_lift', 'polarify', 'pollard_pm1', 'pollard_rho', 'poly', 'poly_from_expr', 'polygamma', 'polylog', 'polys', 'posify', 'postfixes', 'postorder_traversal', 'powdenest', 'powsimp', 'pprint', 'pprint_try_use_unicode', 'pprint_use_unicode', 'pquo', 'prefixes', 'prem', 'preorder_traversal', 'pretty', 'pretty_print', 'preview', 'prevprime', 'prime', 'prime_decomp', 'prime_valuation', 'primefactors', 'primenu', 'primeomega', 'primepi', 'primerange', 'primitive', 'primitive_element', 'primitive_root', 'primorial', 'principal_branch', 'print_ccode', 'print_fcode', 'print_glsl', 'print_gtk', 'print_jscode', 'print_latex', 'print_maple_code', 'print_mathml', 'print_python', 'print_rcode', 'print_tree', 'printing', 'prod', 'product', 'proper_divisor_count', 'proper_divisors', 'public', 'pycode', 'python', 'quadratic_congruence', 'quadratic_residues', 'quo', 'rad', 'radsimp', 'randMatrix', 'random_poly', 'randprime', 'rational_interpolate', 'ratsimp', 'ratsimpmodprime', 'rcode', 'rcollect', 're', 'real_root', 'real_roots', 'reduce_abs_inequalities', 'reduce_abs_inequality', 'reduce_inequalities', 'reduced', 'reduced_totient', 'refine', 'refine_root', 'register_handler', 'release', 'rem', 'remove_handler', 'reshape', 'residue', 'resultant', 'rf', 'riemann_xi', 'ring', 'root', 'rootof', 'roots', 'rot_axis1', 'rot_axis2', 'rot_axis3', 'rot_ccw_axis1', 'rot_ccw_axis2', 'rot_ccw_axis3', 'rot_givens', 'rotations', 'round_two', 'rsolve', 'rsolve_hyper', 'rsolve_poly', 'rsolve_ratio', 'rust_code', 'satisfiable', 'sec', 'sech', 'separatevars', 'sequence', 'series', 'seterr', 'sets', 'sfield', 'shape', 'sieve', 'sift', 'sign', 'signsimp', 'simplify', 'simplify_logic', 'sin', 'sinc', 'sine_transform', 'singularities', 'singularityintegrate', 'sinh', 'smtlib_code', 'solve', 'solve_linear', 'solve_linear_system', 'solve_linear_system_LU', 'solve_poly_inequality', 'solve_poly_system', 'solve_rational_inequalities', 'solve_triangulated', 'solve_undetermined_coeffs', 'solve_univariate_inequality', 'solvers', 'solveset', 'sqf', 'sqf_list', 'sqf_norm', 'sqf_part', 'sqrt', 'sqrt_mod', 'sqrt_mod_iter', 'sqrtdenest', 'srepr', 'sring', 'sstr', 'sstrrepr', 'stationary_points', 'stieltjes', 'strategies', 'sturm', 'subfactorial', 'subresultants', 'subsets', 'substitution', 'summation', 'swinnerton_dyer_poly', 'symarray', 'symbols', 'symmetric_poly', 'symmetrize', 'sympify', 'take', 'tan', 'tanh', 'tensor', 'tensorcontraction', 'tensordiagonal', 'tensorproduct', 'terms_gcd', 'test', 'textplot', 'threaded', 'timed', 'to_cnf', 'to_dnf', 'to_nnf', 'to_number_field', 'together', 'topological_sort', 'total_degree', 'totient', 'trace', 'trailing', 'transpose', 'tribonacci', 'trigamma', 'trigsimp', 'true', 'trunc', 'unbranched_argument', 'unflatten', 'unpolarify', 'uppergamma', 'use', 'utilities', 'var', 'variations', 'vectorize', 'vfield', 'viete', 'vring', 'wronskian', 'xfield', 'xring', 'xthreaded', 'yn', 'zeros', 'zeta', 'zoo']\n"
     ]
    }
   ],
   "source": [
    "print(dir(sp))"
   ]
  },
  {
   "cell_type": "markdown",
   "id": "0e73415a",
   "metadata": {},
   "source": [
    "# # Defining the symbols for the coordinates"
   ]
  },
  {
   "cell_type": "code",
   "execution_count": 4,
   "id": "263f1ae0",
   "metadata": {},
   "outputs": [],
   "source": [
    "syms = sp.symbols(\"t r theta phi\")\n",
    "t, r, theta, phi = syms\n",
    "φ=sp.symbols(\"φ\")\n",
    "θ=sp.symbols(\"θ\")"
   ]
  },
  {
   "cell_type": "markdown",
   "id": "549e069d",
   "metadata": {},
   "source": [
    "\n",
    "\n",
    "* `sp.symbols(\"t r theta phi\")`: **Defines the symbols t, r, θ, and ϕ as variables for the Schwarzschild metric's coordinates.This is a function from the `sympy` library that creates multiple symbolic variables at once**<br><br>\n",
    "* `\"t r theta phi\"`: **This is a string of variable names separated by spaces. SymPy will create a symbol for each of these names.**<br><br>\n",
    "* ` syms`: **This variable holds the tuple of symbols `(t, r, theta, phi)`.**<br><br>\n",
    "*  **After this line, syms will be a tuple containing the four symbols: `t, r, theta, and phi`**<br><br>\n",
    "* `t, r, theta, phi = syms`:**This line unpacks the tuple `syms` into four individual variables.**<br><br>\n",
    "\n",
    "## Summary\n",
    "\n",
    "* `First Line`: **Creates four symbolic variables `t, r, theta, and phi` and stores them in a tuple called `syms`**.<br><br>\n",
    "\n",
    "* `Second Line`: **Unpacks this tuple into individual variables, so you can work with `t, r, theta, and phi` as separate symbolic variables.**"
   ]
  },
  {
   "cell_type": "markdown",
   "id": "9cdb0edc",
   "metadata": {},
   "source": [
    "# Defining functions for metric components"
   ]
  },
  {
   "cell_type": "code",
   "execution_count": 5,
   "id": "9e695d10",
   "metadata": {},
   "outputs": [],
   "source": [
    "A = sp.Function(\"A\")\n",
    "B=sp.Function(\"B\")\n",
    "rho=sp.Function(\"rho\")\n",
    "p=sp.Function(\"p\")"
   ]
  },
  {
   "cell_type": "markdown",
   "id": "fea13e94",
   "metadata": {},
   "source": [
    "**`sp.Function` is a class in SymPy used to define a symbolic function.**<br><br>\n",
    "\n",
    "When you write `A = sp.Function(\"A\")`, you are telling `SymPy` to create a symbolic function called `A`. This function can later be used to represent expressions like `A(x)`, `A(y, z)`, etc., where `x`, `y`, `z` are variables.\n",
    "\n",
    "* `A = sp.Function(\"A\")`: **Defines A(r) as a general function of r.**<br><br> \n",
    "\n",
    "\n",
    "* `B = sp.Function(\"B\")`: **Defines B(r) as another general function of r.**<br><br> "
   ]
  },
  {
   "cell_type": "markdown",
   "id": "a7c4597a",
   "metadata": {},
   "source": [
    "# Creating the metric tensor"
   ]
  },
  {
   "cell_type": "code",
   "execution_count": 6,
   "id": "96c03b44",
   "metadata": {},
   "outputs": [],
   "source": [
    "m = sp.diag(-A(r), B(r), r**2, r**2 *sp.sin(theta)**2).tolist()"
   ]
  },
  {
   "cell_type": "markdown",
   "id": "dcaa6f2a",
   "metadata": {},
   "source": [
    "- `sp.diag(-A(r), B(r), r**2, r**2 * sp.sin(theta)**2)`: **Creates a diagonal metric tensor with the given components.**<br><br>\n",
    "\n",
    "* `sp.diag(...)`:**This function from `SymPy` creates a diagonal matrix (tensor) with the elements provided as arguments**.\n",
    "\n",
    "- `-A(r)`: **Corresponds to the `$g_{tt}$` component.**<br><br> \n",
    "\n",
    "- B(r): **Corresponds to the `$g_{rr}$` component.**<br><br> \n",
    "\n",
    "- $r^2$: **Corresponds to the \\(g_{\\theta\\theta}\\) component.**<br><br> \n",
    "\n",
    "- $r^2. \\sin{\\theta}^2$: **Corresponds to the \\(g_{\\phi\\phi}\\) component.**<br><br> \n",
    "\n",
    "- `m.tolist()`: **Converts the metric tensor to a list format.**<br><br> \n",
    "\n",
    "- `MetricTensor(m, syms)`: **Initializes the `MetricTensor` object with the metric tensor \\(m\\) and the coordinate symbols `syms`.**<br><br> \n"
   ]
  },
  {
   "cell_type": "code",
   "execution_count": 7,
   "id": "e81e3185",
   "metadata": {},
   "outputs": [],
   "source": [
    "metric = MetricTensor(m, syms)"
   ]
  },
  {
   "cell_type": "markdown",
   "id": "e52a9d84",
   "metadata": {},
   "source": [
    "## Initialization of Metric Tensor:\n",
    "\n",
    "* **The line `metric = MetricTensor(m, syms)` initializes a `MetricTensor` object, where**:<br><br>\n",
    "\n",
    "    * **`m` provides the components of the metric tensor**.<br><br>\n",
    "    * **`syms` defines the coordinates over which the tensor is defined**.<br><br>\n",
    "           \n",
    "## Internal representation:\n",
    "\n",
    "* **Internally, `MetricTensor` stores the metric tensor in a symbolic form, allowing for various tensor operations such as computing Christoffel symbols, Riemann tensors, Ricci tensors, etc.**<br><br>\n",
    "\n",
    "* **It links the metric components to the corresponding coordinates, enabling calculations like covariant derivatives or raising and lowering indices.**<br><br>\n",
    "\n",
    "### Symbolic calculations:\n",
    "\n",
    "* **Once the` MetricTensor` is defined, you can use it to perform symbolic calculations related to general relativity. This includes deriving the Einstein tensor, computing curvature tensors, and solving Einstein’s field equations.**\n",
    "\n"
   ]
  },
  {
   "cell_type": "markdown",
   "id": "fc406534",
   "metadata": {},
   "source": [
    "# Displaying the metric tensor"
   ]
  },
  {
   "cell_type": "code",
   "execution_count": 8,
   "id": "d4acac1a",
   "metadata": {},
   "outputs": [
    {
     "data": {
      "text/latex": [
       "$\\displaystyle \\left[\\begin{matrix}- A{\\left(r \\right)} & 0 & 0 & 0\\\\0 & B{\\left(r \\right)} & 0 & 0\\\\0 & 0 & r^{2} & 0\\\\0 & 0 & 0 & r^{2} \\sin^{2}{\\left(\\theta \\right)}\\end{matrix}\\right]$"
      ],
      "text/plain": [
       "[[-A(r), 0, 0, 0], [0, B(r), 0, 0], [0, 0, r**2, 0], [0, 0, 0, r**2*sin(theta)**2]]"
      ]
     },
     "execution_count": 8,
     "metadata": {},
     "output_type": "execute_result"
    }
   ],
   "source": [
    "metric.tensor() #  A method to access and display the metric tensor in matrix form."
   ]
  },
  {
   "cell_type": "markdown",
   "id": "84cfa51a",
   "metadata": {},
   "source": [
    "# Calculating the Christoffel symbols"
   ]
  },
  {
   "cell_type": "code",
   "execution_count": 9,
   "id": "87a50586",
   "metadata": {},
   "outputs": [
    {
     "data": {
      "text/latex": [
       "$\\displaystyle \\left[\\begin{matrix}\\left[\\begin{matrix}0 & \\frac{\\frac{d}{d r} A{\\left(r \\right)}}{2 A{\\left(r \\right)}} & 0 & 0\\\\\\frac{\\frac{d}{d r} A{\\left(r \\right)}}{2 A{\\left(r \\right)}} & 0 & 0 & 0\\\\0 & 0 & 0 & 0\\\\0 & 0 & 0 & 0\\end{matrix}\\right] & \\left[\\begin{matrix}\\frac{\\frac{d}{d r} A{\\left(r \\right)}}{2 B{\\left(r \\right)}} & 0 & 0 & 0\\\\0 & \\frac{\\frac{d}{d r} B{\\left(r \\right)}}{2 B{\\left(r \\right)}} & 0 & 0\\\\0 & 0 & - \\frac{r}{B{\\left(r \\right)}} & 0\\\\0 & 0 & 0 & - \\frac{r \\sin^{2}{\\left(\\theta \\right)}}{B{\\left(r \\right)}}\\end{matrix}\\right] & \\left[\\begin{matrix}0 & 0 & 0 & 0\\\\0 & 0 & \\frac{1}{r} & 0\\\\0 & \\frac{1}{r} & 0 & 0\\\\0 & 0 & 0 & - \\frac{\\sin{\\left(2 \\theta \\right)}}{2}\\end{matrix}\\right] & \\left[\\begin{matrix}0 & 0 & 0 & 0\\\\0 & 0 & 0 & \\frac{1}{r}\\\\0 & 0 & 0 & \\frac{1}{\\tan{\\left(\\theta \\right)}}\\\\0 & \\frac{1}{r} & \\frac{1}{\\tan{\\left(\\theta \\right)}} & 0\\end{matrix}\\right]\\end{matrix}\\right]$"
      ],
      "text/plain": [
       "[[[0, Derivative(A(r), r)/(2*A(r)), 0, 0], [Derivative(A(r), r)/(2*A(r)), 0, 0, 0], [0, 0, 0, 0], [0, 0, 0, 0]], [[Derivative(A(r), r)/(2*B(r)), 0, 0, 0], [0, Derivative(B(r), r)/(2*B(r)), 0, 0], [0, 0, -r/B(r), 0], [0, 0, 0, -r*sin(theta)**2/B(r)]], [[0, 0, 0, 0], [0, 0, 1/r, 0], [0, 1/r, 0, 0], [0, 0, 0, -sin(2*theta)/2]], [[0, 0, 0, 0], [0, 0, 0, 1/r], [0, 0, 0, 1/tan(theta)], [0, 1/r, 1/tan(theta), 0]]]"
      ]
     },
     "execution_count": 9,
     "metadata": {},
     "output_type": "execute_result"
    }
   ],
   "source": [
    "ch=ChristoffelSymbols.from_metric(metric)\n",
    "ch.simplify()"
   ]
  },
  {
   "cell_type": "markdown",
   "id": "d37c4d97",
   "metadata": {},
   "source": [
    "* `ChristoffelSymbols.from_metric(metric)`: **Calculates the Christoffel symbols from the given metric tensor.**<br><br> \n",
    "\n",
    "* `ch.simplify()`: **Simplifies the Christoffel symbols for easier interpretation.**<br><br> "
   ]
  },
  {
   "cell_type": "code",
   "execution_count": 10,
   "id": "6e0eea99",
   "metadata": {},
   "outputs": [
    {
     "data": {
      "text/latex": [
       "$\\displaystyle \\Gamma^{t}_{tr} = \\frac{\\frac{d}{d r} A{\\left(r \\right)}}{2 A{\\left(r \\right)}}$"
      ],
      "text/plain": [
       "Eq(Gamma^t_tr, Derivative(A(r), r)/(2*A(r)))"
      ]
     },
     "metadata": {},
     "output_type": "display_data"
    },
    {
     "data": {
      "text/latex": [
       "$\\displaystyle \\Gamma^{t}_{rt} = \\frac{\\frac{d}{d r} A{\\left(r \\right)}}{2 A{\\left(r \\right)}}$"
      ],
      "text/plain": [
       "Eq(Gamma^t_rt, Derivative(A(r), r)/(2*A(r)))"
      ]
     },
     "metadata": {},
     "output_type": "display_data"
    },
    {
     "data": {
      "text/latex": [
       "$\\displaystyle \\Gamma^{r}_{tt} = \\frac{\\frac{d}{d r} A{\\left(r \\right)}}{2 B{\\left(r \\right)}}$"
      ],
      "text/plain": [
       "Eq(Gamma^r_tt, Derivative(A(r), r)/(2*B(r)))"
      ]
     },
     "metadata": {},
     "output_type": "display_data"
    },
    {
     "data": {
      "text/latex": [
       "$\\displaystyle \\Gamma^{r}_{rr} = \\frac{\\frac{d}{d r} B{\\left(r \\right)}}{2 B{\\left(r \\right)}}$"
      ],
      "text/plain": [
       "Eq(Gamma^r_rr, Derivative(B(r), r)/(2*B(r)))"
      ]
     },
     "metadata": {},
     "output_type": "display_data"
    },
    {
     "data": {
      "text/latex": [
       "$\\displaystyle \\Gamma^{r}_{θθ} = - \\frac{r}{B{\\left(r \\right)}}$"
      ],
      "text/plain": [
       "Eq(Gamma^r_θθ, -r/B(r))"
      ]
     },
     "metadata": {},
     "output_type": "display_data"
    },
    {
     "data": {
      "text/latex": [
       "$\\displaystyle \\Gamma^{r}_{φφ} = - \\frac{r \\sin^{2}{\\left(\\theta \\right)}}{B{\\left(r \\right)}}$"
      ],
      "text/plain": [
       "Eq(Gamma^r_φφ, -r*sin(theta)**2/B(r))"
      ]
     },
     "metadata": {},
     "output_type": "display_data"
    },
    {
     "data": {
      "text/latex": [
       "$\\displaystyle \\Gamma^{θ}_{rθ} = \\frac{1}{r}$"
      ],
      "text/plain": [
       "Eq(Gamma^θ_rθ, 1/r)"
      ]
     },
     "metadata": {},
     "output_type": "display_data"
    },
    {
     "data": {
      "text/latex": [
       "$\\displaystyle \\Gamma^{θ}_{θr} = \\frac{1}{r}$"
      ],
      "text/plain": [
       "Eq(Gamma^θ_θr, 1/r)"
      ]
     },
     "metadata": {},
     "output_type": "display_data"
    },
    {
     "data": {
      "text/latex": [
       "$\\displaystyle \\Gamma^{θ}_{φφ} = - \\frac{\\sin{\\left(2 \\theta \\right)}}{2}$"
      ],
      "text/plain": [
       "Eq(Gamma^θ_φφ, -sin(2*theta)/2)"
      ]
     },
     "metadata": {},
     "output_type": "display_data"
    },
    {
     "data": {
      "text/latex": [
       "$\\displaystyle \\Gamma^{φ}_{rφ} = \\frac{1}{r}$"
      ],
      "text/plain": [
       "Eq(Gamma^φ_rφ, 1/r)"
      ]
     },
     "metadata": {},
     "output_type": "display_data"
    },
    {
     "data": {
      "text/latex": [
       "$\\displaystyle \\Gamma^{φ}_{θφ} = \\frac{1}{\\tan{\\left(\\theta \\right)}}$"
      ],
      "text/plain": [
       "Eq(Gamma^φ_θφ, 1/tan(theta))"
      ]
     },
     "metadata": {},
     "output_type": "display_data"
    },
    {
     "data": {
      "text/latex": [
       "$\\displaystyle \\Gamma^{φ}_{φr} = \\frac{1}{r}$"
      ],
      "text/plain": [
       "Eq(Gamma^φ_φr, 1/r)"
      ]
     },
     "metadata": {},
     "output_type": "display_data"
    },
    {
     "data": {
      "text/latex": [
       "$\\displaystyle \\Gamma^{φ}_{φθ} = \\frac{1}{\\tan{\\left(\\theta \\right)}}$"
      ],
      "text/plain": [
       "Eq(Gamma^φ_φθ, 1/tan(theta))"
      ]
     },
     "metadata": {},
     "output_type": "display_data"
    }
   ],
   "source": [
    "n = [t,r,θ,φ]  # Using dim attribute for MetricTensor object\n",
    "\n",
    "# Extract non-vanishing Christoffel symbols\n",
    "non_vanishing = [] #Creates an empty list to store the non-vanishing Christoffel symbols.\n",
    "\n",
    "for i in range(4):\n",
    "    for j in range(4):\n",
    "        for k in range(4):\n",
    "            component = ch[i, j, k]\n",
    "            if component != 0 and not component.is_zero:\n",
    "                symbol = sp.symbols(f'Gamma^{n[i]}_{n[j]}{n[k]}') # Creates a symbolic representation of the Christoffel symbol in Γjki​ notation.\n",
    "                non_vanishing.append(sp.Eq(symbol, component))\n",
    "\n",
    "# Display the non-vanishing Christoffel symbols\n",
    "for eq in non_vanishing:\n",
    "    display(eq)"
   ]
  },
  {
   "cell_type": "code",
   "execution_count": 11,
   "id": "5e766f86",
   "metadata": {},
   "outputs": [],
   "source": [
    "for index, eq in enumerate(non_vanishing):\n",
    "    exec(f'ch_{index} = eq')"
   ]
  },
  {
   "cell_type": "markdown",
   "id": "3004aaad",
   "metadata": {},
   "source": [
    "# Calculating the Ricci tensor"
   ]
  },
  {
   "cell_type": "code",
   "execution_count": 12,
   "id": "af2b1c66",
   "metadata": {},
   "outputs": [
    {
     "data": {
      "text/latex": [
       "$\\displaystyle \\left[\\begin{matrix}\\frac{\\frac{d^{2}}{d r^{2}} A{\\left(r \\right)}}{2 B{\\left(r \\right)}} - \\frac{\\frac{d}{d r} A{\\left(r \\right)} \\frac{d}{d r} B{\\left(r \\right)}}{4 B^{2}{\\left(r \\right)}} - \\frac{\\left(\\frac{d}{d r} A{\\left(r \\right)}\\right)^{2}}{4 A{\\left(r \\right)} B{\\left(r \\right)}} + \\frac{\\frac{d}{d r} A{\\left(r \\right)}}{r B{\\left(r \\right)}} & 0 & 0 & 0\\\\0 & - \\frac{\\frac{d^{2}}{d r^{2}} A{\\left(r \\right)}}{2 A{\\left(r \\right)}} + \\frac{\\frac{d}{d r} A{\\left(r \\right)} \\frac{d}{d r} B{\\left(r \\right)}}{4 A{\\left(r \\right)} B{\\left(r \\right)}} + \\frac{\\left(\\frac{d}{d r} A{\\left(r \\right)}\\right)^{2}}{4 A^{2}{\\left(r \\right)}} + \\frac{\\frac{d}{d r} B{\\left(r \\right)}}{r B{\\left(r \\right)}} & 0 & 0\\\\0 & 0 & \\frac{r \\frac{d}{d r} B{\\left(r \\right)}}{2 B^{2}{\\left(r \\right)}} - \\frac{r \\frac{d}{d r} A{\\left(r \\right)}}{2 A{\\left(r \\right)} B{\\left(r \\right)}} + 1 - \\frac{1}{B{\\left(r \\right)}} & 0\\\\0 & 0 & 0 & \\frac{\\left(r A{\\left(r \\right)} \\frac{d}{d r} B{\\left(r \\right)} - r B{\\left(r \\right)} \\frac{d}{d r} A{\\left(r \\right)} + 2 \\left(B{\\left(r \\right)} - 1\\right) A{\\left(r \\right)} B{\\left(r \\right)}\\right) \\sin^{2}{\\left(\\theta \\right)}}{2 A{\\left(r \\right)} B^{2}{\\left(r \\right)}}\\end{matrix}\\right]$"
      ],
      "text/plain": [
       "[[Derivative(A(r), (r, 2))/(2*B(r)) - Derivative(A(r), r)*Derivative(B(r), r)/(4*B(r)**2) - Derivative(A(r), r)**2/(4*A(r)*B(r)) + Derivative(A(r), r)/(r*B(r)), 0, 0, 0], [0, -Derivative(A(r), (r, 2))/(2*A(r)) + Derivative(A(r), r)*Derivative(B(r), r)/(4*A(r)*B(r)) + Derivative(A(r), r)**2/(4*A(r)**2) + Derivative(B(r), r)/(r*B(r)), 0, 0], [0, 0, r*Derivative(B(r), r)/(2*B(r)**2) - r*Derivative(A(r), r)/(2*A(r)*B(r)) + 1 - 1/B(r), 0], [0, 0, 0, (r*A(r)*Derivative(B(r), r) - r*B(r)*Derivative(A(r), r) + 2*(B(r) - 1)*A(r)*B(r))*sin(theta)**2/(2*A(r)*B(r)**2)]]"
      ]
     },
     "execution_count": 12,
     "metadata": {},
     "output_type": "execute_result"
    }
   ],
   "source": [
    "ricci=RicciTensor.from_metric(metric)\n",
    "ricci.simplify()"
   ]
  },
  {
   "cell_type": "code",
   "execution_count": 13,
   "id": "1108f14a",
   "metadata": {},
   "outputs": [
    {
     "data": {
      "text/latex": [
       "$\\displaystyle R_{tt} = \\frac{\\frac{d^{2}}{d r^{2}} A{\\left(r \\right)}}{2 B{\\left(r \\right)}} - \\frac{\\frac{d}{d r} A{\\left(r \\right)} \\frac{d}{d r} B{\\left(r \\right)}}{4 B^{2}{\\left(r \\right)}} - \\frac{\\left(\\frac{d}{d r} A{\\left(r \\right)}\\right)^{2}}{4 A{\\left(r \\right)} B{\\left(r \\right)}} + \\frac{\\frac{d}{d r} A{\\left(r \\right)}}{r B{\\left(r \\right)}}$"
      ],
      "text/plain": [
       "Eq(R_tt, Derivative(A(r), (r, 2))/(2*B(r)) - Derivative(A(r), r)*Derivative(B(r), r)/(4*B(r)**2) - Derivative(A(r), r)**2/(4*A(r)*B(r)) + Derivative(A(r), r)/(r*B(r)))"
      ]
     },
     "metadata": {},
     "output_type": "display_data"
    },
    {
     "data": {
      "text/latex": [
       "$\\displaystyle R_{rr} = - \\frac{\\frac{d^{2}}{d r^{2}} A{\\left(r \\right)}}{2 A{\\left(r \\right)}} + \\frac{\\frac{d}{d r} A{\\left(r \\right)} \\frac{d}{d r} B{\\left(r \\right)}}{4 A{\\left(r \\right)} B{\\left(r \\right)}} + \\frac{\\left(\\frac{d}{d r} A{\\left(r \\right)}\\right)^{2}}{4 A^{2}{\\left(r \\right)}} + \\frac{\\frac{d}{d r} B{\\left(r \\right)}}{r B{\\left(r \\right)}}$"
      ],
      "text/plain": [
       "Eq(R_rr, -Derivative(A(r), (r, 2))/(2*A(r)) + Derivative(A(r), r)*Derivative(B(r), r)/(4*A(r)*B(r)) + Derivative(A(r), r)**2/(4*A(r)**2) + Derivative(B(r), r)/(r*B(r)))"
      ]
     },
     "metadata": {},
     "output_type": "display_data"
    },
    {
     "data": {
      "text/latex": [
       "$\\displaystyle R_{θθ} = \\frac{r \\frac{d}{d r} B{\\left(r \\right)}}{2 B^{2}{\\left(r \\right)}} - \\frac{r \\frac{d}{d r} A{\\left(r \\right)}}{2 A{\\left(r \\right)} B{\\left(r \\right)}} + 1 - \\frac{1}{B{\\left(r \\right)}}$"
      ],
      "text/plain": [
       "Eq(R_θθ, r*Derivative(B(r), r)/(2*B(r)**2) - r*Derivative(A(r), r)/(2*A(r)*B(r)) + 1 - 1/B(r))"
      ]
     },
     "metadata": {},
     "output_type": "display_data"
    },
    {
     "data": {
      "text/latex": [
       "$\\displaystyle R_{φφ} = \\frac{\\left(r A{\\left(r \\right)} \\frac{d}{d r} B{\\left(r \\right)} - r B{\\left(r \\right)} \\frac{d}{d r} A{\\left(r \\right)} + 2 \\left(B{\\left(r \\right)} - 1\\right) A{\\left(r \\right)} B{\\left(r \\right)}\\right) \\sin^{2}{\\left(\\theta \\right)}}{2 A{\\left(r \\right)} B^{2}{\\left(r \\right)}}$"
      ],
      "text/plain": [
       "Eq(R_φφ, (r*A(r)*Derivative(B(r), r) - r*B(r)*Derivative(A(r), r) + 2*(B(r) - 1)*A(r)*B(r))*sin(theta)**2/(2*A(r)*B(r)**2))"
      ]
     },
     "metadata": {},
     "output_type": "display_data"
    }
   ],
   "source": [
    "n = [t,r,θ,φ]  # Using dim attribute for MetricTensor object\n",
    "\n",
    "# Extract non-vanishing Ricci tensor components and assign them to variables\n",
    "non_vanishing_2 = []\n",
    "\n",
    "for i in range(4):\n",
    "    for j in range(4):\n",
    "        component_2 = ricci[i, j]\n",
    "        if component_2 != 0 and not component_2.is_zero:\n",
    "            # Create a variable name in the format R_ij\n",
    "            symbol_name = f'R_{n[i]}{n[j]}'\n",
    "            \n",
    "            # Dynamically assign the Ricci component to a variable with this name\n",
    "            exec(f'{symbol_name} = component_2')\n",
    "            \n",
    "            # Append the equation to the list\n",
    "            non_vanishing_2.append(sp.Eq(sp.Symbol(symbol_name), component_2))\n",
    "\n",
    "# Display the non-vanishing Ricci tensor components\n",
    "for eq_2 in non_vanishing_2:\n",
    "    display(eq_2) "
   ]
  },
  {
   "cell_type": "code",
   "execution_count": 14,
   "id": "f493953c",
   "metadata": {},
   "outputs": [],
   "source": [
    "for index, eq_2 in enumerate(non_vanishing_2):\n",
    "    exec(f'R_{index}{index} = eq_2')"
   ]
  },
  {
   "cell_type": "code",
   "execution_count": 15,
   "id": "f9c9fe38",
   "metadata": {},
   "outputs": [
    {
     "data": {
      "text/latex": [
       "$\\displaystyle R_{tt} = \\frac{\\frac{d^{2}}{d r^{2}} A{\\left(r \\right)}}{2 B{\\left(r \\right)}} - \\frac{\\frac{d}{d r} A{\\left(r \\right)} \\frac{d}{d r} B{\\left(r \\right)}}{4 B^{2}{\\left(r \\right)}} - \\frac{\\left(\\frac{d}{d r} A{\\left(r \\right)}\\right)^{2}}{4 A{\\left(r \\right)} B{\\left(r \\right)}} + \\frac{\\frac{d}{d r} A{\\left(r \\right)}}{r B{\\left(r \\right)}}$"
      ],
      "text/plain": [
       "Eq(R_tt, Derivative(A(r), (r, 2))/(2*B(r)) - Derivative(A(r), r)*Derivative(B(r), r)/(4*B(r)**2) - Derivative(A(r), r)**2/(4*A(r)*B(r)) + Derivative(A(r), r)/(r*B(r)))"
      ]
     },
     "execution_count": 15,
     "metadata": {},
     "output_type": "execute_result"
    }
   ],
   "source": [
    "R_00"
   ]
  },
  {
   "cell_type": "markdown",
   "id": "4deeb5b2",
   "metadata": {},
   "source": [
    "# Calculating ricci scalar"
   ]
  },
  {
   "cell_type": "code",
   "execution_count": 16,
   "id": "83751160",
   "metadata": {},
   "outputs": [
    {
     "data": {
      "text/latex": [
       "$\\displaystyle - \\frac{\\frac{d^{2}}{d r^{2}} A{\\left(r \\right)}}{A{\\left(r \\right)} B{\\left(r \\right)}} + \\frac{\\frac{d}{d r} A{\\left(r \\right)} \\frac{d}{d r} B{\\left(r \\right)}}{2 A{\\left(r \\right)} B^{2}{\\left(r \\right)}} + \\frac{\\left(\\frac{d}{d r} A{\\left(r \\right)}\\right)^{2}}{2 A^{2}{\\left(r \\right)} B{\\left(r \\right)}} + \\frac{2 \\frac{d}{d r} B{\\left(r \\right)}}{r B^{2}{\\left(r \\right)}} - \\frac{2 \\frac{d}{d r} A{\\left(r \\right)}}{r A{\\left(r \\right)} B{\\left(r \\right)}} + \\frac{2}{r^{2}} - \\frac{2}{r^{2} B{\\left(r \\right)}}$"
      ],
      "text/plain": [
       "-Derivative(A(r), (r, 2))/(A(r)*B(r)) + Derivative(A(r), r)*Derivative(B(r), r)/(2*A(r)*B(r)**2) + Derivative(A(r), r)**2/(2*A(r)**2*B(r)) + 2*Derivative(B(r), r)/(r*B(r)**2) - 2*Derivative(A(r), r)/(r*A(r)*B(r)) + 2/r**2 - 2/(r**2*B(r))"
      ]
     },
     "execution_count": 16,
     "metadata": {},
     "output_type": "execute_result"
    }
   ],
   "source": [
    "ricci=RicciScalar.from_metric(metric)\n",
    "ricci.simplify()"
   ]
  },
  {
   "cell_type": "markdown",
   "id": "15671176",
   "metadata": {},
   "source": [
    "# Calculating Einstein tensor"
   ]
  },
  {
   "cell_type": "code",
   "execution_count": 17,
   "id": "32c0a69d",
   "metadata": {},
   "outputs": [
    {
     "data": {
      "text/latex": [
       "$\\displaystyle \\left[\\begin{matrix}\\frac{1.0 \\left(r \\frac{d}{d r} B{\\left(r \\right)} + B^{2}{\\left(r \\right)} - B{\\left(r \\right)}\\right) A{\\left(r \\right)}}{r^{2} B^{2}{\\left(r \\right)}} & 0 & 0 & 0\\\\0 & \\frac{1.0 \\frac{d}{d r} A{\\left(r \\right)}}{r A{\\left(r \\right)}} - \\frac{1.0 B{\\left(r \\right)}}{r^{2}} + \\frac{1.0}{r^{2}} & 0 & 0\\\\0 & 0 & \\frac{0.5 r \\left(1.0 r A{\\left(r \\right)} B{\\left(r \\right)} \\frac{d^{2}}{d r^{2}} A{\\left(r \\right)} - 0.5 r A{\\left(r \\right)} \\frac{d}{d r} A{\\left(r \\right)} \\frac{d}{d r} B{\\left(r \\right)} - 0.5 r B{\\left(r \\right)} \\left(\\frac{d}{d r} A{\\left(r \\right)}\\right)^{2} - 1.0 A^{2}{\\left(r \\right)} \\frac{d}{d r} B{\\left(r \\right)} + 1.0 A{\\left(r \\right)} B{\\left(r \\right)} \\frac{d}{d r} A{\\left(r \\right)}\\right)}{A^{2}{\\left(r \\right)} B^{2}{\\left(r \\right)}} & 0\\\\0 & 0 & 0 & \\frac{0.5 r \\left(1.0 r A{\\left(r \\right)} B{\\left(r \\right)} \\frac{d^{2}}{d r^{2}} A{\\left(r \\right)} - 0.5 r A{\\left(r \\right)} \\frac{d}{d r} A{\\left(r \\right)} \\frac{d}{d r} B{\\left(r \\right)} - 0.5 r B{\\left(r \\right)} \\left(\\frac{d}{d r} A{\\left(r \\right)}\\right)^{2} - 1.0 A^{2}{\\left(r \\right)} \\frac{d}{d r} B{\\left(r \\right)} + 1.0 A{\\left(r \\right)} B{\\left(r \\right)} \\frac{d}{d r} A{\\left(r \\right)}\\right) \\sin^{2}{\\left(\\theta \\right)}}{A^{2}{\\left(r \\right)} B^{2}{\\left(r \\right)}}\\end{matrix}\\right]$"
      ],
      "text/plain": [
       "[[1.0*(r*Derivative(B(r), r) + B(r)**2 - B(r))*A(r)/(r**2*B(r)**2), 0, 0, 0], [0, 1.0*Derivative(A(r), r)/(r*A(r)) - 1.0*B(r)/r**2 + 1.0/r**2, 0, 0], [0, 0, 0.5*r*(1.0*r*A(r)*B(r)*Derivative(A(r), (r, 2)) - 0.5*r*A(r)*Derivative(A(r), r)*Derivative(B(r), r) - 0.5*r*B(r)*Derivative(A(r), r)**2 - 1.0*A(r)**2*Derivative(B(r), r) + 1.0*A(r)*B(r)*Derivative(A(r), r))/(A(r)**2*B(r)**2), 0], [0, 0, 0, 0.5*r*(1.0*r*A(r)*B(r)*Derivative(A(r), (r, 2)) - 0.5*r*A(r)*Derivative(A(r), r)*Derivative(B(r), r) - 0.5*r*B(r)*Derivative(A(r), r)**2 - 1.0*A(r)**2*Derivative(B(r), r) + 1.0*A(r)*B(r)*Derivative(A(r), r))*sin(theta)**2/(A(r)**2*B(r)**2)]]"
      ]
     },
     "execution_count": 17,
     "metadata": {},
     "output_type": "execute_result"
    }
   ],
   "source": [
    "einst = EinsteinTensor.from_metric(metric)\n",
    "einst.simplify()"
   ]
  },
  {
   "cell_type": "code",
   "execution_count": 18,
   "id": "eb690fc9",
   "metadata": {},
   "outputs": [
    {
     "data": {
      "text/latex": [
       "$\\displaystyle G_{tt} = \\frac{1.0 \\left(r \\frac{d}{d r} B{\\left(r \\right)} + B^{2}{\\left(r \\right)} - B{\\left(r \\right)}\\right) A{\\left(r \\right)}}{r^{2} B^{2}{\\left(r \\right)}}$"
      ],
      "text/plain": [
       "Eq(G_tt, 1.0*(r*Derivative(B(r), r) + B(r)**2 - B(r))*A(r)/(r**2*B(r)**2))"
      ]
     },
     "metadata": {},
     "output_type": "display_data"
    },
    {
     "data": {
      "text/latex": [
       "$\\displaystyle G_{rr} = \\frac{1.0 \\frac{d}{d r} A{\\left(r \\right)}}{r A{\\left(r \\right)}} - \\frac{1.0 B{\\left(r \\right)}}{r^{2}} + \\frac{1.0}{r^{2}}$"
      ],
      "text/plain": [
       "Eq(G_rr, 1.0*Derivative(A(r), r)/(r*A(r)) - 1.0*B(r)/r**2 + 1.0/r**2)"
      ]
     },
     "metadata": {},
     "output_type": "display_data"
    },
    {
     "data": {
      "text/latex": [
       "$\\displaystyle G_{θθ} = \\frac{0.5 r \\left(1.0 r A{\\left(r \\right)} B{\\left(r \\right)} \\frac{d^{2}}{d r^{2}} A{\\left(r \\right)} - 0.5 r A{\\left(r \\right)} \\frac{d}{d r} A{\\left(r \\right)} \\frac{d}{d r} B{\\left(r \\right)} - 0.5 r B{\\left(r \\right)} \\left(\\frac{d}{d r} A{\\left(r \\right)}\\right)^{2} - 1.0 A^{2}{\\left(r \\right)} \\frac{d}{d r} B{\\left(r \\right)} + 1.0 A{\\left(r \\right)} B{\\left(r \\right)} \\frac{d}{d r} A{\\left(r \\right)}\\right)}{A^{2}{\\left(r \\right)} B^{2}{\\left(r \\right)}}$"
      ],
      "text/plain": [
       "Eq(G_θθ, 0.5*r*(1.0*r*A(r)*B(r)*Derivative(A(r), (r, 2)) - 0.5*r*A(r)*Derivative(A(r), r)*Derivative(B(r), r) - 0.5*r*B(r)*Derivative(A(r), r)**2 - 1.0*A(r)**2*Derivative(B(r), r) + 1.0*A(r)*B(r)*Derivative(A(r), r))/(A(r)**2*B(r)**2))"
      ]
     },
     "metadata": {},
     "output_type": "display_data"
    },
    {
     "data": {
      "text/latex": [
       "$\\displaystyle G_{φφ} = \\frac{0.5 r \\left(1.0 r A{\\left(r \\right)} B{\\left(r \\right)} \\frac{d^{2}}{d r^{2}} A{\\left(r \\right)} - 0.5 r A{\\left(r \\right)} \\frac{d}{d r} A{\\left(r \\right)} \\frac{d}{d r} B{\\left(r \\right)} - 0.5 r B{\\left(r \\right)} \\left(\\frac{d}{d r} A{\\left(r \\right)}\\right)^{2} - 1.0 A^{2}{\\left(r \\right)} \\frac{d}{d r} B{\\left(r \\right)} + 1.0 A{\\left(r \\right)} B{\\left(r \\right)} \\frac{d}{d r} A{\\left(r \\right)}\\right) \\sin^{2}{\\left(\\theta \\right)}}{A^{2}{\\left(r \\right)} B^{2}{\\left(r \\right)}}$"
      ],
      "text/plain": [
       "Eq(G_φφ, 0.5*r*(1.0*r*A(r)*B(r)*Derivative(A(r), (r, 2)) - 0.5*r*A(r)*Derivative(A(r), r)*Derivative(B(r), r) - 0.5*r*B(r)*Derivative(A(r), r)**2 - 1.0*A(r)**2*Derivative(B(r), r) + 1.0*A(r)*B(r)*Derivative(A(r), r))*sin(theta)**2/(A(r)**2*B(r)**2))"
      ]
     },
     "metadata": {},
     "output_type": "display_data"
    }
   ],
   "source": [
    "n = [t,r,θ,φ]  # Using dim attribute for MetricTensor object\n",
    "\n",
    "# Extract non-vanishing Ricci tensor components and assign them to variables\n",
    "non_vanishing_3 = []\n",
    "\n",
    "for i in range(4):\n",
    "    for j in range(4):\n",
    "        component_3 = einst[i, j]\n",
    "        if component_3 != 0 and not component_3.is_zero:\n",
    "            # Create a variable name in the format R_ij\n",
    "            symbol_name = f'G_{n[i]}{n[j]}'\n",
    "            \n",
    "            # Dynamically assign the Ricci component to a variable with this name\n",
    "            exec(f'{symbol_name} = component_3')\n",
    "            \n",
    "            # Append the equation to the list\n",
    "            non_vanishing_3.append(sp.Eq(sp.Symbol(symbol_name), component_3))\n",
    "\n",
    "# Display the non-vanishing Ricci tensor components\n",
    "for eq_3 in non_vanishing_3:\n",
    "    display(eq_3) "
   ]
  },
  {
   "cell_type": "code",
   "execution_count": 19,
   "id": "6f916575",
   "metadata": {},
   "outputs": [],
   "source": [
    "for index, eq_3 in enumerate(non_vanishing_3):\n",
    "    exec(f'G_{index}{index} = eq_3')"
   ]
  },
  {
   "cell_type": "code",
   "execution_count": 20,
   "id": "c9948543",
   "metadata": {},
   "outputs": [
    {
     "data": {
      "text/latex": [
       "$\\displaystyle G_{tt} = \\frac{1.0 \\left(r \\frac{d}{d r} B{\\left(r \\right)} + B^{2}{\\left(r \\right)} - B{\\left(r \\right)}\\right) A{\\left(r \\right)}}{r^{2} B^{2}{\\left(r \\right)}}$"
      ],
      "text/plain": [
       "Eq(G_tt, 1.0*(r*Derivative(B(r), r) + B(r)**2 - B(r))*A(r)/(r**2*B(r)**2))"
      ]
     },
     "execution_count": 20,
     "metadata": {},
     "output_type": "execute_result"
    }
   ],
   "source": [
    "G_00"
   ]
  },
  {
   "cell_type": "code",
   "execution_count": 21,
   "id": "780d0da9",
   "metadata": {},
   "outputs": [],
   "source": [
    "G_00, G_11, G_22, G_33, T_00, T_11, T_22, T_33 = sp.symbols(\n",
    "    'G_00 G_11 G_22 G_33 T_00 T_11 T_22 T_33'\n",
    ")"
   ]
  },
  {
   "cell_type": "code",
   "execution_count": 22,
   "id": "cbeba003",
   "metadata": {},
   "outputs": [
    {
     "data": {
      "text/latex": [
       "$\\displaystyle G_{00} = 8 \\pi T_{00}$"
      ],
      "text/plain": [
       "Eq(G_00, 8*pi*T_00)"
      ]
     },
     "execution_count": 22,
     "metadata": {},
     "output_type": "execute_result"
    }
   ],
   "source": [
    "einst_eq_1 = sp.Eq( G_00, 8 * sp.pi * T_00 )\n",
    "einst_eq_1"
   ]
  },
  {
   "cell_type": "code",
   "execution_count": null,
   "id": "1bff29db",
   "metadata": {},
   "outputs": [],
   "source": []
  },
  {
   "cell_type": "code",
   "execution_count": 23,
   "id": "68b1b18f",
   "metadata": {},
   "outputs": [],
   "source": [
    "einst_eq_1_replaced = einst_eq_1.subs({G_00:einst.tensor()[0, 0], T_00:rho(r)*A(r)})\n"
   ]
  },
  {
   "cell_type": "code",
   "execution_count": 24,
   "id": "63183c29",
   "metadata": {},
   "outputs": [],
   "source": [
    "einst_eq_1_replaced_simplified = sp.simplify(einst_eq_1_replaced)"
   ]
  },
  {
   "cell_type": "code",
   "execution_count": 25,
   "id": "a9f1be2b",
   "metadata": {},
   "outputs": [
    {
     "data": {
      "text/latex": [
       "$\\displaystyle 8 \\pi A{\\left(r \\right)} \\rho{\\left(r \\right)} = \\frac{1.0 \\left(r \\frac{d}{d r} B{\\left(r \\right)} + B^{2}{\\left(r \\right)} - B{\\left(r \\right)}\\right) A{\\left(r \\right)}}{r^{2} B^{2}{\\left(r \\right)}}$"
      ],
      "text/plain": [
       "Eq(8*pi*A(r)*rho(r), 1.0*(r*Derivative(B(r), r) + B(r)**2 - B(r))*A(r)/(r**2*B(r)**2))"
      ]
     },
     "execution_count": 25,
     "metadata": {},
     "output_type": "execute_result"
    }
   ],
   "source": [
    "einst_eq_1_replaced_simplified"
   ]
  },
  {
   "cell_type": "code",
   "execution_count": 26,
   "id": "3fd8357e",
   "metadata": {},
   "outputs": [],
   "source": [
    "solution_1 = sp.solve(einst_eq_1_replaced_simplified,rho(r))"
   ]
  },
  {
   "cell_type": "code",
   "execution_count": 27,
   "id": "476dfe43",
   "metadata": {},
   "outputs": [
    {
     "name": "stdout",
     "output_type": "stream",
     "text": [
      "Equation to solve:\n",
      "                    ⎛  d           2          ⎞     \n",
      "                1.0⋅⎜r⋅──(B(r)) + B (r) - B(r)⎟⋅A(r)\n",
      "                    ⎝  dr                     ⎠     \n",
      "8⋅π⋅A(r)⋅ρ(r) = ────────────────────────────────────\n",
      "                               2  2                 \n",
      "                              r ⋅B (r)              \n"
     ]
    }
   ],
   "source": [
    "print(\"Equation to solve:\")\n",
    "\n",
    "sp.pprint(einst_eq_1_replaced_simplified)"
   ]
  },
  {
   "cell_type": "code",
   "execution_count": 28,
   "id": "fe666b52",
   "metadata": {},
   "outputs": [
    {
     "name": "stdout",
     "output_type": "stream",
     "text": [
      "Solution for rho:\n",
      "[0.0397887357729738*(r*Derivative(B(r), r) + B(r)**2 - B(r))/(r**2*B(r)**2)]\n"
     ]
    }
   ],
   "source": [
    "print(\"Solution for rho:\")\n",
    "print(solution_1)"
   ]
  },
  {
   "cell_type": "code",
   "execution_count": 29,
   "id": "3ee755eb",
   "metadata": {},
   "outputs": [
    {
     "data": {
      "text/latex": [
       "$\\displaystyle G_{11} = 8 \\pi T_{11}$"
      ],
      "text/plain": [
       "Eq(G_11, 8*pi*T_11)"
      ]
     },
     "execution_count": 29,
     "metadata": {},
     "output_type": "execute_result"
    }
   ],
   "source": [
    "einst_eq_2 = sp.Eq( G_11, 8 * sp.pi * T_11 )\n",
    "einst_eq_2"
   ]
  },
  {
   "cell_type": "code",
   "execution_count": 30,
   "id": "8f933ea1",
   "metadata": {},
   "outputs": [],
   "source": [
    "einst_eq_2_replaced = einst_eq_2.subs({G_11:einst.tensor()[1, 1], T_11:p(r)*B(r)})"
   ]
  },
  {
   "cell_type": "code",
   "execution_count": 31,
   "id": "e62cb4bb",
   "metadata": {},
   "outputs": [],
   "source": [
    "einst_eq_2_replaced_simplified = sp.simplify(einst_eq_2_replaced)"
   ]
  },
  {
   "cell_type": "code",
   "execution_count": 32,
   "id": "070a59c3",
   "metadata": {},
   "outputs": [
    {
     "data": {
      "text/latex": [
       "$\\displaystyle 8 \\pi B{\\left(r \\right)} p{\\left(r \\right)} = \\frac{1.0 \\left(r \\frac{d}{d r} A{\\left(r \\right)} + \\left(1 - B{\\left(r \\right)}\\right) A{\\left(r \\right)}\\right)}{r^{2} A{\\left(r \\right)}}$"
      ],
      "text/plain": [
       "Eq(8*pi*B(r)*p(r), 1.0*(r*Derivative(A(r), r) + (1 - B(r))*A(r))/(r**2*A(r)))"
      ]
     },
     "execution_count": 32,
     "metadata": {},
     "output_type": "execute_result"
    }
   ],
   "source": [
    "einst_eq_2_replaced_simplified"
   ]
  },
  {
   "cell_type": "code",
   "execution_count": 33,
   "id": "9843fb26",
   "metadata": {},
   "outputs": [],
   "source": [
    "solution_2 = sp.solve(einst_eq_2_replaced_simplified,p(r))"
   ]
  },
  {
   "cell_type": "code",
   "execution_count": 34,
   "id": "df90eb35",
   "metadata": {},
   "outputs": [],
   "source": [
    "expr=solution_2"
   ]
  },
  {
   "cell_type": "code",
   "execution_count": 35,
   "id": "4b687c12",
   "metadata": {},
   "outputs": [
    {
     "name": "stdout",
     "output_type": "stream",
     "text": [
      "[0.0397887357729738*(r*Derivative(A(r), r) - A(r)*B(r) + A(r))/(r**2*A(r)*B(r))]\n"
     ]
    }
   ],
   "source": [
    "print(expr)"
   ]
  },
  {
   "cell_type": "code",
   "execution_count": 36,
   "id": "c0e37330",
   "metadata": {},
   "outputs": [],
   "source": [
    "expression=expr[0]"
   ]
  },
  {
   "cell_type": "code",
   "execution_count": 37,
   "id": "d5e3864f",
   "metadata": {},
   "outputs": [],
   "source": [
    "simplified_expr = sp.simplify(expression)"
   ]
  },
  {
   "cell_type": "code",
   "execution_count": 38,
   "id": "983f1acb",
   "metadata": {},
   "outputs": [
    {
     "data": {
      "text/latex": [
       "$\\displaystyle \\frac{0.0397887357729738 \\frac{d}{d r} A{\\left(r \\right)}}{r A{\\left(r \\right)} B{\\left(r \\right)}} - \\frac{0.0397887357729738}{r^{2}} + \\frac{0.0397887357729738}{r^{2} B{\\left(r \\right)}}$"
      ],
      "text/plain": [
       "0.0397887357729738*Derivative(A(r), r)/(r*A(r)*B(r)) - 0.0397887357729738/r**2 + 0.0397887357729738/(r**2*B(r))"
      ]
     },
     "execution_count": 38,
     "metadata": {},
     "output_type": "execute_result"
    }
   ],
   "source": [
    "simplified_expr"
   ]
  },
  {
   "cell_type": "code",
   "execution_count": 39,
   "id": "c7d08069",
   "metadata": {},
   "outputs": [],
   "source": [
    "T_tt = sp.diag(rho(r)*A(r), p(r)*B(r), p(r)*r**2, p(r)*r**2*sp.sin(theta)**2).tolist()"
   ]
  },
  {
   "cell_type": "code",
   "execution_count": 40,
   "id": "82a5e99f",
   "metadata": {},
   "outputs": [],
   "source": [
    "Stress_energy_tensor = StressEnergyMomentumTensor(T_tt, syms)"
   ]
  },
  {
   "cell_type": "code",
   "execution_count": 41,
   "id": "a26c2865",
   "metadata": {},
   "outputs": [
    {
     "data": {
      "text/latex": [
       "$\\displaystyle \\left[\\begin{matrix}A{\\left(r \\right)} \\rho{\\left(r \\right)} & 0 & 0 & 0\\\\0 & B{\\left(r \\right)} p{\\left(r \\right)} & 0 & 0\\\\0 & 0 & r^{2} p{\\left(r \\right)} & 0\\\\0 & 0 & 0 & r^{2} p{\\left(r \\right)} \\sin^{2}{\\left(\\theta \\right)}\\end{matrix}\\right]$"
      ],
      "text/plain": [
       "[[A(r)*rho(r), 0, 0, 0], [0, B(r)*p(r), 0, 0], [0, 0, r**2*p(r), 0], [0, 0, 0, r**2*p(r)*sin(theta)**2]]"
      ]
     },
     "execution_count": 41,
     "metadata": {},
     "output_type": "execute_result"
    }
   ],
   "source": [
    "Stress_energy_tensor.tensor()"
   ]
  },
  {
   "cell_type": "code",
   "execution_count": null,
   "id": "de8dd220",
   "metadata": {},
   "outputs": [],
   "source": []
  }
 ],
 "metadata": {
  "kernelspec": {
   "display_name": "Python 3 (ipykernel)",
   "language": "python",
   "name": "python3"
  },
  "language_info": {
   "codemirror_mode": {
    "name": "ipython",
    "version": 3
   },
   "file_extension": ".py",
   "mimetype": "text/x-python",
   "name": "python",
   "nbconvert_exporter": "python",
   "pygments_lexer": "ipython3",
   "version": "3.10.7"
  }
 },
 "nbformat": 4,
 "nbformat_minor": 5
}
