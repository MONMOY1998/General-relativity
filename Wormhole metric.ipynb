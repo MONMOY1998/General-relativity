{
 "cells": [
  {
   "cell_type": "code",
   "execution_count": 1,
   "id": "9c2e5c8b",
   "metadata": {},
   "outputs": [],
   "source": [
    "import numpy as np\n",
    "import sympy as sp\n",
    "import matplotlib.pyplot as plt\n",
    "from einsteinpy.symbolic import MetricTensor,ChristoffelSymbols,RicciTensor,RicciScalar,EinsteinTensor\n"
   ]
  },
  {
   "cell_type": "code",
   "execution_count": 2,
   "id": "fbf951a9",
   "metadata": {},
   "outputs": [],
   "source": [
    "syms=sp.symbols(\"t r theta phi\")\n",
    "t,r,theta,phi=syms"
   ]
  },
  {
   "cell_type": "code",
   "execution_count": 5,
   "id": "d1f8e767",
   "metadata": {},
   "outputs": [],
   "source": [
    "nu=sp.Function(\"nu\")\n",
    "b=sp.Function(\"b\")\n",
    "p=sp.Function(\"p\")\n",
    "rho=sp.Function(\"rho\")\n",
    "mu=sp.symbols(\"mu\")"
   ]
  },
  {
   "cell_type": "code",
   "execution_count": 6,
   "id": "747233e0",
   "metadata": {},
   "outputs": [],
   "source": [
    "m = sp.diag(-sp.exp(nu(r)), 1/(1-(b(r)/r)),r**2, (r**2)*sp.sin(theta)**2).tolist()"
   ]
  },
  {
   "cell_type": "code",
   "execution_count": 7,
   "id": "a160eacf",
   "metadata": {},
   "outputs": [],
   "source": [
    "metric=MetricTensor(m,syms)"
   ]
  },
  {
   "cell_type": "code",
   "execution_count": 8,
   "id": "e7edd0be",
   "metadata": {},
   "outputs": [
    {
     "data": {
      "text/latex": [
       "$\\displaystyle \\left[\\begin{matrix}- e^{\\nu{\\left(r \\right)}} & 0 & 0 & 0\\\\0 & \\frac{1}{1 - \\frac{b{\\left(r \\right)}}{r}} & 0 & 0\\\\0 & 0 & r^{2} & 0\\\\0 & 0 & 0 & r^{2} \\sin^{2}{\\left(\\theta \\right)}\\end{matrix}\\right]$"
      ],
      "text/plain": [
       "[[-exp(nu(r)), 0, 0, 0], [0, 1/(1 - b(r)/r), 0, 0], [0, 0, r**2, 0], [0, 0, 0, r**2*sin(theta)**2]]"
      ]
     },
     "execution_count": 8,
     "metadata": {},
     "output_type": "execute_result"
    }
   ],
   "source": [
    "metric.tensor()"
   ]
  },
  {
   "cell_type": "code",
   "execution_count": 10,
   "id": "f66de3f5",
   "metadata": {},
   "outputs": [
    {
     "data": {
      "text/latex": [
       "$\\displaystyle \\left[\\begin{matrix}\\left[\\begin{matrix}0 & \\frac{\\frac{d}{d r} \\nu{\\left(r \\right)}}{2} & 0 & 0\\\\\\frac{\\frac{d}{d r} \\nu{\\left(r \\right)}}{2} & 0 & 0 & 0\\\\0 & 0 & 0 & 0\\\\0 & 0 & 0 & 0\\end{matrix}\\right] & \\left[\\begin{matrix}\\frac{\\left(r - b{\\left(r \\right)}\\right) e^{\\nu{\\left(r \\right)}} \\frac{d}{d r} \\nu{\\left(r \\right)}}{2 r} & 0 & 0 & 0\\\\0 & \\frac{r \\frac{d}{d r} b{\\left(r \\right)} - b{\\left(r \\right)}}{2 r \\left(r - b{\\left(r \\right)}\\right)} & 0 & 0\\\\0 & 0 & - r + b{\\left(r \\right)} & 0\\\\0 & 0 & 0 & \\left(- r + b{\\left(r \\right)}\\right) \\sin^{2}{\\left(\\theta \\right)}\\end{matrix}\\right] & \\left[\\begin{matrix}0 & 0 & 0 & 0\\\\0 & 0 & \\frac{1}{r} & 0\\\\0 & \\frac{1}{r} & 0 & 0\\\\0 & 0 & 0 & - \\frac{\\sin{\\left(2 \\theta \\right)}}{2}\\end{matrix}\\right] & \\left[\\begin{matrix}0 & 0 & 0 & 0\\\\0 & 0 & 0 & \\frac{1}{r}\\\\0 & 0 & 0 & \\frac{1}{\\tan{\\left(\\theta \\right)}}\\\\0 & \\frac{1}{r} & \\frac{1}{\\tan{\\left(\\theta \\right)}} & 0\\end{matrix}\\right]\\end{matrix}\\right]$"
      ],
      "text/plain": [
       "[[[0, Derivative(nu(r), r)/2, 0, 0], [Derivative(nu(r), r)/2, 0, 0, 0], [0, 0, 0, 0], [0, 0, 0, 0]], [[(r - b(r))*exp(nu(r))*Derivative(nu(r), r)/(2*r), 0, 0, 0], [0, (r*Derivative(b(r), r) - b(r))/(2*r*(r - b(r))), 0, 0], [0, 0, -r + b(r), 0], [0, 0, 0, (-r + b(r))*sin(theta)**2]], [[0, 0, 0, 0], [0, 0, 1/r, 0], [0, 1/r, 0, 0], [0, 0, 0, -sin(2*theta)/2]], [[0, 0, 0, 0], [0, 0, 0, 1/r], [0, 0, 0, 1/tan(theta)], [0, 1/r, 1/tan(theta), 0]]]"
      ]
     },
     "execution_count": 10,
     "metadata": {},
     "output_type": "execute_result"
    }
   ],
   "source": [
    "ch=ChristoffelSymbols.from_metric(metric)\n",
    "ch.simplify()"
   ]
  },
  {
   "cell_type": "code",
   "execution_count": 11,
   "id": "ee29b9b6",
   "metadata": {},
   "outputs": [
    {
     "data": {
      "text/latex": [
       "$\\displaystyle \\left[\\begin{matrix}\\frac{\\left(r \\left(r - b{\\left(r \\right)}\\right) \\left(\\left(\\frac{d}{d r} \\nu{\\left(r \\right)}\\right)^{2} + 2 \\frac{d^{2}}{d r^{2}} \\nu{\\left(r \\right)}\\right) + 4 \\left(r - b{\\left(r \\right)}\\right) \\frac{d}{d r} \\nu{\\left(r \\right)} - \\left(r \\frac{d}{d r} b{\\left(r \\right)} - b{\\left(r \\right)}\\right) \\frac{d}{d r} \\nu{\\left(r \\right)}\\right) e^{\\nu{\\left(r \\right)}}}{4 r^{2}} & 0 & 0 & 0\\\\0 & \\frac{- \\frac{r \\left(r \\left(r - b{\\left(r \\right)}\\right) \\left(\\left(\\frac{d}{d r} \\nu{\\left(r \\right)}\\right)^{2} + 2 \\frac{d^{2}}{d r^{2}} \\nu{\\left(r \\right)}\\right) - \\left(r \\frac{d}{d r} b{\\left(r \\right)} - b{\\left(r \\right)}\\right) \\frac{d}{d r} \\nu{\\left(r \\right)}\\right)}{4} + r \\frac{d}{d r} b{\\left(r \\right)} - b{\\left(r \\right)}}{r^{2} \\left(r - b{\\left(r \\right)}\\right)} & 0 & 0\\\\0 & 0 & \\frac{- r \\left(r - b{\\left(r \\right)}\\right) \\frac{d}{d r} \\nu{\\left(r \\right)} + r \\frac{d}{d r} b{\\left(r \\right)} + b{\\left(r \\right)}}{2 r} & 0\\\\0 & 0 & 0 & \\frac{\\left(- r \\left(r - b{\\left(r \\right)}\\right) \\frac{d}{d r} \\nu{\\left(r \\right)} + r \\frac{d}{d r} b{\\left(r \\right)} + b{\\left(r \\right)}\\right) \\sin^{2}{\\left(\\theta \\right)}}{2 r}\\end{matrix}\\right]$"
      ],
      "text/plain": [
       "[[(r*(r - b(r))*(Derivative(nu(r), r)**2 + 2*Derivative(nu(r), (r, 2))) + 4*(r - b(r))*Derivative(nu(r), r) - (r*Derivative(b(r), r) - b(r))*Derivative(nu(r), r))*exp(nu(r))/(4*r**2), 0, 0, 0], [0, (-r*(r*(r - b(r))*(Derivative(nu(r), r)**2 + 2*Derivative(nu(r), (r, 2))) - (r*Derivative(b(r), r) - b(r))*Derivative(nu(r), r))/4 + r*Derivative(b(r), r) - b(r))/(r**2*(r - b(r))), 0, 0], [0, 0, (-r*(r - b(r))*Derivative(nu(r), r) + r*Derivative(b(r), r) + b(r))/(2*r), 0], [0, 0, 0, (-r*(r - b(r))*Derivative(nu(r), r) + r*Derivative(b(r), r) + b(r))*sin(theta)**2/(2*r)]]"
      ]
     },
     "execution_count": 11,
     "metadata": {},
     "output_type": "execute_result"
    }
   ],
   "source": [
    "ricci=RicciTensor.from_metric(metric)\n",
    "ricci.simplify()"
   ]
  },
  {
   "cell_type": "code",
   "execution_count": 12,
   "id": "44d2c4fb",
   "metadata": {},
   "outputs": [
    {
     "data": {
      "text/latex": [
       "$\\displaystyle \\frac{- r \\left(r - b{\\left(r \\right)}\\right) \\left(\\left(\\frac{d}{d r} \\nu{\\left(r \\right)}\\right)^{2} + 2 \\frac{d^{2}}{d r^{2}} \\nu{\\left(r \\right)}\\right) - 4 \\left(r - b{\\left(r \\right)}\\right) \\frac{d}{d r} \\nu{\\left(r \\right)} + \\left(r \\frac{d}{d r} b{\\left(r \\right)} - b{\\left(r \\right)}\\right) \\frac{d}{d r} \\nu{\\left(r \\right)} + 4 \\frac{d}{d r} b{\\left(r \\right)}}{2 r^{2}}$"
      ],
      "text/plain": [
       "(-r*(r - b(r))*(Derivative(nu(r), r)**2 + 2*Derivative(nu(r), (r, 2))) - 4*(r - b(r))*Derivative(nu(r), r) + (r*Derivative(b(r), r) - b(r))*Derivative(nu(r), r) + 4*Derivative(b(r), r))/(2*r**2)"
      ]
     },
     "execution_count": 12,
     "metadata": {},
     "output_type": "execute_result"
    }
   ],
   "source": [
    "ricciscalar=RicciScalar.from_metric(metric)\n",
    "ricciscalar.simplify()"
   ]
  },
  {
   "cell_type": "code",
   "execution_count": 13,
   "id": "6207bd00",
   "metadata": {},
   "outputs": [
    {
     "data": {
      "text/latex": [
       "$\\displaystyle \\left[\\begin{matrix}\\frac{e^{\\nu{\\left(r \\right)}} \\frac{d}{d r} b{\\left(r \\right)}}{r^{2}} & 0 & 0 & 0\\\\0 & \\frac{1.0 \\left(r^{2} \\frac{d}{d r} \\nu{\\left(r \\right)} - r b{\\left(r \\right)} \\frac{d}{d r} \\nu{\\left(r \\right)} - b{\\left(r \\right)}\\right)}{r^{2} \\left(r - b{\\left(r \\right)}\\right)} & 0 & 0\\\\0 & 0 & \\frac{- r \\left(r - b{\\left(r \\right)}\\right) \\frac{d}{d r} \\nu{\\left(r \\right)} + r \\left(0.5 r \\left(r - b{\\left(r \\right)}\\right) \\left(\\left(\\frac{d}{d r} \\nu{\\left(r \\right)}\\right)^{2} + 2 \\frac{d^{2}}{d r^{2}} \\nu{\\left(r \\right)}\\right) + 2.0 \\left(r - b{\\left(r \\right)}\\right) \\frac{d}{d r} \\nu{\\left(r \\right)} - 0.5 \\left(r \\frac{d}{d r} b{\\left(r \\right)} - b{\\left(r \\right)}\\right) \\frac{d}{d r} \\nu{\\left(r \\right)} - 2.0 \\frac{d}{d r} b{\\left(r \\right)}\\right) + r \\frac{d}{d r} b{\\left(r \\right)} + b{\\left(r \\right)}}{2 r} & 0\\\\0 & 0 & 0 & \\frac{\\left(- r \\left(r - b{\\left(r \\right)}\\right) \\frac{d}{d r} \\nu{\\left(r \\right)} + 0.5 r \\left(r \\left(r - b{\\left(r \\right)}\\right) \\left(\\left(\\frac{d}{d r} \\nu{\\left(r \\right)}\\right)^{2} + 2 \\frac{d^{2}}{d r^{2}} \\nu{\\left(r \\right)}\\right) + 4 \\left(r - b{\\left(r \\right)}\\right) \\frac{d}{d r} \\nu{\\left(r \\right)} - \\left(r \\frac{d}{d r} b{\\left(r \\right)} - b{\\left(r \\right)}\\right) \\frac{d}{d r} \\nu{\\left(r \\right)} - 4 \\frac{d}{d r} b{\\left(r \\right)}\\right) + r \\frac{d}{d r} b{\\left(r \\right)} + b{\\left(r \\right)}\\right) \\sin^{2}{\\left(\\theta \\right)}}{2 r}\\end{matrix}\\right]$"
      ],
      "text/plain": [
       "[[exp(nu(r))*Derivative(b(r), r)/r**2, 0, 0, 0], [0, 1.0*(r**2*Derivative(nu(r), r) - r*b(r)*Derivative(nu(r), r) - b(r))/(r**2*(r - b(r))), 0, 0], [0, 0, (-r*(r - b(r))*Derivative(nu(r), r) + r*(0.5*r*(r - b(r))*(Derivative(nu(r), r)**2 + 2*Derivative(nu(r), (r, 2))) + 2.0*(r - b(r))*Derivative(nu(r), r) - 0.5*(r*Derivative(b(r), r) - b(r))*Derivative(nu(r), r) - 2.0*Derivative(b(r), r)) + r*Derivative(b(r), r) + b(r))/(2*r), 0], [0, 0, 0, (-r*(r - b(r))*Derivative(nu(r), r) + 0.5*r*(r*(r - b(r))*(Derivative(nu(r), r)**2 + 2*Derivative(nu(r), (r, 2))) + 4*(r - b(r))*Derivative(nu(r), r) - (r*Derivative(b(r), r) - b(r))*Derivative(nu(r), r) - 4*Derivative(b(r), r)) + r*Derivative(b(r), r) + b(r))*sin(theta)**2/(2*r)]]"
      ]
     },
     "execution_count": 13,
     "metadata": {},
     "output_type": "execute_result"
    }
   ],
   "source": [
    "einst = EinsteinTensor.from_metric(metric)\n",
    "einst.simplify()"
   ]
  },
  {
   "cell_type": "code",
   "execution_count": 38,
   "id": "6a94590c",
   "metadata": {},
   "outputs": [
    {
     "data": {
      "text/latex": [
       "$\\displaystyle \\frac{e^{\\nu{\\left(r \\right)}} \\frac{d}{d r} b{\\left(r \\right)}}{r^{2}} = 8 \\pi \\rho{\\left(r \\right)} e^{\\nu{\\left(r \\right)}}$"
      ],
      "text/plain": [
       "Eq(exp(nu(r))*Derivative(b(r), r)/r**2, 8*pi*rho(r)*exp(nu(r)))"
      ]
     },
     "execution_count": 38,
     "metadata": {},
     "output_type": "execute_result"
    }
   ],
   "source": [
    "EFE_1=sp.Eq(einst.tensor()[0,0],8*sp.pi*-rho(r)*metric.tensor()[0,0])\n",
    "EFE_1"
   ]
  },
  {
   "cell_type": "code",
   "execution_count": 39,
   "id": "ea347549",
   "metadata": {},
   "outputs": [
    {
     "data": {
      "text/latex": [
       "$\\displaystyle \\frac{\\frac{d}{d r} b{\\left(r \\right)}}{8 \\pi r^{2}}$"
      ],
      "text/plain": [
       "Derivative(b(r), r)/(8*pi*r**2)"
      ]
     },
     "execution_count": 39,
     "metadata": {},
     "output_type": "execute_result"
    }
   ],
   "source": [
    "sol_1=sp.solve(EFE_1,rho(r))[0]\n",
    "sol_1"
   ]
  },
  {
   "cell_type": "code",
   "execution_count": 40,
   "id": "4c35199f",
   "metadata": {},
   "outputs": [
    {
     "data": {
      "text/latex": [
       "$\\displaystyle \\frac{1.0 \\left(r^{2} \\frac{d}{d r} \\nu{\\left(r \\right)} - r b{\\left(r \\right)} \\frac{d}{d r} \\nu{\\left(r \\right)} - b{\\left(r \\right)}\\right)}{r^{2} \\left(r - b{\\left(r \\right)}\\right)} = \\frac{p{\\left(r \\right)}}{1 - \\frac{b{\\left(r \\right)}}{r}}$"
      ],
      "text/plain": [
       "Eq(1.0*(r**2*Derivative(nu(r), r) - r*b(r)*Derivative(nu(r), r) - b(r))/(r**2*(r - b(r))), p(r)/(1 - b(r)/r))"
      ]
     },
     "execution_count": 40,
     "metadata": {},
     "output_type": "execute_result"
    }
   ],
   "source": [
    "EFE_2=sp.Eq(einst.tensor()[1,1],p(r)*metric.tensor()[1,1])\n",
    "EFE_2"
   ]
  },
  {
   "cell_type": "code",
   "execution_count": 41,
   "id": "5424e11a",
   "metadata": {},
   "outputs": [
    {
     "data": {
      "text/latex": [
       "$\\displaystyle \\frac{r^{2} \\frac{d}{d r} \\nu{\\left(r \\right)} - r b{\\left(r \\right)} \\frac{d}{d r} \\nu{\\left(r \\right)} - b{\\left(r \\right)}}{r^{3}}$"
      ],
      "text/plain": [
       "(r**2*Derivative(nu(r), r) - r*b(r)*Derivative(nu(r), r) - b(r))/r**3"
      ]
     },
     "execution_count": 41,
     "metadata": {},
     "output_type": "execute_result"
    }
   ],
   "source": [
    "sol_2=sp.solve(EFE_2,p(r))[0]\n",
    "sol_2"
   ]
  },
  {
   "cell_type": "code",
   "execution_count": 42,
   "id": "3d74b642",
   "metadata": {},
   "outputs": [
    {
     "data": {
      "text/latex": [
       "$\\displaystyle p{\\left(r \\right)} = - 2 \\rho{\\left(r \\right)}$"
      ],
      "text/plain": [
       "Eq(p(r), -2*rho(r))"
      ]
     },
     "execution_count": 42,
     "metadata": {},
     "output_type": "execute_result"
    }
   ],
   "source": [
    "eos=sp.Eq(p(r),-2*rho(r))\n",
    "eos"
   ]
  },
  {
   "cell_type": "code",
   "execution_count": 43,
   "id": "a54ca96c",
   "metadata": {},
   "outputs": [
    {
     "data": {
      "text/latex": [
       "$\\displaystyle \\left(0.5 p{\\left(r \\right)} + 0.5 \\rho{\\left(r \\right)}\\right) \\frac{d}{d r} \\nu{\\left(r \\right)} + \\frac{d}{d r} p{\\left(r \\right)} = 0$"
      ],
      "text/plain": [
       "Eq((0.5*p(r) + 0.5*rho(r))*Derivative(nu(r), r) + Derivative(p(r), r), 0)"
      ]
     },
     "execution_count": 43,
     "metadata": {},
     "output_type": "execute_result"
    }
   ],
   "source": [
    "Cons_eq=sp.Eq(sp.diff(p(r),r)+0.5*(rho(r)+p(r))*sp.diff(nu(r),r),0)\n",
    "Cons_eq"
   ]
  },
  {
   "cell_type": "code",
   "execution_count": 44,
   "id": "a28819a7",
   "metadata": {},
   "outputs": [
    {
     "data": {
      "text/latex": [
       "$\\displaystyle \\frac{d}{d r} \\left(- \\frac{\\frac{d}{d r} b{\\left(r \\right)}}{4 \\pi r^{2}}\\right) - \\frac{0.0625 \\frac{d}{d r} b{\\left(r \\right)} \\frac{d}{d r} \\nu{\\left(r \\right)}}{\\pi r^{2}} = 0$"
      ],
      "text/plain": [
       "Eq(Derivative(-Derivative(b(r), r)/(4*pi*r**2), r) - 0.0625*Derivative(b(r), r)*Derivative(nu(r), r)/(pi*r**2), 0)"
      ]
     },
     "execution_count": 44,
     "metadata": {},
     "output_type": "execute_result"
    }
   ],
   "source": [
    "Cons_Eq=Cons_eq.subs([(rho(r),sol_1),(p(r),-2*sol_1)])\n",
    "Cons_Eq"
   ]
  },
  {
   "cell_type": "code",
   "execution_count": 45,
   "id": "32ad5236",
   "metadata": {},
   "outputs": [
    {
     "data": {
      "text/latex": [
       "$\\displaystyle \\frac{0.0625 \\frac{d}{d r} b{\\left(r \\right)} \\frac{d}{d r} \\nu{\\left(r \\right)}}{\\pi r^{2}} + \\frac{\\frac{d^{2}}{d r^{2}} b{\\left(r \\right)}}{4 \\pi r^{2}} - \\frac{\\frac{d}{d r} b{\\left(r \\right)}}{2 \\pi r^{3}} = 0$"
      ],
      "text/plain": [
       "Eq(0.0625*Derivative(b(r), r)*Derivative(nu(r), r)/(pi*r**2) + Derivative(b(r), (r, 2))/(4*pi*r**2) - Derivative(b(r), r)/(2*pi*r**3), 0)"
      ]
     },
     "execution_count": 45,
     "metadata": {},
     "output_type": "execute_result"
    }
   ],
   "source": [
    "Cons_Eq_simplify=Cons_Eq.simplify()\n",
    "Cons_Eq_simplify"
   ]
  },
  {
   "cell_type": "code",
   "execution_count": 46,
   "id": "cfea3397",
   "metadata": {},
   "outputs": [
    {
     "data": {
      "text/latex": [
       "$\\displaystyle \\frac{0.0625 \\frac{d}{d r} 0 \\frac{d}{d r} b{\\left(r \\right)}}{\\pi r^{2}} + \\frac{\\frac{d^{2}}{d r^{2}} b{\\left(r \\right)}}{4 \\pi r^{2}} - \\frac{\\frac{d}{d r} b{\\left(r \\right)}}{2 \\pi r^{3}} = 0$"
      ],
      "text/plain": [
       "Eq(0.0625*Derivative(0, r)*Derivative(b(r), r)/(pi*r**2) + Derivative(b(r), (r, 2))/(4*pi*r**2) - Derivative(b(r), r)/(2*pi*r**3), 0)"
      ]
     },
     "execution_count": 46,
     "metadata": {},
     "output_type": "execute_result"
    }
   ],
   "source": [
    "Cons_Eq_Simplify=Cons_Eq_simplify.subs(nu(r),0)\n",
    "Cons_Eq_Simplify"
   ]
  },
  {
   "cell_type": "code",
   "execution_count": 47,
   "id": "74e9f702",
   "metadata": {},
   "outputs": [
    {
     "data": {
      "text/latex": [
       "$\\displaystyle b{\\left(r \\right)} = C_{1} + C_{2} r^{3}$"
      ],
      "text/plain": [
       "Eq(b(r), C1 + C2*r**3)"
      ]
     },
     "execution_count": 47,
     "metadata": {},
     "output_type": "execute_result"
    }
   ],
   "source": [
    "sol_3=sp.dsolve(Cons_Eq_Simplify,b(r))\n",
    "sol_3"
   ]
  },
  {
   "cell_type": "code",
   "execution_count": 49,
   "id": "60b04b88",
   "metadata": {},
   "outputs": [
    {
     "data": {
      "text/latex": [
       "$\\displaystyle 0$"
      ],
      "text/plain": [
       "0"
      ]
     },
     "execution_count": 49,
     "metadata": {},
     "output_type": "execute_result"
    }
   ],
   "source": [
    "C1_value=sp.solve(sol_3.rhs.subs(r,0))[0]\n",
    "C1_value"
   ]
  },
  {
   "cell_type": "code",
   "execution_count": 53,
   "id": "896afec2",
   "metadata": {},
   "outputs": [
    {
     "data": {
      "text/latex": [
       "$\\displaystyle b{\\left(r \\right)} = \\frac{8 \\pi r^{3}}{3}$"
      ],
      "text/plain": [
       "Eq(b(r), 8*pi*r**3/3)"
      ]
     },
     "execution_count": 53,
     "metadata": {},
     "output_type": "execute_result"
    }
   ],
   "source": [
    "C1=sp.Symbol(\"C1\")\n",
    "C2=sp.Symbol(\"C2\")\n",
    "sol_3=sol_3.subs([(C1,C1_value),(C2,8*sp.pi/3)])\n",
    "sol_3"
   ]
  },
  {
   "cell_type": "markdown",
   "id": "2ada7523",
   "metadata": {},
   "source": [
    "* `func = sympy.lambdify(args, expr, modules=\"numpy\")`:\n",
    "\n",
    "### Parameters:\n",
    "\n",
    "1.`args`**(list,tuples or symbol):** <br><br>\n",
    "     **This specifies the variables (or symbols) in the SymPy expression that you want to be the inputs of the function.**\n",
    "     **It can be a single symbol, a list of symbols, or a tuple of symbols.The first argument to `lambdify` specifies the input   \n",
    "      variables for the function.**<br><br>\n",
    "2.`expr`**(Sympy Expression):**<br><br>\n",
    "     **The SymPy expression that you want to convert into a function. This is the expression that will be evaluated when you   \n",
    "      the generated function.The second argument is the symbolic expression that we want to evaluate**..<br><br>\n",
    "3.`modules`**(string, list, or dictionary, optional):**<br><br>   \n",
    "      **This specifies the numerical libraries or modules that should be used to evaluate the expression.\n",
    "      The third argument tells lambdify to use NumPy for numerical evaluation, which allows func to handle NumPy arrays and   \n",
    "      perform fast numerical operations.**\n",
    "      \n",
    "### Benefits of `lambdify`:\n",
    "\n",
    "* `Performance:` **By converting symbolic expressions to functions that use `NumPy` or other numerical libraries, `lambdify` allows for faster evaluations, especially for large datasets or iterative computations.**<br><br>\n",
    "\n",
    "* `Flexibility:`**You can easily switch between different numerical libraries or even use custom functions.**<br><br>\n",
    "\n",
    "* `Integration:` **`lambdify` makes it easy to integrate symbolic math with other parts of your code, especially when combined with data processing, optimization, or numerical simulation.**<br><br>\n",
    "\n",
    "### Conclusions:\n",
    "\n",
    "* `lambdify` **is a crucial tool in the SymPy library that enables the conversion of symbolic expressions into efficient numerical functions. It allows users to leverage the power of symbolic computation for defining mathematical models while also taking advantage of the speed and efficiency of numerical libraries for evaluation and further analysis.**<br><br>"
   ]
  },
  {
   "cell_type": "code",
   "execution_count": 55,
   "id": "e479cb3c",
   "metadata": {},
   "outputs": [
    {
     "data": {
      "image/png": "[encoded data removed]",
      "text/plain": [
       "<Figure size 640x480 with 1 Axes>"
      ]
     },
     "metadata": {},
     "output_type": "display_data"
    }
   ],
   "source": [
    "func=sp.lambdify(r,sol_3.rhs,\"numpy\") # Convert the symbolic expression to a numerical function using lambdify\n",
    "r_vals=np.linspace(0,10,100)\n",
    "b_vals=func(r_vals) # Now, func is a callable function that can be used with numerical inputs\n",
    "plt.ylabel(\"b(r)\")\n",
    "plt.xlabel(\"r\")\n",
    "plt.title(\"b(r) vs r plot\")\n",
    "plt.plot(r_vals,b_vals)\n",
    "plt.show()"
   ]
  },
  {
   "cell_type": "code",
   "execution_count": null,
   "id": "eafd3b94",
   "metadata": {},
   "outputs": [],
   "source": []
  }
 ],
 "metadata": {
  "kernelspec": {
   "display_name": "Python 3 (ipykernel)",
   "language": "python",
   "name": "python3"
  },
  "language_info": {
   "codemirror_mode": {
    "name": "ipython",
    "version": 3
   },
   "file_extension": ".py",
   "mimetype": "text/x-python",
   "name": "python",
   "nbconvert_exporter": "python",
   "pygments_lexer": "ipython3",
   "version": "3.10.7"
  }
 },
 "nbformat": 4,
 "nbformat_minor": 5
}
