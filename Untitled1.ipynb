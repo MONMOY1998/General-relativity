{
 "cells": [
  {
   "cell_type": "code",
   "execution_count": 1,
   "id": "7b92efb5",
   "metadata": {},
   "outputs": [
    {
     "name": "stdout",
     "output_type": "stream",
     "text": [
      "['AlcubierreWarp', 'AntiDeSitter', 'AntiDeSitterStatic', 'BarriolaVilekin', 'BaseRelativityTensor', 'BertottiKasner', 'BesselGravitationalWave', 'CMetric', 'ChristoffelSymbols', 'Davidson', 'DeSitter', 'EinsteinTensor', 'Ernst', 'GenericVector', 'Godel', 'JanisNewmanWinicour', 'Kerr', 'KerrNewman', 'MetricTensor', 'Minkowski', 'MinkowskiCartesian', 'MinkowskiPolar', 'ReissnerNordstorm', 'RicciScalar', 'RicciTensor', 'RiemannCurvatureTensor', 'SchoutenTensor', 'Schwarzschild', 'StressEnergyMomentumTensor', 'SymbolicConstant', 'Tensor', 'TransformationMatrix', 'WeylTensor', '__all__', '__builtins__', '__cached__', '__doc__', '__file__', '__loader__', '__name__', '__package__', '__path__', '__spec__', 'christoffel', 'constants', 'einstein', 'find', 'get_constant', 'helpers', 'metric', 'predefined', 'ricci', 'riemann', 'schouten', 'simplify_sympy_array', 'stress_energy_momentum', 'tensor', 'vector', 'weyl']\n"
     ]
    }
   ],
   "source": [
    "import einsteinpy.symbolic as esp\n",
    "\n",
    "print(dir(esp))"
   ]
  },
  {
   "cell_type": "code",
   "execution_count": 2,
   "id": "c36b8595",
   "metadata": {},
   "outputs": [],
   "source": [
    "import sympy as sp\n",
    "from einsteinpy.symbolic import MetricTensor, ChristoffelSymbols, RicciTensor, RicciScalar, EinsteinTensor,StressEnergyMomentumTensor"
   ]
  },
  {
   "cell_type": "code",
   "execution_count": 3,
   "id": "673844ca",
   "metadata": {},
   "outputs": [],
   "source": [
    "syms = sp.symbols(\"t r theta phi\")\n",
    "t, r, theta, phi = syms\n",
    "φ=sp.symbols(\"φ\")\n",
    "θ=sp.symbols(\"θ\")\n"
   ]
  },
  {
   "cell_type": "code",
   "execution_count": 4,
   "id": "cf6055b7",
   "metadata": {},
   "outputs": [],
   "source": [
    "#A = sp.Function(\"A\")\n",
    "#B=sp.Function(\"B\")\n",
    "phi = sp.Function('phi')\n",
    "nu = sp.Function('nu')\n",
    "H = sp.Function('H')\n",
    "K = sp.Function('K')\n"
   ]
  },
  {
   "cell_type": "code",
   "execution_count": 5,
   "id": "b428b710",
   "metadata": {},
   "outputs": [],
   "source": [
    "m = sp.diag(\n",
    "    -sp.exp(2*phi(r))*(1 + H(r)*sp.legendre(2, sp.cos(theta))),\n",
    "    sp.exp(2*nu(r))*(1 - H(r)*sp.legendre(2, sp.cos(theta))),\n",
    "    r**2 * (1 - K(r)*sp.legendre(2, sp.cos(theta))),\n",
    "    r**2 * sp.sin(theta)**2 * (1 - K(r)*sp.legendre(2, sp.cos(theta)))\n",
    ").tolist()\n"
   ]
  },
  {
   "cell_type": "code",
   "execution_count": 6,
   "id": "b6ed777d",
   "metadata": {},
   "outputs": [],
   "source": [
    "metric = MetricTensor(m, syms)"
   ]
  },
  {
   "cell_type": "code",
   "execution_count": 7,
   "id": "0e696d6a",
   "metadata": {},
   "outputs": [
    {
     "data": {
      "text/latex": [
       "$\\displaystyle \\left[\\begin{matrix}- \\left(\\left(\\frac{3 \\cos^{2}{\\left(\\theta \\right)}}{2} - \\frac{1}{2}\\right) H{\\left(r \\right)} + 1\\right) e^{2 \\phi{\\left(r \\right)}} & 0 & 0 & 0\\\\0 & \\left(- \\left(\\frac{3 \\cos^{2}{\\left(\\theta \\right)}}{2} - \\frac{1}{2}\\right) H{\\left(r \\right)} + 1\\right) e^{2 \\nu{\\left(r \\right)}} & 0 & 0\\\\0 & 0 & r^{2} \\left(- \\left(\\frac{3 \\cos^{2}{\\left(\\theta \\right)}}{2} - \\frac{1}{2}\\right) K{\\left(r \\right)} + 1\\right) & 0\\\\0 & 0 & 0 & r^{2} \\left(- \\left(\\frac{3 \\cos^{2}{\\left(\\theta \\right)}}{2} - \\frac{1}{2}\\right) K{\\left(r \\right)} + 1\\right) \\sin^{2}{\\left(\\theta \\right)}\\end{matrix}\\right]$"
      ],
      "text/plain": [
       "[[-((3*cos(theta)**2/2 - 1/2)*H(r) + 1)*exp(2*phi(r)), 0, 0, 0], [0, (-(3*cos(theta)**2/2 - 1/2)*H(r) + 1)*exp(2*nu(r)), 0, 0], [0, 0, r**2*(-(3*cos(theta)**2/2 - 1/2)*K(r) + 1), 0], [0, 0, 0, r**2*(-(3*cos(theta)**2/2 - 1/2)*K(r) + 1)*sin(theta)**2]]"
      ]
     },
     "execution_count": 7,
     "metadata": {},
     "output_type": "execute_result"
    }
   ],
   "source": [
    "metric.tensor()"
   ]
  },
  {
   "cell_type": "code",
   "execution_count": 8,
   "id": "8a579bf6",
   "metadata": {},
   "outputs": [
    {
     "data": {
      "text/latex": [
       "$\\displaystyle \\left[\\begin{matrix}\\left[\\begin{matrix}0 & \\frac{\\left(\\left(3 \\cos^{2}{\\left(\\theta \\right)} - 1\\right) H{\\left(r \\right)} + 2\\right) \\frac{d}{d r} \\phi{\\left(r \\right)} + \\frac{\\left(3 \\cos^{2}{\\left(\\theta \\right)} - 1\\right) \\frac{d}{d r} H{\\left(r \\right)}}{2}}{3 H{\\left(r \\right)} \\cos^{2}{\\left(\\theta \\right)} - H{\\left(r \\right)} + 2} & - \\frac{3 H{\\left(r \\right)} \\sin{\\left(2 \\theta \\right)}}{3 H{\\left(r \\right)} \\cos{\\left(2 \\theta \\right)} + H{\\left(r \\right)} + 4} & 0\\\\\\frac{\\left(\\left(3 \\cos^{2}{\\left(\\theta \\right)} - 1\\right) H{\\left(r \\right)} + 2\\right) \\frac{d}{d r} \\phi{\\left(r \\right)} + \\frac{\\left(3 \\cos^{2}{\\left(\\theta \\right)} - 1\\right) \\frac{d}{d r} H{\\left(r \\right)}}{2}}{3 H{\\left(r \\right)} \\cos^{2}{\\left(\\theta \\right)} - H{\\left(r \\right)} + 2} & 0 & 0 & 0\\\\- \\frac{3 H{\\left(r \\right)} \\sin{\\left(2 \\theta \\right)}}{3 H{\\left(r \\right)} \\cos{\\left(2 \\theta \\right)} + H{\\left(r \\right)} + 4} & 0 & 0 & 0\\\\0 & 0 & 0 & 0\\end{matrix}\\right] & \\left[\\begin{matrix}\\frac{\\left(\\left(\\left(3 \\cos^{2}{\\left(\\theta \\right)} - 1\\right) H{\\left(r \\right)} + 2\\right) \\frac{d}{d r} \\phi{\\left(r \\right)} + \\frac{\\left(3 \\cos^{2}{\\left(\\theta \\right)} - 1\\right) \\frac{d}{d r} H{\\left(r \\right)}}{2}\\right) e^{- 2 \\nu{\\left(r \\right)} + 2 \\phi{\\left(r \\right)}}}{- 3 H{\\left(r \\right)} \\cos^{2}{\\left(\\theta \\right)} + H{\\left(r \\right)} + 2} & 0 & 0 & 0\\\\0 & \\frac{- \\left(\\left(3 \\cos^{2}{\\left(\\theta \\right)} - 1\\right) H{\\left(r \\right)} - 2\\right) \\frac{d}{d r} \\nu{\\left(r \\right)} - \\frac{\\left(3 \\cos^{2}{\\left(\\theta \\right)} - 1\\right) \\frac{d}{d r} H{\\left(r \\right)}}{2}}{- 3 H{\\left(r \\right)} \\cos^{2}{\\left(\\theta \\right)} + H{\\left(r \\right)} + 2} & \\frac{3 H{\\left(r \\right)} \\sin{\\left(2 \\theta \\right)}}{- 3 H{\\left(r \\right)} \\cos{\\left(2 \\theta \\right)} - H{\\left(r \\right)} + 4} & 0\\\\0 & \\frac{3 H{\\left(r \\right)} \\sin{\\left(2 \\theta \\right)}}{- 3 H{\\left(r \\right)} \\cos{\\left(2 \\theta \\right)} - H{\\left(r \\right)} + 4} & \\frac{r \\left(r \\left(3 \\cos^{2}{\\left(\\theta \\right)} - 1\\right) \\frac{d}{d r} K{\\left(r \\right)} + 2 \\cdot \\left(3 \\cos^{2}{\\left(\\theta \\right)} - 1\\right) K{\\left(r \\right)} - 4\\right) e^{- 2 \\nu{\\left(r \\right)}}}{2 \\left(- 3 H{\\left(r \\right)} \\cos^{2}{\\left(\\theta \\right)} + H{\\left(r \\right)} + 2\\right)} & 0\\\\0 & 0 & 0 & \\frac{r \\left(r \\left(3 \\cos^{2}{\\left(\\theta \\right)} - 1\\right) \\frac{d}{d r} K{\\left(r \\right)} + 2 \\cdot \\left(3 \\cos^{2}{\\left(\\theta \\right)} - 1\\right) K{\\left(r \\right)} - 4\\right) e^{- 2 \\nu{\\left(r \\right)}} \\sin^{2}{\\left(\\theta \\right)}}{2 \\left(- 3 H{\\left(r \\right)} \\cos^{2}{\\left(\\theta \\right)} + H{\\left(r \\right)} + 2\\right)}\\end{matrix}\\right] & \\left[\\begin{matrix}\\frac{3 H{\\left(r \\right)} e^{2 \\phi{\\left(r \\right)}} \\sin{\\left(2 \\theta \\right)}}{r^{2} \\cdot \\left(3 K{\\left(r \\right)} \\cos{\\left(2 \\theta \\right)} + K{\\left(r \\right)} - 4\\right)} & 0 & 0 & 0\\\\0 & \\frac{3 H{\\left(r \\right)} e^{2 \\nu{\\left(r \\right)}} \\sin{\\left(2 \\theta \\right)}}{r^{2} \\cdot \\left(3 K{\\left(r \\right)} \\cos{\\left(2 \\theta \\right)} + K{\\left(r \\right)} - 4\\right)} & \\frac{- \\frac{r \\left(3 \\cos^{2}{\\left(\\theta \\right)} - 1\\right) \\frac{d}{d r} K{\\left(r \\right)}}{2} - \\left(3 \\cos^{2}{\\left(\\theta \\right)} - 1\\right) K{\\left(r \\right)} + 2}{r \\left(- 3 K{\\left(r \\right)} \\cos^{2}{\\left(\\theta \\right)} + K{\\left(r \\right)} + 2\\right)} & 0\\\\0 & \\frac{- \\frac{r \\left(3 \\cos^{2}{\\left(\\theta \\right)} - 1\\right) \\frac{d}{d r} K{\\left(r \\right)}}{2} - \\left(3 \\cos^{2}{\\left(\\theta \\right)} - 1\\right) K{\\left(r \\right)} + 2}{r \\left(- 3 K{\\left(r \\right)} \\cos^{2}{\\left(\\theta \\right)} + K{\\left(r \\right)} + 2\\right)} & \\frac{3 K{\\left(r \\right)} \\sin{\\left(2 \\theta \\right)}}{- 3 K{\\left(r \\right)} \\cos{\\left(2 \\theta \\right)} - K{\\left(r \\right)} + 4} & 0\\\\0 & 0 & 0 & \\frac{2 \\left(- 3 K{\\left(r \\right)} \\sin^{2}{\\left(\\theta \\right)} + K{\\left(r \\right)} - 1\\right) \\sin{\\left(\\theta \\right)} \\cos{\\left(\\theta \\right)}}{- 3 K{\\left(r \\right)} \\cos^{2}{\\left(\\theta \\right)} + K{\\left(r \\right)} + 2}\\end{matrix}\\right] & \\left[\\begin{matrix}0 & 0 & 0 & 0\\\\0 & 0 & 0 & \\frac{- \\frac{r \\left(3 \\cos^{2}{\\left(\\theta \\right)} - 1\\right) \\frac{d}{d r} K{\\left(r \\right)}}{2} - \\left(3 \\cos^{2}{\\left(\\theta \\right)} - 1\\right) K{\\left(r \\right)} + 2}{r \\left(- 3 K{\\left(r \\right)} \\cos^{2}{\\left(\\theta \\right)} + K{\\left(r \\right)} + 2\\right)}\\\\0 & 0 & 0 & \\frac{6 K{\\left(r \\right)} \\sin^{2}{\\left(\\theta \\right)} - 2 K{\\left(r \\right)} + 2}{\\left(- 3 K{\\left(r \\right)} \\cos^{2}{\\left(\\theta \\right)} + K{\\left(r \\right)} + 2\\right) \\tan{\\left(\\theta \\right)}}\\\\0 & \\frac{- \\frac{r \\left(3 \\cos^{2}{\\left(\\theta \\right)} - 1\\right) \\frac{d}{d r} K{\\left(r \\right)}}{2} - \\left(3 \\cos^{2}{\\left(\\theta \\right)} - 1\\right) K{\\left(r \\right)} + 2}{r \\left(- 3 K{\\left(r \\right)} \\cos^{2}{\\left(\\theta \\right)} + K{\\left(r \\right)} + 2\\right)} & \\frac{6 K{\\left(r \\right)} \\sin^{2}{\\left(\\theta \\right)} - 2 K{\\left(r \\right)} + 2}{\\left(- 3 K{\\left(r \\right)} \\cos^{2}{\\left(\\theta \\right)} + K{\\left(r \\right)} + 2\\right) \\tan{\\left(\\theta \\right)}} & 0\\end{matrix}\\right]\\end{matrix}\\right]$"
      ],
      "text/plain": [
       "[[[0, (((3*cos(theta)**2 - 1)*H(r) + 2)*Derivative(phi(r), r) + (3*cos(theta)**2 - 1)*Derivative(H(r), r)/2)/(3*H(r)*cos(theta)**2 - H(r) + 2), -3*H(r)*sin(2*theta)/(3*H(r)*cos(2*theta) + H(r) + 4), 0], [(((3*cos(theta)**2 - 1)*H(r) + 2)*Derivative(phi(r), r) + (3*cos(theta)**2 - 1)*Derivative(H(r), r)/2)/(3*H(r)*cos(theta)**2 - H(r) + 2), 0, 0, 0], [-3*H(r)*sin(2*theta)/(3*H(r)*cos(2*theta) + H(r) + 4), 0, 0, 0], [0, 0, 0, 0]], [[(((3*cos(theta)**2 - 1)*H(r) + 2)*Derivative(phi(r), r) + (3*cos(theta)**2 - 1)*Derivative(H(r), r)/2)*exp(-2*nu(r) + 2*phi(r))/(-3*H(r)*cos(theta)**2 + H(r) + 2), 0, 0, 0], [0, (-((3*cos(theta)**2 - 1)*H(r) - 2)*Derivative(nu(r), r) - (3*cos(theta)**2 - 1)*Derivative(H(r), r)/2)/(-3*H(r)*cos(theta)**2 + H(r) + 2), 3*H(r)*sin(2*theta)/(-3*H(r)*cos(2*theta) - H(r) + 4), 0], [0, 3*H(r)*sin(2*theta)/(-3*H(r)*cos(2*theta) - H(r) + 4), r*(r*(3*cos(theta)**2 - 1)*Derivative(K(r), r) + 2*(3*cos(theta)**2 - 1)*K(r) - 4)*exp(-2*nu(r))/(2*(-3*H(r)*cos(theta)**2 + H(r) + 2)), 0], [0, 0, 0, r*(r*(3*cos(theta)**2 - 1)*Derivative(K(r), r) + 2*(3*cos(theta)**2 - 1)*K(r) - 4)*exp(-2*nu(r))*sin(theta)**2/(2*(-3*H(r)*cos(theta)**2 + H(r) + 2))]], [[3*H(r)*exp(2*phi(r))*sin(2*theta)/(r**2*(3*K(r)*cos(2*theta) + K(r) - 4)), 0, 0, 0], [0, 3*H(r)*exp(2*nu(r))*sin(2*theta)/(r**2*(3*K(r)*cos(2*theta) + K(r) - 4)), (-r*(3*cos(theta)**2 - 1)*Derivative(K(r), r)/2 - (3*cos(theta)**2 - 1)*K(r) + 2)/(r*(-3*K(r)*cos(theta)**2 + K(r) + 2)), 0], [0, (-r*(3*cos(theta)**2 - 1)*Derivative(K(r), r)/2 - (3*cos(theta)**2 - 1)*K(r) + 2)/(r*(-3*K(r)*cos(theta)**2 + K(r) + 2)), 3*K(r)*sin(2*theta)/(-3*K(r)*cos(2*theta) - K(r) + 4), 0], [0, 0, 0, 2*(-3*K(r)*sin(theta)**2 + K(r) - 1)*sin(theta)*cos(theta)/(-3*K(r)*cos(theta)**2 + K(r) + 2)]], [[0, 0, 0, 0], [0, 0, 0, (-r*(3*cos(theta)**2 - 1)*Derivative(K(r), r)/2 - (3*cos(theta)**2 - 1)*K(r) + 2)/(r*(-3*K(r)*cos(theta)**2 + K(r) + 2))], [0, 0, 0, (6*K(r)*sin(theta)**2 - 2*K(r) + 2)/((-3*K(r)*cos(theta)**2 + K(r) + 2)*tan(theta))], [0, (-r*(3*cos(theta)**2 - 1)*Derivative(K(r), r)/2 - (3*cos(theta)**2 - 1)*K(r) + 2)/(r*(-3*K(r)*cos(theta)**2 + K(r) + 2)), (6*K(r)*sin(theta)**2 - 2*K(r) + 2)/((-3*K(r)*cos(theta)**2 + K(r) + 2)*tan(theta)), 0]]]"
      ]
     },
     "execution_count": 8,
     "metadata": {},
     "output_type": "execute_result"
    }
   ],
   "source": [
    "ch=ChristoffelSymbols.from_metric(metric)\n",
    "ch.simplify()"
   ]
  },
  {
   "cell_type": "code",
   "execution_count": 9,
   "id": "293bcfec",
   "metadata": {},
   "outputs": [
    {
     "data": {
      "text/latex": [
       "$\\displaystyle \\Gamma^{t}_{tr} = \\frac{\\left(\\left(3 \\cos^{2}{\\left(\\theta \\right)} - 1\\right) H{\\left(r \\right)} + 2\\right) \\frac{d}{d r} \\phi{\\left(r \\right)} + \\frac{\\left(3 \\cos^{2}{\\left(\\theta \\right)} - 1\\right) \\frac{d}{d r} H{\\left(r \\right)}}{2}}{3 H{\\left(r \\right)} \\cos^{2}{\\left(\\theta \\right)} - H{\\left(r \\right)} + 2}$"
      ],
      "text/plain": [
       "Eq(Gamma^t_tr, (((3*cos(theta)**2 - 1)*H(r) + 2)*Derivative(phi(r), r) + (3*cos(theta)**2 - 1)*Derivative(H(r), r)/2)/(3*H(r)*cos(theta)**2 - H(r) + 2))"
      ]
     },
     "metadata": {},
     "output_type": "display_data"
    },
    {
     "data": {
      "text/latex": [
       "$\\displaystyle \\Gamma^{t}_{tθ} = - \\frac{3 H{\\left(r \\right)} \\sin{\\left(2 \\theta \\right)}}{3 H{\\left(r \\right)} \\cos{\\left(2 \\theta \\right)} + H{\\left(r \\right)} + 4}$"
      ],
      "text/plain": [
       "Eq(Gamma^t_tθ, -3*H(r)*sin(2*theta)/(3*H(r)*cos(2*theta) + H(r) + 4))"
      ]
     },
     "metadata": {},
     "output_type": "display_data"
    },
    {
     "data": {
      "text/latex": [
       "$\\displaystyle \\Gamma^{t}_{rt} = \\frac{\\left(\\left(3 \\cos^{2}{\\left(\\theta \\right)} - 1\\right) H{\\left(r \\right)} + 2\\right) \\frac{d}{d r} \\phi{\\left(r \\right)} + \\frac{\\left(3 \\cos^{2}{\\left(\\theta \\right)} - 1\\right) \\frac{d}{d r} H{\\left(r \\right)}}{2}}{3 H{\\left(r \\right)} \\cos^{2}{\\left(\\theta \\right)} - H{\\left(r \\right)} + 2}$"
      ],
      "text/plain": [
       "Eq(Gamma^t_rt, (((3*cos(theta)**2 - 1)*H(r) + 2)*Derivative(phi(r), r) + (3*cos(theta)**2 - 1)*Derivative(H(r), r)/2)/(3*H(r)*cos(theta)**2 - H(r) + 2))"
      ]
     },
     "metadata": {},
     "output_type": "display_data"
    },
    {
     "data": {
      "text/latex": [
       "$\\displaystyle \\Gamma^{t}_{θt} = - \\frac{3 H{\\left(r \\right)} \\sin{\\left(2 \\theta \\right)}}{3 H{\\left(r \\right)} \\cos{\\left(2 \\theta \\right)} + H{\\left(r \\right)} + 4}$"
      ],
      "text/plain": [
       "Eq(Gamma^t_θt, -3*H(r)*sin(2*theta)/(3*H(r)*cos(2*theta) + H(r) + 4))"
      ]
     },
     "metadata": {},
     "output_type": "display_data"
    },
    {
     "data": {
      "text/latex": [
       "$\\displaystyle \\Gamma^{r}_{tt} = \\frac{\\left(\\left(\\left(3 \\cos^{2}{\\left(\\theta \\right)} - 1\\right) H{\\left(r \\right)} + 2\\right) \\frac{d}{d r} \\phi{\\left(r \\right)} + \\frac{\\left(3 \\cos^{2}{\\left(\\theta \\right)} - 1\\right) \\frac{d}{d r} H{\\left(r \\right)}}{2}\\right) e^{- 2 \\nu{\\left(r \\right)} + 2 \\phi{\\left(r \\right)}}}{- 3 H{\\left(r \\right)} \\cos^{2}{\\left(\\theta \\right)} + H{\\left(r \\right)} + 2}$"
      ],
      "text/plain": [
       "Eq(Gamma^r_tt, (((3*cos(theta)**2 - 1)*H(r) + 2)*Derivative(phi(r), r) + (3*cos(theta)**2 - 1)*Derivative(H(r), r)/2)*exp(-2*nu(r) + 2*phi(r))/(-3*H(r)*cos(theta)**2 + H(r) + 2))"
      ]
     },
     "metadata": {},
     "output_type": "display_data"
    },
    {
     "data": {
      "text/latex": [
       "$\\displaystyle \\Gamma^{r}_{rr} = \\frac{- \\left(\\left(3 \\cos^{2}{\\left(\\theta \\right)} - 1\\right) H{\\left(r \\right)} - 2\\right) \\frac{d}{d r} \\nu{\\left(r \\right)} - \\frac{\\left(3 \\cos^{2}{\\left(\\theta \\right)} - 1\\right) \\frac{d}{d r} H{\\left(r \\right)}}{2}}{- 3 H{\\left(r \\right)} \\cos^{2}{\\left(\\theta \\right)} + H{\\left(r \\right)} + 2}$"
      ],
      "text/plain": [
       "Eq(Gamma^r_rr, (-((3*cos(theta)**2 - 1)*H(r) - 2)*Derivative(nu(r), r) - (3*cos(theta)**2 - 1)*Derivative(H(r), r)/2)/(-3*H(r)*cos(theta)**2 + H(r) + 2))"
      ]
     },
     "metadata": {},
     "output_type": "display_data"
    },
    {
     "data": {
      "text/latex": [
       "$\\displaystyle \\Gamma^{r}_{rθ} = \\frac{3 H{\\left(r \\right)} \\sin{\\left(2 \\theta \\right)}}{- 3 H{\\left(r \\right)} \\cos{\\left(2 \\theta \\right)} - H{\\left(r \\right)} + 4}$"
      ],
      "text/plain": [
       "Eq(Gamma^r_rθ, 3*H(r)*sin(2*theta)/(-3*H(r)*cos(2*theta) - H(r) + 4))"
      ]
     },
     "metadata": {},
     "output_type": "display_data"
    },
    {
     "data": {
      "text/latex": [
       "$\\displaystyle \\Gamma^{r}_{θr} = \\frac{3 H{\\left(r \\right)} \\sin{\\left(2 \\theta \\right)}}{- 3 H{\\left(r \\right)} \\cos{\\left(2 \\theta \\right)} - H{\\left(r \\right)} + 4}$"
      ],
      "text/plain": [
       "Eq(Gamma^r_θr, 3*H(r)*sin(2*theta)/(-3*H(r)*cos(2*theta) - H(r) + 4))"
      ]
     },
     "metadata": {},
     "output_type": "display_data"
    },
    {
     "data": {
      "text/latex": [
       "$\\displaystyle \\Gamma^{r}_{θθ} = \\frac{r \\left(r \\left(3 \\cos^{2}{\\left(\\theta \\right)} - 1\\right) \\frac{d}{d r} K{\\left(r \\right)} + 2 \\cdot \\left(3 \\cos^{2}{\\left(\\theta \\right)} - 1\\right) K{\\left(r \\right)} - 4\\right) e^{- 2 \\nu{\\left(r \\right)}}}{2 \\left(- 3 H{\\left(r \\right)} \\cos^{2}{\\left(\\theta \\right)} + H{\\left(r \\right)} + 2\\right)}$"
      ],
      "text/plain": [
       "Eq(Gamma^r_θθ, r*(r*(3*cos(theta)**2 - 1)*Derivative(K(r), r) + 2*(3*cos(theta)**2 - 1)*K(r) - 4)*exp(-2*nu(r))/(2*(-3*H(r)*cos(theta)**2 + H(r) + 2)))"
      ]
     },
     "metadata": {},
     "output_type": "display_data"
    },
    {
     "data": {
      "text/latex": [
       "$\\displaystyle \\Gamma^{r}_{φφ} = \\frac{r \\left(r \\left(3 \\cos^{2}{\\left(\\theta \\right)} - 1\\right) \\frac{d}{d r} K{\\left(r \\right)} + 2 \\cdot \\left(3 \\cos^{2}{\\left(\\theta \\right)} - 1\\right) K{\\left(r \\right)} - 4\\right) e^{- 2 \\nu{\\left(r \\right)}} \\sin^{2}{\\left(\\theta \\right)}}{2 \\left(- 3 H{\\left(r \\right)} \\cos^{2}{\\left(\\theta \\right)} + H{\\left(r \\right)} + 2\\right)}$"
      ],
      "text/plain": [
       "Eq(Gamma^r_φφ, r*(r*(3*cos(theta)**2 - 1)*Derivative(K(r), r) + 2*(3*cos(theta)**2 - 1)*K(r) - 4)*exp(-2*nu(r))*sin(theta)**2/(2*(-3*H(r)*cos(theta)**2 + H(r) + 2)))"
      ]
     },
     "metadata": {},
     "output_type": "display_data"
    },
    {
     "data": {
      "text/latex": [
       "$\\displaystyle \\Gamma^{θ}_{tt} = \\frac{3 H{\\left(r \\right)} e^{2 \\phi{\\left(r \\right)}} \\sin{\\left(2 \\theta \\right)}}{r^{2} \\cdot \\left(3 K{\\left(r \\right)} \\cos{\\left(2 \\theta \\right)} + K{\\left(r \\right)} - 4\\right)}$"
      ],
      "text/plain": [
       "Eq(Gamma^θ_tt, 3*H(r)*exp(2*phi(r))*sin(2*theta)/(r**2*(3*K(r)*cos(2*theta) + K(r) - 4)))"
      ]
     },
     "metadata": {},
     "output_type": "display_data"
    },
    {
     "data": {
      "text/latex": [
       "$\\displaystyle \\Gamma^{θ}_{rr} = \\frac{3 H{\\left(r \\right)} e^{2 \\nu{\\left(r \\right)}} \\sin{\\left(2 \\theta \\right)}}{r^{2} \\cdot \\left(3 K{\\left(r \\right)} \\cos{\\left(2 \\theta \\right)} + K{\\left(r \\right)} - 4\\right)}$"
      ],
      "text/plain": [
       "Eq(Gamma^θ_rr, 3*H(r)*exp(2*nu(r))*sin(2*theta)/(r**2*(3*K(r)*cos(2*theta) + K(r) - 4)))"
      ]
     },
     "metadata": {},
     "output_type": "display_data"
    },
    {
     "data": {
      "text/latex": [
       "$\\displaystyle \\Gamma^{θ}_{rθ} = \\frac{- \\frac{r \\left(3 \\cos^{2}{\\left(\\theta \\right)} - 1\\right) \\frac{d}{d r} K{\\left(r \\right)}}{2} - \\left(3 \\cos^{2}{\\left(\\theta \\right)} - 1\\right) K{\\left(r \\right)} + 2}{r \\left(- 3 K{\\left(r \\right)} \\cos^{2}{\\left(\\theta \\right)} + K{\\left(r \\right)} + 2\\right)}$"
      ],
      "text/plain": [
       "Eq(Gamma^θ_rθ, (-r*(3*cos(theta)**2 - 1)*Derivative(K(r), r)/2 - (3*cos(theta)**2 - 1)*K(r) + 2)/(r*(-3*K(r)*cos(theta)**2 + K(r) + 2)))"
      ]
     },
     "metadata": {},
     "output_type": "display_data"
    },
    {
     "data": {
      "text/latex": [
       "$\\displaystyle \\Gamma^{θ}_{θr} = \\frac{- \\frac{r \\left(3 \\cos^{2}{\\left(\\theta \\right)} - 1\\right) \\frac{d}{d r} K{\\left(r \\right)}}{2} - \\left(3 \\cos^{2}{\\left(\\theta \\right)} - 1\\right) K{\\left(r \\right)} + 2}{r \\left(- 3 K{\\left(r \\right)} \\cos^{2}{\\left(\\theta \\right)} + K{\\left(r \\right)} + 2\\right)}$"
      ],
      "text/plain": [
       "Eq(Gamma^θ_θr, (-r*(3*cos(theta)**2 - 1)*Derivative(K(r), r)/2 - (3*cos(theta)**2 - 1)*K(r) + 2)/(r*(-3*K(r)*cos(theta)**2 + K(r) + 2)))"
      ]
     },
     "metadata": {},
     "output_type": "display_data"
    },
    {
     "data": {
      "text/latex": [
       "$\\displaystyle \\Gamma^{θ}_{θθ} = \\frac{3 K{\\left(r \\right)} \\sin{\\left(2 \\theta \\right)}}{- 3 K{\\left(r \\right)} \\cos{\\left(2 \\theta \\right)} - K{\\left(r \\right)} + 4}$"
      ],
      "text/plain": [
       "Eq(Gamma^θ_θθ, 3*K(r)*sin(2*theta)/(-3*K(r)*cos(2*theta) - K(r) + 4))"
      ]
     },
     "metadata": {},
     "output_type": "display_data"
    },
    {
     "data": {
      "text/latex": [
       "$\\displaystyle \\Gamma^{θ}_{φφ} = \\frac{2 \\left(- 3 K{\\left(r \\right)} \\sin^{2}{\\left(\\theta \\right)} + K{\\left(r \\right)} - 1\\right) \\sin{\\left(\\theta \\right)} \\cos{\\left(\\theta \\right)}}{- 3 K{\\left(r \\right)} \\cos^{2}{\\left(\\theta \\right)} + K{\\left(r \\right)} + 2}$"
      ],
      "text/plain": [
       "Eq(Gamma^θ_φφ, 2*(-3*K(r)*sin(theta)**2 + K(r) - 1)*sin(theta)*cos(theta)/(-3*K(r)*cos(theta)**2 + K(r) + 2))"
      ]
     },
     "metadata": {},
     "output_type": "display_data"
    },
    {
     "data": {
      "text/latex": [
       "$\\displaystyle \\Gamma^{φ}_{rφ} = \\frac{- \\frac{r \\left(3 \\cos^{2}{\\left(\\theta \\right)} - 1\\right) \\frac{d}{d r} K{\\left(r \\right)}}{2} - \\left(3 \\cos^{2}{\\left(\\theta \\right)} - 1\\right) K{\\left(r \\right)} + 2}{r \\left(- 3 K{\\left(r \\right)} \\cos^{2}{\\left(\\theta \\right)} + K{\\left(r \\right)} + 2\\right)}$"
      ],
      "text/plain": [
       "Eq(Gamma^φ_rφ, (-r*(3*cos(theta)**2 - 1)*Derivative(K(r), r)/2 - (3*cos(theta)**2 - 1)*K(r) + 2)/(r*(-3*K(r)*cos(theta)**2 + K(r) + 2)))"
      ]
     },
     "metadata": {},
     "output_type": "display_data"
    },
    {
     "data": {
      "text/latex": [
       "$\\displaystyle \\Gamma^{φ}_{θφ} = \\frac{6 K{\\left(r \\right)} \\sin^{2}{\\left(\\theta \\right)} - 2 K{\\left(r \\right)} + 2}{\\left(- 3 K{\\left(r \\right)} \\cos^{2}{\\left(\\theta \\right)} + K{\\left(r \\right)} + 2\\right) \\tan{\\left(\\theta \\right)}}$"
      ],
      "text/plain": [
       "Eq(Gamma^φ_θφ, (6*K(r)*sin(theta)**2 - 2*K(r) + 2)/((-3*K(r)*cos(theta)**2 + K(r) + 2)*tan(theta)))"
      ]
     },
     "metadata": {},
     "output_type": "display_data"
    },
    {
     "data": {
      "text/latex": [
       "$\\displaystyle \\Gamma^{φ}_{φr} = \\frac{- \\frac{r \\left(3 \\cos^{2}{\\left(\\theta \\right)} - 1\\right) \\frac{d}{d r} K{\\left(r \\right)}}{2} - \\left(3 \\cos^{2}{\\left(\\theta \\right)} - 1\\right) K{\\left(r \\right)} + 2}{r \\left(- 3 K{\\left(r \\right)} \\cos^{2}{\\left(\\theta \\right)} + K{\\left(r \\right)} + 2\\right)}$"
      ],
      "text/plain": [
       "Eq(Gamma^φ_φr, (-r*(3*cos(theta)**2 - 1)*Derivative(K(r), r)/2 - (3*cos(theta)**2 - 1)*K(r) + 2)/(r*(-3*K(r)*cos(theta)**2 + K(r) + 2)))"
      ]
     },
     "metadata": {},
     "output_type": "display_data"
    },
    {
     "data": {
      "text/latex": [
       "$\\displaystyle \\Gamma^{φ}_{φθ} = \\frac{6 K{\\left(r \\right)} \\sin^{2}{\\left(\\theta \\right)} - 2 K{\\left(r \\right)} + 2}{\\left(- 3 K{\\left(r \\right)} \\cos^{2}{\\left(\\theta \\right)} + K{\\left(r \\right)} + 2\\right) \\tan{\\left(\\theta \\right)}}$"
      ],
      "text/plain": [
       "Eq(Gamma^φ_φθ, (6*K(r)*sin(theta)**2 - 2*K(r) + 2)/((-3*K(r)*cos(theta)**2 + K(r) + 2)*tan(theta)))"
      ]
     },
     "metadata": {},
     "output_type": "display_data"
    }
   ],
   "source": [
    "\n",
    "\n",
    "\n",
    "n = [t,r,θ,φ]  # Using dim attribute for MetricTensor object\n",
    "\n",
    "# Extract non-vanishing Christoffel symbols\n",
    "non_vanishing = [] #Creates an empty list to store the non-vanishing Christoffel symbols.\n",
    "\n",
    "for i in range(4):\n",
    "    for j in range(4):\n",
    "        for k in range(4):\n",
    "            component = ch[i, j, k]\n",
    "            if component != 0 and not component.is_zero:\n",
    "                symbol = sp.symbols(f'Gamma^{n[i]}_{n[j]}{n[k]}') # Creates a symbolic representation of the Christoffel symbol in Γjki​ notation.\n",
    "                non_vanishing.append(sp.Eq(symbol, component))\n",
    "\n",
    "# Display the non-vanishing Christoffel symbols\n",
    "for eq in non_vanishing:\n",
    "    display(eq)\n"
   ]
  },
  {
   "cell_type": "code",
   "execution_count": 10,
   "id": "21eb47f4",
   "metadata": {},
   "outputs": [],
   "source": [
    "for index, eq in enumerate(non_vanishing):\n",
    "    exec(f'ch_{index} = eq')"
   ]
  },
  {
   "cell_type": "code",
   "execution_count": 11,
   "id": "8b2d1be6",
   "metadata": {},
   "outputs": [
    {
     "data": {
      "text/latex": [
       "$\\displaystyle \\Gamma^{t}_{tr} = \\frac{\\left(\\left(3 \\cos^{2}{\\left(\\theta \\right)} - 1\\right) H{\\left(r \\right)} + 2\\right) \\frac{d}{d r} \\phi{\\left(r \\right)} + \\frac{\\left(3 \\cos^{2}{\\left(\\theta \\right)} - 1\\right) \\frac{d}{d r} H{\\left(r \\right)}}{2}}{3 H{\\left(r \\right)} \\cos^{2}{\\left(\\theta \\right)} - H{\\left(r \\right)} + 2}$"
      ],
      "text/plain": [
       "Eq(Gamma^t_tr, (((3*cos(theta)**2 - 1)*H(r) + 2)*Derivative(phi(r), r) + (3*cos(theta)**2 - 1)*Derivative(H(r), r)/2)/(3*H(r)*cos(theta)**2 - H(r) + 2))"
      ]
     },
     "execution_count": 11,
     "metadata": {},
     "output_type": "execute_result"
    }
   ],
   "source": [
    "ch_0  \n",
    "\n"
   ]
  },
  {
   "cell_type": "code",
   "execution_count": 12,
   "id": "298bc61f",
   "metadata": {},
   "outputs": [
    {
     "data": {
      "text/latex": [
       "$\\displaystyle \\Gamma^{t}_{tθ} = - \\frac{3 H{\\left(r \\right)} \\sin{\\left(2 \\theta \\right)}}{3 H{\\left(r \\right)} \\cos{\\left(2 \\theta \\right)} + H{\\left(r \\right)} + 4}$"
      ],
      "text/plain": [
       "Eq(Gamma^t_tθ, -3*H(r)*sin(2*theta)/(3*H(r)*cos(2*theta) + H(r) + 4))"
      ]
     },
     "execution_count": 12,
     "metadata": {},
     "output_type": "execute_result"
    }
   ],
   "source": [
    "ch_1"
   ]
  },
  {
   "cell_type": "code",
   "execution_count": null,
   "id": "51b7f3c8",
   "metadata": {},
   "outputs": [],
   "source": [
    "ricci=RicciTensor.from_metric(metric)\n",
    "ricci.simplify()"
   ]
  },
  {
   "cell_type": "code",
   "execution_count": null,
   "id": "8f8406ab",
   "metadata": {},
   "outputs": [],
   "source": []
  }
 ],
 "metadata": {
  "kernelspec": {
   "display_name": "Python 3 (ipykernel)",
   "language": "python",
   "name": "python3"
  },
  "language_info": {
   "codemirror_mode": {
    "name": "ipython",
    "version": 3
   },
   "file_extension": ".py",
   "mimetype": "text/x-python",
   "name": "python",
   "nbconvert_exporter": "python",
   "pygments_lexer": "ipython3",
   "version": "3.10.7"
  }
 },
 "nbformat": 4,
 "nbformat_minor": 5
}
