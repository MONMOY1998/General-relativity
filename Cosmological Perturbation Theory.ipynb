{
 "cells": [
  {
   "cell_type": "code",
   "execution_count": 1,
   "metadata": {},
   "outputs": [],
   "source": [
    "import pytearcat as pt"
   ]
  },
  {
   "cell_type": "markdown",
   "metadata": {},
   "source": [
    "## Scalar Perturbations in $G_{\\mu \\nu}$"
   ]
  },
  {
   "cell_type": "code",
   "execution_count": 3,
   "metadata": {
    "scrolled": true
   },
   "outputs": [
    {
     "name": "stdout",
     "output_type": "stream",
     "text": [
      "Remember that the time coordinate must be the first coordinate.\n",
      "Function a(eta) is already defined\n",
      "Function phi(eta,x,y,z) is already defined\n",
      "Function psi(eta,x,y,z) is already defined\n",
      "Constant(s) already defined.\n",
      "The metric has already been defined. Do you want to overwrite it? (yes/no)yes\n",
      "The metric has been redefined. Standard tensors have been deleted.\n",
      "\n",
      "Dimension = 4\n",
      "Coordinates = eta,x,y,z\n",
      "Metric defined successfully: \n",
      "\n"
     ]
    },
    {
     "data": {
      "text/latex": [
       "$\\displaystyle ds^2 = \\left(- 2 \\delta a^{2}{\\left(\\eta \\right)} \\psi{\\left(\\eta,x,y,z \\right)} - a^{2}{\\left(\\eta \\right)}\\right) \\cdot d\\eta^2+\\left(2 \\delta a^{2}{\\left(\\eta \\right)} \\phi{\\left(\\eta,x,y,z \\right)} + a^{2}{\\left(\\eta \\right)}\\right) \\cdot dx^2+\\left(2 \\delta a^{2}{\\left(\\eta \\right)} \\phi{\\left(\\eta,x,y,z \\right)} + a^{2}{\\left(\\eta \\right)}\\right) \\cdot dy^2+\\left(2 \\delta a^{2}{\\left(\\eta \\right)} \\phi{\\left(\\eta,x,y,z \\right)} + a^{2}{\\left(\\eta \\right)}\\right) \\cdot dz^2$"
      ],
      "text/plain": [
       "<IPython.core.display.Math object>"
      ]
     },
     "metadata": {},
     "output_type": "display_data"
    },
    {
     "data": {
      "text/latex": [
       "$\\displaystyle \\left[\\begin{matrix}- 2 \\delta a^{2}{\\left(\\eta \\right)} \\psi{\\left(\\eta,x,y,z \\right)} - a^{2}{\\left(\\eta \\right)} & 0 & 0 & 0\\\\0 & 2 \\delta a^{2}{\\left(\\eta \\right)} \\phi{\\left(\\eta,x,y,z \\right)} + a^{2}{\\left(\\eta \\right)} & 0 & 0\\\\0 & 0 & 2 \\delta a^{2}{\\left(\\eta \\right)} \\phi{\\left(\\eta,x,y,z \\right)} + a^{2}{\\left(\\eta \\right)} & 0\\\\0 & 0 & 0 & 2 \\delta a^{2}{\\left(\\eta \\right)} \\phi{\\left(\\eta,x,y,z \\right)} + a^{2}{\\left(\\eta \\right)}\\end{matrix}\\right]$"
      ],
      "text/plain": [
       "Matrix([\n",
       "[-2*delta*a(eta)**2*psi(eta, x, y, z) - a(eta)**2,                                               0,                                               0,                                               0],\n",
       "[                                               0, 2*delta*a(eta)**2*phi(eta, x, y, z) + a(eta)**2,                                               0,                                               0],\n",
       "[                                               0,                                               0, 2*delta*a(eta)**2*phi(eta, x, y, z) + a(eta)**2,                                               0],\n",
       "[                                               0,                                               0,                                               0, 2*delta*a(eta)**2*phi(eta, x, y, z) + a(eta)**2]])"
      ]
     },
     "metadata": {},
     "output_type": "display_data"
    }
   ],
   "source": [
    "# Define the coordinates to be used\n",
    "eta,x,y,z = pt.coords('eta,x,y,z')\n",
    "# Define any constant (more than one constant can be defined at the same time)\n",
    "a = pt.fun('a','eta')\n",
    "phi = pt.fun('phi','eta,x,y,z')\n",
    "psi = pt.fun('psi','eta,x,y,z')\n",
    "delta = pt.con('delta')\n",
    "pt.order(delta,1)\n",
    "g = pt.metric('ds2 = a**2*(-(1+2*delta*psi)*deta**2 + (1+2*delta*phi)*dx**2+(1+2*delta*phi)*dy**2+(1+2*delta*phi)*dz**2)')"
   ]
  },
  {
   "cell_type": "code",
   "execution_count": 4,
   "metadata": {
    "scrolled": false
   },
   "outputs": [
    {
     "data": {
      "text/latex": [
       "Christoffel $\\Gamma_{\\alpha \\beta \\gamma}$ and $\\Gamma^{\\alpha}_{\\beta \\gamma}$"
      ],
      "text/plain": [
       "<IPython.core.display.Latex object>"
      ]
     },
     "metadata": {},
     "output_type": "display_data"
    },
    {
     "data": {
      "application/vnd.jupyter.widget-view+json": {
       "model_id": "530e6eee36b5440f997b9974a224c21a",
       "version_major": 2,
       "version_minor": 0
      },
      "text/plain": [
       "  0%|          | 0/64 [00:00<?, ?it/s]"
      ]
     },
     "metadata": {},
     "output_type": "display_data"
    },
    {
     "data": {
      "text/latex": [
       "$\\displaystyle {\\Gamma}{}_{0}\\,{}_{0}\\,{}_{0}\\, = \\delta \\left(- a^{2}{\\left(\\eta \\right)} \\frac{\\partial}{\\partial \\eta} \\psi{\\left(\\eta,x,y,z \\right)} - 2 a{\\left(\\eta \\right)} \\psi{\\left(\\eta,x,y,z \\right)} \\frac{d}{d \\eta} a{\\left(\\eta \\right)}\\right) - a{\\left(\\eta \\right)} \\frac{d}{d \\eta} a{\\left(\\eta \\right)}$"
      ],
      "text/plain": [
       "<IPython.core.display.Math object>"
      ]
     },
     "metadata": {},
     "output_type": "display_data"
    },
    {
     "data": {
      "text/latex": [
       "$\\displaystyle {\\Gamma}{}_{0}\\,{}_{0}\\,{}_{1}\\, = - \\delta a^{2}{\\left(\\eta \\right)} \\frac{\\partial}{\\partial x} \\psi{\\left(\\eta,x,y,z \\right)}$"
      ],
      "text/plain": [
       "<IPython.core.display.Math object>"
      ]
     },
     "metadata": {},
     "output_type": "display_data"
    },
    {
     "data": {
      "text/latex": [
       "$\\displaystyle {\\Gamma}{}_{0}\\,{}_{0}\\,{}_{2}\\, = - \\delta a^{2}{\\left(\\eta \\right)} \\frac{\\partial}{\\partial y} \\psi{\\left(\\eta,x,y,z \\right)}$"
      ],
      "text/plain": [
       "<IPython.core.display.Math object>"
      ]
     },
     "metadata": {},
     "output_type": "display_data"
    },
    {
     "data": {
      "text/latex": [
       "$\\displaystyle {\\Gamma}{}_{0}\\,{}_{0}\\,{}_{3}\\, = - \\delta a^{2}{\\left(\\eta \\right)} \\frac{\\partial}{\\partial z} \\psi{\\left(\\eta,x,y,z \\right)}$"
      ],
      "text/plain": [
       "<IPython.core.display.Math object>"
      ]
     },
     "metadata": {},
     "output_type": "display_data"
    },
    {
     "data": {
      "text/latex": [
       "$\\displaystyle {\\Gamma}{}_{0}\\,{}_{1}\\,{}_{0}\\, = - \\delta a^{2}{\\left(\\eta \\right)} \\frac{\\partial}{\\partial x} \\psi{\\left(\\eta,x,y,z \\right)}$"
      ],
      "text/plain": [
       "<IPython.core.display.Math object>"
      ]
     },
     "metadata": {},
     "output_type": "display_data"
    },
    {
     "data": {
      "text/latex": [
       "$\\displaystyle {\\Gamma}{}_{0}\\,{}_{1}\\,{}_{1}\\, = \\delta \\left(- a^{2}{\\left(\\eta \\right)} \\frac{\\partial}{\\partial \\eta} \\phi{\\left(\\eta,x,y,z \\right)} - 2 a{\\left(\\eta \\right)} \\phi{\\left(\\eta,x,y,z \\right)} \\frac{d}{d \\eta} a{\\left(\\eta \\right)}\\right) - a{\\left(\\eta \\right)} \\frac{d}{d \\eta} a{\\left(\\eta \\right)}$"
      ],
      "text/plain": [
       "<IPython.core.display.Math object>"
      ]
     },
     "metadata": {},
     "output_type": "display_data"
    },
    {
     "data": {
      "text/latex": [
       "$\\displaystyle {\\Gamma}{}_{0}\\,{}_{2}\\,{}_{0}\\, = - \\delta a^{2}{\\left(\\eta \\right)} \\frac{\\partial}{\\partial y} \\psi{\\left(\\eta,x,y,z \\right)}$"
      ],
      "text/plain": [
       "<IPython.core.display.Math object>"
      ]
     },
     "metadata": {},
     "output_type": "display_data"
    },
    {
     "data": {
      "text/latex": [
       "$\\displaystyle {\\Gamma}{}_{0}\\,{}_{2}\\,{}_{2}\\, = \\delta \\left(- a^{2}{\\left(\\eta \\right)} \\frac{\\partial}{\\partial \\eta} \\phi{\\left(\\eta,x,y,z \\right)} - 2 a{\\left(\\eta \\right)} \\phi{\\left(\\eta,x,y,z \\right)} \\frac{d}{d \\eta} a{\\left(\\eta \\right)}\\right) - a{\\left(\\eta \\right)} \\frac{d}{d \\eta} a{\\left(\\eta \\right)}$"
      ],
      "text/plain": [
       "<IPython.core.display.Math object>"
      ]
     },
     "metadata": {},
     "output_type": "display_data"
    },
    {
     "data": {
      "text/latex": [
       "$\\displaystyle {\\Gamma}{}_{0}\\,{}_{3}\\,{}_{0}\\, = - \\delta a^{2}{\\left(\\eta \\right)} \\frac{\\partial}{\\partial z} \\psi{\\left(\\eta,x,y,z \\right)}$"
      ],
      "text/plain": [
       "<IPython.core.display.Math object>"
      ]
     },
     "metadata": {},
     "output_type": "display_data"
    },
    {
     "data": {
      "text/latex": [
       "$\\displaystyle {\\Gamma}{}_{0}\\,{}_{3}\\,{}_{3}\\, = \\delta \\left(- a^{2}{\\left(\\eta \\right)} \\frac{\\partial}{\\partial \\eta} \\phi{\\left(\\eta,x,y,z \\right)} - 2 a{\\left(\\eta \\right)} \\phi{\\left(\\eta,x,y,z \\right)} \\frac{d}{d \\eta} a{\\left(\\eta \\right)}\\right) - a{\\left(\\eta \\right)} \\frac{d}{d \\eta} a{\\left(\\eta \\right)}$"
      ],
      "text/plain": [
       "<IPython.core.display.Math object>"
      ]
     },
     "metadata": {},
     "output_type": "display_data"
    },
    {
     "data": {
      "text/latex": [
       "$\\displaystyle {\\Gamma}{}_{1}\\,{}_{0}\\,{}_{0}\\, = \\delta a^{2}{\\left(\\eta \\right)} \\frac{\\partial}{\\partial x} \\psi{\\left(\\eta,x,y,z \\right)}$"
      ],
      "text/plain": [
       "<IPython.core.display.Math object>"
      ]
     },
     "metadata": {},
     "output_type": "display_data"
    },
    {
     "data": {
      "text/latex": [
       "$\\displaystyle {\\Gamma}{}_{1}\\,{}_{0}\\,{}_{1}\\, = \\delta \\left(a^{2}{\\left(\\eta \\right)} \\frac{\\partial}{\\partial \\eta} \\phi{\\left(\\eta,x,y,z \\right)} + 2 a{\\left(\\eta \\right)} \\phi{\\left(\\eta,x,y,z \\right)} \\frac{d}{d \\eta} a{\\left(\\eta \\right)}\\right) + a{\\left(\\eta \\right)} \\frac{d}{d \\eta} a{\\left(\\eta \\right)}$"
      ],
      "text/plain": [
       "<IPython.core.display.Math object>"
      ]
     },
     "metadata": {},
     "output_type": "display_data"
    },
    {
     "data": {
      "text/latex": [
       "$\\displaystyle {\\Gamma}{}_{1}\\,{}_{1}\\,{}_{0}\\, = \\delta \\left(a^{2}{\\left(\\eta \\right)} \\frac{\\partial}{\\partial \\eta} \\phi{\\left(\\eta,x,y,z \\right)} + 2 a{\\left(\\eta \\right)} \\phi{\\left(\\eta,x,y,z \\right)} \\frac{d}{d \\eta} a{\\left(\\eta \\right)}\\right) + a{\\left(\\eta \\right)} \\frac{d}{d \\eta} a{\\left(\\eta \\right)}$"
      ],
      "text/plain": [
       "<IPython.core.display.Math object>"
      ]
     },
     "metadata": {},
     "output_type": "display_data"
    },
    {
     "data": {
      "text/latex": [
       "$\\displaystyle {\\Gamma}{}_{1}\\,{}_{1}\\,{}_{1}\\, = \\delta a^{2}{\\left(\\eta \\right)} \\frac{\\partial}{\\partial x} \\phi{\\left(\\eta,x,y,z \\right)}$"
      ],
      "text/plain": [
       "<IPython.core.display.Math object>"
      ]
     },
     "metadata": {},
     "output_type": "display_data"
    },
    {
     "data": {
      "text/latex": [
       "$\\displaystyle {\\Gamma}{}_{1}\\,{}_{1}\\,{}_{2}\\, = \\delta a^{2}{\\left(\\eta \\right)} \\frac{\\partial}{\\partial y} \\phi{\\left(\\eta,x,y,z \\right)}$"
      ],
      "text/plain": [
       "<IPython.core.display.Math object>"
      ]
     },
     "metadata": {},
     "output_type": "display_data"
    },
    {
     "data": {
      "text/latex": [
       "$\\displaystyle {\\Gamma}{}_{1}\\,{}_{1}\\,{}_{3}\\, = \\delta a^{2}{\\left(\\eta \\right)} \\frac{\\partial}{\\partial z} \\phi{\\left(\\eta,x,y,z \\right)}$"
      ],
      "text/plain": [
       "<IPython.core.display.Math object>"
      ]
     },
     "metadata": {},
     "output_type": "display_data"
    },
    {
     "data": {
      "text/latex": [
       "$\\displaystyle {\\Gamma}{}_{1}\\,{}_{2}\\,{}_{1}\\, = \\delta a^{2}{\\left(\\eta \\right)} \\frac{\\partial}{\\partial y} \\phi{\\left(\\eta,x,y,z \\right)}$"
      ],
      "text/plain": [
       "<IPython.core.display.Math object>"
      ]
     },
     "metadata": {},
     "output_type": "display_data"
    },
    {
     "data": {
      "text/latex": [
       "$\\displaystyle {\\Gamma}{}_{1}\\,{}_{2}\\,{}_{2}\\, = - \\delta a^{2}{\\left(\\eta \\right)} \\frac{\\partial}{\\partial x} \\phi{\\left(\\eta,x,y,z \\right)}$"
      ],
      "text/plain": [
       "<IPython.core.display.Math object>"
      ]
     },
     "metadata": {},
     "output_type": "display_data"
    },
    {
     "data": {
      "text/latex": [
       "$\\displaystyle {\\Gamma}{}_{1}\\,{}_{3}\\,{}_{1}\\, = \\delta a^{2}{\\left(\\eta \\right)} \\frac{\\partial}{\\partial z} \\phi{\\left(\\eta,x,y,z \\right)}$"
      ],
      "text/plain": [
       "<IPython.core.display.Math object>"
      ]
     },
     "metadata": {},
     "output_type": "display_data"
    },
    {
     "data": {
      "text/latex": [
       "$\\displaystyle {\\Gamma}{}_{1}\\,{}_{3}\\,{}_{3}\\, = - \\delta a^{2}{\\left(\\eta \\right)} \\frac{\\partial}{\\partial x} \\phi{\\left(\\eta,x,y,z \\right)}$"
      ],
      "text/plain": [
       "<IPython.core.display.Math object>"
      ]
     },
     "metadata": {},
     "output_type": "display_data"
    },
    {
     "data": {
      "text/latex": [
       "$\\displaystyle {\\Gamma}{}_{2}\\,{}_{0}\\,{}_{0}\\, = \\delta a^{2}{\\left(\\eta \\right)} \\frac{\\partial}{\\partial y} \\psi{\\left(\\eta,x,y,z \\right)}$"
      ],
      "text/plain": [
       "<IPython.core.display.Math object>"
      ]
     },
     "metadata": {},
     "output_type": "display_data"
    },
    {
     "data": {
      "text/latex": [
       "$\\displaystyle {\\Gamma}{}_{2}\\,{}_{0}\\,{}_{2}\\, = \\delta \\left(a^{2}{\\left(\\eta \\right)} \\frac{\\partial}{\\partial \\eta} \\phi{\\left(\\eta,x,y,z \\right)} + 2 a{\\left(\\eta \\right)} \\phi{\\left(\\eta,x,y,z \\right)} \\frac{d}{d \\eta} a{\\left(\\eta \\right)}\\right) + a{\\left(\\eta \\right)} \\frac{d}{d \\eta} a{\\left(\\eta \\right)}$"
      ],
      "text/plain": [
       "<IPython.core.display.Math object>"
      ]
     },
     "metadata": {},
     "output_type": "display_data"
    },
    {
     "data": {
      "text/latex": [
       "$\\displaystyle {\\Gamma}{}_{2}\\,{}_{1}\\,{}_{1}\\, = - \\delta a^{2}{\\left(\\eta \\right)} \\frac{\\partial}{\\partial y} \\phi{\\left(\\eta,x,y,z \\right)}$"
      ],
      "text/plain": [
       "<IPython.core.display.Math object>"
      ]
     },
     "metadata": {},
     "output_type": "display_data"
    },
    {
     "data": {
      "text/latex": [
       "$\\displaystyle {\\Gamma}{}_{2}\\,{}_{1}\\,{}_{2}\\, = \\delta a^{2}{\\left(\\eta \\right)} \\frac{\\partial}{\\partial x} \\phi{\\left(\\eta,x,y,z \\right)}$"
      ],
      "text/plain": [
       "<IPython.core.display.Math object>"
      ]
     },
     "metadata": {},
     "output_type": "display_data"
    },
    {
     "data": {
      "text/latex": [
       "$\\displaystyle {\\Gamma}{}_{2}\\,{}_{2}\\,{}_{0}\\, = \\delta \\left(a^{2}{\\left(\\eta \\right)} \\frac{\\partial}{\\partial \\eta} \\phi{\\left(\\eta,x,y,z \\right)} + 2 a{\\left(\\eta \\right)} \\phi{\\left(\\eta,x,y,z \\right)} \\frac{d}{d \\eta} a{\\left(\\eta \\right)}\\right) + a{\\left(\\eta \\right)} \\frac{d}{d \\eta} a{\\left(\\eta \\right)}$"
      ],
      "text/plain": [
       "<IPython.core.display.Math object>"
      ]
     },
     "metadata": {},
     "output_type": "display_data"
    },
    {
     "data": {
      "text/latex": [
       "$\\displaystyle {\\Gamma}{}_{2}\\,{}_{2}\\,{}_{1}\\, = \\delta a^{2}{\\left(\\eta \\right)} \\frac{\\partial}{\\partial x} \\phi{\\left(\\eta,x,y,z \\right)}$"
      ],
      "text/plain": [
       "<IPython.core.display.Math object>"
      ]
     },
     "metadata": {},
     "output_type": "display_data"
    },
    {
     "data": {
      "text/latex": [
       "$\\displaystyle {\\Gamma}{}_{2}\\,{}_{2}\\,{}_{2}\\, = \\delta a^{2}{\\left(\\eta \\right)} \\frac{\\partial}{\\partial y} \\phi{\\left(\\eta,x,y,z \\right)}$"
      ],
      "text/plain": [
       "<IPython.core.display.Math object>"
      ]
     },
     "metadata": {},
     "output_type": "display_data"
    },
    {
     "data": {
      "text/latex": [
       "$\\displaystyle {\\Gamma}{}_{2}\\,{}_{2}\\,{}_{3}\\, = \\delta a^{2}{\\left(\\eta \\right)} \\frac{\\partial}{\\partial z} \\phi{\\left(\\eta,x,y,z \\right)}$"
      ],
      "text/plain": [
       "<IPython.core.display.Math object>"
      ]
     },
     "metadata": {},
     "output_type": "display_data"
    },
    {
     "data": {
      "text/latex": [
       "$\\displaystyle {\\Gamma}{}_{2}\\,{}_{3}\\,{}_{2}\\, = \\delta a^{2}{\\left(\\eta \\right)} \\frac{\\partial}{\\partial z} \\phi{\\left(\\eta,x,y,z \\right)}$"
      ],
      "text/plain": [
       "<IPython.core.display.Math object>"
      ]
     },
     "metadata": {},
     "output_type": "display_data"
    },
    {
     "data": {
      "text/latex": [
       "$\\displaystyle {\\Gamma}{}_{2}\\,{}_{3}\\,{}_{3}\\, = - \\delta a^{2}{\\left(\\eta \\right)} \\frac{\\partial}{\\partial y} \\phi{\\left(\\eta,x,y,z \\right)}$"
      ],
      "text/plain": [
       "<IPython.core.display.Math object>"
      ]
     },
     "metadata": {},
     "output_type": "display_data"
    },
    {
     "data": {
      "text/latex": [
       "$\\displaystyle {\\Gamma}{}_{3}\\,{}_{0}\\,{}_{0}\\, = \\delta a^{2}{\\left(\\eta \\right)} \\frac{\\partial}{\\partial z} \\psi{\\left(\\eta,x,y,z \\right)}$"
      ],
      "text/plain": [
       "<IPython.core.display.Math object>"
      ]
     },
     "metadata": {},
     "output_type": "display_data"
    },
    {
     "data": {
      "text/latex": [
       "$\\displaystyle {\\Gamma}{}_{3}\\,{}_{0}\\,{}_{3}\\, = \\delta \\left(a^{2}{\\left(\\eta \\right)} \\frac{\\partial}{\\partial \\eta} \\phi{\\left(\\eta,x,y,z \\right)} + 2 a{\\left(\\eta \\right)} \\phi{\\left(\\eta,x,y,z \\right)} \\frac{d}{d \\eta} a{\\left(\\eta \\right)}\\right) + a{\\left(\\eta \\right)} \\frac{d}{d \\eta} a{\\left(\\eta \\right)}$"
      ],
      "text/plain": [
       "<IPython.core.display.Math object>"
      ]
     },
     "metadata": {},
     "output_type": "display_data"
    },
    {
     "data": {
      "text/latex": [
       "$\\displaystyle {\\Gamma}{}_{3}\\,{}_{1}\\,{}_{1}\\, = - \\delta a^{2}{\\left(\\eta \\right)} \\frac{\\partial}{\\partial z} \\phi{\\left(\\eta,x,y,z \\right)}$"
      ],
      "text/plain": [
       "<IPython.core.display.Math object>"
      ]
     },
     "metadata": {},
     "output_type": "display_data"
    },
    {
     "data": {
      "text/latex": [
       "$\\displaystyle {\\Gamma}{}_{3}\\,{}_{1}\\,{}_{3}\\, = \\delta a^{2}{\\left(\\eta \\right)} \\frac{\\partial}{\\partial x} \\phi{\\left(\\eta,x,y,z \\right)}$"
      ],
      "text/plain": [
       "<IPython.core.display.Math object>"
      ]
     },
     "metadata": {},
     "output_type": "display_data"
    },
    {
     "data": {
      "text/latex": [
       "$\\displaystyle {\\Gamma}{}_{3}\\,{}_{2}\\,{}_{2}\\, = - \\delta a^{2}{\\left(\\eta \\right)} \\frac{\\partial}{\\partial z} \\phi{\\left(\\eta,x,y,z \\right)}$"
      ],
      "text/plain": [
       "<IPython.core.display.Math object>"
      ]
     },
     "metadata": {},
     "output_type": "display_data"
    },
    {
     "data": {
      "text/latex": [
       "$\\displaystyle {\\Gamma}{}_{3}\\,{}_{2}\\,{}_{3}\\, = \\delta a^{2}{\\left(\\eta \\right)} \\frac{\\partial}{\\partial y} \\phi{\\left(\\eta,x,y,z \\right)}$"
      ],
      "text/plain": [
       "<IPython.core.display.Math object>"
      ]
     },
     "metadata": {},
     "output_type": "display_data"
    },
    {
     "data": {
      "text/latex": [
       "$\\displaystyle {\\Gamma}{}_{3}\\,{}_{3}\\,{}_{0}\\, = \\delta \\left(a^{2}{\\left(\\eta \\right)} \\frac{\\partial}{\\partial \\eta} \\phi{\\left(\\eta,x,y,z \\right)} + 2 a{\\left(\\eta \\right)} \\phi{\\left(\\eta,x,y,z \\right)} \\frac{d}{d \\eta} a{\\left(\\eta \\right)}\\right) + a{\\left(\\eta \\right)} \\frac{d}{d \\eta} a{\\left(\\eta \\right)}$"
      ],
      "text/plain": [
       "<IPython.core.display.Math object>"
      ]
     },
     "metadata": {},
     "output_type": "display_data"
    },
    {
     "data": {
      "text/latex": [
       "$\\displaystyle {\\Gamma}{}_{3}\\,{}_{3}\\,{}_{1}\\, = \\delta a^{2}{\\left(\\eta \\right)} \\frac{\\partial}{\\partial x} \\phi{\\left(\\eta,x,y,z \\right)}$"
      ],
      "text/plain": [
       "<IPython.core.display.Math object>"
      ]
     },
     "metadata": {},
     "output_type": "display_data"
    },
    {
     "data": {
      "text/latex": [
       "$\\displaystyle {\\Gamma}{}_{3}\\,{}_{3}\\,{}_{2}\\, = \\delta a^{2}{\\left(\\eta \\right)} \\frac{\\partial}{\\partial y} \\phi{\\left(\\eta,x,y,z \\right)}$"
      ],
      "text/plain": [
       "<IPython.core.display.Math object>"
      ]
     },
     "metadata": {},
     "output_type": "display_data"
    },
    {
     "data": {
      "text/latex": [
       "$\\displaystyle {\\Gamma}{}_{3}\\,{}_{3}\\,{}_{3}\\, = \\delta a^{2}{\\left(\\eta \\right)} \\frac{\\partial}{\\partial z} \\phi{\\left(\\eta,x,y,z \\right)}$"
      ],
      "text/plain": [
       "<IPython.core.display.Math object>"
      ]
     },
     "metadata": {},
     "output_type": "display_data"
    },
    {
     "data": {
      "text/latex": [
       "$\\displaystyle {\\Gamma}{}^{0}\\,{}_{0}\\,{}_{0}\\, = \\frac{\\frac{d}{d \\eta} a{\\left(\\eta \\right)}}{a{\\left(\\eta \\right)}} + \\delta \\frac{\\partial}{\\partial \\eta} \\psi{\\left(\\eta,x,y,z \\right)} + O\\left(\\delta^{2}\\right)$"
      ],
      "text/plain": [
       "<IPython.core.display.Math object>"
      ]
     },
     "metadata": {},
     "output_type": "display_data"
    },
    {
     "data": {
      "text/latex": [
       "$\\displaystyle {\\Gamma}{}^{0}\\,{}_{0}\\,{}_{1}\\, = \\delta \\frac{\\partial}{\\partial x} \\psi{\\left(\\eta,x,y,z \\right)} + O\\left(\\delta^{2}\\right)$"
      ],
      "text/plain": [
       "<IPython.core.display.Math object>"
      ]
     },
     "metadata": {},
     "output_type": "display_data"
    },
    {
     "data": {
      "text/latex": [
       "$\\displaystyle {\\Gamma}{}^{0}\\,{}_{0}\\,{}_{2}\\, = \\delta \\frac{\\partial}{\\partial y} \\psi{\\left(\\eta,x,y,z \\right)} + O\\left(\\delta^{2}\\right)$"
      ],
      "text/plain": [
       "<IPython.core.display.Math object>"
      ]
     },
     "metadata": {},
     "output_type": "display_data"
    },
    {
     "data": {
      "text/latex": [
       "$\\displaystyle {\\Gamma}{}^{0}\\,{}_{0}\\,{}_{3}\\, = \\delta \\frac{\\partial}{\\partial z} \\psi{\\left(\\eta,x,y,z \\right)} + O\\left(\\delta^{2}\\right)$"
      ],
      "text/plain": [
       "<IPython.core.display.Math object>"
      ]
     },
     "metadata": {},
     "output_type": "display_data"
    },
    {
     "data": {
      "text/latex": [
       "$\\displaystyle {\\Gamma}{}^{0}\\,{}_{1}\\,{}_{0}\\, = \\delta \\frac{\\partial}{\\partial x} \\psi{\\left(\\eta,x,y,z \\right)} + O\\left(\\delta^{2}\\right)$"
      ],
      "text/plain": [
       "<IPython.core.display.Math object>"
      ]
     },
     "metadata": {},
     "output_type": "display_data"
    },
    {
     "data": {
      "text/latex": [
       "$\\displaystyle {\\Gamma}{}^{0}\\,{}_{1}\\,{}_{1}\\, = \\frac{\\frac{d}{d \\eta} a{\\left(\\eta \\right)}}{a{\\left(\\eta \\right)}} + \\delta \\left(\\frac{\\partial}{\\partial \\eta} \\phi{\\left(\\eta,x,y,z \\right)} + \\frac{2 \\phi{\\left(\\eta,x,y,z \\right)} \\frac{d}{d \\eta} a{\\left(\\eta \\right)}}{a{\\left(\\eta \\right)}} - \\frac{2 \\psi{\\left(\\eta,x,y,z \\right)} \\frac{d}{d \\eta} a{\\left(\\eta \\right)}}{a{\\left(\\eta \\right)}}\\right) + O\\left(\\delta^{2}\\right)$"
      ],
      "text/plain": [
       "<IPython.core.display.Math object>"
      ]
     },
     "metadata": {},
     "output_type": "display_data"
    },
    {
     "data": {
      "text/latex": [
       "$\\displaystyle {\\Gamma}{}^{0}\\,{}_{2}\\,{}_{0}\\, = \\delta \\frac{\\partial}{\\partial y} \\psi{\\left(\\eta,x,y,z \\right)} + O\\left(\\delta^{2}\\right)$"
      ],
      "text/plain": [
       "<IPython.core.display.Math object>"
      ]
     },
     "metadata": {},
     "output_type": "display_data"
    },
    {
     "data": {
      "text/latex": [
       "$\\displaystyle {\\Gamma}{}^{0}\\,{}_{2}\\,{}_{2}\\, = \\frac{\\frac{d}{d \\eta} a{\\left(\\eta \\right)}}{a{\\left(\\eta \\right)}} + \\delta \\left(\\frac{\\partial}{\\partial \\eta} \\phi{\\left(\\eta,x,y,z \\right)} + \\frac{2 \\phi{\\left(\\eta,x,y,z \\right)} \\frac{d}{d \\eta} a{\\left(\\eta \\right)}}{a{\\left(\\eta \\right)}} - \\frac{2 \\psi{\\left(\\eta,x,y,z \\right)} \\frac{d}{d \\eta} a{\\left(\\eta \\right)}}{a{\\left(\\eta \\right)}}\\right) + O\\left(\\delta^{2}\\right)$"
      ],
      "text/plain": [
       "<IPython.core.display.Math object>"
      ]
     },
     "metadata": {},
     "output_type": "display_data"
    },
    {
     "data": {
      "text/latex": [
       "$\\displaystyle {\\Gamma}{}^{0}\\,{}_{3}\\,{}_{0}\\, = \\delta \\frac{\\partial}{\\partial z} \\psi{\\left(\\eta,x,y,z \\right)} + O\\left(\\delta^{2}\\right)$"
      ],
      "text/plain": [
       "<IPython.core.display.Math object>"
      ]
     },
     "metadata": {},
     "output_type": "display_data"
    },
    {
     "data": {
      "text/latex": [
       "$\\displaystyle {\\Gamma}{}^{0}\\,{}_{3}\\,{}_{3}\\, = \\frac{\\frac{d}{d \\eta} a{\\left(\\eta \\right)}}{a{\\left(\\eta \\right)}} + \\delta \\left(\\frac{\\partial}{\\partial \\eta} \\phi{\\left(\\eta,x,y,z \\right)} + \\frac{2 \\phi{\\left(\\eta,x,y,z \\right)} \\frac{d}{d \\eta} a{\\left(\\eta \\right)}}{a{\\left(\\eta \\right)}} - \\frac{2 \\psi{\\left(\\eta,x,y,z \\right)} \\frac{d}{d \\eta} a{\\left(\\eta \\right)}}{a{\\left(\\eta \\right)}}\\right) + O\\left(\\delta^{2}\\right)$"
      ],
      "text/plain": [
       "<IPython.core.display.Math object>"
      ]
     },
     "metadata": {},
     "output_type": "display_data"
    },
    {
     "data": {
      "text/latex": [
       "$\\displaystyle {\\Gamma}{}^{1}\\,{}_{0}\\,{}_{0}\\, = \\delta \\frac{\\partial}{\\partial x} \\psi{\\left(\\eta,x,y,z \\right)} + O\\left(\\delta^{2}\\right)$"
      ],
      "text/plain": [
       "<IPython.core.display.Math object>"
      ]
     },
     "metadata": {},
     "output_type": "display_data"
    },
    {
     "data": {
      "text/latex": [
       "$\\displaystyle {\\Gamma}{}^{1}\\,{}_{0}\\,{}_{1}\\, = \\frac{\\frac{d}{d \\eta} a{\\left(\\eta \\right)}}{a{\\left(\\eta \\right)}} + \\delta \\frac{\\partial}{\\partial \\eta} \\phi{\\left(\\eta,x,y,z \\right)} + O\\left(\\delta^{2}\\right)$"
      ],
      "text/plain": [
       "<IPython.core.display.Math object>"
      ]
     },
     "metadata": {},
     "output_type": "display_data"
    },
    {
     "data": {
      "text/latex": [
       "$\\displaystyle {\\Gamma}{}^{1}\\,{}_{1}\\,{}_{0}\\, = \\frac{\\frac{d}{d \\eta} a{\\left(\\eta \\right)}}{a{\\left(\\eta \\right)}} + \\delta \\frac{\\partial}{\\partial \\eta} \\phi{\\left(\\eta,x,y,z \\right)} + O\\left(\\delta^{2}\\right)$"
      ],
      "text/plain": [
       "<IPython.core.display.Math object>"
      ]
     },
     "metadata": {},
     "output_type": "display_data"
    },
    {
     "data": {
      "text/latex": [
       "$\\displaystyle {\\Gamma}{}^{1}\\,{}_{1}\\,{}_{1}\\, = \\delta \\frac{\\partial}{\\partial x} \\phi{\\left(\\eta,x,y,z \\right)} + O\\left(\\delta^{2}\\right)$"
      ],
      "text/plain": [
       "<IPython.core.display.Math object>"
      ]
     },
     "metadata": {},
     "output_type": "display_data"
    },
    {
     "data": {
      "text/latex": [
       "$\\displaystyle {\\Gamma}{}^{1}\\,{}_{1}\\,{}_{2}\\, = \\delta \\frac{\\partial}{\\partial y} \\phi{\\left(\\eta,x,y,z \\right)} + O\\left(\\delta^{2}\\right)$"
      ],
      "text/plain": [
       "<IPython.core.display.Math object>"
      ]
     },
     "metadata": {},
     "output_type": "display_data"
    },
    {
     "data": {
      "text/latex": [
       "$\\displaystyle {\\Gamma}{}^{1}\\,{}_{1}\\,{}_{3}\\, = \\delta \\frac{\\partial}{\\partial z} \\phi{\\left(\\eta,x,y,z \\right)} + O\\left(\\delta^{2}\\right)$"
      ],
      "text/plain": [
       "<IPython.core.display.Math object>"
      ]
     },
     "metadata": {},
     "output_type": "display_data"
    },
    {
     "data": {
      "text/latex": [
       "$\\displaystyle {\\Gamma}{}^{1}\\,{}_{2}\\,{}_{1}\\, = \\delta \\frac{\\partial}{\\partial y} \\phi{\\left(\\eta,x,y,z \\right)} + O\\left(\\delta^{2}\\right)$"
      ],
      "text/plain": [
       "<IPython.core.display.Math object>"
      ]
     },
     "metadata": {},
     "output_type": "display_data"
    },
    {
     "data": {
      "text/latex": [
       "$\\displaystyle {\\Gamma}{}^{1}\\,{}_{2}\\,{}_{2}\\, = - \\delta \\frac{\\partial}{\\partial x} \\phi{\\left(\\eta,x,y,z \\right)} + O\\left(\\delta^{2}\\right)$"
      ],
      "text/plain": [
       "<IPython.core.display.Math object>"
      ]
     },
     "metadata": {},
     "output_type": "display_data"
    },
    {
     "data": {
      "text/latex": [
       "$\\displaystyle {\\Gamma}{}^{1}\\,{}_{3}\\,{}_{1}\\, = \\delta \\frac{\\partial}{\\partial z} \\phi{\\left(\\eta,x,y,z \\right)} + O\\left(\\delta^{2}\\right)$"
      ],
      "text/plain": [
       "<IPython.core.display.Math object>"
      ]
     },
     "metadata": {},
     "output_type": "display_data"
    },
    {
     "data": {
      "text/latex": [
       "$\\displaystyle {\\Gamma}{}^{1}\\,{}_{3}\\,{}_{3}\\, = - \\delta \\frac{\\partial}{\\partial x} \\phi{\\left(\\eta,x,y,z \\right)} + O\\left(\\delta^{2}\\right)$"
      ],
      "text/plain": [
       "<IPython.core.display.Math object>"
      ]
     },
     "metadata": {},
     "output_type": "display_data"
    },
    {
     "data": {
      "text/latex": [
       "$\\displaystyle {\\Gamma}{}^{2}\\,{}_{0}\\,{}_{0}\\, = \\delta \\frac{\\partial}{\\partial y} \\psi{\\left(\\eta,x,y,z \\right)} + O\\left(\\delta^{2}\\right)$"
      ],
      "text/plain": [
       "<IPython.core.display.Math object>"
      ]
     },
     "metadata": {},
     "output_type": "display_data"
    },
    {
     "data": {
      "text/latex": [
       "$\\displaystyle {\\Gamma}{}^{2}\\,{}_{0}\\,{}_{2}\\, = \\frac{\\frac{d}{d \\eta} a{\\left(\\eta \\right)}}{a{\\left(\\eta \\right)}} + \\delta \\frac{\\partial}{\\partial \\eta} \\phi{\\left(\\eta,x,y,z \\right)} + O\\left(\\delta^{2}\\right)$"
      ],
      "text/plain": [
       "<IPython.core.display.Math object>"
      ]
     },
     "metadata": {},
     "output_type": "display_data"
    },
    {
     "data": {
      "text/latex": [
       "$\\displaystyle {\\Gamma}{}^{2}\\,{}_{1}\\,{}_{1}\\, = - \\delta \\frac{\\partial}{\\partial y} \\phi{\\left(\\eta,x,y,z \\right)} + O\\left(\\delta^{2}\\right)$"
      ],
      "text/plain": [
       "<IPython.core.display.Math object>"
      ]
     },
     "metadata": {},
     "output_type": "display_data"
    },
    {
     "data": {
      "text/latex": [
       "$\\displaystyle {\\Gamma}{}^{2}\\,{}_{1}\\,{}_{2}\\, = \\delta \\frac{\\partial}{\\partial x} \\phi{\\left(\\eta,x,y,z \\right)} + O\\left(\\delta^{2}\\right)$"
      ],
      "text/plain": [
       "<IPython.core.display.Math object>"
      ]
     },
     "metadata": {},
     "output_type": "display_data"
    },
    {
     "data": {
      "text/latex": [
       "$\\displaystyle {\\Gamma}{}^{2}\\,{}_{2}\\,{}_{0}\\, = \\frac{\\frac{d}{d \\eta} a{\\left(\\eta \\right)}}{a{\\left(\\eta \\right)}} + \\delta \\frac{\\partial}{\\partial \\eta} \\phi{\\left(\\eta,x,y,z \\right)} + O\\left(\\delta^{2}\\right)$"
      ],
      "text/plain": [
       "<IPython.core.display.Math object>"
      ]
     },
     "metadata": {},
     "output_type": "display_data"
    },
    {
     "data": {
      "text/latex": [
       "$\\displaystyle {\\Gamma}{}^{2}\\,{}_{2}\\,{}_{1}\\, = \\delta \\frac{\\partial}{\\partial x} \\phi{\\left(\\eta,x,y,z \\right)} + O\\left(\\delta^{2}\\right)$"
      ],
      "text/plain": [
       "<IPython.core.display.Math object>"
      ]
     },
     "metadata": {},
     "output_type": "display_data"
    },
    {
     "data": {
      "text/latex": [
       "$\\displaystyle {\\Gamma}{}^{2}\\,{}_{2}\\,{}_{2}\\, = \\delta \\frac{\\partial}{\\partial y} \\phi{\\left(\\eta,x,y,z \\right)} + O\\left(\\delta^{2}\\right)$"
      ],
      "text/plain": [
       "<IPython.core.display.Math object>"
      ]
     },
     "metadata": {},
     "output_type": "display_data"
    },
    {
     "data": {
      "text/latex": [
       "$\\displaystyle {\\Gamma}{}^{2}\\,{}_{2}\\,{}_{3}\\, = \\delta \\frac{\\partial}{\\partial z} \\phi{\\left(\\eta,x,y,z \\right)} + O\\left(\\delta^{2}\\right)$"
      ],
      "text/plain": [
       "<IPython.core.display.Math object>"
      ]
     },
     "metadata": {},
     "output_type": "display_data"
    },
    {
     "data": {
      "text/latex": [
       "$\\displaystyle {\\Gamma}{}^{2}\\,{}_{3}\\,{}_{2}\\, = \\delta \\frac{\\partial}{\\partial z} \\phi{\\left(\\eta,x,y,z \\right)} + O\\left(\\delta^{2}\\right)$"
      ],
      "text/plain": [
       "<IPython.core.display.Math object>"
      ]
     },
     "metadata": {},
     "output_type": "display_data"
    },
    {
     "data": {
      "text/latex": [
       "$\\displaystyle {\\Gamma}{}^{2}\\,{}_{3}\\,{}_{3}\\, = - \\delta \\frac{\\partial}{\\partial y} \\phi{\\left(\\eta,x,y,z \\right)} + O\\left(\\delta^{2}\\right)$"
      ],
      "text/plain": [
       "<IPython.core.display.Math object>"
      ]
     },
     "metadata": {},
     "output_type": "display_data"
    },
    {
     "data": {
      "text/latex": [
       "$\\displaystyle {\\Gamma}{}^{3}\\,{}_{0}\\,{}_{0}\\, = \\delta \\frac{\\partial}{\\partial z} \\psi{\\left(\\eta,x,y,z \\right)} + O\\left(\\delta^{2}\\right)$"
      ],
      "text/plain": [
       "<IPython.core.display.Math object>"
      ]
     },
     "metadata": {},
     "output_type": "display_data"
    },
    {
     "data": {
      "text/latex": [
       "$\\displaystyle {\\Gamma}{}^{3}\\,{}_{0}\\,{}_{3}\\, = \\frac{\\frac{d}{d \\eta} a{\\left(\\eta \\right)}}{a{\\left(\\eta \\right)}} + \\delta \\frac{\\partial}{\\partial \\eta} \\phi{\\left(\\eta,x,y,z \\right)} + O\\left(\\delta^{2}\\right)$"
      ],
      "text/plain": [
       "<IPython.core.display.Math object>"
      ]
     },
     "metadata": {},
     "output_type": "display_data"
    },
    {
     "data": {
      "text/latex": [
       "$\\displaystyle {\\Gamma}{}^{3}\\,{}_{1}\\,{}_{1}\\, = - \\delta \\frac{\\partial}{\\partial z} \\phi{\\left(\\eta,x,y,z \\right)} + O\\left(\\delta^{2}\\right)$"
      ],
      "text/plain": [
       "<IPython.core.display.Math object>"
      ]
     },
     "metadata": {},
     "output_type": "display_data"
    },
    {
     "data": {
      "text/latex": [
       "$\\displaystyle {\\Gamma}{}^{3}\\,{}_{1}\\,{}_{3}\\, = \\delta \\frac{\\partial}{\\partial x} \\phi{\\left(\\eta,x,y,z \\right)} + O\\left(\\delta^{2}\\right)$"
      ],
      "text/plain": [
       "<IPython.core.display.Math object>"
      ]
     },
     "metadata": {},
     "output_type": "display_data"
    },
    {
     "data": {
      "text/latex": [
       "$\\displaystyle {\\Gamma}{}^{3}\\,{}_{2}\\,{}_{2}\\, = - \\delta \\frac{\\partial}{\\partial z} \\phi{\\left(\\eta,x,y,z \\right)} + O\\left(\\delta^{2}\\right)$"
      ],
      "text/plain": [
       "<IPython.core.display.Math object>"
      ]
     },
     "metadata": {},
     "output_type": "display_data"
    },
    {
     "data": {
      "text/latex": [
       "$\\displaystyle {\\Gamma}{}^{3}\\,{}_{2}\\,{}_{3}\\, = \\delta \\frac{\\partial}{\\partial y} \\phi{\\left(\\eta,x,y,z \\right)} + O\\left(\\delta^{2}\\right)$"
      ],
      "text/plain": [
       "<IPython.core.display.Math object>"
      ]
     },
     "metadata": {},
     "output_type": "display_data"
    },
    {
     "data": {
      "text/latex": [
       "$\\displaystyle {\\Gamma}{}^{3}\\,{}_{3}\\,{}_{0}\\, = \\frac{\\frac{d}{d \\eta} a{\\left(\\eta \\right)}}{a{\\left(\\eta \\right)}} + \\delta \\frac{\\partial}{\\partial \\eta} \\phi{\\left(\\eta,x,y,z \\right)} + O\\left(\\delta^{2}\\right)$"
      ],
      "text/plain": [
       "<IPython.core.display.Math object>"
      ]
     },
     "metadata": {},
     "output_type": "display_data"
    },
    {
     "data": {
      "text/latex": [
       "$\\displaystyle {\\Gamma}{}^{3}\\,{}_{3}\\,{}_{1}\\, = \\delta \\frac{\\partial}{\\partial x} \\phi{\\left(\\eta,x,y,z \\right)} + O\\left(\\delta^{2}\\right)$"
      ],
      "text/plain": [
       "<IPython.core.display.Math object>"
      ]
     },
     "metadata": {},
     "output_type": "display_data"
    },
    {
     "data": {
      "text/latex": [
       "$\\displaystyle {\\Gamma}{}^{3}\\,{}_{3}\\,{}_{2}\\, = \\delta \\frac{\\partial}{\\partial y} \\phi{\\left(\\eta,x,y,z \\right)} + O\\left(\\delta^{2}\\right)$"
      ],
      "text/plain": [
       "<IPython.core.display.Math object>"
      ]
     },
     "metadata": {},
     "output_type": "display_data"
    },
    {
     "data": {
      "text/latex": [
       "$\\displaystyle {\\Gamma}{}^{3}\\,{}_{3}\\,{}_{3}\\, = \\delta \\frac{\\partial}{\\partial z} \\phi{\\left(\\eta,x,y,z \\right)} + O\\left(\\delta^{2}\\right)$"
      ],
      "text/plain": [
       "<IPython.core.display.Math object>"
      ]
     },
     "metadata": {},
     "output_type": "display_data"
    }
   ],
   "source": [
    "# To calculate the First and Second kind Christoffel Symbols:\n",
    "Chr = pt.christoffel()\n",
    "\n",
    "# To calculate the first kind without the second kind:\n",
    "# Chr = pt.christoffel(Second_kind = False)\n",
    "\n",
    "# To calculate the second kind without the first kind:\n",
    "# Chr = pt.christoffel(First_kind = False)\n",
    "\n",
    "# To display the tensor:\n",
    "Chr.display()\n",
    "\n",
    "# By default it displays all the non zero components for the two kinds of Christoffel Symbols.\n",
    "\n",
    "# To display only a particular combination of indices, e.g., the Second kind:\n",
    "# Chr.display(\"^,_,_\")"
   ]
  },
  {
   "cell_type": "code",
   "execution_count": 5,
   "metadata": {
    "scrolled": false
   },
   "outputs": [
    {
     "data": {
      "text/latex": [
       "Riemann Tensor $R^{\\alpha}_{\\beta \\gamma \\delta}$"
      ],
      "text/plain": [
       "<IPython.core.display.Latex object>"
      ]
     },
     "metadata": {},
     "output_type": "display_data"
    },
    {
     "data": {
      "application/vnd.jupyter.widget-view+json": {
       "model_id": "20b4c8b41698436ca1919ba5013ea513",
       "version_major": 2,
       "version_minor": 0
      },
      "text/plain": [
       "  0%|          | 0/256 [00:00<?, ?it/s]"
      ]
     },
     "metadata": {},
     "output_type": "display_data"
    },
    {
     "data": {
      "text/latex": [
       "$\\displaystyle {R}{}^{0}\\,{}_{0}\\,{}_{0}\\,{}_{1}\\, = O\\left(\\delta^{2}\\right)$"
      ],
      "text/plain": [
       "<IPython.core.display.Math object>"
      ]
     },
     "metadata": {},
     "output_type": "display_data"
    },
    {
     "data": {
      "text/latex": [
       "$\\displaystyle {R}{}^{0}\\,{}_{0}\\,{}_{0}\\,{}_{2}\\, = O\\left(\\delta^{2}\\right)$"
      ],
      "text/plain": [
       "<IPython.core.display.Math object>"
      ]
     },
     "metadata": {},
     "output_type": "display_data"
    },
    {
     "data": {
      "text/latex": [
       "$\\displaystyle {R}{}^{0}\\,{}_{0}\\,{}_{0}\\,{}_{3}\\, = O\\left(\\delta^{2}\\right)$"
      ],
      "text/plain": [
       "<IPython.core.display.Math object>"
      ]
     },
     "metadata": {},
     "output_type": "display_data"
    },
    {
     "data": {
      "text/latex": [
       "$\\displaystyle {R}{}^{0}\\,{}_{0}\\,{}_{1}\\,{}_{0}\\, = O\\left(\\delta^{2}\\right)$"
      ],
      "text/plain": [
       "<IPython.core.display.Math object>"
      ]
     },
     "metadata": {},
     "output_type": "display_data"
    },
    {
     "data": {
      "text/latex": [
       "$\\displaystyle {R}{}^{0}\\,{}_{0}\\,{}_{2}\\,{}_{0}\\, = O\\left(\\delta^{2}\\right)$"
      ],
      "text/plain": [
       "<IPython.core.display.Math object>"
      ]
     },
     "metadata": {},
     "output_type": "display_data"
    },
    {
     "data": {
      "text/latex": [
       "$\\displaystyle {R}{}^{0}\\,{}_{0}\\,{}_{3}\\,{}_{0}\\, = O\\left(\\delta^{2}\\right)$"
      ],
      "text/plain": [
       "<IPython.core.display.Math object>"
      ]
     },
     "metadata": {},
     "output_type": "display_data"
    },
    {
     "data": {
      "text/latex": [
       "$\\displaystyle {R}{}^{0}\\,{}_{1}\\,{}_{0}\\,{}_{1}\\, = - \\frac{\\left(\\frac{d}{d \\eta} a{\\left(\\eta \\right)}\\right)^{2}}{a^{2}{\\left(\\eta \\right)}} + \\frac{\\frac{d^{2}}{d \\eta^{2}} a{\\left(\\eta \\right)}}{a{\\left(\\eta \\right)}} + \\delta \\left(\\frac{\\partial^{2}}{\\partial \\eta^{2}} \\phi{\\left(\\eta,x,y,z \\right)} - \\frac{\\partial^{2}}{\\partial x^{2}} \\psi{\\left(\\eta,x,y,z \\right)} + \\frac{2 \\phi{\\left(\\eta,x,y,z \\right)} \\frac{d^{2}}{d \\eta^{2}} a{\\left(\\eta \\right)}}{a{\\left(\\eta \\right)}} - \\frac{2 \\psi{\\left(\\eta,x,y,z \\right)} \\frac{d^{2}}{d \\eta^{2}} a{\\left(\\eta \\right)}}{a{\\left(\\eta \\right)}} + \\frac{\\frac{d}{d \\eta} a{\\left(\\eta \\right)} \\frac{\\partial}{\\partial \\eta} \\phi{\\left(\\eta,x,y,z \\right)}}{a{\\left(\\eta \\right)}} - \\frac{\\frac{d}{d \\eta} a{\\left(\\eta \\right)} \\frac{\\partial}{\\partial \\eta} \\psi{\\left(\\eta,x,y,z \\right)}}{a{\\left(\\eta \\right)}} - \\frac{2 \\phi{\\left(\\eta,x,y,z \\right)} \\left(\\frac{d}{d \\eta} a{\\left(\\eta \\right)}\\right)^{2}}{a^{2}{\\left(\\eta \\right)}} + \\frac{2 \\psi{\\left(\\eta,x,y,z \\right)} \\left(\\frac{d}{d \\eta} a{\\left(\\eta \\right)}\\right)^{2}}{a^{2}{\\left(\\eta \\right)}}\\right) + O\\left(\\delta^{2}\\right)$"
      ],
      "text/plain": [
       "<IPython.core.display.Math object>"
      ]
     },
     "metadata": {},
     "output_type": "display_data"
    },
    {
     "data": {
      "text/latex": [
       "$\\displaystyle {R}{}^{0}\\,{}_{1}\\,{}_{0}\\,{}_{2}\\, = - \\delta \\frac{\\partial^{2}}{\\partial y\\partial x} \\psi{\\left(\\eta,x,y,z \\right)} + O\\left(\\delta^{2}\\right)$"
      ],
      "text/plain": [
       "<IPython.core.display.Math object>"
      ]
     },
     "metadata": {},
     "output_type": "display_data"
    },
    {
     "data": {
      "text/latex": [
       "$\\displaystyle {R}{}^{0}\\,{}_{1}\\,{}_{0}\\,{}_{3}\\, = - \\delta \\frac{\\partial^{2}}{\\partial z\\partial x} \\psi{\\left(\\eta,x,y,z \\right)} + O\\left(\\delta^{2}\\right)$"
      ],
      "text/plain": [
       "<IPython.core.display.Math object>"
      ]
     },
     "metadata": {},
     "output_type": "display_data"
    },
    {
     "data": {
      "text/latex": [
       "$\\displaystyle {R}{}^{0}\\,{}_{1}\\,{}_{1}\\,{}_{0}\\, = \\frac{\\left(\\frac{d}{d \\eta} a{\\left(\\eta \\right)}\\right)^{2}}{a^{2}{\\left(\\eta \\right)}} - \\frac{\\frac{d^{2}}{d \\eta^{2}} a{\\left(\\eta \\right)}}{a{\\left(\\eta \\right)}} - \\delta \\left(\\frac{\\partial^{2}}{\\partial \\eta^{2}} \\phi{\\left(\\eta,x,y,z \\right)} - \\frac{\\partial^{2}}{\\partial x^{2}} \\psi{\\left(\\eta,x,y,z \\right)} + \\frac{2 \\phi{\\left(\\eta,x,y,z \\right)} \\frac{d^{2}}{d \\eta^{2}} a{\\left(\\eta \\right)}}{a{\\left(\\eta \\right)}} - \\frac{2 \\psi{\\left(\\eta,x,y,z \\right)} \\frac{d^{2}}{d \\eta^{2}} a{\\left(\\eta \\right)}}{a{\\left(\\eta \\right)}} + \\frac{\\frac{d}{d \\eta} a{\\left(\\eta \\right)} \\frac{\\partial}{\\partial \\eta} \\phi{\\left(\\eta,x,y,z \\right)}}{a{\\left(\\eta \\right)}} - \\frac{\\frac{d}{d \\eta} a{\\left(\\eta \\right)} \\frac{\\partial}{\\partial \\eta} \\psi{\\left(\\eta,x,y,z \\right)}}{a{\\left(\\eta \\right)}} - \\frac{2 \\phi{\\left(\\eta,x,y,z \\right)} \\left(\\frac{d}{d \\eta} a{\\left(\\eta \\right)}\\right)^{2}}{a^{2}{\\left(\\eta \\right)}} + \\frac{2 \\psi{\\left(\\eta,x,y,z \\right)} \\left(\\frac{d}{d \\eta} a{\\left(\\eta \\right)}\\right)^{2}}{a^{2}{\\left(\\eta \\right)}}\\right) + O\\left(\\delta^{2}\\right)$"
      ],
      "text/plain": [
       "<IPython.core.display.Math object>"
      ]
     },
     "metadata": {},
     "output_type": "display_data"
    },
    {
     "data": {
      "text/latex": [
       "$\\displaystyle {R}{}^{0}\\,{}_{1}\\,{}_{1}\\,{}_{2}\\, = \\frac{\\delta \\frac{d}{d \\eta} a{\\left(\\eta \\right)} \\frac{\\partial}{\\partial y} \\psi{\\left(\\eta,x,y,z \\right)}}{a{\\left(\\eta \\right)}} - \\delta \\frac{\\partial^{2}}{\\partial y\\partial \\eta} \\phi{\\left(\\eta,x,y,z \\right)} + O\\left(\\delta^{2}\\right)$"
      ],
      "text/plain": [
       "<IPython.core.display.Math object>"
      ]
     },
     "metadata": {},
     "output_type": "display_data"
    },
    {
     "data": {
      "text/latex": [
       "$\\displaystyle {R}{}^{0}\\,{}_{1}\\,{}_{1}\\,{}_{3}\\, = \\frac{\\delta \\frac{d}{d \\eta} a{\\left(\\eta \\right)} \\frac{\\partial}{\\partial z} \\psi{\\left(\\eta,x,y,z \\right)}}{a{\\left(\\eta \\right)}} - \\delta \\frac{\\partial^{2}}{\\partial z\\partial \\eta} \\phi{\\left(\\eta,x,y,z \\right)} + O\\left(\\delta^{2}\\right)$"
      ],
      "text/plain": [
       "<IPython.core.display.Math object>"
      ]
     },
     "metadata": {},
     "output_type": "display_data"
    },
    {
     "data": {
      "text/latex": [
       "$\\displaystyle {R}{}^{0}\\,{}_{1}\\,{}_{2}\\,{}_{0}\\, = \\delta \\frac{\\partial^{2}}{\\partial y\\partial x} \\psi{\\left(\\eta,x,y,z \\right)} + O\\left(\\delta^{2}\\right)$"
      ],
      "text/plain": [
       "<IPython.core.display.Math object>"
      ]
     },
     "metadata": {},
     "output_type": "display_data"
    },
    {
     "data": {
      "text/latex": [
       "$\\displaystyle {R}{}^{0}\\,{}_{1}\\,{}_{2}\\,{}_{1}\\, = - \\frac{\\delta \\frac{d}{d \\eta} a{\\left(\\eta \\right)} \\frac{\\partial}{\\partial y} \\psi{\\left(\\eta,x,y,z \\right)}}{a{\\left(\\eta \\right)}} + \\delta \\frac{\\partial^{2}}{\\partial y\\partial \\eta} \\phi{\\left(\\eta,x,y,z \\right)} + O\\left(\\delta^{2}\\right)$"
      ],
      "text/plain": [
       "<IPython.core.display.Math object>"
      ]
     },
     "metadata": {},
     "output_type": "display_data"
    },
    {
     "data": {
      "text/latex": [
       "$\\displaystyle {R}{}^{0}\\,{}_{1}\\,{}_{3}\\,{}_{0}\\, = \\delta \\frac{\\partial^{2}}{\\partial z\\partial x} \\psi{\\left(\\eta,x,y,z \\right)} + O\\left(\\delta^{2}\\right)$"
      ],
      "text/plain": [
       "<IPython.core.display.Math object>"
      ]
     },
     "metadata": {},
     "output_type": "display_data"
    },
    {
     "data": {
      "text/latex": [
       "$\\displaystyle {R}{}^{0}\\,{}_{1}\\,{}_{3}\\,{}_{1}\\, = - \\frac{\\delta \\frac{d}{d \\eta} a{\\left(\\eta \\right)} \\frac{\\partial}{\\partial z} \\psi{\\left(\\eta,x,y,z \\right)}}{a{\\left(\\eta \\right)}} + \\delta \\frac{\\partial^{2}}{\\partial z\\partial \\eta} \\phi{\\left(\\eta,x,y,z \\right)} + O\\left(\\delta^{2}\\right)$"
      ],
      "text/plain": [
       "<IPython.core.display.Math object>"
      ]
     },
     "metadata": {},
     "output_type": "display_data"
    },
    {
     "data": {
      "text/latex": [
       "$\\displaystyle {R}{}^{0}\\,{}_{2}\\,{}_{0}\\,{}_{1}\\, = - \\delta \\frac{\\partial^{2}}{\\partial y\\partial x} \\psi{\\left(\\eta,x,y,z \\right)} + O\\left(\\delta^{2}\\right)$"
      ],
      "text/plain": [
       "<IPython.core.display.Math object>"
      ]
     },
     "metadata": {},
     "output_type": "display_data"
    },
    {
     "data": {
      "text/latex": [
       "$\\displaystyle {R}{}^{0}\\,{}_{2}\\,{}_{0}\\,{}_{2}\\, = - \\frac{\\left(\\frac{d}{d \\eta} a{\\left(\\eta \\right)}\\right)^{2}}{a^{2}{\\left(\\eta \\right)}} + \\frac{\\frac{d^{2}}{d \\eta^{2}} a{\\left(\\eta \\right)}}{a{\\left(\\eta \\right)}} + \\delta \\left(\\frac{\\partial^{2}}{\\partial \\eta^{2}} \\phi{\\left(\\eta,x,y,z \\right)} - \\frac{\\partial^{2}}{\\partial y^{2}} \\psi{\\left(\\eta,x,y,z \\right)} + \\frac{2 \\phi{\\left(\\eta,x,y,z \\right)} \\frac{d^{2}}{d \\eta^{2}} a{\\left(\\eta \\right)}}{a{\\left(\\eta \\right)}} - \\frac{2 \\psi{\\left(\\eta,x,y,z \\right)} \\frac{d^{2}}{d \\eta^{2}} a{\\left(\\eta \\right)}}{a{\\left(\\eta \\right)}} + \\frac{\\frac{d}{d \\eta} a{\\left(\\eta \\right)} \\frac{\\partial}{\\partial \\eta} \\phi{\\left(\\eta,x,y,z \\right)}}{a{\\left(\\eta \\right)}} - \\frac{\\frac{d}{d \\eta} a{\\left(\\eta \\right)} \\frac{\\partial}{\\partial \\eta} \\psi{\\left(\\eta,x,y,z \\right)}}{a{\\left(\\eta \\right)}} - \\frac{2 \\phi{\\left(\\eta,x,y,z \\right)} \\left(\\frac{d}{d \\eta} a{\\left(\\eta \\right)}\\right)^{2}}{a^{2}{\\left(\\eta \\right)}} + \\frac{2 \\psi{\\left(\\eta,x,y,z \\right)} \\left(\\frac{d}{d \\eta} a{\\left(\\eta \\right)}\\right)^{2}}{a^{2}{\\left(\\eta \\right)}}\\right) + O\\left(\\delta^{2}\\right)$"
      ],
      "text/plain": [
       "<IPython.core.display.Math object>"
      ]
     },
     "metadata": {},
     "output_type": "display_data"
    },
    {
     "data": {
      "text/latex": [
       "$\\displaystyle {R}{}^{0}\\,{}_{2}\\,{}_{0}\\,{}_{3}\\, = - \\delta \\frac{\\partial^{2}}{\\partial z\\partial y} \\psi{\\left(\\eta,x,y,z \\right)} + O\\left(\\delta^{2}\\right)$"
      ],
      "text/plain": [
       "<IPython.core.display.Math object>"
      ]
     },
     "metadata": {},
     "output_type": "display_data"
    },
    {
     "data": {
      "text/latex": [
       "$\\displaystyle {R}{}^{0}\\,{}_{2}\\,{}_{1}\\,{}_{0}\\, = \\delta \\frac{\\partial^{2}}{\\partial y\\partial x} \\psi{\\left(\\eta,x,y,z \\right)} + O\\left(\\delta^{2}\\right)$"
      ],
      "text/plain": [
       "<IPython.core.display.Math object>"
      ]
     },
     "metadata": {},
     "output_type": "display_data"
    },
    {
     "data": {
      "text/latex": [
       "$\\displaystyle {R}{}^{0}\\,{}_{2}\\,{}_{1}\\,{}_{2}\\, = - \\frac{\\delta \\frac{d}{d \\eta} a{\\left(\\eta \\right)} \\frac{\\partial}{\\partial x} \\psi{\\left(\\eta,x,y,z \\right)}}{a{\\left(\\eta \\right)}} + \\delta \\frac{\\partial^{2}}{\\partial x\\partial \\eta} \\phi{\\left(\\eta,x,y,z \\right)} + O\\left(\\delta^{2}\\right)$"
      ],
      "text/plain": [
       "<IPython.core.display.Math object>"
      ]
     },
     "metadata": {},
     "output_type": "display_data"
    },
    {
     "data": {
      "text/latex": [
       "$\\displaystyle {R}{}^{0}\\,{}_{2}\\,{}_{2}\\,{}_{0}\\, = \\frac{\\left(\\frac{d}{d \\eta} a{\\left(\\eta \\right)}\\right)^{2}}{a^{2}{\\left(\\eta \\right)}} - \\frac{\\frac{d^{2}}{d \\eta^{2}} a{\\left(\\eta \\right)}}{a{\\left(\\eta \\right)}} - \\delta \\left(\\frac{\\partial^{2}}{\\partial \\eta^{2}} \\phi{\\left(\\eta,x,y,z \\right)} - \\frac{\\partial^{2}}{\\partial y^{2}} \\psi{\\left(\\eta,x,y,z \\right)} + \\frac{2 \\phi{\\left(\\eta,x,y,z \\right)} \\frac{d^{2}}{d \\eta^{2}} a{\\left(\\eta \\right)}}{a{\\left(\\eta \\right)}} - \\frac{2 \\psi{\\left(\\eta,x,y,z \\right)} \\frac{d^{2}}{d \\eta^{2}} a{\\left(\\eta \\right)}}{a{\\left(\\eta \\right)}} + \\frac{\\frac{d}{d \\eta} a{\\left(\\eta \\right)} \\frac{\\partial}{\\partial \\eta} \\phi{\\left(\\eta,x,y,z \\right)}}{a{\\left(\\eta \\right)}} - \\frac{\\frac{d}{d \\eta} a{\\left(\\eta \\right)} \\frac{\\partial}{\\partial \\eta} \\psi{\\left(\\eta,x,y,z \\right)}}{a{\\left(\\eta \\right)}} - \\frac{2 \\phi{\\left(\\eta,x,y,z \\right)} \\left(\\frac{d}{d \\eta} a{\\left(\\eta \\right)}\\right)^{2}}{a^{2}{\\left(\\eta \\right)}} + \\frac{2 \\psi{\\left(\\eta,x,y,z \\right)} \\left(\\frac{d}{d \\eta} a{\\left(\\eta \\right)}\\right)^{2}}{a^{2}{\\left(\\eta \\right)}}\\right) + O\\left(\\delta^{2}\\right)$"
      ],
      "text/plain": [
       "<IPython.core.display.Math object>"
      ]
     },
     "metadata": {},
     "output_type": "display_data"
    },
    {
     "data": {
      "text/latex": [
       "$\\displaystyle {R}{}^{0}\\,{}_{2}\\,{}_{2}\\,{}_{1}\\, = \\frac{\\delta \\frac{d}{d \\eta} a{\\left(\\eta \\right)} \\frac{\\partial}{\\partial x} \\psi{\\left(\\eta,x,y,z \\right)}}{a{\\left(\\eta \\right)}} - \\delta \\frac{\\partial^{2}}{\\partial x\\partial \\eta} \\phi{\\left(\\eta,x,y,z \\right)} + O\\left(\\delta^{2}\\right)$"
      ],
      "text/plain": [
       "<IPython.core.display.Math object>"
      ]
     },
     "metadata": {},
     "output_type": "display_data"
    },
    {
     "data": {
      "text/latex": [
       "$\\displaystyle {R}{}^{0}\\,{}_{2}\\,{}_{2}\\,{}_{3}\\, = \\frac{\\delta \\frac{d}{d \\eta} a{\\left(\\eta \\right)} \\frac{\\partial}{\\partial z} \\psi{\\left(\\eta,x,y,z \\right)}}{a{\\left(\\eta \\right)}} - \\delta \\frac{\\partial^{2}}{\\partial z\\partial \\eta} \\phi{\\left(\\eta,x,y,z \\right)} + O\\left(\\delta^{2}\\right)$"
      ],
      "text/plain": [
       "<IPython.core.display.Math object>"
      ]
     },
     "metadata": {},
     "output_type": "display_data"
    },
    {
     "data": {
      "text/latex": [
       "$\\displaystyle {R}{}^{0}\\,{}_{2}\\,{}_{3}\\,{}_{0}\\, = \\delta \\frac{\\partial^{2}}{\\partial z\\partial y} \\psi{\\left(\\eta,x,y,z \\right)} + O\\left(\\delta^{2}\\right)$"
      ],
      "text/plain": [
       "<IPython.core.display.Math object>"
      ]
     },
     "metadata": {},
     "output_type": "display_data"
    },
    {
     "data": {
      "text/latex": [
       "$\\displaystyle {R}{}^{0}\\,{}_{2}\\,{}_{3}\\,{}_{2}\\, = - \\frac{\\delta \\frac{d}{d \\eta} a{\\left(\\eta \\right)} \\frac{\\partial}{\\partial z} \\psi{\\left(\\eta,x,y,z \\right)}}{a{\\left(\\eta \\right)}} + \\delta \\frac{\\partial^{2}}{\\partial z\\partial \\eta} \\phi{\\left(\\eta,x,y,z \\right)} + O\\left(\\delta^{2}\\right)$"
      ],
      "text/plain": [
       "<IPython.core.display.Math object>"
      ]
     },
     "metadata": {},
     "output_type": "display_data"
    },
    {
     "data": {
      "text/latex": [
       "$\\displaystyle {R}{}^{0}\\,{}_{3}\\,{}_{0}\\,{}_{1}\\, = - \\delta \\frac{\\partial^{2}}{\\partial z\\partial x} \\psi{\\left(\\eta,x,y,z \\right)} + O\\left(\\delta^{2}\\right)$"
      ],
      "text/plain": [
       "<IPython.core.display.Math object>"
      ]
     },
     "metadata": {},
     "output_type": "display_data"
    },
    {
     "data": {
      "text/latex": [
       "$\\displaystyle {R}{}^{0}\\,{}_{3}\\,{}_{0}\\,{}_{2}\\, = - \\delta \\frac{\\partial^{2}}{\\partial z\\partial y} \\psi{\\left(\\eta,x,y,z \\right)} + O\\left(\\delta^{2}\\right)$"
      ],
      "text/plain": [
       "<IPython.core.display.Math object>"
      ]
     },
     "metadata": {},
     "output_type": "display_data"
    },
    {
     "data": {
      "text/latex": [
       "$\\displaystyle {R}{}^{0}\\,{}_{3}\\,{}_{0}\\,{}_{3}\\, = - \\frac{\\left(\\frac{d}{d \\eta} a{\\left(\\eta \\right)}\\right)^{2}}{a^{2}{\\left(\\eta \\right)}} + \\frac{\\frac{d^{2}}{d \\eta^{2}} a{\\left(\\eta \\right)}}{a{\\left(\\eta \\right)}} + \\delta \\left(\\frac{\\partial^{2}}{\\partial \\eta^{2}} \\phi{\\left(\\eta,x,y,z \\right)} - \\frac{\\partial^{2}}{\\partial z^{2}} \\psi{\\left(\\eta,x,y,z \\right)} + \\frac{2 \\phi{\\left(\\eta,x,y,z \\right)} \\frac{d^{2}}{d \\eta^{2}} a{\\left(\\eta \\right)}}{a{\\left(\\eta \\right)}} - \\frac{2 \\psi{\\left(\\eta,x,y,z \\right)} \\frac{d^{2}}{d \\eta^{2}} a{\\left(\\eta \\right)}}{a{\\left(\\eta \\right)}} + \\frac{\\frac{d}{d \\eta} a{\\left(\\eta \\right)} \\frac{\\partial}{\\partial \\eta} \\phi{\\left(\\eta,x,y,z \\right)}}{a{\\left(\\eta \\right)}} - \\frac{\\frac{d}{d \\eta} a{\\left(\\eta \\right)} \\frac{\\partial}{\\partial \\eta} \\psi{\\left(\\eta,x,y,z \\right)}}{a{\\left(\\eta \\right)}} - \\frac{2 \\phi{\\left(\\eta,x,y,z \\right)} \\left(\\frac{d}{d \\eta} a{\\left(\\eta \\right)}\\right)^{2}}{a^{2}{\\left(\\eta \\right)}} + \\frac{2 \\psi{\\left(\\eta,x,y,z \\right)} \\left(\\frac{d}{d \\eta} a{\\left(\\eta \\right)}\\right)^{2}}{a^{2}{\\left(\\eta \\right)}}\\right) + O\\left(\\delta^{2}\\right)$"
      ],
      "text/plain": [
       "<IPython.core.display.Math object>"
      ]
     },
     "metadata": {},
     "output_type": "display_data"
    },
    {
     "data": {
      "text/latex": [
       "$\\displaystyle {R}{}^{0}\\,{}_{3}\\,{}_{1}\\,{}_{0}\\, = \\delta \\frac{\\partial^{2}}{\\partial z\\partial x} \\psi{\\left(\\eta,x,y,z \\right)} + O\\left(\\delta^{2}\\right)$"
      ],
      "text/plain": [
       "<IPython.core.display.Math object>"
      ]
     },
     "metadata": {},
     "output_type": "display_data"
    },
    {
     "data": {
      "text/latex": [
       "$\\displaystyle {R}{}^{0}\\,{}_{3}\\,{}_{1}\\,{}_{3}\\, = - \\frac{\\delta \\frac{d}{d \\eta} a{\\left(\\eta \\right)} \\frac{\\partial}{\\partial x} \\psi{\\left(\\eta,x,y,z \\right)}}{a{\\left(\\eta \\right)}} + \\delta \\frac{\\partial^{2}}{\\partial x\\partial \\eta} \\phi{\\left(\\eta,x,y,z \\right)} + O\\left(\\delta^{2}\\right)$"
      ],
      "text/plain": [
       "<IPython.core.display.Math object>"
      ]
     },
     "metadata": {},
     "output_type": "display_data"
    },
    {
     "data": {
      "text/latex": [
       "$\\displaystyle {R}{}^{0}\\,{}_{3}\\,{}_{2}\\,{}_{0}\\, = \\delta \\frac{\\partial^{2}}{\\partial z\\partial y} \\psi{\\left(\\eta,x,y,z \\right)} + O\\left(\\delta^{2}\\right)$"
      ],
      "text/plain": [
       "<IPython.core.display.Math object>"
      ]
     },
     "metadata": {},
     "output_type": "display_data"
    },
    {
     "data": {
      "text/latex": [
       "$\\displaystyle {R}{}^{0}\\,{}_{3}\\,{}_{2}\\,{}_{3}\\, = - \\frac{\\delta \\frac{d}{d \\eta} a{\\left(\\eta \\right)} \\frac{\\partial}{\\partial y} \\psi{\\left(\\eta,x,y,z \\right)}}{a{\\left(\\eta \\right)}} + \\delta \\frac{\\partial^{2}}{\\partial y\\partial \\eta} \\phi{\\left(\\eta,x,y,z \\right)} + O\\left(\\delta^{2}\\right)$"
      ],
      "text/plain": [
       "<IPython.core.display.Math object>"
      ]
     },
     "metadata": {},
     "output_type": "display_data"
    },
    {
     "data": {
      "text/latex": [
       "$\\displaystyle {R}{}^{0}\\,{}_{3}\\,{}_{3}\\,{}_{0}\\, = \\frac{\\left(\\frac{d}{d \\eta} a{\\left(\\eta \\right)}\\right)^{2}}{a^{2}{\\left(\\eta \\right)}} - \\frac{\\frac{d^{2}}{d \\eta^{2}} a{\\left(\\eta \\right)}}{a{\\left(\\eta \\right)}} - \\delta \\left(\\frac{\\partial^{2}}{\\partial \\eta^{2}} \\phi{\\left(\\eta,x,y,z \\right)} - \\frac{\\partial^{2}}{\\partial z^{2}} \\psi{\\left(\\eta,x,y,z \\right)} + \\frac{2 \\phi{\\left(\\eta,x,y,z \\right)} \\frac{d^{2}}{d \\eta^{2}} a{\\left(\\eta \\right)}}{a{\\left(\\eta \\right)}} - \\frac{2 \\psi{\\left(\\eta,x,y,z \\right)} \\frac{d^{2}}{d \\eta^{2}} a{\\left(\\eta \\right)}}{a{\\left(\\eta \\right)}} + \\frac{\\frac{d}{d \\eta} a{\\left(\\eta \\right)} \\frac{\\partial}{\\partial \\eta} \\phi{\\left(\\eta,x,y,z \\right)}}{a{\\left(\\eta \\right)}} - \\frac{\\frac{d}{d \\eta} a{\\left(\\eta \\right)} \\frac{\\partial}{\\partial \\eta} \\psi{\\left(\\eta,x,y,z \\right)}}{a{\\left(\\eta \\right)}} - \\frac{2 \\phi{\\left(\\eta,x,y,z \\right)} \\left(\\frac{d}{d \\eta} a{\\left(\\eta \\right)}\\right)^{2}}{a^{2}{\\left(\\eta \\right)}} + \\frac{2 \\psi{\\left(\\eta,x,y,z \\right)} \\left(\\frac{d}{d \\eta} a{\\left(\\eta \\right)}\\right)^{2}}{a^{2}{\\left(\\eta \\right)}}\\right) + O\\left(\\delta^{2}\\right)$"
      ],
      "text/plain": [
       "<IPython.core.display.Math object>"
      ]
     },
     "metadata": {},
     "output_type": "display_data"
    },
    {
     "data": {
      "text/latex": [
       "$\\displaystyle {R}{}^{0}\\,{}_{3}\\,{}_{3}\\,{}_{1}\\, = \\frac{\\delta \\frac{d}{d \\eta} a{\\left(\\eta \\right)} \\frac{\\partial}{\\partial x} \\psi{\\left(\\eta,x,y,z \\right)}}{a{\\left(\\eta \\right)}} - \\delta \\frac{\\partial^{2}}{\\partial x\\partial \\eta} \\phi{\\left(\\eta,x,y,z \\right)} + O\\left(\\delta^{2}\\right)$"
      ],
      "text/plain": [
       "<IPython.core.display.Math object>"
      ]
     },
     "metadata": {},
     "output_type": "display_data"
    },
    {
     "data": {
      "text/latex": [
       "$\\displaystyle {R}{}^{0}\\,{}_{3}\\,{}_{3}\\,{}_{2}\\, = \\frac{\\delta \\frac{d}{d \\eta} a{\\left(\\eta \\right)} \\frac{\\partial}{\\partial y} \\psi{\\left(\\eta,x,y,z \\right)}}{a{\\left(\\eta \\right)}} - \\delta \\frac{\\partial^{2}}{\\partial y\\partial \\eta} \\phi{\\left(\\eta,x,y,z \\right)} + O\\left(\\delta^{2}\\right)$"
      ],
      "text/plain": [
       "<IPython.core.display.Math object>"
      ]
     },
     "metadata": {},
     "output_type": "display_data"
    },
    {
     "data": {
      "text/latex": [
       "$\\displaystyle {R}{}^{1}\\,{}_{0}\\,{}_{0}\\,{}_{1}\\, = - \\frac{\\left(\\frac{d}{d \\eta} a{\\left(\\eta \\right)}\\right)^{2}}{a^{2}{\\left(\\eta \\right)}} + \\frac{\\frac{d^{2}}{d \\eta^{2}} a{\\left(\\eta \\right)}}{a{\\left(\\eta \\right)}} + \\delta \\left(\\frac{\\partial^{2}}{\\partial \\eta^{2}} \\phi{\\left(\\eta,x,y,z \\right)} - \\frac{\\partial^{2}}{\\partial x^{2}} \\psi{\\left(\\eta,x,y,z \\right)} + \\frac{\\frac{d}{d \\eta} a{\\left(\\eta \\right)} \\frac{\\partial}{\\partial \\eta} \\phi{\\left(\\eta,x,y,z \\right)}}{a{\\left(\\eta \\right)}} - \\frac{\\frac{d}{d \\eta} a{\\left(\\eta \\right)} \\frac{\\partial}{\\partial \\eta} \\psi{\\left(\\eta,x,y,z \\right)}}{a{\\left(\\eta \\right)}}\\right) + O\\left(\\delta^{2}\\right)$"
      ],
      "text/plain": [
       "<IPython.core.display.Math object>"
      ]
     },
     "metadata": {},
     "output_type": "display_data"
    },
    {
     "data": {
      "text/latex": [
       "$\\displaystyle {R}{}^{1}\\,{}_{0}\\,{}_{0}\\,{}_{2}\\, = - \\delta \\frac{\\partial^{2}}{\\partial y\\partial x} \\psi{\\left(\\eta,x,y,z \\right)} + O\\left(\\delta^{2}\\right)$"
      ],
      "text/plain": [
       "<IPython.core.display.Math object>"
      ]
     },
     "metadata": {},
     "output_type": "display_data"
    },
    {
     "data": {
      "text/latex": [
       "$\\displaystyle {R}{}^{1}\\,{}_{0}\\,{}_{0}\\,{}_{3}\\, = - \\delta \\frac{\\partial^{2}}{\\partial z\\partial x} \\psi{\\left(\\eta,x,y,z \\right)} + O\\left(\\delta^{2}\\right)$"
      ],
      "text/plain": [
       "<IPython.core.display.Math object>"
      ]
     },
     "metadata": {},
     "output_type": "display_data"
    },
    {
     "data": {
      "text/latex": [
       "$\\displaystyle {R}{}^{1}\\,{}_{0}\\,{}_{1}\\,{}_{0}\\, = \\frac{\\left(\\frac{d}{d \\eta} a{\\left(\\eta \\right)}\\right)^{2}}{a^{2}{\\left(\\eta \\right)}} - \\frac{\\frac{d^{2}}{d \\eta^{2}} a{\\left(\\eta \\right)}}{a{\\left(\\eta \\right)}} - \\delta \\left(\\frac{\\partial^{2}}{\\partial \\eta^{2}} \\phi{\\left(\\eta,x,y,z \\right)} - \\frac{\\partial^{2}}{\\partial x^{2}} \\psi{\\left(\\eta,x,y,z \\right)} + \\frac{\\frac{d}{d \\eta} a{\\left(\\eta \\right)} \\frac{\\partial}{\\partial \\eta} \\phi{\\left(\\eta,x,y,z \\right)}}{a{\\left(\\eta \\right)}} - \\frac{\\frac{d}{d \\eta} a{\\left(\\eta \\right)} \\frac{\\partial}{\\partial \\eta} \\psi{\\left(\\eta,x,y,z \\right)}}{a{\\left(\\eta \\right)}}\\right) + O\\left(\\delta^{2}\\right)$"
      ],
      "text/plain": [
       "<IPython.core.display.Math object>"
      ]
     },
     "metadata": {},
     "output_type": "display_data"
    },
    {
     "data": {
      "text/latex": [
       "$\\displaystyle {R}{}^{1}\\,{}_{0}\\,{}_{1}\\,{}_{2}\\, = \\frac{\\delta \\frac{d}{d \\eta} a{\\left(\\eta \\right)} \\frac{\\partial}{\\partial y} \\psi{\\left(\\eta,x,y,z \\right)}}{a{\\left(\\eta \\right)}} - \\delta \\frac{\\partial^{2}}{\\partial y\\partial \\eta} \\phi{\\left(\\eta,x,y,z \\right)} + O\\left(\\delta^{2}\\right)$"
      ],
      "text/plain": [
       "<IPython.core.display.Math object>"
      ]
     },
     "metadata": {},
     "output_type": "display_data"
    },
    {
     "data": {
      "text/latex": [
       "$\\displaystyle {R}{}^{1}\\,{}_{0}\\,{}_{1}\\,{}_{3}\\, = \\frac{\\delta \\frac{d}{d \\eta} a{\\left(\\eta \\right)} \\frac{\\partial}{\\partial z} \\psi{\\left(\\eta,x,y,z \\right)}}{a{\\left(\\eta \\right)}} - \\delta \\frac{\\partial^{2}}{\\partial z\\partial \\eta} \\phi{\\left(\\eta,x,y,z \\right)} + O\\left(\\delta^{2}\\right)$"
      ],
      "text/plain": [
       "<IPython.core.display.Math object>"
      ]
     },
     "metadata": {},
     "output_type": "display_data"
    },
    {
     "data": {
      "text/latex": [
       "$\\displaystyle {R}{}^{1}\\,{}_{0}\\,{}_{2}\\,{}_{0}\\, = \\delta \\frac{\\partial^{2}}{\\partial y\\partial x} \\psi{\\left(\\eta,x,y,z \\right)} + O\\left(\\delta^{2}\\right)$"
      ],
      "text/plain": [
       "<IPython.core.display.Math object>"
      ]
     },
     "metadata": {},
     "output_type": "display_data"
    },
    {
     "data": {
      "text/latex": [
       "$\\displaystyle {R}{}^{1}\\,{}_{0}\\,{}_{2}\\,{}_{1}\\, = - \\frac{\\delta \\frac{d}{d \\eta} a{\\left(\\eta \\right)} \\frac{\\partial}{\\partial y} \\psi{\\left(\\eta,x,y,z \\right)}}{a{\\left(\\eta \\right)}} + \\delta \\frac{\\partial^{2}}{\\partial y\\partial \\eta} \\phi{\\left(\\eta,x,y,z \\right)} + O\\left(\\delta^{2}\\right)$"
      ],
      "text/plain": [
       "<IPython.core.display.Math object>"
      ]
     },
     "metadata": {},
     "output_type": "display_data"
    },
    {
     "data": {
      "text/latex": [
       "$\\displaystyle {R}{}^{1}\\,{}_{0}\\,{}_{3}\\,{}_{0}\\, = \\delta \\frac{\\partial^{2}}{\\partial z\\partial x} \\psi{\\left(\\eta,x,y,z \\right)} + O\\left(\\delta^{2}\\right)$"
      ],
      "text/plain": [
       "<IPython.core.display.Math object>"
      ]
     },
     "metadata": {},
     "output_type": "display_data"
    },
    {
     "data": {
      "text/latex": [
       "$\\displaystyle {R}{}^{1}\\,{}_{0}\\,{}_{3}\\,{}_{1}\\, = - \\frac{\\delta \\frac{d}{d \\eta} a{\\left(\\eta \\right)} \\frac{\\partial}{\\partial z} \\psi{\\left(\\eta,x,y,z \\right)}}{a{\\left(\\eta \\right)}} + \\delta \\frac{\\partial^{2}}{\\partial z\\partial \\eta} \\phi{\\left(\\eta,x,y,z \\right)} + O\\left(\\delta^{2}\\right)$"
      ],
      "text/plain": [
       "<IPython.core.display.Math object>"
      ]
     },
     "metadata": {},
     "output_type": "display_data"
    },
    {
     "data": {
      "text/latex": [
       "$\\displaystyle {R}{}^{1}\\,{}_{1}\\,{}_{0}\\,{}_{1}\\, = O\\left(\\delta^{2}\\right)$"
      ],
      "text/plain": [
       "<IPython.core.display.Math object>"
      ]
     },
     "metadata": {},
     "output_type": "display_data"
    },
    {
     "data": {
      "text/latex": [
       "$\\displaystyle {R}{}^{1}\\,{}_{1}\\,{}_{1}\\,{}_{0}\\, = O\\left(\\delta^{2}\\right)$"
      ],
      "text/plain": [
       "<IPython.core.display.Math object>"
      ]
     },
     "metadata": {},
     "output_type": "display_data"
    },
    {
     "data": {
      "text/latex": [
       "$\\displaystyle {R}{}^{1}\\,{}_{1}\\,{}_{1}\\,{}_{2}\\, = O\\left(\\delta^{2}\\right)$"
      ],
      "text/plain": [
       "<IPython.core.display.Math object>"
      ]
     },
     "metadata": {},
     "output_type": "display_data"
    },
    {
     "data": {
      "text/latex": [
       "$\\displaystyle {R}{}^{1}\\,{}_{1}\\,{}_{1}\\,{}_{3}\\, = O\\left(\\delta^{2}\\right)$"
      ],
      "text/plain": [
       "<IPython.core.display.Math object>"
      ]
     },
     "metadata": {},
     "output_type": "display_data"
    },
    {
     "data": {
      "text/latex": [
       "$\\displaystyle {R}{}^{1}\\,{}_{1}\\,{}_{2}\\,{}_{1}\\, = O\\left(\\delta^{2}\\right)$"
      ],
      "text/plain": [
       "<IPython.core.display.Math object>"
      ]
     },
     "metadata": {},
     "output_type": "display_data"
    },
    {
     "data": {
      "text/latex": [
       "$\\displaystyle {R}{}^{1}\\,{}_{1}\\,{}_{3}\\,{}_{1}\\, = O\\left(\\delta^{2}\\right)$"
      ],
      "text/plain": [
       "<IPython.core.display.Math object>"
      ]
     },
     "metadata": {},
     "output_type": "display_data"
    },
    {
     "data": {
      "text/latex": [
       "$\\displaystyle {R}{}^{1}\\,{}_{2}\\,{}_{0}\\,{}_{1}\\, = - \\frac{\\delta \\frac{d}{d \\eta} a{\\left(\\eta \\right)} \\frac{\\partial}{\\partial y} \\psi{\\left(\\eta,x,y,z \\right)}}{a{\\left(\\eta \\right)}} + \\delta \\frac{\\partial^{2}}{\\partial y\\partial \\eta} \\phi{\\left(\\eta,x,y,z \\right)} + O\\left(\\delta^{2}\\right)$"
      ],
      "text/plain": [
       "<IPython.core.display.Math object>"
      ]
     },
     "metadata": {},
     "output_type": "display_data"
    },
    {
     "data": {
      "text/latex": [
       "$\\displaystyle {R}{}^{1}\\,{}_{2}\\,{}_{0}\\,{}_{2}\\, = \\frac{\\delta \\frac{d}{d \\eta} a{\\left(\\eta \\right)} \\frac{\\partial}{\\partial x} \\psi{\\left(\\eta,x,y,z \\right)}}{a{\\left(\\eta \\right)}} - \\delta \\frac{\\partial^{2}}{\\partial x\\partial \\eta} \\phi{\\left(\\eta,x,y,z \\right)} + O\\left(\\delta^{2}\\right)$"
      ],
      "text/plain": [
       "<IPython.core.display.Math object>"
      ]
     },
     "metadata": {},
     "output_type": "display_data"
    },
    {
     "data": {
      "text/latex": [
       "$\\displaystyle {R}{}^{1}\\,{}_{2}\\,{}_{1}\\,{}_{0}\\, = \\frac{\\delta \\frac{d}{d \\eta} a{\\left(\\eta \\right)} \\frac{\\partial}{\\partial y} \\psi{\\left(\\eta,x,y,z \\right)}}{a{\\left(\\eta \\right)}} - \\delta \\frac{\\partial^{2}}{\\partial y\\partial \\eta} \\phi{\\left(\\eta,x,y,z \\right)} + O\\left(\\delta^{2}\\right)$"
      ],
      "text/plain": [
       "<IPython.core.display.Math object>"
      ]
     },
     "metadata": {},
     "output_type": "display_data"
    },
    {
     "data": {
      "text/latex": [
       "$\\displaystyle {R}{}^{1}\\,{}_{2}\\,{}_{1}\\,{}_{2}\\, = \\frac{\\left(\\frac{d}{d \\eta} a{\\left(\\eta \\right)}\\right)^{2}}{a^{2}{\\left(\\eta \\right)}} + \\delta \\left(- \\frac{\\partial^{2}}{\\partial x^{2}} \\phi{\\left(\\eta,x,y,z \\right)} - \\frac{\\partial^{2}}{\\partial y^{2}} \\phi{\\left(\\eta,x,y,z \\right)} + \\frac{2 \\frac{d}{d \\eta} a{\\left(\\eta \\right)} \\frac{\\partial}{\\partial \\eta} \\phi{\\left(\\eta,x,y,z \\right)}}{a{\\left(\\eta \\right)}} + \\frac{2 \\phi{\\left(\\eta,x,y,z \\right)} \\left(\\frac{d}{d \\eta} a{\\left(\\eta \\right)}\\right)^{2}}{a^{2}{\\left(\\eta \\right)}} - \\frac{2 \\psi{\\left(\\eta,x,y,z \\right)} \\left(\\frac{d}{d \\eta} a{\\left(\\eta \\right)}\\right)^{2}}{a^{2}{\\left(\\eta \\right)}}\\right) + O\\left(\\delta^{2}\\right)$"
      ],
      "text/plain": [
       "<IPython.core.display.Math object>"
      ]
     },
     "metadata": {},
     "output_type": "display_data"
    },
    {
     "data": {
      "text/latex": [
       "$\\displaystyle {R}{}^{1}\\,{}_{2}\\,{}_{1}\\,{}_{3}\\, = - \\delta \\frac{\\partial^{2}}{\\partial z\\partial y} \\phi{\\left(\\eta,x,y,z \\right)} + O\\left(\\delta^{2}\\right)$"
      ],
      "text/plain": [
       "<IPython.core.display.Math object>"
      ]
     },
     "metadata": {},
     "output_type": "display_data"
    },
    {
     "data": {
      "text/latex": [
       "$\\displaystyle {R}{}^{1}\\,{}_{2}\\,{}_{2}\\,{}_{0}\\, = - \\frac{\\delta \\frac{d}{d \\eta} a{\\left(\\eta \\right)} \\frac{\\partial}{\\partial x} \\psi{\\left(\\eta,x,y,z \\right)}}{a{\\left(\\eta \\right)}} + \\delta \\frac{\\partial^{2}}{\\partial x\\partial \\eta} \\phi{\\left(\\eta,x,y,z \\right)} + O\\left(\\delta^{2}\\right)$"
      ],
      "text/plain": [
       "<IPython.core.display.Math object>"
      ]
     },
     "metadata": {},
     "output_type": "display_data"
    },
    {
     "data": {
      "text/latex": [
       "$\\displaystyle {R}{}^{1}\\,{}_{2}\\,{}_{2}\\,{}_{1}\\, = - \\frac{\\left(\\frac{d}{d \\eta} a{\\left(\\eta \\right)}\\right)^{2}}{a^{2}{\\left(\\eta \\right)}} - \\delta \\left(- \\frac{\\partial^{2}}{\\partial x^{2}} \\phi{\\left(\\eta,x,y,z \\right)} - \\frac{\\partial^{2}}{\\partial y^{2}} \\phi{\\left(\\eta,x,y,z \\right)} + \\frac{2 \\frac{d}{d \\eta} a{\\left(\\eta \\right)} \\frac{\\partial}{\\partial \\eta} \\phi{\\left(\\eta,x,y,z \\right)}}{a{\\left(\\eta \\right)}} + \\frac{2 \\phi{\\left(\\eta,x,y,z \\right)} \\left(\\frac{d}{d \\eta} a{\\left(\\eta \\right)}\\right)^{2}}{a^{2}{\\left(\\eta \\right)}} - \\frac{2 \\psi{\\left(\\eta,x,y,z \\right)} \\left(\\frac{d}{d \\eta} a{\\left(\\eta \\right)}\\right)^{2}}{a^{2}{\\left(\\eta \\right)}}\\right) + O\\left(\\delta^{2}\\right)$"
      ],
      "text/plain": [
       "<IPython.core.display.Math object>"
      ]
     },
     "metadata": {},
     "output_type": "display_data"
    },
    {
     "data": {
      "text/latex": [
       "$\\displaystyle {R}{}^{1}\\,{}_{2}\\,{}_{2}\\,{}_{3}\\, = \\delta \\frac{\\partial^{2}}{\\partial z\\partial x} \\phi{\\left(\\eta,x,y,z \\right)} + O\\left(\\delta^{2}\\right)$"
      ],
      "text/plain": [
       "<IPython.core.display.Math object>"
      ]
     },
     "metadata": {},
     "output_type": "display_data"
    },
    {
     "data": {
      "text/latex": [
       "$\\displaystyle {R}{}^{1}\\,{}_{2}\\,{}_{3}\\,{}_{1}\\, = \\delta \\frac{\\partial^{2}}{\\partial z\\partial y} \\phi{\\left(\\eta,x,y,z \\right)} + O\\left(\\delta^{2}\\right)$"
      ],
      "text/plain": [
       "<IPython.core.display.Math object>"
      ]
     },
     "metadata": {},
     "output_type": "display_data"
    },
    {
     "data": {
      "text/latex": [
       "$\\displaystyle {R}{}^{1}\\,{}_{2}\\,{}_{3}\\,{}_{2}\\, = - \\delta \\frac{\\partial^{2}}{\\partial z\\partial x} \\phi{\\left(\\eta,x,y,z \\right)} + O\\left(\\delta^{2}\\right)$"
      ],
      "text/plain": [
       "<IPython.core.display.Math object>"
      ]
     },
     "metadata": {},
     "output_type": "display_data"
    },
    {
     "data": {
      "text/latex": [
       "$\\displaystyle {R}{}^{1}\\,{}_{3}\\,{}_{0}\\,{}_{1}\\, = - \\frac{\\delta \\frac{d}{d \\eta} a{\\left(\\eta \\right)} \\frac{\\partial}{\\partial z} \\psi{\\left(\\eta,x,y,z \\right)}}{a{\\left(\\eta \\right)}} + \\delta \\frac{\\partial^{2}}{\\partial z\\partial \\eta} \\phi{\\left(\\eta,x,y,z \\right)} + O\\left(\\delta^{2}\\right)$"
      ],
      "text/plain": [
       "<IPython.core.display.Math object>"
      ]
     },
     "metadata": {},
     "output_type": "display_data"
    },
    {
     "data": {
      "text/latex": [
       "$\\displaystyle {R}{}^{1}\\,{}_{3}\\,{}_{0}\\,{}_{3}\\, = \\frac{\\delta \\frac{d}{d \\eta} a{\\left(\\eta \\right)} \\frac{\\partial}{\\partial x} \\psi{\\left(\\eta,x,y,z \\right)}}{a{\\left(\\eta \\right)}} - \\delta \\frac{\\partial^{2}}{\\partial x\\partial \\eta} \\phi{\\left(\\eta,x,y,z \\right)} + O\\left(\\delta^{2}\\right)$"
      ],
      "text/plain": [
       "<IPython.core.display.Math object>"
      ]
     },
     "metadata": {},
     "output_type": "display_data"
    },
    {
     "data": {
      "text/latex": [
       "$\\displaystyle {R}{}^{1}\\,{}_{3}\\,{}_{1}\\,{}_{0}\\, = \\frac{\\delta \\frac{d}{d \\eta} a{\\left(\\eta \\right)} \\frac{\\partial}{\\partial z} \\psi{\\left(\\eta,x,y,z \\right)}}{a{\\left(\\eta \\right)}} - \\delta \\frac{\\partial^{2}}{\\partial z\\partial \\eta} \\phi{\\left(\\eta,x,y,z \\right)} + O\\left(\\delta^{2}\\right)$"
      ],
      "text/plain": [
       "<IPython.core.display.Math object>"
      ]
     },
     "metadata": {},
     "output_type": "display_data"
    },
    {
     "data": {
      "text/latex": [
       "$\\displaystyle {R}{}^{1}\\,{}_{3}\\,{}_{1}\\,{}_{2}\\, = - \\delta \\frac{\\partial^{2}}{\\partial z\\partial y} \\phi{\\left(\\eta,x,y,z \\right)} + O\\left(\\delta^{2}\\right)$"
      ],
      "text/plain": [
       "<IPython.core.display.Math object>"
      ]
     },
     "metadata": {},
     "output_type": "display_data"
    },
    {
     "data": {
      "text/latex": [
       "$\\displaystyle {R}{}^{1}\\,{}_{3}\\,{}_{1}\\,{}_{3}\\, = \\frac{\\left(\\frac{d}{d \\eta} a{\\left(\\eta \\right)}\\right)^{2}}{a^{2}{\\left(\\eta \\right)}} + \\delta \\left(- \\frac{\\partial^{2}}{\\partial x^{2}} \\phi{\\left(\\eta,x,y,z \\right)} - \\frac{\\partial^{2}}{\\partial z^{2}} \\phi{\\left(\\eta,x,y,z \\right)} + \\frac{2 \\frac{d}{d \\eta} a{\\left(\\eta \\right)} \\frac{\\partial}{\\partial \\eta} \\phi{\\left(\\eta,x,y,z \\right)}}{a{\\left(\\eta \\right)}} + \\frac{2 \\phi{\\left(\\eta,x,y,z \\right)} \\left(\\frac{d}{d \\eta} a{\\left(\\eta \\right)}\\right)^{2}}{a^{2}{\\left(\\eta \\right)}} - \\frac{2 \\psi{\\left(\\eta,x,y,z \\right)} \\left(\\frac{d}{d \\eta} a{\\left(\\eta \\right)}\\right)^{2}}{a^{2}{\\left(\\eta \\right)}}\\right) + O\\left(\\delta^{2}\\right)$"
      ],
      "text/plain": [
       "<IPython.core.display.Math object>"
      ]
     },
     "metadata": {},
     "output_type": "display_data"
    },
    {
     "data": {
      "text/latex": [
       "$\\displaystyle {R}{}^{1}\\,{}_{3}\\,{}_{2}\\,{}_{1}\\, = \\delta \\frac{\\partial^{2}}{\\partial z\\partial y} \\phi{\\left(\\eta,x,y,z \\right)} + O\\left(\\delta^{2}\\right)$"
      ],
      "text/plain": [
       "<IPython.core.display.Math object>"
      ]
     },
     "metadata": {},
     "output_type": "display_data"
    },
    {
     "data": {
      "text/latex": [
       "$\\displaystyle {R}{}^{1}\\,{}_{3}\\,{}_{2}\\,{}_{3}\\, = - \\delta \\frac{\\partial^{2}}{\\partial y\\partial x} \\phi{\\left(\\eta,x,y,z \\right)} + O\\left(\\delta^{2}\\right)$"
      ],
      "text/plain": [
       "<IPython.core.display.Math object>"
      ]
     },
     "metadata": {},
     "output_type": "display_data"
    },
    {
     "data": {
      "text/latex": [
       "$\\displaystyle {R}{}^{1}\\,{}_{3}\\,{}_{3}\\,{}_{0}\\, = - \\frac{\\delta \\frac{d}{d \\eta} a{\\left(\\eta \\right)} \\frac{\\partial}{\\partial x} \\psi{\\left(\\eta,x,y,z \\right)}}{a{\\left(\\eta \\right)}} + \\delta \\frac{\\partial^{2}}{\\partial x\\partial \\eta} \\phi{\\left(\\eta,x,y,z \\right)} + O\\left(\\delta^{2}\\right)$"
      ],
      "text/plain": [
       "<IPython.core.display.Math object>"
      ]
     },
     "metadata": {},
     "output_type": "display_data"
    },
    {
     "data": {
      "text/latex": [
       "$\\displaystyle {R}{}^{1}\\,{}_{3}\\,{}_{3}\\,{}_{1}\\, = - \\frac{\\left(\\frac{d}{d \\eta} a{\\left(\\eta \\right)}\\right)^{2}}{a^{2}{\\left(\\eta \\right)}} - \\delta \\left(- \\frac{\\partial^{2}}{\\partial x^{2}} \\phi{\\left(\\eta,x,y,z \\right)} - \\frac{\\partial^{2}}{\\partial z^{2}} \\phi{\\left(\\eta,x,y,z \\right)} + \\frac{2 \\frac{d}{d \\eta} a{\\left(\\eta \\right)} \\frac{\\partial}{\\partial \\eta} \\phi{\\left(\\eta,x,y,z \\right)}}{a{\\left(\\eta \\right)}} + \\frac{2 \\phi{\\left(\\eta,x,y,z \\right)} \\left(\\frac{d}{d \\eta} a{\\left(\\eta \\right)}\\right)^{2}}{a^{2}{\\left(\\eta \\right)}} - \\frac{2 \\psi{\\left(\\eta,x,y,z \\right)} \\left(\\frac{d}{d \\eta} a{\\left(\\eta \\right)}\\right)^{2}}{a^{2}{\\left(\\eta \\right)}}\\right) + O\\left(\\delta^{2}\\right)$"
      ],
      "text/plain": [
       "<IPython.core.display.Math object>"
      ]
     },
     "metadata": {},
     "output_type": "display_data"
    },
    {
     "data": {
      "text/latex": [
       "$\\displaystyle {R}{}^{1}\\,{}_{3}\\,{}_{3}\\,{}_{2}\\, = \\delta \\frac{\\partial^{2}}{\\partial y\\partial x} \\phi{\\left(\\eta,x,y,z \\right)} + O\\left(\\delta^{2}\\right)$"
      ],
      "text/plain": [
       "<IPython.core.display.Math object>"
      ]
     },
     "metadata": {},
     "output_type": "display_data"
    },
    {
     "data": {
      "text/latex": [
       "$\\displaystyle {R}{}^{2}\\,{}_{0}\\,{}_{0}\\,{}_{1}\\, = - \\delta \\frac{\\partial^{2}}{\\partial y\\partial x} \\psi{\\left(\\eta,x,y,z \\right)} + O\\left(\\delta^{2}\\right)$"
      ],
      "text/plain": [
       "<IPython.core.display.Math object>"
      ]
     },
     "metadata": {},
     "output_type": "display_data"
    },
    {
     "data": {
      "text/latex": [
       "$\\displaystyle {R}{}^{2}\\,{}_{0}\\,{}_{0}\\,{}_{2}\\, = - \\frac{\\left(\\frac{d}{d \\eta} a{\\left(\\eta \\right)}\\right)^{2}}{a^{2}{\\left(\\eta \\right)}} + \\frac{\\frac{d^{2}}{d \\eta^{2}} a{\\left(\\eta \\right)}}{a{\\left(\\eta \\right)}} + \\delta \\left(\\frac{\\partial^{2}}{\\partial \\eta^{2}} \\phi{\\left(\\eta,x,y,z \\right)} - \\frac{\\partial^{2}}{\\partial y^{2}} \\psi{\\left(\\eta,x,y,z \\right)} + \\frac{\\frac{d}{d \\eta} a{\\left(\\eta \\right)} \\frac{\\partial}{\\partial \\eta} \\phi{\\left(\\eta,x,y,z \\right)}}{a{\\left(\\eta \\right)}} - \\frac{\\frac{d}{d \\eta} a{\\left(\\eta \\right)} \\frac{\\partial}{\\partial \\eta} \\psi{\\left(\\eta,x,y,z \\right)}}{a{\\left(\\eta \\right)}}\\right) + O\\left(\\delta^{2}\\right)$"
      ],
      "text/plain": [
       "<IPython.core.display.Math object>"
      ]
     },
     "metadata": {},
     "output_type": "display_data"
    },
    {
     "data": {
      "text/latex": [
       "$\\displaystyle {R}{}^{2}\\,{}_{0}\\,{}_{0}\\,{}_{3}\\, = - \\delta \\frac{\\partial^{2}}{\\partial z\\partial y} \\psi{\\left(\\eta,x,y,z \\right)} + O\\left(\\delta^{2}\\right)$"
      ],
      "text/plain": [
       "<IPython.core.display.Math object>"
      ]
     },
     "metadata": {},
     "output_type": "display_data"
    },
    {
     "data": {
      "text/latex": [
       "$\\displaystyle {R}{}^{2}\\,{}_{0}\\,{}_{1}\\,{}_{0}\\, = \\delta \\frac{\\partial^{2}}{\\partial y\\partial x} \\psi{\\left(\\eta,x,y,z \\right)} + O\\left(\\delta^{2}\\right)$"
      ],
      "text/plain": [
       "<IPython.core.display.Math object>"
      ]
     },
     "metadata": {},
     "output_type": "display_data"
    },
    {
     "data": {
      "text/latex": [
       "$\\displaystyle {R}{}^{2}\\,{}_{0}\\,{}_{1}\\,{}_{2}\\, = - \\frac{\\delta \\frac{d}{d \\eta} a{\\left(\\eta \\right)} \\frac{\\partial}{\\partial x} \\psi{\\left(\\eta,x,y,z \\right)}}{a{\\left(\\eta \\right)}} + \\delta \\frac{\\partial^{2}}{\\partial x\\partial \\eta} \\phi{\\left(\\eta,x,y,z \\right)} + O\\left(\\delta^{2}\\right)$"
      ],
      "text/plain": [
       "<IPython.core.display.Math object>"
      ]
     },
     "metadata": {},
     "output_type": "display_data"
    },
    {
     "data": {
      "text/latex": [
       "$\\displaystyle {R}{}^{2}\\,{}_{0}\\,{}_{2}\\,{}_{0}\\, = \\frac{\\left(\\frac{d}{d \\eta} a{\\left(\\eta \\right)}\\right)^{2}}{a^{2}{\\left(\\eta \\right)}} - \\frac{\\frac{d^{2}}{d \\eta^{2}} a{\\left(\\eta \\right)}}{a{\\left(\\eta \\right)}} - \\delta \\left(\\frac{\\partial^{2}}{\\partial \\eta^{2}} \\phi{\\left(\\eta,x,y,z \\right)} - \\frac{\\partial^{2}}{\\partial y^{2}} \\psi{\\left(\\eta,x,y,z \\right)} + \\frac{\\frac{d}{d \\eta} a{\\left(\\eta \\right)} \\frac{\\partial}{\\partial \\eta} \\phi{\\left(\\eta,x,y,z \\right)}}{a{\\left(\\eta \\right)}} - \\frac{\\frac{d}{d \\eta} a{\\left(\\eta \\right)} \\frac{\\partial}{\\partial \\eta} \\psi{\\left(\\eta,x,y,z \\right)}}{a{\\left(\\eta \\right)}}\\right) + O\\left(\\delta^{2}\\right)$"
      ],
      "text/plain": [
       "<IPython.core.display.Math object>"
      ]
     },
     "metadata": {},
     "output_type": "display_data"
    },
    {
     "data": {
      "text/latex": [
       "$\\displaystyle {R}{}^{2}\\,{}_{0}\\,{}_{2}\\,{}_{1}\\, = \\frac{\\delta \\frac{d}{d \\eta} a{\\left(\\eta \\right)} \\frac{\\partial}{\\partial x} \\psi{\\left(\\eta,x,y,z \\right)}}{a{\\left(\\eta \\right)}} - \\delta \\frac{\\partial^{2}}{\\partial x\\partial \\eta} \\phi{\\left(\\eta,x,y,z \\right)} + O\\left(\\delta^{2}\\right)$"
      ],
      "text/plain": [
       "<IPython.core.display.Math object>"
      ]
     },
     "metadata": {},
     "output_type": "display_data"
    },
    {
     "data": {
      "text/latex": [
       "$\\displaystyle {R}{}^{2}\\,{}_{0}\\,{}_{2}\\,{}_{3}\\, = \\frac{\\delta \\frac{d}{d \\eta} a{\\left(\\eta \\right)} \\frac{\\partial}{\\partial z} \\psi{\\left(\\eta,x,y,z \\right)}}{a{\\left(\\eta \\right)}} - \\delta \\frac{\\partial^{2}}{\\partial z\\partial \\eta} \\phi{\\left(\\eta,x,y,z \\right)} + O\\left(\\delta^{2}\\right)$"
      ],
      "text/plain": [
       "<IPython.core.display.Math object>"
      ]
     },
     "metadata": {},
     "output_type": "display_data"
    },
    {
     "data": {
      "text/latex": [
       "$\\displaystyle {R}{}^{2}\\,{}_{0}\\,{}_{3}\\,{}_{0}\\, = \\delta \\frac{\\partial^{2}}{\\partial z\\partial y} \\psi{\\left(\\eta,x,y,z \\right)} + O\\left(\\delta^{2}\\right)$"
      ],
      "text/plain": [
       "<IPython.core.display.Math object>"
      ]
     },
     "metadata": {},
     "output_type": "display_data"
    },
    {
     "data": {
      "text/latex": [
       "$\\displaystyle {R}{}^{2}\\,{}_{0}\\,{}_{3}\\,{}_{2}\\, = - \\frac{\\delta \\frac{d}{d \\eta} a{\\left(\\eta \\right)} \\frac{\\partial}{\\partial z} \\psi{\\left(\\eta,x,y,z \\right)}}{a{\\left(\\eta \\right)}} + \\delta \\frac{\\partial^{2}}{\\partial z\\partial \\eta} \\phi{\\left(\\eta,x,y,z \\right)} + O\\left(\\delta^{2}\\right)$"
      ],
      "text/plain": [
       "<IPython.core.display.Math object>"
      ]
     },
     "metadata": {},
     "output_type": "display_data"
    },
    {
     "data": {
      "text/latex": [
       "$\\displaystyle {R}{}^{2}\\,{}_{1}\\,{}_{0}\\,{}_{1}\\, = \\frac{\\delta \\frac{d}{d \\eta} a{\\left(\\eta \\right)} \\frac{\\partial}{\\partial y} \\psi{\\left(\\eta,x,y,z \\right)}}{a{\\left(\\eta \\right)}} - \\delta \\frac{\\partial^{2}}{\\partial y\\partial \\eta} \\phi{\\left(\\eta,x,y,z \\right)} + O\\left(\\delta^{2}\\right)$"
      ],
      "text/plain": [
       "<IPython.core.display.Math object>"
      ]
     },
     "metadata": {},
     "output_type": "display_data"
    },
    {
     "data": {
      "text/latex": [
       "$\\displaystyle {R}{}^{2}\\,{}_{1}\\,{}_{0}\\,{}_{2}\\, = - \\frac{\\delta \\frac{d}{d \\eta} a{\\left(\\eta \\right)} \\frac{\\partial}{\\partial x} \\psi{\\left(\\eta,x,y,z \\right)}}{a{\\left(\\eta \\right)}} + \\delta \\frac{\\partial^{2}}{\\partial x\\partial \\eta} \\phi{\\left(\\eta,x,y,z \\right)} + O\\left(\\delta^{2}\\right)$"
      ],
      "text/plain": [
       "<IPython.core.display.Math object>"
      ]
     },
     "metadata": {},
     "output_type": "display_data"
    },
    {
     "data": {
      "text/latex": [
       "$\\displaystyle {R}{}^{2}\\,{}_{1}\\,{}_{1}\\,{}_{0}\\, = - \\frac{\\delta \\frac{d}{d \\eta} a{\\left(\\eta \\right)} \\frac{\\partial}{\\partial y} \\psi{\\left(\\eta,x,y,z \\right)}}{a{\\left(\\eta \\right)}} + \\delta \\frac{\\partial^{2}}{\\partial y\\partial \\eta} \\phi{\\left(\\eta,x,y,z \\right)} + O\\left(\\delta^{2}\\right)$"
      ],
      "text/plain": [
       "<IPython.core.display.Math object>"
      ]
     },
     "metadata": {},
     "output_type": "display_data"
    },
    {
     "data": {
      "text/latex": [
       "$\\displaystyle {R}{}^{2}\\,{}_{1}\\,{}_{1}\\,{}_{2}\\, = - \\frac{\\left(\\frac{d}{d \\eta} a{\\left(\\eta \\right)}\\right)^{2}}{a^{2}{\\left(\\eta \\right)}} + \\delta \\left(\\frac{\\partial^{2}}{\\partial x^{2}} \\phi{\\left(\\eta,x,y,z \\right)} + \\frac{\\partial^{2}}{\\partial y^{2}} \\phi{\\left(\\eta,x,y,z \\right)} - \\frac{2 \\frac{d}{d \\eta} a{\\left(\\eta \\right)} \\frac{\\partial}{\\partial \\eta} \\phi{\\left(\\eta,x,y,z \\right)}}{a{\\left(\\eta \\right)}} - \\frac{2 \\phi{\\left(\\eta,x,y,z \\right)} \\left(\\frac{d}{d \\eta} a{\\left(\\eta \\right)}\\right)^{2}}{a^{2}{\\left(\\eta \\right)}} + \\frac{2 \\psi{\\left(\\eta,x,y,z \\right)} \\left(\\frac{d}{d \\eta} a{\\left(\\eta \\right)}\\right)^{2}}{a^{2}{\\left(\\eta \\right)}}\\right) + O\\left(\\delta^{2}\\right)$"
      ],
      "text/plain": [
       "<IPython.core.display.Math object>"
      ]
     },
     "metadata": {},
     "output_type": "display_data"
    },
    {
     "data": {
      "text/latex": [
       "$\\displaystyle {R}{}^{2}\\,{}_{1}\\,{}_{1}\\,{}_{3}\\, = \\delta \\frac{\\partial^{2}}{\\partial z\\partial y} \\phi{\\left(\\eta,x,y,z \\right)} + O\\left(\\delta^{2}\\right)$"
      ],
      "text/plain": [
       "<IPython.core.display.Math object>"
      ]
     },
     "metadata": {},
     "output_type": "display_data"
    },
    {
     "data": {
      "text/latex": [
       "$\\displaystyle {R}{}^{2}\\,{}_{1}\\,{}_{2}\\,{}_{0}\\, = \\frac{\\delta \\frac{d}{d \\eta} a{\\left(\\eta \\right)} \\frac{\\partial}{\\partial x} \\psi{\\left(\\eta,x,y,z \\right)}}{a{\\left(\\eta \\right)}} - \\delta \\frac{\\partial^{2}}{\\partial x\\partial \\eta} \\phi{\\left(\\eta,x,y,z \\right)} + O\\left(\\delta^{2}\\right)$"
      ],
      "text/plain": [
       "<IPython.core.display.Math object>"
      ]
     },
     "metadata": {},
     "output_type": "display_data"
    },
    {
     "data": {
      "text/latex": [
       "$\\displaystyle {R}{}^{2}\\,{}_{1}\\,{}_{2}\\,{}_{1}\\, = \\frac{\\left(\\frac{d}{d \\eta} a{\\left(\\eta \\right)}\\right)^{2}}{a^{2}{\\left(\\eta \\right)}} - \\delta \\left(\\frac{\\partial^{2}}{\\partial x^{2}} \\phi{\\left(\\eta,x,y,z \\right)} + \\frac{\\partial^{2}}{\\partial y^{2}} \\phi{\\left(\\eta,x,y,z \\right)} - \\frac{2 \\frac{d}{d \\eta} a{\\left(\\eta \\right)} \\frac{\\partial}{\\partial \\eta} \\phi{\\left(\\eta,x,y,z \\right)}}{a{\\left(\\eta \\right)}} - \\frac{2 \\phi{\\left(\\eta,x,y,z \\right)} \\left(\\frac{d}{d \\eta} a{\\left(\\eta \\right)}\\right)^{2}}{a^{2}{\\left(\\eta \\right)}} + \\frac{2 \\psi{\\left(\\eta,x,y,z \\right)} \\left(\\frac{d}{d \\eta} a{\\left(\\eta \\right)}\\right)^{2}}{a^{2}{\\left(\\eta \\right)}}\\right) + O\\left(\\delta^{2}\\right)$"
      ],
      "text/plain": [
       "<IPython.core.display.Math object>"
      ]
     },
     "metadata": {},
     "output_type": "display_data"
    },
    {
     "data": {
      "text/latex": [
       "$\\displaystyle {R}{}^{2}\\,{}_{1}\\,{}_{2}\\,{}_{3}\\, = - \\delta \\frac{\\partial^{2}}{\\partial z\\partial x} \\phi{\\left(\\eta,x,y,z \\right)} + O\\left(\\delta^{2}\\right)$"
      ],
      "text/plain": [
       "<IPython.core.display.Math object>"
      ]
     },
     "metadata": {},
     "output_type": "display_data"
    },
    {
     "data": {
      "text/latex": [
       "$\\displaystyle {R}{}^{2}\\,{}_{1}\\,{}_{3}\\,{}_{1}\\, = - \\delta \\frac{\\partial^{2}}{\\partial z\\partial y} \\phi{\\left(\\eta,x,y,z \\right)} + O\\left(\\delta^{2}\\right)$"
      ],
      "text/plain": [
       "<IPython.core.display.Math object>"
      ]
     },
     "metadata": {},
     "output_type": "display_data"
    },
    {
     "data": {
      "text/latex": [
       "$\\displaystyle {R}{}^{2}\\,{}_{1}\\,{}_{3}\\,{}_{2}\\, = \\delta \\frac{\\partial^{2}}{\\partial z\\partial x} \\phi{\\left(\\eta,x,y,z \\right)} + O\\left(\\delta^{2}\\right)$"
      ],
      "text/plain": [
       "<IPython.core.display.Math object>"
      ]
     },
     "metadata": {},
     "output_type": "display_data"
    },
    {
     "data": {
      "text/latex": [
       "$\\displaystyle {R}{}^{2}\\,{}_{2}\\,{}_{0}\\,{}_{2}\\, = O\\left(\\delta^{2}\\right)$"
      ],
      "text/plain": [
       "<IPython.core.display.Math object>"
      ]
     },
     "metadata": {},
     "output_type": "display_data"
    },
    {
     "data": {
      "text/latex": [
       "$\\displaystyle {R}{}^{2}\\,{}_{2}\\,{}_{1}\\,{}_{2}\\, = O\\left(\\delta^{2}\\right)$"
      ],
      "text/plain": [
       "<IPython.core.display.Math object>"
      ]
     },
     "metadata": {},
     "output_type": "display_data"
    },
    {
     "data": {
      "text/latex": [
       "$\\displaystyle {R}{}^{2}\\,{}_{2}\\,{}_{2}\\,{}_{0}\\, = O\\left(\\delta^{2}\\right)$"
      ],
      "text/plain": [
       "<IPython.core.display.Math object>"
      ]
     },
     "metadata": {},
     "output_type": "display_data"
    },
    {
     "data": {
      "text/latex": [
       "$\\displaystyle {R}{}^{2}\\,{}_{2}\\,{}_{2}\\,{}_{1}\\, = O\\left(\\delta^{2}\\right)$"
      ],
      "text/plain": [
       "<IPython.core.display.Math object>"
      ]
     },
     "metadata": {},
     "output_type": "display_data"
    },
    {
     "data": {
      "text/latex": [
       "$\\displaystyle {R}{}^{2}\\,{}_{2}\\,{}_{2}\\,{}_{3}\\, = O\\left(\\delta^{2}\\right)$"
      ],
      "text/plain": [
       "<IPython.core.display.Math object>"
      ]
     },
     "metadata": {},
     "output_type": "display_data"
    },
    {
     "data": {
      "text/latex": [
       "$\\displaystyle {R}{}^{2}\\,{}_{2}\\,{}_{3}\\,{}_{2}\\, = O\\left(\\delta^{2}\\right)$"
      ],
      "text/plain": [
       "<IPython.core.display.Math object>"
      ]
     },
     "metadata": {},
     "output_type": "display_data"
    },
    {
     "data": {
      "text/latex": [
       "$\\displaystyle {R}{}^{2}\\,{}_{3}\\,{}_{0}\\,{}_{2}\\, = - \\frac{\\delta \\frac{d}{d \\eta} a{\\left(\\eta \\right)} \\frac{\\partial}{\\partial z} \\psi{\\left(\\eta,x,y,z \\right)}}{a{\\left(\\eta \\right)}} + \\delta \\frac{\\partial^{2}}{\\partial z\\partial \\eta} \\phi{\\left(\\eta,x,y,z \\right)} + O\\left(\\delta^{2}\\right)$"
      ],
      "text/plain": [
       "<IPython.core.display.Math object>"
      ]
     },
     "metadata": {},
     "output_type": "display_data"
    },
    {
     "data": {
      "text/latex": [
       "$\\displaystyle {R}{}^{2}\\,{}_{3}\\,{}_{0}\\,{}_{3}\\, = \\frac{\\delta \\frac{d}{d \\eta} a{\\left(\\eta \\right)} \\frac{\\partial}{\\partial y} \\psi{\\left(\\eta,x,y,z \\right)}}{a{\\left(\\eta \\right)}} - \\delta \\frac{\\partial^{2}}{\\partial y\\partial \\eta} \\phi{\\left(\\eta,x,y,z \\right)} + O\\left(\\delta^{2}\\right)$"
      ],
      "text/plain": [
       "<IPython.core.display.Math object>"
      ]
     },
     "metadata": {},
     "output_type": "display_data"
    },
    {
     "data": {
      "text/latex": [
       "$\\displaystyle {R}{}^{2}\\,{}_{3}\\,{}_{1}\\,{}_{2}\\, = \\delta \\frac{\\partial^{2}}{\\partial z\\partial x} \\phi{\\left(\\eta,x,y,z \\right)} + O\\left(\\delta^{2}\\right)$"
      ],
      "text/plain": [
       "<IPython.core.display.Math object>"
      ]
     },
     "metadata": {},
     "output_type": "display_data"
    },
    {
     "data": {
      "text/latex": [
       "$\\displaystyle {R}{}^{2}\\,{}_{3}\\,{}_{1}\\,{}_{3}\\, = - \\delta \\frac{\\partial^{2}}{\\partial y\\partial x} \\phi{\\left(\\eta,x,y,z \\right)} + O\\left(\\delta^{2}\\right)$"
      ],
      "text/plain": [
       "<IPython.core.display.Math object>"
      ]
     },
     "metadata": {},
     "output_type": "display_data"
    },
    {
     "data": {
      "text/latex": [
       "$\\displaystyle {R}{}^{2}\\,{}_{3}\\,{}_{2}\\,{}_{0}\\, = \\frac{\\delta \\frac{d}{d \\eta} a{\\left(\\eta \\right)} \\frac{\\partial}{\\partial z} \\psi{\\left(\\eta,x,y,z \\right)}}{a{\\left(\\eta \\right)}} - \\delta \\frac{\\partial^{2}}{\\partial z\\partial \\eta} \\phi{\\left(\\eta,x,y,z \\right)} + O\\left(\\delta^{2}\\right)$"
      ],
      "text/plain": [
       "<IPython.core.display.Math object>"
      ]
     },
     "metadata": {},
     "output_type": "display_data"
    },
    {
     "data": {
      "text/latex": [
       "$\\displaystyle {R}{}^{2}\\,{}_{3}\\,{}_{2}\\,{}_{1}\\, = - \\delta \\frac{\\partial^{2}}{\\partial z\\partial x} \\phi{\\left(\\eta,x,y,z \\right)} + O\\left(\\delta^{2}\\right)$"
      ],
      "text/plain": [
       "<IPython.core.display.Math object>"
      ]
     },
     "metadata": {},
     "output_type": "display_data"
    },
    {
     "data": {
      "text/latex": [
       "$\\displaystyle {R}{}^{2}\\,{}_{3}\\,{}_{2}\\,{}_{3}\\, = \\frac{\\left(\\frac{d}{d \\eta} a{\\left(\\eta \\right)}\\right)^{2}}{a^{2}{\\left(\\eta \\right)}} + \\delta \\left(- \\frac{\\partial^{2}}{\\partial y^{2}} \\phi{\\left(\\eta,x,y,z \\right)} - \\frac{\\partial^{2}}{\\partial z^{2}} \\phi{\\left(\\eta,x,y,z \\right)} + \\frac{2 \\frac{d}{d \\eta} a{\\left(\\eta \\right)} \\frac{\\partial}{\\partial \\eta} \\phi{\\left(\\eta,x,y,z \\right)}}{a{\\left(\\eta \\right)}} + \\frac{2 \\phi{\\left(\\eta,x,y,z \\right)} \\left(\\frac{d}{d \\eta} a{\\left(\\eta \\right)}\\right)^{2}}{a^{2}{\\left(\\eta \\right)}} - \\frac{2 \\psi{\\left(\\eta,x,y,z \\right)} \\left(\\frac{d}{d \\eta} a{\\left(\\eta \\right)}\\right)^{2}}{a^{2}{\\left(\\eta \\right)}}\\right) + O\\left(\\delta^{2}\\right)$"
      ],
      "text/plain": [
       "<IPython.core.display.Math object>"
      ]
     },
     "metadata": {},
     "output_type": "display_data"
    },
    {
     "data": {
      "text/latex": [
       "$\\displaystyle {R}{}^{2}\\,{}_{3}\\,{}_{3}\\,{}_{0}\\, = - \\frac{\\delta \\frac{d}{d \\eta} a{\\left(\\eta \\right)} \\frac{\\partial}{\\partial y} \\psi{\\left(\\eta,x,y,z \\right)}}{a{\\left(\\eta \\right)}} + \\delta \\frac{\\partial^{2}}{\\partial y\\partial \\eta} \\phi{\\left(\\eta,x,y,z \\right)} + O\\left(\\delta^{2}\\right)$"
      ],
      "text/plain": [
       "<IPython.core.display.Math object>"
      ]
     },
     "metadata": {},
     "output_type": "display_data"
    },
    {
     "data": {
      "text/latex": [
       "$\\displaystyle {R}{}^{2}\\,{}_{3}\\,{}_{3}\\,{}_{1}\\, = \\delta \\frac{\\partial^{2}}{\\partial y\\partial x} \\phi{\\left(\\eta,x,y,z \\right)} + O\\left(\\delta^{2}\\right)$"
      ],
      "text/plain": [
       "<IPython.core.display.Math object>"
      ]
     },
     "metadata": {},
     "output_type": "display_data"
    },
    {
     "data": {
      "text/latex": [
       "$\\displaystyle {R}{}^{2}\\,{}_{3}\\,{}_{3}\\,{}_{2}\\, = - \\frac{\\left(\\frac{d}{d \\eta} a{\\left(\\eta \\right)}\\right)^{2}}{a^{2}{\\left(\\eta \\right)}} - \\delta \\left(- \\frac{\\partial^{2}}{\\partial y^{2}} \\phi{\\left(\\eta,x,y,z \\right)} - \\frac{\\partial^{2}}{\\partial z^{2}} \\phi{\\left(\\eta,x,y,z \\right)} + \\frac{2 \\frac{d}{d \\eta} a{\\left(\\eta \\right)} \\frac{\\partial}{\\partial \\eta} \\phi{\\left(\\eta,x,y,z \\right)}}{a{\\left(\\eta \\right)}} + \\frac{2 \\phi{\\left(\\eta,x,y,z \\right)} \\left(\\frac{d}{d \\eta} a{\\left(\\eta \\right)}\\right)^{2}}{a^{2}{\\left(\\eta \\right)}} - \\frac{2 \\psi{\\left(\\eta,x,y,z \\right)} \\left(\\frac{d}{d \\eta} a{\\left(\\eta \\right)}\\right)^{2}}{a^{2}{\\left(\\eta \\right)}}\\right) + O\\left(\\delta^{2}\\right)$"
      ],
      "text/plain": [
       "<IPython.core.display.Math object>"
      ]
     },
     "metadata": {},
     "output_type": "display_data"
    },
    {
     "data": {
      "text/latex": [
       "$\\displaystyle {R}{}^{3}\\,{}_{0}\\,{}_{0}\\,{}_{1}\\, = - \\delta \\frac{\\partial^{2}}{\\partial z\\partial x} \\psi{\\left(\\eta,x,y,z \\right)} + O\\left(\\delta^{2}\\right)$"
      ],
      "text/plain": [
       "<IPython.core.display.Math object>"
      ]
     },
     "metadata": {},
     "output_type": "display_data"
    },
    {
     "data": {
      "text/latex": [
       "$\\displaystyle {R}{}^{3}\\,{}_{0}\\,{}_{0}\\,{}_{2}\\, = - \\delta \\frac{\\partial^{2}}{\\partial z\\partial y} \\psi{\\left(\\eta,x,y,z \\right)} + O\\left(\\delta^{2}\\right)$"
      ],
      "text/plain": [
       "<IPython.core.display.Math object>"
      ]
     },
     "metadata": {},
     "output_type": "display_data"
    },
    {
     "data": {
      "text/latex": [
       "$\\displaystyle {R}{}^{3}\\,{}_{0}\\,{}_{0}\\,{}_{3}\\, = - \\frac{\\left(\\frac{d}{d \\eta} a{\\left(\\eta \\right)}\\right)^{2}}{a^{2}{\\left(\\eta \\right)}} + \\frac{\\frac{d^{2}}{d \\eta^{2}} a{\\left(\\eta \\right)}}{a{\\left(\\eta \\right)}} + \\delta \\left(\\frac{\\partial^{2}}{\\partial \\eta^{2}} \\phi{\\left(\\eta,x,y,z \\right)} - \\frac{\\partial^{2}}{\\partial z^{2}} \\psi{\\left(\\eta,x,y,z \\right)} + \\frac{\\frac{d}{d \\eta} a{\\left(\\eta \\right)} \\frac{\\partial}{\\partial \\eta} \\phi{\\left(\\eta,x,y,z \\right)}}{a{\\left(\\eta \\right)}} - \\frac{\\frac{d}{d \\eta} a{\\left(\\eta \\right)} \\frac{\\partial}{\\partial \\eta} \\psi{\\left(\\eta,x,y,z \\right)}}{a{\\left(\\eta \\right)}}\\right) + O\\left(\\delta^{2}\\right)$"
      ],
      "text/plain": [
       "<IPython.core.display.Math object>"
      ]
     },
     "metadata": {},
     "output_type": "display_data"
    },
    {
     "data": {
      "text/latex": [
       "$\\displaystyle {R}{}^{3}\\,{}_{0}\\,{}_{1}\\,{}_{0}\\, = \\delta \\frac{\\partial^{2}}{\\partial z\\partial x} \\psi{\\left(\\eta,x,y,z \\right)} + O\\left(\\delta^{2}\\right)$"
      ],
      "text/plain": [
       "<IPython.core.display.Math object>"
      ]
     },
     "metadata": {},
     "output_type": "display_data"
    },
    {
     "data": {
      "text/latex": [
       "$\\displaystyle {R}{}^{3}\\,{}_{0}\\,{}_{1}\\,{}_{3}\\, = - \\frac{\\delta \\frac{d}{d \\eta} a{\\left(\\eta \\right)} \\frac{\\partial}{\\partial x} \\psi{\\left(\\eta,x,y,z \\right)}}{a{\\left(\\eta \\right)}} + \\delta \\frac{\\partial^{2}}{\\partial x\\partial \\eta} \\phi{\\left(\\eta,x,y,z \\right)} + O\\left(\\delta^{2}\\right)$"
      ],
      "text/plain": [
       "<IPython.core.display.Math object>"
      ]
     },
     "metadata": {},
     "output_type": "display_data"
    },
    {
     "data": {
      "text/latex": [
       "$\\displaystyle {R}{}^{3}\\,{}_{0}\\,{}_{2}\\,{}_{0}\\, = \\delta \\frac{\\partial^{2}}{\\partial z\\partial y} \\psi{\\left(\\eta,x,y,z \\right)} + O\\left(\\delta^{2}\\right)$"
      ],
      "text/plain": [
       "<IPython.core.display.Math object>"
      ]
     },
     "metadata": {},
     "output_type": "display_data"
    },
    {
     "data": {
      "text/latex": [
       "$\\displaystyle {R}{}^{3}\\,{}_{0}\\,{}_{2}\\,{}_{3}\\, = - \\frac{\\delta \\frac{d}{d \\eta} a{\\left(\\eta \\right)} \\frac{\\partial}{\\partial y} \\psi{\\left(\\eta,x,y,z \\right)}}{a{\\left(\\eta \\right)}} + \\delta \\frac{\\partial^{2}}{\\partial y\\partial \\eta} \\phi{\\left(\\eta,x,y,z \\right)} + O\\left(\\delta^{2}\\right)$"
      ],
      "text/plain": [
       "<IPython.core.display.Math object>"
      ]
     },
     "metadata": {},
     "output_type": "display_data"
    },
    {
     "data": {
      "text/latex": [
       "$\\displaystyle {R}{}^{3}\\,{}_{0}\\,{}_{3}\\,{}_{0}\\, = \\frac{\\left(\\frac{d}{d \\eta} a{\\left(\\eta \\right)}\\right)^{2}}{a^{2}{\\left(\\eta \\right)}} - \\frac{\\frac{d^{2}}{d \\eta^{2}} a{\\left(\\eta \\right)}}{a{\\left(\\eta \\right)}} - \\delta \\left(\\frac{\\partial^{2}}{\\partial \\eta^{2}} \\phi{\\left(\\eta,x,y,z \\right)} - \\frac{\\partial^{2}}{\\partial z^{2}} \\psi{\\left(\\eta,x,y,z \\right)} + \\frac{\\frac{d}{d \\eta} a{\\left(\\eta \\right)} \\frac{\\partial}{\\partial \\eta} \\phi{\\left(\\eta,x,y,z \\right)}}{a{\\left(\\eta \\right)}} - \\frac{\\frac{d}{d \\eta} a{\\left(\\eta \\right)} \\frac{\\partial}{\\partial \\eta} \\psi{\\left(\\eta,x,y,z \\right)}}{a{\\left(\\eta \\right)}}\\right) + O\\left(\\delta^{2}\\right)$"
      ],
      "text/plain": [
       "<IPython.core.display.Math object>"
      ]
     },
     "metadata": {},
     "output_type": "display_data"
    },
    {
     "data": {
      "text/latex": [
       "$\\displaystyle {R}{}^{3}\\,{}_{0}\\,{}_{3}\\,{}_{1}\\, = \\frac{\\delta \\frac{d}{d \\eta} a{\\left(\\eta \\right)} \\frac{\\partial}{\\partial x} \\psi{\\left(\\eta,x,y,z \\right)}}{a{\\left(\\eta \\right)}} - \\delta \\frac{\\partial^{2}}{\\partial x\\partial \\eta} \\phi{\\left(\\eta,x,y,z \\right)} + O\\left(\\delta^{2}\\right)$"
      ],
      "text/plain": [
       "<IPython.core.display.Math object>"
      ]
     },
     "metadata": {},
     "output_type": "display_data"
    },
    {
     "data": {
      "text/latex": [
       "$\\displaystyle {R}{}^{3}\\,{}_{0}\\,{}_{3}\\,{}_{2}\\, = \\frac{\\delta \\frac{d}{d \\eta} a{\\left(\\eta \\right)} \\frac{\\partial}{\\partial y} \\psi{\\left(\\eta,x,y,z \\right)}}{a{\\left(\\eta \\right)}} - \\delta \\frac{\\partial^{2}}{\\partial y\\partial \\eta} \\phi{\\left(\\eta,x,y,z \\right)} + O\\left(\\delta^{2}\\right)$"
      ],
      "text/plain": [
       "<IPython.core.display.Math object>"
      ]
     },
     "metadata": {},
     "output_type": "display_data"
    },
    {
     "data": {
      "text/latex": [
       "$\\displaystyle {R}{}^{3}\\,{}_{1}\\,{}_{0}\\,{}_{1}\\, = \\frac{\\delta \\frac{d}{d \\eta} a{\\left(\\eta \\right)} \\frac{\\partial}{\\partial z} \\psi{\\left(\\eta,x,y,z \\right)}}{a{\\left(\\eta \\right)}} - \\delta \\frac{\\partial^{2}}{\\partial z\\partial \\eta} \\phi{\\left(\\eta,x,y,z \\right)} + O\\left(\\delta^{2}\\right)$"
      ],
      "text/plain": [
       "<IPython.core.display.Math object>"
      ]
     },
     "metadata": {},
     "output_type": "display_data"
    },
    {
     "data": {
      "text/latex": [
       "$\\displaystyle {R}{}^{3}\\,{}_{1}\\,{}_{0}\\,{}_{3}\\, = - \\frac{\\delta \\frac{d}{d \\eta} a{\\left(\\eta \\right)} \\frac{\\partial}{\\partial x} \\psi{\\left(\\eta,x,y,z \\right)}}{a{\\left(\\eta \\right)}} + \\delta \\frac{\\partial^{2}}{\\partial x\\partial \\eta} \\phi{\\left(\\eta,x,y,z \\right)} + O\\left(\\delta^{2}\\right)$"
      ],
      "text/plain": [
       "<IPython.core.display.Math object>"
      ]
     },
     "metadata": {},
     "output_type": "display_data"
    },
    {
     "data": {
      "text/latex": [
       "$\\displaystyle {R}{}^{3}\\,{}_{1}\\,{}_{1}\\,{}_{0}\\, = - \\frac{\\delta \\frac{d}{d \\eta} a{\\left(\\eta \\right)} \\frac{\\partial}{\\partial z} \\psi{\\left(\\eta,x,y,z \\right)}}{a{\\left(\\eta \\right)}} + \\delta \\frac{\\partial^{2}}{\\partial z\\partial \\eta} \\phi{\\left(\\eta,x,y,z \\right)} + O\\left(\\delta^{2}\\right)$"
      ],
      "text/plain": [
       "<IPython.core.display.Math object>"
      ]
     },
     "metadata": {},
     "output_type": "display_data"
    },
    {
     "data": {
      "text/latex": [
       "$\\displaystyle {R}{}^{3}\\,{}_{1}\\,{}_{1}\\,{}_{2}\\, = \\delta \\frac{\\partial^{2}}{\\partial z\\partial y} \\phi{\\left(\\eta,x,y,z \\right)} + O\\left(\\delta^{2}\\right)$"
      ],
      "text/plain": [
       "<IPython.core.display.Math object>"
      ]
     },
     "metadata": {},
     "output_type": "display_data"
    },
    {
     "data": {
      "text/latex": [
       "$\\displaystyle {R}{}^{3}\\,{}_{1}\\,{}_{1}\\,{}_{3}\\, = - \\frac{\\left(\\frac{d}{d \\eta} a{\\left(\\eta \\right)}\\right)^{2}}{a^{2}{\\left(\\eta \\right)}} + \\delta \\left(\\frac{\\partial^{2}}{\\partial x^{2}} \\phi{\\left(\\eta,x,y,z \\right)} + \\frac{\\partial^{2}}{\\partial z^{2}} \\phi{\\left(\\eta,x,y,z \\right)} - \\frac{2 \\frac{d}{d \\eta} a{\\left(\\eta \\right)} \\frac{\\partial}{\\partial \\eta} \\phi{\\left(\\eta,x,y,z \\right)}}{a{\\left(\\eta \\right)}} - \\frac{2 \\phi{\\left(\\eta,x,y,z \\right)} \\left(\\frac{d}{d \\eta} a{\\left(\\eta \\right)}\\right)^{2}}{a^{2}{\\left(\\eta \\right)}} + \\frac{2 \\psi{\\left(\\eta,x,y,z \\right)} \\left(\\frac{d}{d \\eta} a{\\left(\\eta \\right)}\\right)^{2}}{a^{2}{\\left(\\eta \\right)}}\\right) + O\\left(\\delta^{2}\\right)$"
      ],
      "text/plain": [
       "<IPython.core.display.Math object>"
      ]
     },
     "metadata": {},
     "output_type": "display_data"
    },
    {
     "data": {
      "text/latex": [
       "$\\displaystyle {R}{}^{3}\\,{}_{1}\\,{}_{2}\\,{}_{1}\\, = - \\delta \\frac{\\partial^{2}}{\\partial z\\partial y} \\phi{\\left(\\eta,x,y,z \\right)} + O\\left(\\delta^{2}\\right)$"
      ],
      "text/plain": [
       "<IPython.core.display.Math object>"
      ]
     },
     "metadata": {},
     "output_type": "display_data"
    },
    {
     "data": {
      "text/latex": [
       "$\\displaystyle {R}{}^{3}\\,{}_{1}\\,{}_{2}\\,{}_{3}\\, = \\delta \\frac{\\partial^{2}}{\\partial y\\partial x} \\phi{\\left(\\eta,x,y,z \\right)} + O\\left(\\delta^{2}\\right)$"
      ],
      "text/plain": [
       "<IPython.core.display.Math object>"
      ]
     },
     "metadata": {},
     "output_type": "display_data"
    },
    {
     "data": {
      "text/latex": [
       "$\\displaystyle {R}{}^{3}\\,{}_{1}\\,{}_{3}\\,{}_{0}\\, = \\frac{\\delta \\frac{d}{d \\eta} a{\\left(\\eta \\right)} \\frac{\\partial}{\\partial x} \\psi{\\left(\\eta,x,y,z \\right)}}{a{\\left(\\eta \\right)}} - \\delta \\frac{\\partial^{2}}{\\partial x\\partial \\eta} \\phi{\\left(\\eta,x,y,z \\right)} + O\\left(\\delta^{2}\\right)$"
      ],
      "text/plain": [
       "<IPython.core.display.Math object>"
      ]
     },
     "metadata": {},
     "output_type": "display_data"
    },
    {
     "data": {
      "text/latex": [
       "$\\displaystyle {R}{}^{3}\\,{}_{1}\\,{}_{3}\\,{}_{1}\\, = \\frac{\\left(\\frac{d}{d \\eta} a{\\left(\\eta \\right)}\\right)^{2}}{a^{2}{\\left(\\eta \\right)}} - \\delta \\left(\\frac{\\partial^{2}}{\\partial x^{2}} \\phi{\\left(\\eta,x,y,z \\right)} + \\frac{\\partial^{2}}{\\partial z^{2}} \\phi{\\left(\\eta,x,y,z \\right)} - \\frac{2 \\frac{d}{d \\eta} a{\\left(\\eta \\right)} \\frac{\\partial}{\\partial \\eta} \\phi{\\left(\\eta,x,y,z \\right)}}{a{\\left(\\eta \\right)}} - \\frac{2 \\phi{\\left(\\eta,x,y,z \\right)} \\left(\\frac{d}{d \\eta} a{\\left(\\eta \\right)}\\right)^{2}}{a^{2}{\\left(\\eta \\right)}} + \\frac{2 \\psi{\\left(\\eta,x,y,z \\right)} \\left(\\frac{d}{d \\eta} a{\\left(\\eta \\right)}\\right)^{2}}{a^{2}{\\left(\\eta \\right)}}\\right) + O\\left(\\delta^{2}\\right)$"
      ],
      "text/plain": [
       "<IPython.core.display.Math object>"
      ]
     },
     "metadata": {},
     "output_type": "display_data"
    },
    {
     "data": {
      "text/latex": [
       "$\\displaystyle {R}{}^{3}\\,{}_{1}\\,{}_{3}\\,{}_{2}\\, = - \\delta \\frac{\\partial^{2}}{\\partial y\\partial x} \\phi{\\left(\\eta,x,y,z \\right)} + O\\left(\\delta^{2}\\right)$"
      ],
      "text/plain": [
       "<IPython.core.display.Math object>"
      ]
     },
     "metadata": {},
     "output_type": "display_data"
    },
    {
     "data": {
      "text/latex": [
       "$\\displaystyle {R}{}^{3}\\,{}_{2}\\,{}_{0}\\,{}_{2}\\, = \\frac{\\delta \\frac{d}{d \\eta} a{\\left(\\eta \\right)} \\frac{\\partial}{\\partial z} \\psi{\\left(\\eta,x,y,z \\right)}}{a{\\left(\\eta \\right)}} - \\delta \\frac{\\partial^{2}}{\\partial z\\partial \\eta} \\phi{\\left(\\eta,x,y,z \\right)} + O\\left(\\delta^{2}\\right)$"
      ],
      "text/plain": [
       "<IPython.core.display.Math object>"
      ]
     },
     "metadata": {},
     "output_type": "display_data"
    },
    {
     "data": {
      "text/latex": [
       "$\\displaystyle {R}{}^{3}\\,{}_{2}\\,{}_{0}\\,{}_{3}\\, = - \\frac{\\delta \\frac{d}{d \\eta} a{\\left(\\eta \\right)} \\frac{\\partial}{\\partial y} \\psi{\\left(\\eta,x,y,z \\right)}}{a{\\left(\\eta \\right)}} + \\delta \\frac{\\partial^{2}}{\\partial y\\partial \\eta} \\phi{\\left(\\eta,x,y,z \\right)} + O\\left(\\delta^{2}\\right)$"
      ],
      "text/plain": [
       "<IPython.core.display.Math object>"
      ]
     },
     "metadata": {},
     "output_type": "display_data"
    },
    {
     "data": {
      "text/latex": [
       "$\\displaystyle {R}{}^{3}\\,{}_{2}\\,{}_{1}\\,{}_{2}\\, = - \\delta \\frac{\\partial^{2}}{\\partial z\\partial x} \\phi{\\left(\\eta,x,y,z \\right)} + O\\left(\\delta^{2}\\right)$"
      ],
      "text/plain": [
       "<IPython.core.display.Math object>"
      ]
     },
     "metadata": {},
     "output_type": "display_data"
    },
    {
     "data": {
      "text/latex": [
       "$\\displaystyle {R}{}^{3}\\,{}_{2}\\,{}_{1}\\,{}_{3}\\, = \\delta \\frac{\\partial^{2}}{\\partial y\\partial x} \\phi{\\left(\\eta,x,y,z \\right)} + O\\left(\\delta^{2}\\right)$"
      ],
      "text/plain": [
       "<IPython.core.display.Math object>"
      ]
     },
     "metadata": {},
     "output_type": "display_data"
    },
    {
     "data": {
      "text/latex": [
       "$\\displaystyle {R}{}^{3}\\,{}_{2}\\,{}_{2}\\,{}_{0}\\, = - \\frac{\\delta \\frac{d}{d \\eta} a{\\left(\\eta \\right)} \\frac{\\partial}{\\partial z} \\psi{\\left(\\eta,x,y,z \\right)}}{a{\\left(\\eta \\right)}} + \\delta \\frac{\\partial^{2}}{\\partial z\\partial \\eta} \\phi{\\left(\\eta,x,y,z \\right)} + O\\left(\\delta^{2}\\right)$"
      ],
      "text/plain": [
       "<IPython.core.display.Math object>"
      ]
     },
     "metadata": {},
     "output_type": "display_data"
    },
    {
     "data": {
      "text/latex": [
       "$\\displaystyle {R}{}^{3}\\,{}_{2}\\,{}_{2}\\,{}_{1}\\, = \\delta \\frac{\\partial^{2}}{\\partial z\\partial x} \\phi{\\left(\\eta,x,y,z \\right)} + O\\left(\\delta^{2}\\right)$"
      ],
      "text/plain": [
       "<IPython.core.display.Math object>"
      ]
     },
     "metadata": {},
     "output_type": "display_data"
    },
    {
     "data": {
      "text/latex": [
       "$\\displaystyle {R}{}^{3}\\,{}_{2}\\,{}_{2}\\,{}_{3}\\, = - \\frac{\\left(\\frac{d}{d \\eta} a{\\left(\\eta \\right)}\\right)^{2}}{a^{2}{\\left(\\eta \\right)}} + \\delta \\left(\\frac{\\partial^{2}}{\\partial y^{2}} \\phi{\\left(\\eta,x,y,z \\right)} + \\frac{\\partial^{2}}{\\partial z^{2}} \\phi{\\left(\\eta,x,y,z \\right)} - \\frac{2 \\frac{d}{d \\eta} a{\\left(\\eta \\right)} \\frac{\\partial}{\\partial \\eta} \\phi{\\left(\\eta,x,y,z \\right)}}{a{\\left(\\eta \\right)}} - \\frac{2 \\phi{\\left(\\eta,x,y,z \\right)} \\left(\\frac{d}{d \\eta} a{\\left(\\eta \\right)}\\right)^{2}}{a^{2}{\\left(\\eta \\right)}} + \\frac{2 \\psi{\\left(\\eta,x,y,z \\right)} \\left(\\frac{d}{d \\eta} a{\\left(\\eta \\right)}\\right)^{2}}{a^{2}{\\left(\\eta \\right)}}\\right) + O\\left(\\delta^{2}\\right)$"
      ],
      "text/plain": [
       "<IPython.core.display.Math object>"
      ]
     },
     "metadata": {},
     "output_type": "display_data"
    },
    {
     "data": {
      "text/latex": [
       "$\\displaystyle {R}{}^{3}\\,{}_{2}\\,{}_{3}\\,{}_{0}\\, = \\frac{\\delta \\frac{d}{d \\eta} a{\\left(\\eta \\right)} \\frac{\\partial}{\\partial y} \\psi{\\left(\\eta,x,y,z \\right)}}{a{\\left(\\eta \\right)}} - \\delta \\frac{\\partial^{2}}{\\partial y\\partial \\eta} \\phi{\\left(\\eta,x,y,z \\right)} + O\\left(\\delta^{2}\\right)$"
      ],
      "text/plain": [
       "<IPython.core.display.Math object>"
      ]
     },
     "metadata": {},
     "output_type": "display_data"
    },
    {
     "data": {
      "text/latex": [
       "$\\displaystyle {R}{}^{3}\\,{}_{2}\\,{}_{3}\\,{}_{1}\\, = - \\delta \\frac{\\partial^{2}}{\\partial y\\partial x} \\phi{\\left(\\eta,x,y,z \\right)} + O\\left(\\delta^{2}\\right)$"
      ],
      "text/plain": [
       "<IPython.core.display.Math object>"
      ]
     },
     "metadata": {},
     "output_type": "display_data"
    },
    {
     "data": {
      "text/latex": [
       "$\\displaystyle {R}{}^{3}\\,{}_{2}\\,{}_{3}\\,{}_{2}\\, = \\frac{\\left(\\frac{d}{d \\eta} a{\\left(\\eta \\right)}\\right)^{2}}{a^{2}{\\left(\\eta \\right)}} - \\delta \\left(\\frac{\\partial^{2}}{\\partial y^{2}} \\phi{\\left(\\eta,x,y,z \\right)} + \\frac{\\partial^{2}}{\\partial z^{2}} \\phi{\\left(\\eta,x,y,z \\right)} - \\frac{2 \\frac{d}{d \\eta} a{\\left(\\eta \\right)} \\frac{\\partial}{\\partial \\eta} \\phi{\\left(\\eta,x,y,z \\right)}}{a{\\left(\\eta \\right)}} - \\frac{2 \\phi{\\left(\\eta,x,y,z \\right)} \\left(\\frac{d}{d \\eta} a{\\left(\\eta \\right)}\\right)^{2}}{a^{2}{\\left(\\eta \\right)}} + \\frac{2 \\psi{\\left(\\eta,x,y,z \\right)} \\left(\\frac{d}{d \\eta} a{\\left(\\eta \\right)}\\right)^{2}}{a^{2}{\\left(\\eta \\right)}}\\right) + O\\left(\\delta^{2}\\right)$"
      ],
      "text/plain": [
       "<IPython.core.display.Math object>"
      ]
     },
     "metadata": {},
     "output_type": "display_data"
    },
    {
     "data": {
      "text/latex": [
       "$\\displaystyle {R}{}^{3}\\,{}_{3}\\,{}_{0}\\,{}_{3}\\, = O\\left(\\delta^{2}\\right)$"
      ],
      "text/plain": [
       "<IPython.core.display.Math object>"
      ]
     },
     "metadata": {},
     "output_type": "display_data"
    },
    {
     "data": {
      "text/latex": [
       "$\\displaystyle {R}{}^{3}\\,{}_{3}\\,{}_{1}\\,{}_{3}\\, = O\\left(\\delta^{2}\\right)$"
      ],
      "text/plain": [
       "<IPython.core.display.Math object>"
      ]
     },
     "metadata": {},
     "output_type": "display_data"
    },
    {
     "data": {
      "text/latex": [
       "$\\displaystyle {R}{}^{3}\\,{}_{3}\\,{}_{2}\\,{}_{3}\\, = O\\left(\\delta^{2}\\right)$"
      ],
      "text/plain": [
       "<IPython.core.display.Math object>"
      ]
     },
     "metadata": {},
     "output_type": "display_data"
    },
    {
     "data": {
      "text/latex": [
       "$\\displaystyle {R}{}^{3}\\,{}_{3}\\,{}_{3}\\,{}_{0}\\, = O\\left(\\delta^{2}\\right)$"
      ],
      "text/plain": [
       "<IPython.core.display.Math object>"
      ]
     },
     "metadata": {},
     "output_type": "display_data"
    },
    {
     "data": {
      "text/latex": [
       "$\\displaystyle {R}{}^{3}\\,{}_{3}\\,{}_{3}\\,{}_{1}\\, = O\\left(\\delta^{2}\\right)$"
      ],
      "text/plain": [
       "<IPython.core.display.Math object>"
      ]
     },
     "metadata": {},
     "output_type": "display_data"
    },
    {
     "data": {
      "text/latex": [
       "$\\displaystyle {R}{}^{3}\\,{}_{3}\\,{}_{3}\\,{}_{2}\\, = O\\left(\\delta^{2}\\right)$"
      ],
      "text/plain": [
       "<IPython.core.display.Math object>"
      ]
     },
     "metadata": {},
     "output_type": "display_data"
    }
   ],
   "source": [
    "# To calculate the default combination of the Riemann Tensor, i.e, (^,_,_,_): \n",
    "R = pt.riemann()\n",
    "\n",
    "# To calculate all the combinations:\n",
    "# R = pt.riemann(All = True)\n",
    "\n",
    "# To display the default Riemann tensor:\n",
    "R.display(\"^,_,_,_\")\n",
    "\n"
   ]
  },
  {
   "cell_type": "markdown",
   "metadata": {},
   "source": [
    "Remember that if there is no argument, the display method will show the non zero components of the tensor with all lower indices (\"_ ,_ ,_ ,_ \"), which, in this case, has not been calculated."
   ]
  },
  {
   "cell_type": "code",
   "execution_count": 6,
   "metadata": {},
   "outputs": [
    {
     "data": {
      "text/latex": [
       "Ricci Tensor $R_{\\alpha \\beta}$"
      ],
      "text/plain": [
       "<IPython.core.display.Latex object>"
      ]
     },
     "metadata": {},
     "output_type": "display_data"
    },
    {
     "data": {
      "application/vnd.jupyter.widget-view+json": {
       "model_id": "5ba07213e0f648c9b846ce1e29f77da0",
       "version_major": 2,
       "version_minor": 0
      },
      "text/plain": [
       "  0%|          | 0/16 [00:00<?, ?it/s]"
      ]
     },
     "metadata": {},
     "output_type": "display_data"
    },
    {
     "data": {
      "application/vnd.jupyter.widget-view+json": {
       "model_id": "e3890c6cdb2d4b4998f0f505c7b5d880",
       "version_major": 2,
       "version_minor": 0
      },
      "text/plain": [
       "  0%|          | 0/16 [00:00<?, ?it/s]"
      ]
     },
     "metadata": {},
     "output_type": "display_data"
    },
    {
     "data": {
      "text/latex": [
       "Ricci Scalar $R$"
      ],
      "text/plain": [
       "<IPython.core.display.Latex object>"
      ]
     },
     "metadata": {},
     "output_type": "display_data"
    }
   ],
   "source": [
    "# To calculate the default combination of the Ricci Tensor, i.e., (_,_):\n",
    "Ric = pt.ricci()\n",
    "\n",
    "# To calculate all the combinations:\n",
    "# Ric = pt.ricci(All = True)\n",
    "\n",
    "# To calculate the Ricci Scalar:\n",
    "RicS = pt.riccis()"
   ]
  },
  {
   "cell_type": "code",
   "execution_count": 7,
   "metadata": {},
   "outputs": [
    {
     "data": {
      "text/latex": [
       "$\\displaystyle {R}{}_{0}\\,{}_{0}\\, = \\frac{3 \\left(\\frac{d}{d \\eta} a{\\left(\\eta \\right)}\\right)^{2}}{a^{2}{\\left(\\eta \\right)}} - \\frac{3 \\frac{d^{2}}{d \\eta^{2}} a{\\left(\\eta \\right)}}{a{\\left(\\eta \\right)}} + \\delta \\left(- 3 \\frac{\\partial^{2}}{\\partial \\eta^{2}} \\phi{\\left(\\eta,x,y,z \\right)} + \\frac{\\partial^{2}}{\\partial x^{2}} \\psi{\\left(\\eta,x,y,z \\right)} + \\frac{\\partial^{2}}{\\partial y^{2}} \\psi{\\left(\\eta,x,y,z \\right)} + \\frac{\\partial^{2}}{\\partial z^{2}} \\psi{\\left(\\eta,x,y,z \\right)} - \\frac{3 \\frac{d}{d \\eta} a{\\left(\\eta \\right)} \\frac{\\partial}{\\partial \\eta} \\phi{\\left(\\eta,x,y,z \\right)}}{a{\\left(\\eta \\right)}} + \\frac{3 \\frac{d}{d \\eta} a{\\left(\\eta \\right)} \\frac{\\partial}{\\partial \\eta} \\psi{\\left(\\eta,x,y,z \\right)}}{a{\\left(\\eta \\right)}}\\right) + O\\left(\\delta^{2}\\right)$"
      ],
      "text/plain": [
       "<IPython.core.display.Math object>"
      ]
     },
     "metadata": {},
     "output_type": "display_data"
    },
    {
     "data": {
      "text/latex": [
       "$\\displaystyle {R}{}_{0}\\,{}_{1}\\, = \\frac{2 \\delta \\frac{d}{d \\eta} a{\\left(\\eta \\right)} \\frac{\\partial}{\\partial x} \\psi{\\left(\\eta,x,y,z \\right)}}{a{\\left(\\eta \\right)}} - 2 \\delta \\frac{\\partial^{2}}{\\partial x\\partial \\eta} \\phi{\\left(\\eta,x,y,z \\right)} + O\\left(\\delta^{2}\\right)$"
      ],
      "text/plain": [
       "<IPython.core.display.Math object>"
      ]
     },
     "metadata": {},
     "output_type": "display_data"
    },
    {
     "data": {
      "text/latex": [
       "$\\displaystyle {R}{}_{0}\\,{}_{2}\\, = \\frac{2 \\delta \\frac{d}{d \\eta} a{\\left(\\eta \\right)} \\frac{\\partial}{\\partial y} \\psi{\\left(\\eta,x,y,z \\right)}}{a{\\left(\\eta \\right)}} - 2 \\delta \\frac{\\partial^{2}}{\\partial y\\partial \\eta} \\phi{\\left(\\eta,x,y,z \\right)} + O\\left(\\delta^{2}\\right)$"
      ],
      "text/plain": [
       "<IPython.core.display.Math object>"
      ]
     },
     "metadata": {},
     "output_type": "display_data"
    },
    {
     "data": {
      "text/latex": [
       "$\\displaystyle {R}{}_{0}\\,{}_{3}\\, = \\frac{2 \\delta \\frac{d}{d \\eta} a{\\left(\\eta \\right)} \\frac{\\partial}{\\partial z} \\psi{\\left(\\eta,x,y,z \\right)}}{a{\\left(\\eta \\right)}} - 2 \\delta \\frac{\\partial^{2}}{\\partial z\\partial \\eta} \\phi{\\left(\\eta,x,y,z \\right)} + O\\left(\\delta^{2}\\right)$"
      ],
      "text/plain": [
       "<IPython.core.display.Math object>"
      ]
     },
     "metadata": {},
     "output_type": "display_data"
    },
    {
     "data": {
      "text/latex": [
       "$\\displaystyle {R}{}_{1}\\,{}_{0}\\, = \\frac{2 \\delta \\frac{d}{d \\eta} a{\\left(\\eta \\right)} \\frac{\\partial}{\\partial x} \\psi{\\left(\\eta,x,y,z \\right)}}{a{\\left(\\eta \\right)}} - 2 \\delta \\frac{\\partial^{2}}{\\partial x\\partial \\eta} \\phi{\\left(\\eta,x,y,z \\right)} + O\\left(\\delta^{2}\\right)$"
      ],
      "text/plain": [
       "<IPython.core.display.Math object>"
      ]
     },
     "metadata": {},
     "output_type": "display_data"
    },
    {
     "data": {
      "text/latex": [
       "$\\displaystyle {R}{}_{1}\\,{}_{1}\\, = \\frac{\\left(\\frac{d}{d \\eta} a{\\left(\\eta \\right)}\\right)^{2}}{a^{2}{\\left(\\eta \\right)}} + \\frac{\\frac{d^{2}}{d \\eta^{2}} a{\\left(\\eta \\right)}}{a{\\left(\\eta \\right)}} + \\delta \\left(\\frac{\\partial^{2}}{\\partial \\eta^{2}} \\phi{\\left(\\eta,x,y,z \\right)} - 2 \\frac{\\partial^{2}}{\\partial x^{2}} \\phi{\\left(\\eta,x,y,z \\right)} - \\frac{\\partial^{2}}{\\partial y^{2}} \\phi{\\left(\\eta,x,y,z \\right)} - \\frac{\\partial^{2}}{\\partial z^{2}} \\phi{\\left(\\eta,x,y,z \\right)} - \\frac{\\partial^{2}}{\\partial x^{2}} \\psi{\\left(\\eta,x,y,z \\right)} + \\frac{2 \\phi{\\left(\\eta,x,y,z \\right)} \\frac{d^{2}}{d \\eta^{2}} a{\\left(\\eta \\right)}}{a{\\left(\\eta \\right)}} - \\frac{2 \\psi{\\left(\\eta,x,y,z \\right)} \\frac{d^{2}}{d \\eta^{2}} a{\\left(\\eta \\right)}}{a{\\left(\\eta \\right)}} + \\frac{5 \\frac{d}{d \\eta} a{\\left(\\eta \\right)} \\frac{\\partial}{\\partial \\eta} \\phi{\\left(\\eta,x,y,z \\right)}}{a{\\left(\\eta \\right)}} - \\frac{\\frac{d}{d \\eta} a{\\left(\\eta \\right)} \\frac{\\partial}{\\partial \\eta} \\psi{\\left(\\eta,x,y,z \\right)}}{a{\\left(\\eta \\right)}} + \\frac{2 \\phi{\\left(\\eta,x,y,z \\right)} \\left(\\frac{d}{d \\eta} a{\\left(\\eta \\right)}\\right)^{2}}{a^{2}{\\left(\\eta \\right)}} - \\frac{2 \\psi{\\left(\\eta,x,y,z \\right)} \\left(\\frac{d}{d \\eta} a{\\left(\\eta \\right)}\\right)^{2}}{a^{2}{\\left(\\eta \\right)}}\\right) + O\\left(\\delta^{2}\\right)$"
      ],
      "text/plain": [
       "<IPython.core.display.Math object>"
      ]
     },
     "metadata": {},
     "output_type": "display_data"
    },
    {
     "data": {
      "text/latex": [
       "$\\displaystyle {R}{}_{1}\\,{}_{2}\\, = - \\delta \\frac{\\partial^{2}}{\\partial y\\partial x} \\psi{\\left(\\eta,x,y,z \\right)} - \\delta \\frac{\\partial^{2}}{\\partial y\\partial x} \\phi{\\left(\\eta,x,y,z \\right)} + O\\left(\\delta^{2}\\right)$"
      ],
      "text/plain": [
       "<IPython.core.display.Math object>"
      ]
     },
     "metadata": {},
     "output_type": "display_data"
    },
    {
     "data": {
      "text/latex": [
       "$\\displaystyle {R}{}_{1}\\,{}_{3}\\, = - \\delta \\frac{\\partial^{2}}{\\partial z\\partial x} \\psi{\\left(\\eta,x,y,z \\right)} - \\delta \\frac{\\partial^{2}}{\\partial z\\partial x} \\phi{\\left(\\eta,x,y,z \\right)} + O\\left(\\delta^{2}\\right)$"
      ],
      "text/plain": [
       "<IPython.core.display.Math object>"
      ]
     },
     "metadata": {},
     "output_type": "display_data"
    },
    {
     "data": {
      "text/latex": [
       "$\\displaystyle {R}{}_{2}\\,{}_{0}\\, = \\frac{2 \\delta \\frac{d}{d \\eta} a{\\left(\\eta \\right)} \\frac{\\partial}{\\partial y} \\psi{\\left(\\eta,x,y,z \\right)}}{a{\\left(\\eta \\right)}} - 2 \\delta \\frac{\\partial^{2}}{\\partial y\\partial \\eta} \\phi{\\left(\\eta,x,y,z \\right)} + O\\left(\\delta^{2}\\right)$"
      ],
      "text/plain": [
       "<IPython.core.display.Math object>"
      ]
     },
     "metadata": {},
     "output_type": "display_data"
    },
    {
     "data": {
      "text/latex": [
       "$\\displaystyle {R}{}_{2}\\,{}_{1}\\, = - \\delta \\frac{\\partial^{2}}{\\partial y\\partial x} \\psi{\\left(\\eta,x,y,z \\right)} - \\delta \\frac{\\partial^{2}}{\\partial y\\partial x} \\phi{\\left(\\eta,x,y,z \\right)} + O\\left(\\delta^{2}\\right)$"
      ],
      "text/plain": [
       "<IPython.core.display.Math object>"
      ]
     },
     "metadata": {},
     "output_type": "display_data"
    },
    {
     "data": {
      "text/latex": [
       "$\\displaystyle {R}{}_{2}\\,{}_{2}\\, = \\frac{\\left(\\frac{d}{d \\eta} a{\\left(\\eta \\right)}\\right)^{2}}{a^{2}{\\left(\\eta \\right)}} + \\frac{\\frac{d^{2}}{d \\eta^{2}} a{\\left(\\eta \\right)}}{a{\\left(\\eta \\right)}} + \\delta \\left(\\frac{\\partial^{2}}{\\partial \\eta^{2}} \\phi{\\left(\\eta,x,y,z \\right)} - \\frac{\\partial^{2}}{\\partial x^{2}} \\phi{\\left(\\eta,x,y,z \\right)} - 2 \\frac{\\partial^{2}}{\\partial y^{2}} \\phi{\\left(\\eta,x,y,z \\right)} - \\frac{\\partial^{2}}{\\partial z^{2}} \\phi{\\left(\\eta,x,y,z \\right)} - \\frac{\\partial^{2}}{\\partial y^{2}} \\psi{\\left(\\eta,x,y,z \\right)} + \\frac{2 \\phi{\\left(\\eta,x,y,z \\right)} \\frac{d^{2}}{d \\eta^{2}} a{\\left(\\eta \\right)}}{a{\\left(\\eta \\right)}} - \\frac{2 \\psi{\\left(\\eta,x,y,z \\right)} \\frac{d^{2}}{d \\eta^{2}} a{\\left(\\eta \\right)}}{a{\\left(\\eta \\right)}} + \\frac{5 \\frac{d}{d \\eta} a{\\left(\\eta \\right)} \\frac{\\partial}{\\partial \\eta} \\phi{\\left(\\eta,x,y,z \\right)}}{a{\\left(\\eta \\right)}} - \\frac{\\frac{d}{d \\eta} a{\\left(\\eta \\right)} \\frac{\\partial}{\\partial \\eta} \\psi{\\left(\\eta,x,y,z \\right)}}{a{\\left(\\eta \\right)}} + \\frac{2 \\phi{\\left(\\eta,x,y,z \\right)} \\left(\\frac{d}{d \\eta} a{\\left(\\eta \\right)}\\right)^{2}}{a^{2}{\\left(\\eta \\right)}} - \\frac{2 \\psi{\\left(\\eta,x,y,z \\right)} \\left(\\frac{d}{d \\eta} a{\\left(\\eta \\right)}\\right)^{2}}{a^{2}{\\left(\\eta \\right)}}\\right) + O\\left(\\delta^{2}\\right)$"
      ],
      "text/plain": [
       "<IPython.core.display.Math object>"
      ]
     },
     "metadata": {},
     "output_type": "display_data"
    },
    {
     "data": {
      "text/latex": [
       "$\\displaystyle {R}{}_{2}\\,{}_{3}\\, = - \\delta \\frac{\\partial^{2}}{\\partial z\\partial y} \\psi{\\left(\\eta,x,y,z \\right)} - \\delta \\frac{\\partial^{2}}{\\partial z\\partial y} \\phi{\\left(\\eta,x,y,z \\right)} + O\\left(\\delta^{2}\\right)$"
      ],
      "text/plain": [
       "<IPython.core.display.Math object>"
      ]
     },
     "metadata": {},
     "output_type": "display_data"
    },
    {
     "data": {
      "text/latex": [
       "$\\displaystyle {R}{}_{3}\\,{}_{0}\\, = \\frac{2 \\delta \\frac{d}{d \\eta} a{\\left(\\eta \\right)} \\frac{\\partial}{\\partial z} \\psi{\\left(\\eta,x,y,z \\right)}}{a{\\left(\\eta \\right)}} - 2 \\delta \\frac{\\partial^{2}}{\\partial z\\partial \\eta} \\phi{\\left(\\eta,x,y,z \\right)} + O\\left(\\delta^{2}\\right)$"
      ],
      "text/plain": [
       "<IPython.core.display.Math object>"
      ]
     },
     "metadata": {},
     "output_type": "display_data"
    },
    {
     "data": {
      "text/latex": [
       "$\\displaystyle {R}{}_{3}\\,{}_{1}\\, = - \\delta \\frac{\\partial^{2}}{\\partial z\\partial x} \\psi{\\left(\\eta,x,y,z \\right)} - \\delta \\frac{\\partial^{2}}{\\partial z\\partial x} \\phi{\\left(\\eta,x,y,z \\right)} + O\\left(\\delta^{2}\\right)$"
      ],
      "text/plain": [
       "<IPython.core.display.Math object>"
      ]
     },
     "metadata": {},
     "output_type": "display_data"
    },
    {
     "data": {
      "text/latex": [
       "$\\displaystyle {R}{}_{3}\\,{}_{2}\\, = - \\delta \\frac{\\partial^{2}}{\\partial z\\partial y} \\psi{\\left(\\eta,x,y,z \\right)} - \\delta \\frac{\\partial^{2}}{\\partial z\\partial y} \\phi{\\left(\\eta,x,y,z \\right)} + O\\left(\\delta^{2}\\right)$"
      ],
      "text/plain": [
       "<IPython.core.display.Math object>"
      ]
     },
     "metadata": {},
     "output_type": "display_data"
    },
    {
     "data": {
      "text/latex": [
       "$\\displaystyle {R}{}_{3}\\,{}_{3}\\, = \\frac{\\left(\\frac{d}{d \\eta} a{\\left(\\eta \\right)}\\right)^{2}}{a^{2}{\\left(\\eta \\right)}} + \\frac{\\frac{d^{2}}{d \\eta^{2}} a{\\left(\\eta \\right)}}{a{\\left(\\eta \\right)}} + \\delta \\left(\\frac{\\partial^{2}}{\\partial \\eta^{2}} \\phi{\\left(\\eta,x,y,z \\right)} - \\frac{\\partial^{2}}{\\partial x^{2}} \\phi{\\left(\\eta,x,y,z \\right)} - \\frac{\\partial^{2}}{\\partial y^{2}} \\phi{\\left(\\eta,x,y,z \\right)} - 2 \\frac{\\partial^{2}}{\\partial z^{2}} \\phi{\\left(\\eta,x,y,z \\right)} - \\frac{\\partial^{2}}{\\partial z^{2}} \\psi{\\left(\\eta,x,y,z \\right)} + \\frac{2 \\phi{\\left(\\eta,x,y,z \\right)} \\frac{d^{2}}{d \\eta^{2}} a{\\left(\\eta \\right)}}{a{\\left(\\eta \\right)}} - \\frac{2 \\psi{\\left(\\eta,x,y,z \\right)} \\frac{d^{2}}{d \\eta^{2}} a{\\left(\\eta \\right)}}{a{\\left(\\eta \\right)}} + \\frac{5 \\frac{d}{d \\eta} a{\\left(\\eta \\right)} \\frac{\\partial}{\\partial \\eta} \\phi{\\left(\\eta,x,y,z \\right)}}{a{\\left(\\eta \\right)}} - \\frac{\\frac{d}{d \\eta} a{\\left(\\eta \\right)} \\frac{\\partial}{\\partial \\eta} \\psi{\\left(\\eta,x,y,z \\right)}}{a{\\left(\\eta \\right)}} + \\frac{2 \\phi{\\left(\\eta,x,y,z \\right)} \\left(\\frac{d}{d \\eta} a{\\left(\\eta \\right)}\\right)^{2}}{a^{2}{\\left(\\eta \\right)}} - \\frac{2 \\psi{\\left(\\eta,x,y,z \\right)} \\left(\\frac{d}{d \\eta} a{\\left(\\eta \\right)}\\right)^{2}}{a^{2}{\\left(\\eta \\right)}}\\right) + O\\left(\\delta^{2}\\right)$"
      ],
      "text/plain": [
       "<IPython.core.display.Math object>"
      ]
     },
     "metadata": {},
     "output_type": "display_data"
    },
    {
     "data": {
      "text/latex": [
       "$\\displaystyle \\frac{6 \\frac{d^{2}}{d \\eta^{2}} a{\\left(\\eta \\right)}}{a^{3}{\\left(\\eta \\right)}} + \\delta \\left(\\frac{6 \\frac{\\partial^{2}}{\\partial \\eta^{2}} \\phi{\\left(\\eta,x,y,z \\right)}}{a^{2}{\\left(\\eta \\right)}} - \\frac{4 \\frac{\\partial^{2}}{\\partial x^{2}} \\phi{\\left(\\eta,x,y,z \\right)}}{a^{2}{\\left(\\eta \\right)}} - \\frac{4 \\frac{\\partial^{2}}{\\partial y^{2}} \\phi{\\left(\\eta,x,y,z \\right)}}{a^{2}{\\left(\\eta \\right)}} - \\frac{4 \\frac{\\partial^{2}}{\\partial z^{2}} \\phi{\\left(\\eta,x,y,z \\right)}}{a^{2}{\\left(\\eta \\right)}} - \\frac{2 \\frac{\\partial^{2}}{\\partial x^{2}} \\psi{\\left(\\eta,x,y,z \\right)}}{a^{2}{\\left(\\eta \\right)}} - \\frac{2 \\frac{\\partial^{2}}{\\partial y^{2}} \\psi{\\left(\\eta,x,y,z \\right)}}{a^{2}{\\left(\\eta \\right)}} - \\frac{2 \\frac{\\partial^{2}}{\\partial z^{2}} \\psi{\\left(\\eta,x,y,z \\right)}}{a^{2}{\\left(\\eta \\right)}} - \\frac{12 \\psi{\\left(\\eta,x,y,z \\right)} \\frac{d^{2}}{d \\eta^{2}} a{\\left(\\eta \\right)}}{a^{3}{\\left(\\eta \\right)}} + \\frac{18 \\frac{d}{d \\eta} a{\\left(\\eta \\right)} \\frac{\\partial}{\\partial \\eta} \\phi{\\left(\\eta,x,y,z \\right)}}{a^{3}{\\left(\\eta \\right)}} - \\frac{6 \\frac{d}{d \\eta} a{\\left(\\eta \\right)} \\frac{\\partial}{\\partial \\eta} \\psi{\\left(\\eta,x,y,z \\right)}}{a^{3}{\\left(\\eta \\right)}}\\right) + O\\left(\\delta^{2}\\right)$"
      ],
      "text/plain": [
       "<IPython.core.display.Math object>"
      ]
     },
     "metadata": {},
     "output_type": "display_data"
    }
   ],
   "source": [
    "# To display the Ricci Tensor (by default it displays the tensor with all lower indices):\n",
    "Ric.display(aslist=True)\n",
    "\n",
    "# To display the Ricci Scalar:\n",
    "pt.display(RicS)"
   ]
  },
  {
   "cell_type": "code",
   "execution_count": 8,
   "metadata": {},
   "outputs": [
    {
     "data": {
      "text/latex": [
       "Einstein Tensor $G_{\\alpha \\beta}$"
      ],
      "text/plain": [
       "<IPython.core.display.Latex object>"
      ]
     },
     "metadata": {},
     "output_type": "display_data"
    },
    {
     "data": {
      "application/vnd.jupyter.widget-view+json": {
       "model_id": "41805f54933b4ff0a14ed7b06dbe925d",
       "version_major": 2,
       "version_minor": 0
      },
      "text/plain": [
       "  0%|          | 0/16 [00:00<?, ?it/s]"
      ]
     },
     "metadata": {},
     "output_type": "display_data"
    },
    {
     "data": {
      "application/vnd.jupyter.widget-view+json": {
       "model_id": "e70c48a37b6347dfb3880a862dd65b5c",
       "version_major": 2,
       "version_minor": 0
      },
      "text/plain": [
       "Einstein Tensor $G{^\\alpha}{_\\beta}$:   0%|          | 0/16 [00:00<?, ?it/s]"
      ]
     },
     "metadata": {},
     "output_type": "display_data"
    },
    {
     "data": {
      "application/vnd.jupyter.widget-view+json": {
       "model_id": "eb63c10b347f4758a33dc9912f1c0b19",
       "version_major": 2,
       "version_minor": 0
      },
      "text/plain": [
       "Einstein Tensor $G{^\\alpha}{^\\beta}$:   0%|          | 0/16 [00:00<?, ?it/s]"
      ]
     },
     "metadata": {},
     "output_type": "display_data"
    },
    {
     "data": {
      "application/vnd.jupyter.widget-view+json": {
       "model_id": "efd338be4dc64ea4b6eccd2df5d3334c",
       "version_major": 2,
       "version_minor": 0
      },
      "text/plain": [
       "Einstein Tensor $G{_\\alpha}{^\\beta}$:   0%|          | 0/16 [00:00<?, ?it/s]"
      ]
     },
     "metadata": {},
     "output_type": "display_data"
    },
    {
     "data": {
      "text/latex": [
       "All other indices of Einstein Tensor $G$  already calculated."
      ],
      "text/plain": [
       "<IPython.core.display.Latex object>"
      ]
     },
     "metadata": {},
     "output_type": "display_data"
    },
    {
     "data": {
      "text/latex": [
       "$\\displaystyle {G}{}^{0}\\,{}_{0}\\, = - \\frac{3 \\left(\\frac{d}{d \\eta} a{\\left(\\eta \\right)}\\right)^{2}}{a^{4}{\\left(\\eta \\right)}} + \\delta \\left(\\frac{2 \\frac{\\partial^{2}}{\\partial x^{2}} \\phi{\\left(\\eta,x,y,z \\right)}}{a^{2}{\\left(\\eta \\right)}} + \\frac{2 \\frac{\\partial^{2}}{\\partial y^{2}} \\phi{\\left(\\eta,x,y,z \\right)}}{a^{2}{\\left(\\eta \\right)}} + \\frac{2 \\frac{\\partial^{2}}{\\partial z^{2}} \\phi{\\left(\\eta,x,y,z \\right)}}{a^{2}{\\left(\\eta \\right)}} - \\frac{6 \\frac{d}{d \\eta} a{\\left(\\eta \\right)} \\frac{\\partial}{\\partial \\eta} \\phi{\\left(\\eta,x,y,z \\right)}}{a^{3}{\\left(\\eta \\right)}} + \\frac{6 \\psi{\\left(\\eta,x,y,z \\right)} \\left(\\frac{d}{d \\eta} a{\\left(\\eta \\right)}\\right)^{2}}{a^{4}{\\left(\\eta \\right)}}\\right) + O\\left(\\delta^{2}\\right)$"
      ],
      "text/plain": [
       "<IPython.core.display.Math object>"
      ]
     },
     "metadata": {},
     "output_type": "display_data"
    },
    {
     "data": {
      "text/latex": [
       "$\\displaystyle {G}{}^{0}\\,{}_{1}\\, = - \\frac{2 \\delta \\frac{d}{d \\eta} a{\\left(\\eta \\right)} \\frac{\\partial}{\\partial x} \\psi{\\left(\\eta,x,y,z \\right)}}{a^{3}{\\left(\\eta \\right)}} + \\frac{2 \\delta \\frac{\\partial^{2}}{\\partial x\\partial \\eta} \\phi{\\left(\\eta,x,y,z \\right)}}{a^{2}{\\left(\\eta \\right)}} + O\\left(\\delta^{2}\\right)$"
      ],
      "text/plain": [
       "<IPython.core.display.Math object>"
      ]
     },
     "metadata": {},
     "output_type": "display_data"
    },
    {
     "data": {
      "text/latex": [
       "$\\displaystyle {G}{}^{0}\\,{}_{2}\\, = - \\frac{2 \\delta \\frac{d}{d \\eta} a{\\left(\\eta \\right)} \\frac{\\partial}{\\partial y} \\psi{\\left(\\eta,x,y,z \\right)}}{a^{3}{\\left(\\eta \\right)}} + \\frac{2 \\delta \\frac{\\partial^{2}}{\\partial y\\partial \\eta} \\phi{\\left(\\eta,x,y,z \\right)}}{a^{2}{\\left(\\eta \\right)}} + O\\left(\\delta^{2}\\right)$"
      ],
      "text/plain": [
       "<IPython.core.display.Math object>"
      ]
     },
     "metadata": {},
     "output_type": "display_data"
    },
    {
     "data": {
      "text/latex": [
       "$\\displaystyle {G}{}^{0}\\,{}_{3}\\, = - \\frac{2 \\delta \\frac{d}{d \\eta} a{\\left(\\eta \\right)} \\frac{\\partial}{\\partial z} \\psi{\\left(\\eta,x,y,z \\right)}}{a^{3}{\\left(\\eta \\right)}} + \\frac{2 \\delta \\frac{\\partial^{2}}{\\partial z\\partial \\eta} \\phi{\\left(\\eta,x,y,z \\right)}}{a^{2}{\\left(\\eta \\right)}} + O\\left(\\delta^{2}\\right)$"
      ],
      "text/plain": [
       "<IPython.core.display.Math object>"
      ]
     },
     "metadata": {},
     "output_type": "display_data"
    },
    {
     "data": {
      "text/latex": [
       "$\\displaystyle {G}{}^{1}\\,{}_{0}\\, = \\frac{2 \\delta \\frac{d}{d \\eta} a{\\left(\\eta \\right)} \\frac{\\partial}{\\partial x} \\psi{\\left(\\eta,x,y,z \\right)}}{a^{3}{\\left(\\eta \\right)}} - \\frac{2 \\delta \\frac{\\partial^{2}}{\\partial x\\partial \\eta} \\phi{\\left(\\eta,x,y,z \\right)}}{a^{2}{\\left(\\eta \\right)}} + O\\left(\\delta^{2}\\right)$"
      ],
      "text/plain": [
       "<IPython.core.display.Math object>"
      ]
     },
     "metadata": {},
     "output_type": "display_data"
    },
    {
     "data": {
      "text/latex": [
       "$\\displaystyle {G}{}^{1}\\,{}_{1}\\, = \\frac{\\left(\\frac{d}{d \\eta} a{\\left(\\eta \\right)}\\right)^{2}}{a^{4}{\\left(\\eta \\right)}} - \\frac{2 \\frac{d^{2}}{d \\eta^{2}} a{\\left(\\eta \\right)}}{a^{3}{\\left(\\eta \\right)}} + \\delta \\left(- \\frac{2 \\frac{\\partial^{2}}{\\partial \\eta^{2}} \\phi{\\left(\\eta,x,y,z \\right)}}{a^{2}{\\left(\\eta \\right)}} + \\frac{\\frac{\\partial^{2}}{\\partial y^{2}} \\phi{\\left(\\eta,x,y,z \\right)}}{a^{2}{\\left(\\eta \\right)}} + \\frac{\\frac{\\partial^{2}}{\\partial z^{2}} \\phi{\\left(\\eta,x,y,z \\right)}}{a^{2}{\\left(\\eta \\right)}} + \\frac{\\frac{\\partial^{2}}{\\partial y^{2}} \\psi{\\left(\\eta,x,y,z \\right)}}{a^{2}{\\left(\\eta \\right)}} + \\frac{\\frac{\\partial^{2}}{\\partial z^{2}} \\psi{\\left(\\eta,x,y,z \\right)}}{a^{2}{\\left(\\eta \\right)}} + \\frac{4 \\psi{\\left(\\eta,x,y,z \\right)} \\frac{d^{2}}{d \\eta^{2}} a{\\left(\\eta \\right)}}{a^{3}{\\left(\\eta \\right)}} - \\frac{4 \\frac{d}{d \\eta} a{\\left(\\eta \\right)} \\frac{\\partial}{\\partial \\eta} \\phi{\\left(\\eta,x,y,z \\right)}}{a^{3}{\\left(\\eta \\right)}} + \\frac{2 \\frac{d}{d \\eta} a{\\left(\\eta \\right)} \\frac{\\partial}{\\partial \\eta} \\psi{\\left(\\eta,x,y,z \\right)}}{a^{3}{\\left(\\eta \\right)}} - \\frac{2 \\psi{\\left(\\eta,x,y,z \\right)} \\left(\\frac{d}{d \\eta} a{\\left(\\eta \\right)}\\right)^{2}}{a^{4}{\\left(\\eta \\right)}}\\right) + O\\left(\\delta^{2}\\right)$"
      ],
      "text/plain": [
       "<IPython.core.display.Math object>"
      ]
     },
     "metadata": {},
     "output_type": "display_data"
    },
    {
     "data": {
      "text/latex": [
       "$\\displaystyle {G}{}^{1}\\,{}_{2}\\, = - \\frac{\\delta \\frac{\\partial^{2}}{\\partial y\\partial x} \\psi{\\left(\\eta,x,y,z \\right)}}{a^{2}{\\left(\\eta \\right)}} - \\frac{\\delta \\frac{\\partial^{2}}{\\partial y\\partial x} \\phi{\\left(\\eta,x,y,z \\right)}}{a^{2}{\\left(\\eta \\right)}} + O\\left(\\delta^{2}\\right)$"
      ],
      "text/plain": [
       "<IPython.core.display.Math object>"
      ]
     },
     "metadata": {},
     "output_type": "display_data"
    },
    {
     "data": {
      "text/latex": [
       "$\\displaystyle {G}{}^{1}\\,{}_{3}\\, = - \\frac{\\delta \\frac{\\partial^{2}}{\\partial z\\partial x} \\psi{\\left(\\eta,x,y,z \\right)}}{a^{2}{\\left(\\eta \\right)}} - \\frac{\\delta \\frac{\\partial^{2}}{\\partial z\\partial x} \\phi{\\left(\\eta,x,y,z \\right)}}{a^{2}{\\left(\\eta \\right)}} + O\\left(\\delta^{2}\\right)$"
      ],
      "text/plain": [
       "<IPython.core.display.Math object>"
      ]
     },
     "metadata": {},
     "output_type": "display_data"
    },
    {
     "data": {
      "text/latex": [
       "$\\displaystyle {G}{}^{2}\\,{}_{0}\\, = \\frac{2 \\delta \\frac{d}{d \\eta} a{\\left(\\eta \\right)} \\frac{\\partial}{\\partial y} \\psi{\\left(\\eta,x,y,z \\right)}}{a^{3}{\\left(\\eta \\right)}} - \\frac{2 \\delta \\frac{\\partial^{2}}{\\partial y\\partial \\eta} \\phi{\\left(\\eta,x,y,z \\right)}}{a^{2}{\\left(\\eta \\right)}} + O\\left(\\delta^{2}\\right)$"
      ],
      "text/plain": [
       "<IPython.core.display.Math object>"
      ]
     },
     "metadata": {},
     "output_type": "display_data"
    },
    {
     "data": {
      "text/latex": [
       "$\\displaystyle {G}{}^{2}\\,{}_{1}\\, = - \\frac{\\delta \\frac{\\partial^{2}}{\\partial y\\partial x} \\psi{\\left(\\eta,x,y,z \\right)}}{a^{2}{\\left(\\eta \\right)}} - \\frac{\\delta \\frac{\\partial^{2}}{\\partial y\\partial x} \\phi{\\left(\\eta,x,y,z \\right)}}{a^{2}{\\left(\\eta \\right)}} + O\\left(\\delta^{2}\\right)$"
      ],
      "text/plain": [
       "<IPython.core.display.Math object>"
      ]
     },
     "metadata": {},
     "output_type": "display_data"
    },
    {
     "data": {
      "text/latex": [
       "$\\displaystyle {G}{}^{2}\\,{}_{2}\\, = \\frac{\\left(\\frac{d}{d \\eta} a{\\left(\\eta \\right)}\\right)^{2}}{a^{4}{\\left(\\eta \\right)}} - \\frac{2 \\frac{d^{2}}{d \\eta^{2}} a{\\left(\\eta \\right)}}{a^{3}{\\left(\\eta \\right)}} + \\delta \\left(- \\frac{2 \\frac{\\partial^{2}}{\\partial \\eta^{2}} \\phi{\\left(\\eta,x,y,z \\right)}}{a^{2}{\\left(\\eta \\right)}} + \\frac{\\frac{\\partial^{2}}{\\partial x^{2}} \\phi{\\left(\\eta,x,y,z \\right)}}{a^{2}{\\left(\\eta \\right)}} + \\frac{\\frac{\\partial^{2}}{\\partial z^{2}} \\phi{\\left(\\eta,x,y,z \\right)}}{a^{2}{\\left(\\eta \\right)}} + \\frac{\\frac{\\partial^{2}}{\\partial x^{2}} \\psi{\\left(\\eta,x,y,z \\right)}}{a^{2}{\\left(\\eta \\right)}} + \\frac{\\frac{\\partial^{2}}{\\partial z^{2}} \\psi{\\left(\\eta,x,y,z \\right)}}{a^{2}{\\left(\\eta \\right)}} + \\frac{4 \\psi{\\left(\\eta,x,y,z \\right)} \\frac{d^{2}}{d \\eta^{2}} a{\\left(\\eta \\right)}}{a^{3}{\\left(\\eta \\right)}} - \\frac{4 \\frac{d}{d \\eta} a{\\left(\\eta \\right)} \\frac{\\partial}{\\partial \\eta} \\phi{\\left(\\eta,x,y,z \\right)}}{a^{3}{\\left(\\eta \\right)}} + \\frac{2 \\frac{d}{d \\eta} a{\\left(\\eta \\right)} \\frac{\\partial}{\\partial \\eta} \\psi{\\left(\\eta,x,y,z \\right)}}{a^{3}{\\left(\\eta \\right)}} - \\frac{2 \\psi{\\left(\\eta,x,y,z \\right)} \\left(\\frac{d}{d \\eta} a{\\left(\\eta \\right)}\\right)^{2}}{a^{4}{\\left(\\eta \\right)}}\\right) + O\\left(\\delta^{2}\\right)$"
      ],
      "text/plain": [
       "<IPython.core.display.Math object>"
      ]
     },
     "metadata": {},
     "output_type": "display_data"
    },
    {
     "data": {
      "text/latex": [
       "$\\displaystyle {G}{}^{2}\\,{}_{3}\\, = - \\frac{\\delta \\frac{\\partial^{2}}{\\partial z\\partial y} \\psi{\\left(\\eta,x,y,z \\right)}}{a^{2}{\\left(\\eta \\right)}} - \\frac{\\delta \\frac{\\partial^{2}}{\\partial z\\partial y} \\phi{\\left(\\eta,x,y,z \\right)}}{a^{2}{\\left(\\eta \\right)}} + O\\left(\\delta^{2}\\right)$"
      ],
      "text/plain": [
       "<IPython.core.display.Math object>"
      ]
     },
     "metadata": {},
     "output_type": "display_data"
    },
    {
     "data": {
      "text/latex": [
       "$\\displaystyle {G}{}^{3}\\,{}_{0}\\, = \\frac{2 \\delta \\frac{d}{d \\eta} a{\\left(\\eta \\right)} \\frac{\\partial}{\\partial z} \\psi{\\left(\\eta,x,y,z \\right)}}{a^{3}{\\left(\\eta \\right)}} - \\frac{2 \\delta \\frac{\\partial^{2}}{\\partial z\\partial \\eta} \\phi{\\left(\\eta,x,y,z \\right)}}{a^{2}{\\left(\\eta \\right)}} + O\\left(\\delta^{2}\\right)$"
      ],
      "text/plain": [
       "<IPython.core.display.Math object>"
      ]
     },
     "metadata": {},
     "output_type": "display_data"
    },
    {
     "data": {
      "text/latex": [
       "$\\displaystyle {G}{}^{3}\\,{}_{1}\\, = - \\frac{\\delta \\frac{\\partial^{2}}{\\partial z\\partial x} \\psi{\\left(\\eta,x,y,z \\right)}}{a^{2}{\\left(\\eta \\right)}} - \\frac{\\delta \\frac{\\partial^{2}}{\\partial z\\partial x} \\phi{\\left(\\eta,x,y,z \\right)}}{a^{2}{\\left(\\eta \\right)}} + O\\left(\\delta^{2}\\right)$"
      ],
      "text/plain": [
       "<IPython.core.display.Math object>"
      ]
     },
     "metadata": {},
     "output_type": "display_data"
    },
    {
     "data": {
      "text/latex": [
       "$\\displaystyle {G}{}^{3}\\,{}_{2}\\, = - \\frac{\\delta \\frac{\\partial^{2}}{\\partial z\\partial y} \\psi{\\left(\\eta,x,y,z \\right)}}{a^{2}{\\left(\\eta \\right)}} - \\frac{\\delta \\frac{\\partial^{2}}{\\partial z\\partial y} \\phi{\\left(\\eta,x,y,z \\right)}}{a^{2}{\\left(\\eta \\right)}} + O\\left(\\delta^{2}\\right)$"
      ],
      "text/plain": [
       "<IPython.core.display.Math object>"
      ]
     },
     "metadata": {},
     "output_type": "display_data"
    },
    {
     "data": {
      "text/latex": [
       "$\\displaystyle {G}{}^{3}\\,{}_{3}\\, = \\frac{\\left(\\frac{d}{d \\eta} a{\\left(\\eta \\right)}\\right)^{2}}{a^{4}{\\left(\\eta \\right)}} - \\frac{2 \\frac{d^{2}}{d \\eta^{2}} a{\\left(\\eta \\right)}}{a^{3}{\\left(\\eta \\right)}} + \\delta \\left(- \\frac{2 \\frac{\\partial^{2}}{\\partial \\eta^{2}} \\phi{\\left(\\eta,x,y,z \\right)}}{a^{2}{\\left(\\eta \\right)}} + \\frac{\\frac{\\partial^{2}}{\\partial x^{2}} \\phi{\\left(\\eta,x,y,z \\right)}}{a^{2}{\\left(\\eta \\right)}} + \\frac{\\frac{\\partial^{2}}{\\partial y^{2}} \\phi{\\left(\\eta,x,y,z \\right)}}{a^{2}{\\left(\\eta \\right)}} + \\frac{\\frac{\\partial^{2}}{\\partial x^{2}} \\psi{\\left(\\eta,x,y,z \\right)}}{a^{2}{\\left(\\eta \\right)}} + \\frac{\\frac{\\partial^{2}}{\\partial y^{2}} \\psi{\\left(\\eta,x,y,z \\right)}}{a^{2}{\\left(\\eta \\right)}} + \\frac{4 \\psi{\\left(\\eta,x,y,z \\right)} \\frac{d^{2}}{d \\eta^{2}} a{\\left(\\eta \\right)}}{a^{3}{\\left(\\eta \\right)}} - \\frac{4 \\frac{d}{d \\eta} a{\\left(\\eta \\right)} \\frac{\\partial}{\\partial \\eta} \\phi{\\left(\\eta,x,y,z \\right)}}{a^{3}{\\left(\\eta \\right)}} + \\frac{2 \\frac{d}{d \\eta} a{\\left(\\eta \\right)} \\frac{\\partial}{\\partial \\eta} \\psi{\\left(\\eta,x,y,z \\right)}}{a^{3}{\\left(\\eta \\right)}} - \\frac{2 \\psi{\\left(\\eta,x,y,z \\right)} \\left(\\frac{d}{d \\eta} a{\\left(\\eta \\right)}\\right)^{2}}{a^{4}{\\left(\\eta \\right)}}\\right) + O\\left(\\delta^{2}\\right)$"
      ],
      "text/plain": [
       "<IPython.core.display.Math object>"
      ]
     },
     "metadata": {},
     "output_type": "display_data"
    }
   ],
   "source": [
    "# To calculate the default combination of the Einstein Tensor, i.e., (_,_):\n",
    "#G = pt.einstein()\n",
    "\n",
    "# To calculate all the combinations:\n",
    "G = pt.einstein(All = True)\n",
    "\n",
    "# To display the Einstein Tensor:\n",
    "G.display('^,_',aslist=True)\n",
    "\n",
    "# To show the tensor components as a list:\n",
    "# G.display(aslist = True)"
   ]
  },
  {
   "cell_type": "markdown",
   "metadata": {},
   "source": [
    "## Vector Perturbations in $G_{\\mu \\nu}$"
   ]
  },
  {
   "cell_type": "code",
   "execution_count": 9,
   "metadata": {},
   "outputs": [
    {
     "name": "stdout",
     "output_type": "stream",
     "text": [
      "The metric has already been defined. Do you want to overwrite it? (yes/no)yes\n",
      "The metric has been redefined. Standard tensors have been deleted.\n",
      "\n",
      "Dimension = 4\n",
      "Coordinates = eta,x,y,z\n",
      "Metric defined successfully: \n",
      "\n"
     ]
    },
    {
     "data": {
      "text/latex": [
       "$\\displaystyle ds^2 = - a^{2}{\\left(\\eta \\right)} \\cdot d\\eta^2+a^{2}{\\left(\\eta \\right)} \\cdot dx^2+2 \\delta a^{2}{\\left(\\eta \\right)} \\operatorname{hxy}{\\left(\\eta,x,y,z \\right)} \\cdot dx \\cdot dy+2 \\delta a^{2}{\\left(\\eta \\right)} \\operatorname{hxz}{\\left(\\eta,x,y,z \\right)} \\cdot dx \\cdot dz+a^{2}{\\left(\\eta \\right)} \\cdot dy^2+2 \\delta a^{2}{\\left(\\eta \\right)} \\operatorname{hyz}{\\left(\\eta,x,y,z \\right)} \\cdot dy \\cdot dz+a^{2}{\\left(\\eta \\right)} \\cdot dz^2$"
      ],
      "text/plain": [
       "<IPython.core.display.Math object>"
      ]
     },
     "metadata": {},
     "output_type": "display_data"
    },
    {
     "data": {
      "text/latex": [
       "$\\displaystyle \\left[\\begin{matrix}- a^{2}{\\left(\\eta \\right)} & 0 & 0 & 0\\\\0 & a^{2}{\\left(\\eta \\right)} & \\delta a^{2}{\\left(\\eta \\right)} \\operatorname{hxy}{\\left(\\eta,x,y,z \\right)} & \\delta a^{2}{\\left(\\eta \\right)} \\operatorname{hxz}{\\left(\\eta,x,y,z \\right)}\\\\0 & \\delta a^{2}{\\left(\\eta \\right)} \\operatorname{hxy}{\\left(\\eta,x,y,z \\right)} & a^{2}{\\left(\\eta \\right)} & \\delta a^{2}{\\left(\\eta \\right)} \\operatorname{hyz}{\\left(\\eta,x,y,z \\right)}\\\\0 & \\delta a^{2}{\\left(\\eta \\right)} \\operatorname{hxz}{\\left(\\eta,x,y,z \\right)} & \\delta a^{2}{\\left(\\eta \\right)} \\operatorname{hyz}{\\left(\\eta,x,y,z \\right)} & a^{2}{\\left(\\eta \\right)}\\end{matrix}\\right]$"
      ],
      "text/plain": [
       "⎡  2                                                                          \n",
       "⎢-a (η)             0                        0                        0       \n",
       "⎢                                                                             \n",
       "⎢                  2                 2                        2               \n",
       "⎢  0              a (η)           δ⋅a (η)⋅hxy(η, x, y, z)  δ⋅a (η)⋅hxz(η, x, y\n",
       "⎢                                                                             \n",
       "⎢           2                               2                 2               \n",
       "⎢  0     δ⋅a (η)⋅hxy(η, x, y, z)           a (η)           δ⋅a (η)⋅hyz(η, x, y\n",
       "⎢                                                                             \n",
       "⎢           2                        2                               2        \n",
       "⎣  0     δ⋅a (η)⋅hxz(η, x, y, z)  δ⋅a (η)⋅hyz(η, x, y, z)           a (η)     \n",
       "\n",
       "    ⎤\n",
       "    ⎥\n",
       "    ⎥\n",
       "    ⎥\n",
       ", z)⎥\n",
       "    ⎥\n",
       "    ⎥\n",
       ", z)⎥\n",
       "    ⎥\n",
       "    ⎥\n",
       "    ⎦"
      ]
     },
     "metadata": {},
     "output_type": "display_data"
    }
   ],
   "source": [
    "hxy = pt.fun('hxy','eta,x,y,z')\n",
    "hxz = pt.fun('hxz','eta,x,y,z')\n",
    "hyz = pt.fun('hyz','eta,x,y,z')\n",
    "\n",
    "g = pt.metric('ds2 = a**2*(-deta**2 + dx**2 + dy**2 + dz**2 + 2*delta*hxy*dx*dy + 2*delta*hxz*dx*dz + 2*delta*hyz*dy*dz)')"
   ]
  },
  {
   "cell_type": "code",
   "execution_count": 10,
   "metadata": {
    "scrolled": false
   },
   "outputs": [
    {
     "data": {
      "text/latex": [
       "Christoffel $\\Gamma_{\\alpha \\beta \\gamma}$ and $\\Gamma^{\\alpha}_{\\beta \\gamma}$"
      ],
      "text/plain": [
       "<IPython.core.display.Latex object>"
      ]
     },
     "metadata": {},
     "output_type": "display_data"
    },
    {
     "data": {
      "application/vnd.jupyter.widget-view+json": {
       "model_id": "3f04ba750d1245168a2b301543a16647",
       "version_major": 2,
       "version_minor": 0
      },
      "text/plain": [
       "  0%|          | 0/64 [00:00<?, ?it/s]"
      ]
     },
     "metadata": {},
     "output_type": "display_data"
    },
    {
     "data": {
      "text/latex": [
       "Riemann Tensor $R^{\\alpha}_{\\beta \\gamma \\delta}$"
      ],
      "text/plain": [
       "<IPython.core.display.Latex object>"
      ]
     },
     "metadata": {},
     "output_type": "display_data"
    },
    {
     "data": {
      "application/vnd.jupyter.widget-view+json": {
       "model_id": "e2039ee2747f41d183dd714229dbe262",
       "version_major": 2,
       "version_minor": 0
      },
      "text/plain": [
       "  0%|          | 0/256 [00:00<?, ?it/s]"
      ]
     },
     "metadata": {},
     "output_type": "display_data"
    },
    {
     "data": {
      "text/latex": [
       "Ricci Tensor $R_{\\alpha \\beta}$"
      ],
      "text/plain": [
       "<IPython.core.display.Latex object>"
      ]
     },
     "metadata": {},
     "output_type": "display_data"
    },
    {
     "data": {
      "application/vnd.jupyter.widget-view+json": {
       "model_id": "9df6b83835704273bc65df353b7e69be",
       "version_major": 2,
       "version_minor": 0
      },
      "text/plain": [
       "  0%|          | 0/16 [00:00<?, ?it/s]"
      ]
     },
     "metadata": {},
     "output_type": "display_data"
    },
    {
     "data": {
      "application/vnd.jupyter.widget-view+json": {
       "model_id": "1b9d58c61ea84a9487267313b90d7493",
       "version_major": 2,
       "version_minor": 0
      },
      "text/plain": [
       "  0%|          | 0/16 [00:00<?, ?it/s]"
      ]
     },
     "metadata": {},
     "output_type": "display_data"
    },
    {
     "data": {
      "text/latex": [
       "Ricci Scalar $R$"
      ],
      "text/plain": [
       "<IPython.core.display.Latex object>"
      ]
     },
     "metadata": {},
     "output_type": "display_data"
    },
    {
     "data": {
      "text/latex": [
       "Einstein Tensor $G_{\\alpha \\beta}$"
      ],
      "text/plain": [
       "<IPython.core.display.Latex object>"
      ]
     },
     "metadata": {},
     "output_type": "display_data"
    },
    {
     "data": {
      "application/vnd.jupyter.widget-view+json": {
       "model_id": "5830cee34e0b4f149abbf94a48428eda",
       "version_major": 2,
       "version_minor": 0
      },
      "text/plain": [
       "  0%|          | 0/16 [00:00<?, ?it/s]"
      ]
     },
     "metadata": {},
     "output_type": "display_data"
    },
    {
     "data": {
      "application/vnd.jupyter.widget-view+json": {
       "model_id": "80f8e5f1997249cf82214533f8d8d4e6",
       "version_major": 2,
       "version_minor": 0
      },
      "text/plain": [
       "Einstein Tensor $G{^\\alpha}{_\\beta}$:   0%|          | 0/16 [00:00<?, ?it/s]"
      ]
     },
     "metadata": {},
     "output_type": "display_data"
    },
    {
     "data": {
      "application/vnd.jupyter.widget-view+json": {
       "model_id": "f75b2bc268334036b39a303432e10cce",
       "version_major": 2,
       "version_minor": 0
      },
      "text/plain": [
       "Einstein Tensor $G{^\\alpha}{^\\beta}$:   0%|          | 0/16 [00:00<?, ?it/s]"
      ]
     },
     "metadata": {},
     "output_type": "display_data"
    },
    {
     "data": {
      "application/vnd.jupyter.widget-view+json": {
       "model_id": "487afc7f047c40c6a7a064ed5b943f39",
       "version_major": 2,
       "version_minor": 0
      },
      "text/plain": [
       "Einstein Tensor $G{_\\alpha}{^\\beta}$:   0%|          | 0/16 [00:00<?, ?it/s]"
      ]
     },
     "metadata": {},
     "output_type": "display_data"
    },
    {
     "data": {
      "text/latex": [
       "All other indices of Einstein Tensor $G$  already calculated."
      ],
      "text/plain": [
       "<IPython.core.display.Latex object>"
      ]
     },
     "metadata": {},
     "output_type": "display_data"
    },
    {
     "data": {
      "text/latex": [
       "$\\displaystyle {G}{}^{0}\\,{}_{0}\\, = - \\frac{3 \\left(\\frac{d}{d \\eta} a{\\left(\\eta \\right)}\\right)^{2}}{a^{4}{\\left(\\eta \\right)}} - \\frac{\\delta \\frac{\\partial^{2}}{\\partial z\\partial y} \\operatorname{hyz}{\\left(\\eta,x,y,z \\right)}}{a^{2}{\\left(\\eta \\right)}} - \\frac{\\delta \\frac{\\partial^{2}}{\\partial z\\partial x} \\operatorname{hxz}{\\left(\\eta,x,y,z \\right)}}{a^{2}{\\left(\\eta \\right)}} - \\frac{\\delta \\frac{\\partial^{2}}{\\partial y\\partial x} \\operatorname{hxy}{\\left(\\eta,x,y,z \\right)}}{a^{2}{\\left(\\eta \\right)}} + O\\left(\\delta^{2}\\right)$"
      ],
      "text/plain": [
       "<IPython.core.display.Math object>"
      ]
     },
     "metadata": {},
     "output_type": "display_data"
    },
    {
     "data": {
      "text/latex": [
       "$\\displaystyle {G}{}^{0}\\,{}_{1}\\, = - \\frac{\\delta \\frac{\\partial^{2}}{\\partial z\\partial \\eta} \\operatorname{hxz}{\\left(\\eta,x,y,z \\right)}}{2 a^{2}{\\left(\\eta \\right)}} - \\frac{\\delta \\frac{\\partial^{2}}{\\partial y\\partial \\eta} \\operatorname{hxy}{\\left(\\eta,x,y,z \\right)}}{2 a^{2}{\\left(\\eta \\right)}} + O\\left(\\delta^{2}\\right)$"
      ],
      "text/plain": [
       "<IPython.core.display.Math object>"
      ]
     },
     "metadata": {},
     "output_type": "display_data"
    },
    {
     "data": {
      "text/latex": [
       "$\\displaystyle {G}{}^{0}\\,{}_{2}\\, = - \\frac{\\delta \\frac{\\partial^{2}}{\\partial z\\partial \\eta} \\operatorname{hyz}{\\left(\\eta,x,y,z \\right)}}{2 a^{2}{\\left(\\eta \\right)}} - \\frac{\\delta \\frac{\\partial^{2}}{\\partial x\\partial \\eta} \\operatorname{hxy}{\\left(\\eta,x,y,z \\right)}}{2 a^{2}{\\left(\\eta \\right)}} + O\\left(\\delta^{2}\\right)$"
      ],
      "text/plain": [
       "<IPython.core.display.Math object>"
      ]
     },
     "metadata": {},
     "output_type": "display_data"
    },
    {
     "data": {
      "text/latex": [
       "$\\displaystyle {G}{}^{0}\\,{}_{3}\\, = - \\frac{\\delta \\frac{\\partial^{2}}{\\partial y\\partial \\eta} \\operatorname{hyz}{\\left(\\eta,x,y,z \\right)}}{2 a^{2}{\\left(\\eta \\right)}} - \\frac{\\delta \\frac{\\partial^{2}}{\\partial x\\partial \\eta} \\operatorname{hxz}{\\left(\\eta,x,y,z \\right)}}{2 a^{2}{\\left(\\eta \\right)}} + O\\left(\\delta^{2}\\right)$"
      ],
      "text/plain": [
       "<IPython.core.display.Math object>"
      ]
     },
     "metadata": {},
     "output_type": "display_data"
    },
    {
     "data": {
      "text/latex": [
       "$\\displaystyle {G}{}^{1}\\,{}_{0}\\, = \\frac{\\delta \\frac{\\partial^{2}}{\\partial z\\partial \\eta} \\operatorname{hxz}{\\left(\\eta,x,y,z \\right)}}{2 a^{2}{\\left(\\eta \\right)}} + \\frac{\\delta \\frac{\\partial^{2}}{\\partial y\\partial \\eta} \\operatorname{hxy}{\\left(\\eta,x,y,z \\right)}}{2 a^{2}{\\left(\\eta \\right)}} + O\\left(\\delta^{2}\\right)$"
      ],
      "text/plain": [
       "<IPython.core.display.Math object>"
      ]
     },
     "metadata": {},
     "output_type": "display_data"
    },
    {
     "data": {
      "text/latex": [
       "$\\displaystyle {G}{}^{1}\\,{}_{1}\\, = \\frac{\\left(\\frac{d}{d \\eta} a{\\left(\\eta \\right)}\\right)^{2}}{a^{4}{\\left(\\eta \\right)}} - \\frac{2 \\frac{d^{2}}{d \\eta^{2}} a{\\left(\\eta \\right)}}{a^{3}{\\left(\\eta \\right)}} - \\frac{\\delta \\frac{\\partial^{2}}{\\partial z\\partial y} \\operatorname{hyz}{\\left(\\eta,x,y,z \\right)}}{a^{2}{\\left(\\eta \\right)}} + O\\left(\\delta^{2}\\right)$"
      ],
      "text/plain": [
       "<IPython.core.display.Math object>"
      ]
     },
     "metadata": {},
     "output_type": "display_data"
    },
    {
     "data": {
      "text/latex": [
       "$\\displaystyle {G}{}^{1}\\,{}_{2}\\, = \\frac{\\delta \\frac{d}{d \\eta} a{\\left(\\eta \\right)} \\frac{\\partial}{\\partial \\eta} \\operatorname{hxy}{\\left(\\eta,x,y,z \\right)}}{a^{3}{\\left(\\eta \\right)}} + \\frac{\\delta \\frac{\\partial^{2}}{\\partial z\\partial x} \\operatorname{hyz}{\\left(\\eta,x,y,z \\right)}}{2 a^{2}{\\left(\\eta \\right)}} + \\frac{\\delta \\frac{\\partial^{2}}{\\partial z\\partial y} \\operatorname{hxz}{\\left(\\eta,x,y,z \\right)}}{2 a^{2}{\\left(\\eta \\right)}} - \\frac{\\delta \\frac{\\partial^{2}}{\\partial z^{2}} \\operatorname{hxy}{\\left(\\eta,x,y,z \\right)}}{2 a^{2}{\\left(\\eta \\right)}} + \\frac{\\delta \\frac{\\partial^{2}}{\\partial \\eta^{2}} \\operatorname{hxy}{\\left(\\eta,x,y,z \\right)}}{2 a^{2}{\\left(\\eta \\right)}} + O\\left(\\delta^{2}\\right)$"
      ],
      "text/plain": [
       "<IPython.core.display.Math object>"
      ]
     },
     "metadata": {},
     "output_type": "display_data"
    },
    {
     "data": {
      "text/latex": [
       "$\\displaystyle {G}{}^{1}\\,{}_{3}\\, = \\frac{\\delta \\frac{d}{d \\eta} a{\\left(\\eta \\right)} \\frac{\\partial}{\\partial \\eta} \\operatorname{hxz}{\\left(\\eta,x,y,z \\right)}}{a^{3}{\\left(\\eta \\right)}} + \\frac{\\delta \\frac{\\partial^{2}}{\\partial y\\partial x} \\operatorname{hyz}{\\left(\\eta,x,y,z \\right)}}{2 a^{2}{\\left(\\eta \\right)}} + \\frac{\\delta \\frac{\\partial^{2}}{\\partial z\\partial y} \\operatorname{hxy}{\\left(\\eta,x,y,z \\right)}}{2 a^{2}{\\left(\\eta \\right)}} - \\frac{\\delta \\frac{\\partial^{2}}{\\partial y^{2}} \\operatorname{hxz}{\\left(\\eta,x,y,z \\right)}}{2 a^{2}{\\left(\\eta \\right)}} + \\frac{\\delta \\frac{\\partial^{2}}{\\partial \\eta^{2}} \\operatorname{hxz}{\\left(\\eta,x,y,z \\right)}}{2 a^{2}{\\left(\\eta \\right)}} + O\\left(\\delta^{2}\\right)$"
      ],
      "text/plain": [
       "<IPython.core.display.Math object>"
      ]
     },
     "metadata": {},
     "output_type": "display_data"
    },
    {
     "data": {
      "text/latex": [
       "$\\displaystyle {G}{}^{2}\\,{}_{0}\\, = \\frac{\\delta \\frac{\\partial^{2}}{\\partial z\\partial \\eta} \\operatorname{hyz}{\\left(\\eta,x,y,z \\right)}}{2 a^{2}{\\left(\\eta \\right)}} + \\frac{\\delta \\frac{\\partial^{2}}{\\partial x\\partial \\eta} \\operatorname{hxy}{\\left(\\eta,x,y,z \\right)}}{2 a^{2}{\\left(\\eta \\right)}} + O\\left(\\delta^{2}\\right)$"
      ],
      "text/plain": [
       "<IPython.core.display.Math object>"
      ]
     },
     "metadata": {},
     "output_type": "display_data"
    },
    {
     "data": {
      "text/latex": [
       "$\\displaystyle {G}{}^{2}\\,{}_{1}\\, = \\frac{\\delta \\frac{d}{d \\eta} a{\\left(\\eta \\right)} \\frac{\\partial}{\\partial \\eta} \\operatorname{hxy}{\\left(\\eta,x,y,z \\right)}}{a^{3}{\\left(\\eta \\right)}} + \\frac{\\delta \\frac{\\partial^{2}}{\\partial z\\partial x} \\operatorname{hyz}{\\left(\\eta,x,y,z \\right)}}{2 a^{2}{\\left(\\eta \\right)}} + \\frac{\\delta \\frac{\\partial^{2}}{\\partial z\\partial y} \\operatorname{hxz}{\\left(\\eta,x,y,z \\right)}}{2 a^{2}{\\left(\\eta \\right)}} - \\frac{\\delta \\frac{\\partial^{2}}{\\partial z^{2}} \\operatorname{hxy}{\\left(\\eta,x,y,z \\right)}}{2 a^{2}{\\left(\\eta \\right)}} + \\frac{\\delta \\frac{\\partial^{2}}{\\partial \\eta^{2}} \\operatorname{hxy}{\\left(\\eta,x,y,z \\right)}}{2 a^{2}{\\left(\\eta \\right)}} + O\\left(\\delta^{2}\\right)$"
      ],
      "text/plain": [
       "<IPython.core.display.Math object>"
      ]
     },
     "metadata": {},
     "output_type": "display_data"
    },
    {
     "data": {
      "text/latex": [
       "$\\displaystyle {G}{}^{2}\\,{}_{2}\\, = \\frac{\\left(\\frac{d}{d \\eta} a{\\left(\\eta \\right)}\\right)^{2}}{a^{4}{\\left(\\eta \\right)}} - \\frac{2 \\frac{d^{2}}{d \\eta^{2}} a{\\left(\\eta \\right)}}{a^{3}{\\left(\\eta \\right)}} - \\frac{\\delta \\frac{\\partial^{2}}{\\partial z\\partial x} \\operatorname{hxz}{\\left(\\eta,x,y,z \\right)}}{a^{2}{\\left(\\eta \\right)}} + O\\left(\\delta^{2}\\right)$"
      ],
      "text/plain": [
       "<IPython.core.display.Math object>"
      ]
     },
     "metadata": {},
     "output_type": "display_data"
    },
    {
     "data": {
      "text/latex": [
       "$\\displaystyle {G}{}^{2}\\,{}_{3}\\, = \\frac{\\delta \\frac{d}{d \\eta} a{\\left(\\eta \\right)} \\frac{\\partial}{\\partial \\eta} \\operatorname{hyz}{\\left(\\eta,x,y,z \\right)}}{a^{3}{\\left(\\eta \\right)}} + \\frac{\\delta \\frac{\\partial^{2}}{\\partial y\\partial x} \\operatorname{hxz}{\\left(\\eta,x,y,z \\right)}}{2 a^{2}{\\left(\\eta \\right)}} + \\frac{\\delta \\frac{\\partial^{2}}{\\partial z\\partial x} \\operatorname{hxy}{\\left(\\eta,x,y,z \\right)}}{2 a^{2}{\\left(\\eta \\right)}} - \\frac{\\delta \\frac{\\partial^{2}}{\\partial x^{2}} \\operatorname{hyz}{\\left(\\eta,x,y,z \\right)}}{2 a^{2}{\\left(\\eta \\right)}} + \\frac{\\delta \\frac{\\partial^{2}}{\\partial \\eta^{2}} \\operatorname{hyz}{\\left(\\eta,x,y,z \\right)}}{2 a^{2}{\\left(\\eta \\right)}} + O\\left(\\delta^{2}\\right)$"
      ],
      "text/plain": [
       "<IPython.core.display.Math object>"
      ]
     },
     "metadata": {},
     "output_type": "display_data"
    },
    {
     "data": {
      "text/latex": [
       "$\\displaystyle {G}{}^{3}\\,{}_{0}\\, = \\frac{\\delta \\frac{\\partial^{2}}{\\partial y\\partial \\eta} \\operatorname{hyz}{\\left(\\eta,x,y,z \\right)}}{2 a^{2}{\\left(\\eta \\right)}} + \\frac{\\delta \\frac{\\partial^{2}}{\\partial x\\partial \\eta} \\operatorname{hxz}{\\left(\\eta,x,y,z \\right)}}{2 a^{2}{\\left(\\eta \\right)}} + O\\left(\\delta^{2}\\right)$"
      ],
      "text/plain": [
       "<IPython.core.display.Math object>"
      ]
     },
     "metadata": {},
     "output_type": "display_data"
    },
    {
     "data": {
      "text/latex": [
       "$\\displaystyle {G}{}^{3}\\,{}_{1}\\, = \\frac{\\delta \\frac{d}{d \\eta} a{\\left(\\eta \\right)} \\frac{\\partial}{\\partial \\eta} \\operatorname{hxz}{\\left(\\eta,x,y,z \\right)}}{a^{3}{\\left(\\eta \\right)}} + \\frac{\\delta \\frac{\\partial^{2}}{\\partial y\\partial x} \\operatorname{hyz}{\\left(\\eta,x,y,z \\right)}}{2 a^{2}{\\left(\\eta \\right)}} + \\frac{\\delta \\frac{\\partial^{2}}{\\partial z\\partial y} \\operatorname{hxy}{\\left(\\eta,x,y,z \\right)}}{2 a^{2}{\\left(\\eta \\right)}} - \\frac{\\delta \\frac{\\partial^{2}}{\\partial y^{2}} \\operatorname{hxz}{\\left(\\eta,x,y,z \\right)}}{2 a^{2}{\\left(\\eta \\right)}} + \\frac{\\delta \\frac{\\partial^{2}}{\\partial \\eta^{2}} \\operatorname{hxz}{\\left(\\eta,x,y,z \\right)}}{2 a^{2}{\\left(\\eta \\right)}} + O\\left(\\delta^{2}\\right)$"
      ],
      "text/plain": [
       "<IPython.core.display.Math object>"
      ]
     },
     "metadata": {},
     "output_type": "display_data"
    },
    {
     "data": {
      "text/latex": [
       "$\\displaystyle {G}{}^{3}\\,{}_{2}\\, = \\frac{\\delta \\frac{d}{d \\eta} a{\\left(\\eta \\right)} \\frac{\\partial}{\\partial \\eta} \\operatorname{hyz}{\\left(\\eta,x,y,z \\right)}}{a^{3}{\\left(\\eta \\right)}} + \\frac{\\delta \\frac{\\partial^{2}}{\\partial y\\partial x} \\operatorname{hxz}{\\left(\\eta,x,y,z \\right)}}{2 a^{2}{\\left(\\eta \\right)}} + \\frac{\\delta \\frac{\\partial^{2}}{\\partial z\\partial x} \\operatorname{hxy}{\\left(\\eta,x,y,z \\right)}}{2 a^{2}{\\left(\\eta \\right)}} - \\frac{\\delta \\frac{\\partial^{2}}{\\partial x^{2}} \\operatorname{hyz}{\\left(\\eta,x,y,z \\right)}}{2 a^{2}{\\left(\\eta \\right)}} + \\frac{\\delta \\frac{\\partial^{2}}{\\partial \\eta^{2}} \\operatorname{hyz}{\\left(\\eta,x,y,z \\right)}}{2 a^{2}{\\left(\\eta \\right)}} + O\\left(\\delta^{2}\\right)$"
      ],
      "text/plain": [
       "<IPython.core.display.Math object>"
      ]
     },
     "metadata": {},
     "output_type": "display_data"
    },
    {
     "data": {
      "text/latex": [
       "$\\displaystyle {G}{}^{3}\\,{}_{3}\\, = \\frac{\\left(\\frac{d}{d \\eta} a{\\left(\\eta \\right)}\\right)^{2}}{a^{4}{\\left(\\eta \\right)}} - \\frac{2 \\frac{d^{2}}{d \\eta^{2}} a{\\left(\\eta \\right)}}{a^{3}{\\left(\\eta \\right)}} - \\frac{\\delta \\frac{\\partial^{2}}{\\partial y\\partial x} \\operatorname{hxy}{\\left(\\eta,x,y,z \\right)}}{a^{2}{\\left(\\eta \\right)}} + O\\left(\\delta^{2}\\right)$"
      ],
      "text/plain": [
       "<IPython.core.display.Math object>"
      ]
     },
     "metadata": {},
     "output_type": "display_data"
    }
   ],
   "source": [
    "# To calculate the default combination of the Einstein Tensor, i.e., (_,_):\n",
    "#G = pt.einstein()\n",
    "\n",
    "# To calculate all the combinations:\n",
    "G = pt.einstein(All = True)\n",
    "\n",
    "# To display the Einstein Tensor:\n",
    "G.display('^,_',aslist=True)\n",
    "\n",
    "# To show the tensor components as a list:\n",
    "# G.display(aslist = True)"
   ]
  },
  {
   "cell_type": "code",
   "execution_count": 11,
   "metadata": {},
   "outputs": [
    {
     "data": {
      "text/latex": [
       "$\\displaystyle {G}{}_{0}\\,{}_{0}\\, = \\frac{3 \\left(\\frac{d}{d \\eta} a{\\left(\\eta \\right)}\\right)^{2}}{a^{2}{\\left(\\eta \\right)}} + \\delta \\frac{\\partial^{2}}{\\partial z\\partial y} \\operatorname{hyz}{\\left(\\eta,x,y,z \\right)} + \\delta \\frac{\\partial^{2}}{\\partial z\\partial x} \\operatorname{hxz}{\\left(\\eta,x,y,z \\right)} + \\delta \\frac{\\partial^{2}}{\\partial y\\partial x} \\operatorname{hxy}{\\left(\\eta,x,y,z \\right)} + O\\left(\\delta^{2}\\right)$"
      ],
      "text/plain": [
       "<IPython.core.display.Math object>"
      ]
     },
     "metadata": {},
     "output_type": "display_data"
    },
    {
     "data": {
      "text/latex": [
       "$\\displaystyle {G}{}_{0}\\,{}_{1}\\, = \\frac{\\delta \\frac{\\partial^{2}}{\\partial z\\partial \\eta} \\operatorname{hxz}{\\left(\\eta,x,y,z \\right)}}{2} + \\frac{\\delta \\frac{\\partial^{2}}{\\partial y\\partial \\eta} \\operatorname{hxy}{\\left(\\eta,x,y,z \\right)}}{2} + O\\left(\\delta^{2}\\right)$"
      ],
      "text/plain": [
       "<IPython.core.display.Math object>"
      ]
     },
     "metadata": {},
     "output_type": "display_data"
    },
    {
     "data": {
      "text/latex": [
       "$\\displaystyle {G}{}_{0}\\,{}_{2}\\, = \\frac{\\delta \\frac{\\partial^{2}}{\\partial z\\partial \\eta} \\operatorname{hyz}{\\left(\\eta,x,y,z \\right)}}{2} + \\frac{\\delta \\frac{\\partial^{2}}{\\partial x\\partial \\eta} \\operatorname{hxy}{\\left(\\eta,x,y,z \\right)}}{2} + O\\left(\\delta^{2}\\right)$"
      ],
      "text/plain": [
       "<IPython.core.display.Math object>"
      ]
     },
     "metadata": {},
     "output_type": "display_data"
    },
    {
     "data": {
      "text/latex": [
       "$\\displaystyle {G}{}_{0}\\,{}_{3}\\, = \\frac{\\delta \\frac{\\partial^{2}}{\\partial y\\partial \\eta} \\operatorname{hyz}{\\left(\\eta,x,y,z \\right)}}{2} + \\frac{\\delta \\frac{\\partial^{2}}{\\partial x\\partial \\eta} \\operatorname{hxz}{\\left(\\eta,x,y,z \\right)}}{2} + O\\left(\\delta^{2}\\right)$"
      ],
      "text/plain": [
       "<IPython.core.display.Math object>"
      ]
     },
     "metadata": {},
     "output_type": "display_data"
    },
    {
     "data": {
      "text/latex": [
       "$\\displaystyle {G}{}_{1}\\,{}_{0}\\, = \\frac{\\delta \\frac{\\partial^{2}}{\\partial z\\partial \\eta} \\operatorname{hxz}{\\left(\\eta,x,y,z \\right)}}{2} + \\frac{\\delta \\frac{\\partial^{2}}{\\partial y\\partial \\eta} \\operatorname{hxy}{\\left(\\eta,x,y,z \\right)}}{2} + O\\left(\\delta^{2}\\right)$"
      ],
      "text/plain": [
       "<IPython.core.display.Math object>"
      ]
     },
     "metadata": {},
     "output_type": "display_data"
    },
    {
     "data": {
      "text/latex": [
       "$\\displaystyle {G}{}_{1}\\,{}_{1}\\, = \\frac{\\left(\\frac{d}{d \\eta} a{\\left(\\eta \\right)}\\right)^{2}}{a^{2}{\\left(\\eta \\right)}} - \\frac{2 \\frac{d^{2}}{d \\eta^{2}} a{\\left(\\eta \\right)}}{a{\\left(\\eta \\right)}} - \\delta \\frac{\\partial^{2}}{\\partial z\\partial y} \\operatorname{hyz}{\\left(\\eta,x,y,z \\right)} + O\\left(\\delta^{2}\\right)$"
      ],
      "text/plain": [
       "<IPython.core.display.Math object>"
      ]
     },
     "metadata": {},
     "output_type": "display_data"
    },
    {
     "data": {
      "text/latex": [
       "$\\displaystyle {G}{}_{1}\\,{}_{2}\\, = \\frac{\\delta \\operatorname{hxy}{\\left(\\eta,x,y,z \\right)} \\left(\\frac{d}{d \\eta} a{\\left(\\eta \\right)}\\right)^{2}}{a^{2}{\\left(\\eta \\right)}} + \\frac{\\delta \\frac{d}{d \\eta} a{\\left(\\eta \\right)} \\frac{\\partial}{\\partial \\eta} \\operatorname{hxy}{\\left(\\eta,x,y,z \\right)}}{a{\\left(\\eta \\right)}} - \\frac{2 \\delta \\operatorname{hxy}{\\left(\\eta,x,y,z \\right)} \\frac{d^{2}}{d \\eta^{2}} a{\\left(\\eta \\right)}}{a{\\left(\\eta \\right)}} + \\frac{\\delta \\frac{\\partial^{2}}{\\partial z\\partial x} \\operatorname{hyz}{\\left(\\eta,x,y,z \\right)}}{2} + \\frac{\\delta \\frac{\\partial^{2}}{\\partial z\\partial y} \\operatorname{hxz}{\\left(\\eta,x,y,z \\right)}}{2} - \\frac{\\delta \\frac{\\partial^{2}}{\\partial z^{2}} \\operatorname{hxy}{\\left(\\eta,x,y,z \\right)}}{2} + \\frac{\\delta \\frac{\\partial^{2}}{\\partial \\eta^{2}} \\operatorname{hxy}{\\left(\\eta,x,y,z \\right)}}{2} + O\\left(\\delta^{2}\\right)$"
      ],
      "text/plain": [
       "<IPython.core.display.Math object>"
      ]
     },
     "metadata": {},
     "output_type": "display_data"
    },
    {
     "data": {
      "text/latex": [
       "$\\displaystyle {G}{}_{1}\\,{}_{3}\\, = \\frac{\\delta \\operatorname{hxz}{\\left(\\eta,x,y,z \\right)} \\left(\\frac{d}{d \\eta} a{\\left(\\eta \\right)}\\right)^{2}}{a^{2}{\\left(\\eta \\right)}} + \\frac{\\delta \\frac{d}{d \\eta} a{\\left(\\eta \\right)} \\frac{\\partial}{\\partial \\eta} \\operatorname{hxz}{\\left(\\eta,x,y,z \\right)}}{a{\\left(\\eta \\right)}} - \\frac{2 \\delta \\operatorname{hxz}{\\left(\\eta,x,y,z \\right)} \\frac{d^{2}}{d \\eta^{2}} a{\\left(\\eta \\right)}}{a{\\left(\\eta \\right)}} + \\frac{\\delta \\frac{\\partial^{2}}{\\partial y\\partial x} \\operatorname{hyz}{\\left(\\eta,x,y,z \\right)}}{2} + \\frac{\\delta \\frac{\\partial^{2}}{\\partial z\\partial y} \\operatorname{hxy}{\\left(\\eta,x,y,z \\right)}}{2} - \\frac{\\delta \\frac{\\partial^{2}}{\\partial y^{2}} \\operatorname{hxz}{\\left(\\eta,x,y,z \\right)}}{2} + \\frac{\\delta \\frac{\\partial^{2}}{\\partial \\eta^{2}} \\operatorname{hxz}{\\left(\\eta,x,y,z \\right)}}{2} + O\\left(\\delta^{2}\\right)$"
      ],
      "text/plain": [
       "<IPython.core.display.Math object>"
      ]
     },
     "metadata": {},
     "output_type": "display_data"
    },
    {
     "data": {
      "text/latex": [
       "$\\displaystyle {G}{}_{2}\\,{}_{0}\\, = \\frac{\\delta \\frac{\\partial^{2}}{\\partial z\\partial \\eta} \\operatorname{hyz}{\\left(\\eta,x,y,z \\right)}}{2} + \\frac{\\delta \\frac{\\partial^{2}}{\\partial x\\partial \\eta} \\operatorname{hxy}{\\left(\\eta,x,y,z \\right)}}{2} + O\\left(\\delta^{2}\\right)$"
      ],
      "text/plain": [
       "<IPython.core.display.Math object>"
      ]
     },
     "metadata": {},
     "output_type": "display_data"
    },
    {
     "data": {
      "text/latex": [
       "$\\displaystyle {G}{}_{2}\\,{}_{1}\\, = \\frac{\\delta \\operatorname{hxy}{\\left(\\eta,x,y,z \\right)} \\left(\\frac{d}{d \\eta} a{\\left(\\eta \\right)}\\right)^{2}}{a^{2}{\\left(\\eta \\right)}} + \\frac{\\delta \\frac{d}{d \\eta} a{\\left(\\eta \\right)} \\frac{\\partial}{\\partial \\eta} \\operatorname{hxy}{\\left(\\eta,x,y,z \\right)}}{a{\\left(\\eta \\right)}} - \\frac{2 \\delta \\operatorname{hxy}{\\left(\\eta,x,y,z \\right)} \\frac{d^{2}}{d \\eta^{2}} a{\\left(\\eta \\right)}}{a{\\left(\\eta \\right)}} + \\frac{\\delta \\frac{\\partial^{2}}{\\partial z\\partial x} \\operatorname{hyz}{\\left(\\eta,x,y,z \\right)}}{2} + \\frac{\\delta \\frac{\\partial^{2}}{\\partial z\\partial y} \\operatorname{hxz}{\\left(\\eta,x,y,z \\right)}}{2} - \\frac{\\delta \\frac{\\partial^{2}}{\\partial z^{2}} \\operatorname{hxy}{\\left(\\eta,x,y,z \\right)}}{2} + \\frac{\\delta \\frac{\\partial^{2}}{\\partial \\eta^{2}} \\operatorname{hxy}{\\left(\\eta,x,y,z \\right)}}{2} + O\\left(\\delta^{2}\\right)$"
      ],
      "text/plain": [
       "<IPython.core.display.Math object>"
      ]
     },
     "metadata": {},
     "output_type": "display_data"
    },
    {
     "data": {
      "text/latex": [
       "$\\displaystyle {G}{}_{2}\\,{}_{2}\\, = \\frac{\\left(\\frac{d}{d \\eta} a{\\left(\\eta \\right)}\\right)^{2}}{a^{2}{\\left(\\eta \\right)}} - \\frac{2 \\frac{d^{2}}{d \\eta^{2}} a{\\left(\\eta \\right)}}{a{\\left(\\eta \\right)}} - \\delta \\frac{\\partial^{2}}{\\partial z\\partial x} \\operatorname{hxz}{\\left(\\eta,x,y,z \\right)} + O\\left(\\delta^{2}\\right)$"
      ],
      "text/plain": [
       "<IPython.core.display.Math object>"
      ]
     },
     "metadata": {},
     "output_type": "display_data"
    },
    {
     "data": {
      "text/latex": [
       "$\\displaystyle {G}{}_{2}\\,{}_{3}\\, = \\frac{\\delta \\operatorname{hyz}{\\left(\\eta,x,y,z \\right)} \\left(\\frac{d}{d \\eta} a{\\left(\\eta \\right)}\\right)^{2}}{a^{2}{\\left(\\eta \\right)}} + \\frac{\\delta \\frac{d}{d \\eta} a{\\left(\\eta \\right)} \\frac{\\partial}{\\partial \\eta} \\operatorname{hyz}{\\left(\\eta,x,y,z \\right)}}{a{\\left(\\eta \\right)}} - \\frac{2 \\delta \\operatorname{hyz}{\\left(\\eta,x,y,z \\right)} \\frac{d^{2}}{d \\eta^{2}} a{\\left(\\eta \\right)}}{a{\\left(\\eta \\right)}} + \\frac{\\delta \\frac{\\partial^{2}}{\\partial y\\partial x} \\operatorname{hxz}{\\left(\\eta,x,y,z \\right)}}{2} + \\frac{\\delta \\frac{\\partial^{2}}{\\partial z\\partial x} \\operatorname{hxy}{\\left(\\eta,x,y,z \\right)}}{2} - \\frac{\\delta \\frac{\\partial^{2}}{\\partial x^{2}} \\operatorname{hyz}{\\left(\\eta,x,y,z \\right)}}{2} + \\frac{\\delta \\frac{\\partial^{2}}{\\partial \\eta^{2}} \\operatorname{hyz}{\\left(\\eta,x,y,z \\right)}}{2} + O\\left(\\delta^{2}\\right)$"
      ],
      "text/plain": [
       "<IPython.core.display.Math object>"
      ]
     },
     "metadata": {},
     "output_type": "display_data"
    },
    {
     "data": {
      "text/latex": [
       "$\\displaystyle {G}{}_{3}\\,{}_{0}\\, = \\frac{\\delta \\frac{\\partial^{2}}{\\partial y\\partial \\eta} \\operatorname{hyz}{\\left(\\eta,x,y,z \\right)}}{2} + \\frac{\\delta \\frac{\\partial^{2}}{\\partial x\\partial \\eta} \\operatorname{hxz}{\\left(\\eta,x,y,z \\right)}}{2} + O\\left(\\delta^{2}\\right)$"
      ],
      "text/plain": [
       "<IPython.core.display.Math object>"
      ]
     },
     "metadata": {},
     "output_type": "display_data"
    },
    {
     "data": {
      "text/latex": [
       "$\\displaystyle {G}{}_{3}\\,{}_{1}\\, = \\frac{\\delta \\operatorname{hxz}{\\left(\\eta,x,y,z \\right)} \\left(\\frac{d}{d \\eta} a{\\left(\\eta \\right)}\\right)^{2}}{a^{2}{\\left(\\eta \\right)}} + \\frac{\\delta \\frac{d}{d \\eta} a{\\left(\\eta \\right)} \\frac{\\partial}{\\partial \\eta} \\operatorname{hxz}{\\left(\\eta,x,y,z \\right)}}{a{\\left(\\eta \\right)}} - \\frac{2 \\delta \\operatorname{hxz}{\\left(\\eta,x,y,z \\right)} \\frac{d^{2}}{d \\eta^{2}} a{\\left(\\eta \\right)}}{a{\\left(\\eta \\right)}} + \\frac{\\delta \\frac{\\partial^{2}}{\\partial y\\partial x} \\operatorname{hyz}{\\left(\\eta,x,y,z \\right)}}{2} + \\frac{\\delta \\frac{\\partial^{2}}{\\partial z\\partial y} \\operatorname{hxy}{\\left(\\eta,x,y,z \\right)}}{2} - \\frac{\\delta \\frac{\\partial^{2}}{\\partial y^{2}} \\operatorname{hxz}{\\left(\\eta,x,y,z \\right)}}{2} + \\frac{\\delta \\frac{\\partial^{2}}{\\partial \\eta^{2}} \\operatorname{hxz}{\\left(\\eta,x,y,z \\right)}}{2} + O\\left(\\delta^{2}\\right)$"
      ],
      "text/plain": [
       "<IPython.core.display.Math object>"
      ]
     },
     "metadata": {},
     "output_type": "display_data"
    },
    {
     "data": {
      "text/latex": [
       "$\\displaystyle {G}{}_{3}\\,{}_{2}\\, = \\frac{\\delta \\operatorname{hyz}{\\left(\\eta,x,y,z \\right)} \\left(\\frac{d}{d \\eta} a{\\left(\\eta \\right)}\\right)^{2}}{a^{2}{\\left(\\eta \\right)}} + \\frac{\\delta \\frac{d}{d \\eta} a{\\left(\\eta \\right)} \\frac{\\partial}{\\partial \\eta} \\operatorname{hyz}{\\left(\\eta,x,y,z \\right)}}{a{\\left(\\eta \\right)}} - \\frac{2 \\delta \\operatorname{hyz}{\\left(\\eta,x,y,z \\right)} \\frac{d^{2}}{d \\eta^{2}} a{\\left(\\eta \\right)}}{a{\\left(\\eta \\right)}} + \\frac{\\delta \\frac{\\partial^{2}}{\\partial y\\partial x} \\operatorname{hxz}{\\left(\\eta,x,y,z \\right)}}{2} + \\frac{\\delta \\frac{\\partial^{2}}{\\partial z\\partial x} \\operatorname{hxy}{\\left(\\eta,x,y,z \\right)}}{2} - \\frac{\\delta \\frac{\\partial^{2}}{\\partial x^{2}} \\operatorname{hyz}{\\left(\\eta,x,y,z \\right)}}{2} + \\frac{\\delta \\frac{\\partial^{2}}{\\partial \\eta^{2}} \\operatorname{hyz}{\\left(\\eta,x,y,z \\right)}}{2} + O\\left(\\delta^{2}\\right)$"
      ],
      "text/plain": [
       "<IPython.core.display.Math object>"
      ]
     },
     "metadata": {},
     "output_type": "display_data"
    },
    {
     "data": {
      "text/latex": [
       "$\\displaystyle {G}{}_{3}\\,{}_{3}\\, = \\frac{\\left(\\frac{d}{d \\eta} a{\\left(\\eta \\right)}\\right)^{2}}{a^{2}{\\left(\\eta \\right)}} - \\frac{2 \\frac{d^{2}}{d \\eta^{2}} a{\\left(\\eta \\right)}}{a{\\left(\\eta \\right)}} - \\delta \\frac{\\partial^{2}}{\\partial y\\partial x} \\operatorname{hxy}{\\left(\\eta,x,y,z \\right)} + O\\left(\\delta^{2}\\right)$"
      ],
      "text/plain": [
       "<IPython.core.display.Math object>"
      ]
     },
     "metadata": {},
     "output_type": "display_data"
    }
   ],
   "source": [
    "G.display('_,_',aslist=True)"
   ]
  },
  {
   "cell_type": "markdown",
   "metadata": {},
   "source": [
    "### Tensor Perturbations in $G_{\\mu\\nu}$"
   ]
  },
  {
   "cell_type": "code",
   "execution_count": 12,
   "metadata": {},
   "outputs": [
    {
     "name": "stdout",
     "output_type": "stream",
     "text": [
      "Function hxy(eta,x,y,z) is already defined\n",
      "Function hxz(eta,x,y,z) is already defined\n",
      "Function hyz(eta,x,y,z) is already defined\n",
      "The metric has already been defined. Do you want to overwrite it? (yes/no)yes\n",
      "The metric has been redefined. Standard tensors have been deleted.\n",
      "\n",
      "Dimension = 4\n",
      "Coordinates = eta,x,y,z\n",
      "Metric defined successfully: \n",
      "\n"
     ]
    },
    {
     "data": {
      "text/latex": [
       "$\\displaystyle ds^2 = - a^{2}{\\left(\\eta \\right)} \\cdot d\\eta^2+a^{2}{\\left(\\eta \\right)} \\cdot dx^2+2 \\delta a^{2}{\\left(\\eta \\right)} \\operatorname{hxy}{\\left(\\eta,x,y,z \\right)} \\cdot dx \\cdot dy+2 \\delta a^{2}{\\left(\\eta \\right)} \\operatorname{hxz}{\\left(\\eta,x,y,z \\right)} \\cdot dx \\cdot dz+a^{2}{\\left(\\eta \\right)} \\cdot dy^2+2 \\delta a^{2}{\\left(\\eta \\right)} \\operatorname{hyz}{\\left(\\eta,x,y,z \\right)} \\cdot dy \\cdot dz+a^{2}{\\left(\\eta \\right)} \\cdot dz^2$"
      ],
      "text/plain": [
       "<IPython.core.display.Math object>"
      ]
     },
     "metadata": {},
     "output_type": "display_data"
    },
    {
     "data": {
      "text/latex": [
       "$\\displaystyle \\left[\\begin{matrix}- a^{2}{\\left(\\eta \\right)} & 0 & 0 & 0\\\\0 & a^{2}{\\left(\\eta \\right)} & \\delta a^{2}{\\left(\\eta \\right)} \\operatorname{hxy}{\\left(\\eta,x,y,z \\right)} & \\delta a^{2}{\\left(\\eta \\right)} \\operatorname{hxz}{\\left(\\eta,x,y,z \\right)}\\\\0 & \\delta a^{2}{\\left(\\eta \\right)} \\operatorname{hxy}{\\left(\\eta,x,y,z \\right)} & a^{2}{\\left(\\eta \\right)} & \\delta a^{2}{\\left(\\eta \\right)} \\operatorname{hyz}{\\left(\\eta,x,y,z \\right)}\\\\0 & \\delta a^{2}{\\left(\\eta \\right)} \\operatorname{hxz}{\\left(\\eta,x,y,z \\right)} & \\delta a^{2}{\\left(\\eta \\right)} \\operatorname{hyz}{\\left(\\eta,x,y,z \\right)} & a^{2}{\\left(\\eta \\right)}\\end{matrix}\\right]$"
      ],
      "text/plain": [
       "⎡  2                                                                          \n",
       "⎢-a (η)             0                        0                        0       \n",
       "⎢                                                                             \n",
       "⎢                  2                 2                        2               \n",
       "⎢  0              a (η)           δ⋅a (η)⋅hxy(η, x, y, z)  δ⋅a (η)⋅hxz(η, x, y\n",
       "⎢                                                                             \n",
       "⎢           2                               2                 2               \n",
       "⎢  0     δ⋅a (η)⋅hxy(η, x, y, z)           a (η)           δ⋅a (η)⋅hyz(η, x, y\n",
       "⎢                                                                             \n",
       "⎢           2                        2                               2        \n",
       "⎣  0     δ⋅a (η)⋅hxz(η, x, y, z)  δ⋅a (η)⋅hyz(η, x, y, z)           a (η)     \n",
       "\n",
       "    ⎤\n",
       "    ⎥\n",
       "    ⎥\n",
       "    ⎥\n",
       ", z)⎥\n",
       "    ⎥\n",
       "    ⎥\n",
       ", z)⎥\n",
       "    ⎥\n",
       "    ⎥\n",
       "    ⎦"
      ]
     },
     "metadata": {},
     "output_type": "display_data"
    }
   ],
   "source": [
    "\n",
    "\n",
    "hxy = pt.fun('hxy','eta,x,y,z')\n",
    "hxz = pt.fun('hxz','eta,x,y,z')\n",
    "hyz = pt.fun('hyz','eta,x,y,z')\n",
    "\n",
    "g = pt.metric('ds2 = a**2*(-deta**2 + dx**2 + dy**2 + dz**2 + 2*delta*hxy*dx*dy + 2*delta*hxz*dx*dz + 2*delta*hyz*dy*dz)')"
   ]
  },
  {
   "cell_type": "code",
   "execution_count": 13,
   "metadata": {},
   "outputs": [
    {
     "data": {
      "text/latex": [
       "Christoffel $\\Gamma_{\\alpha \\beta \\gamma}$ and $\\Gamma^{\\alpha}_{\\beta \\gamma}$"
      ],
      "text/plain": [
       "<IPython.core.display.Latex object>"
      ]
     },
     "metadata": {},
     "output_type": "display_data"
    },
    {
     "data": {
      "application/vnd.jupyter.widget-view+json": {
       "model_id": "763e25e14686433f87c4f9fe87efe266",
       "version_major": 2,
       "version_minor": 0
      },
      "text/plain": [
       "  0%|          | 0/64 [00:00<?, ?it/s]"
      ]
     },
     "metadata": {},
     "output_type": "display_data"
    },
    {
     "data": {
      "text/latex": [
       "Riemann Tensor $R^{\\alpha}_{\\beta \\gamma \\delta}$"
      ],
      "text/plain": [
       "<IPython.core.display.Latex object>"
      ]
     },
     "metadata": {},
     "output_type": "display_data"
    },
    {
     "data": {
      "application/vnd.jupyter.widget-view+json": {
       "model_id": "8a385df84e0149f2a9ad726cc9594358",
       "version_major": 2,
       "version_minor": 0
      },
      "text/plain": [
       "  0%|          | 0/256 [00:00<?, ?it/s]"
      ]
     },
     "metadata": {},
     "output_type": "display_data"
    },
    {
     "data": {
      "text/latex": [
       "Ricci Tensor $R_{\\alpha \\beta}$"
      ],
      "text/plain": [
       "<IPython.core.display.Latex object>"
      ]
     },
     "metadata": {},
     "output_type": "display_data"
    },
    {
     "data": {
      "application/vnd.jupyter.widget-view+json": {
       "model_id": "beecb437c302470bb7be3cbe62bae9e2",
       "version_major": 2,
       "version_minor": 0
      },
      "text/plain": [
       "  0%|          | 0/16 [00:00<?, ?it/s]"
      ]
     },
     "metadata": {},
     "output_type": "display_data"
    },
    {
     "data": {
      "application/vnd.jupyter.widget-view+json": {
       "model_id": "25b49fe368dc4cb4827f2168b0345c41",
       "version_major": 2,
       "version_minor": 0
      },
      "text/plain": [
       "  0%|          | 0/16 [00:00<?, ?it/s]"
      ]
     },
     "metadata": {},
     "output_type": "display_data"
    },
    {
     "data": {
      "text/latex": [
       "Ricci Scalar $R$"
      ],
      "text/plain": [
       "<IPython.core.display.Latex object>"
      ]
     },
     "metadata": {},
     "output_type": "display_data"
    },
    {
     "data": {
      "text/latex": [
       "Einstein Tensor $G_{\\alpha \\beta}$"
      ],
      "text/plain": [
       "<IPython.core.display.Latex object>"
      ]
     },
     "metadata": {},
     "output_type": "display_data"
    },
    {
     "data": {
      "application/vnd.jupyter.widget-view+json": {
       "model_id": "33a24c6351524bf08bd7ec15b3fd501c",
       "version_major": 2,
       "version_minor": 0
      },
      "text/plain": [
       "  0%|          | 0/16 [00:00<?, ?it/s]"
      ]
     },
     "metadata": {},
     "output_type": "display_data"
    },
    {
     "data": {
      "application/vnd.jupyter.widget-view+json": {
       "model_id": "de365286391c4d12af2f55b23a0485d9",
       "version_major": 2,
       "version_minor": 0
      },
      "text/plain": [
       "Einstein Tensor $G{^\\alpha}{_\\beta}$:   0%|          | 0/16 [00:00<?, ?it/s]"
      ]
     },
     "metadata": {},
     "output_type": "display_data"
    },
    {
     "data": {
      "application/vnd.jupyter.widget-view+json": {
       "model_id": "fc6726ce323d495f8394e68fbe010f50",
       "version_major": 2,
       "version_minor": 0
      },
      "text/plain": [
       "Einstein Tensor $G{^\\alpha}{^\\beta}$:   0%|          | 0/16 [00:00<?, ?it/s]"
      ]
     },
     "metadata": {},
     "output_type": "display_data"
    },
    {
     "data": {
      "application/vnd.jupyter.widget-view+json": {
       "model_id": "24a1765eda6144528b25d9aa465c9436",
       "version_major": 2,
       "version_minor": 0
      },
      "text/plain": [
       "Einstein Tensor $G{_\\alpha}{^\\beta}$:   0%|          | 0/16 [00:00<?, ?it/s]"
      ]
     },
     "metadata": {},
     "output_type": "display_data"
    },
    {
     "data": {
      "text/latex": [
       "All other indices of Einstein Tensor $G$  already calculated."
      ],
      "text/plain": [
       "<IPython.core.display.Latex object>"
      ]
     },
     "metadata": {},
     "output_type": "display_data"
    },
    {
     "data": {
      "text/latex": [
       "$\\displaystyle {G}{}^{0}\\,{}_{0}\\, = - \\frac{3 \\left(\\frac{d}{d \\eta} a{\\left(\\eta \\right)}\\right)^{2}}{a^{4}{\\left(\\eta \\right)}} - \\frac{\\delta \\frac{\\partial^{2}}{\\partial z\\partial y} \\operatorname{hyz}{\\left(\\eta,x,y,z \\right)}}{a^{2}{\\left(\\eta \\right)}} - \\frac{\\delta \\frac{\\partial^{2}}{\\partial z\\partial x} \\operatorname{hxz}{\\left(\\eta,x,y,z \\right)}}{a^{2}{\\left(\\eta \\right)}} - \\frac{\\delta \\frac{\\partial^{2}}{\\partial y\\partial x} \\operatorname{hxy}{\\left(\\eta,x,y,z \\right)}}{a^{2}{\\left(\\eta \\right)}} + O\\left(\\delta^{2}\\right)$"
      ],
      "text/plain": [
       "<IPython.core.display.Math object>"
      ]
     },
     "metadata": {},
     "output_type": "display_data"
    },
    {
     "data": {
      "text/latex": [
       "$\\displaystyle {G}{}^{0}\\,{}_{1}\\, = - \\frac{\\delta \\frac{\\partial^{2}}{\\partial z\\partial \\eta} \\operatorname{hxz}{\\left(\\eta,x,y,z \\right)}}{2 a^{2}{\\left(\\eta \\right)}} - \\frac{\\delta \\frac{\\partial^{2}}{\\partial y\\partial \\eta} \\operatorname{hxy}{\\left(\\eta,x,y,z \\right)}}{2 a^{2}{\\left(\\eta \\right)}} + O\\left(\\delta^{2}\\right)$"
      ],
      "text/plain": [
       "<IPython.core.display.Math object>"
      ]
     },
     "metadata": {},
     "output_type": "display_data"
    },
    {
     "data": {
      "text/latex": [
       "$\\displaystyle {G}{}^{0}\\,{}_{2}\\, = - \\frac{\\delta \\frac{\\partial^{2}}{\\partial z\\partial \\eta} \\operatorname{hyz}{\\left(\\eta,x,y,z \\right)}}{2 a^{2}{\\left(\\eta \\right)}} - \\frac{\\delta \\frac{\\partial^{2}}{\\partial x\\partial \\eta} \\operatorname{hxy}{\\left(\\eta,x,y,z \\right)}}{2 a^{2}{\\left(\\eta \\right)}} + O\\left(\\delta^{2}\\right)$"
      ],
      "text/plain": [
       "<IPython.core.display.Math object>"
      ]
     },
     "metadata": {},
     "output_type": "display_data"
    },
    {
     "data": {
      "text/latex": [
       "$\\displaystyle {G}{}^{0}\\,{}_{3}\\, = - \\frac{\\delta \\frac{\\partial^{2}}{\\partial y\\partial \\eta} \\operatorname{hyz}{\\left(\\eta,x,y,z \\right)}}{2 a^{2}{\\left(\\eta \\right)}} - \\frac{\\delta \\frac{\\partial^{2}}{\\partial x\\partial \\eta} \\operatorname{hxz}{\\left(\\eta,x,y,z \\right)}}{2 a^{2}{\\left(\\eta \\right)}} + O\\left(\\delta^{2}\\right)$"
      ],
      "text/plain": [
       "<IPython.core.display.Math object>"
      ]
     },
     "metadata": {},
     "output_type": "display_data"
    },
    {
     "data": {
      "text/latex": [
       "$\\displaystyle {G}{}^{1}\\,{}_{0}\\, = \\frac{\\delta \\frac{\\partial^{2}}{\\partial z\\partial \\eta} \\operatorname{hxz}{\\left(\\eta,x,y,z \\right)}}{2 a^{2}{\\left(\\eta \\right)}} + \\frac{\\delta \\frac{\\partial^{2}}{\\partial y\\partial \\eta} \\operatorname{hxy}{\\left(\\eta,x,y,z \\right)}}{2 a^{2}{\\left(\\eta \\right)}} + O\\left(\\delta^{2}\\right)$"
      ],
      "text/plain": [
       "<IPython.core.display.Math object>"
      ]
     },
     "metadata": {},
     "output_type": "display_data"
    },
    {
     "data": {
      "text/latex": [
       "$\\displaystyle {G}{}^{1}\\,{}_{1}\\, = \\frac{\\left(\\frac{d}{d \\eta} a{\\left(\\eta \\right)}\\right)^{2}}{a^{4}{\\left(\\eta \\right)}} - \\frac{2 \\frac{d^{2}}{d \\eta^{2}} a{\\left(\\eta \\right)}}{a^{3}{\\left(\\eta \\right)}} - \\frac{\\delta \\frac{\\partial^{2}}{\\partial z\\partial y} \\operatorname{hyz}{\\left(\\eta,x,y,z \\right)}}{a^{2}{\\left(\\eta \\right)}} + O\\left(\\delta^{2}\\right)$"
      ],
      "text/plain": [
       "<IPython.core.display.Math object>"
      ]
     },
     "metadata": {},
     "output_type": "display_data"
    },
    {
     "data": {
      "text/latex": [
       "$\\displaystyle {G}{}^{1}\\,{}_{2}\\, = \\frac{\\delta \\frac{d}{d \\eta} a{\\left(\\eta \\right)} \\frac{\\partial}{\\partial \\eta} \\operatorname{hxy}{\\left(\\eta,x,y,z \\right)}}{a^{3}{\\left(\\eta \\right)}} + \\frac{\\delta \\frac{\\partial^{2}}{\\partial z\\partial x} \\operatorname{hyz}{\\left(\\eta,x,y,z \\right)}}{2 a^{2}{\\left(\\eta \\right)}} + \\frac{\\delta \\frac{\\partial^{2}}{\\partial z\\partial y} \\operatorname{hxz}{\\left(\\eta,x,y,z \\right)}}{2 a^{2}{\\left(\\eta \\right)}} - \\frac{\\delta \\frac{\\partial^{2}}{\\partial z^{2}} \\operatorname{hxy}{\\left(\\eta,x,y,z \\right)}}{2 a^{2}{\\left(\\eta \\right)}} + \\frac{\\delta \\frac{\\partial^{2}}{\\partial \\eta^{2}} \\operatorname{hxy}{\\left(\\eta,x,y,z \\right)}}{2 a^{2}{\\left(\\eta \\right)}} + O\\left(\\delta^{2}\\right)$"
      ],
      "text/plain": [
       "<IPython.core.display.Math object>"
      ]
     },
     "metadata": {},
     "output_type": "display_data"
    },
    {
     "data": {
      "text/latex": [
       "$\\displaystyle {G}{}^{1}\\,{}_{3}\\, = \\frac{\\delta \\frac{d}{d \\eta} a{\\left(\\eta \\right)} \\frac{\\partial}{\\partial \\eta} \\operatorname{hxz}{\\left(\\eta,x,y,z \\right)}}{a^{3}{\\left(\\eta \\right)}} + \\frac{\\delta \\frac{\\partial^{2}}{\\partial y\\partial x} \\operatorname{hyz}{\\left(\\eta,x,y,z \\right)}}{2 a^{2}{\\left(\\eta \\right)}} + \\frac{\\delta \\frac{\\partial^{2}}{\\partial z\\partial y} \\operatorname{hxy}{\\left(\\eta,x,y,z \\right)}}{2 a^{2}{\\left(\\eta \\right)}} - \\frac{\\delta \\frac{\\partial^{2}}{\\partial y^{2}} \\operatorname{hxz}{\\left(\\eta,x,y,z \\right)}}{2 a^{2}{\\left(\\eta \\right)}} + \\frac{\\delta \\frac{\\partial^{2}}{\\partial \\eta^{2}} \\operatorname{hxz}{\\left(\\eta,x,y,z \\right)}}{2 a^{2}{\\left(\\eta \\right)}} + O\\left(\\delta^{2}\\right)$"
      ],
      "text/plain": [
       "<IPython.core.display.Math object>"
      ]
     },
     "metadata": {},
     "output_type": "display_data"
    },
    {
     "data": {
      "text/latex": [
       "$\\displaystyle {G}{}^{2}\\,{}_{0}\\, = \\frac{\\delta \\frac{\\partial^{2}}{\\partial z\\partial \\eta} \\operatorname{hyz}{\\left(\\eta,x,y,z \\right)}}{2 a^{2}{\\left(\\eta \\right)}} + \\frac{\\delta \\frac{\\partial^{2}}{\\partial x\\partial \\eta} \\operatorname{hxy}{\\left(\\eta,x,y,z \\right)}}{2 a^{2}{\\left(\\eta \\right)}} + O\\left(\\delta^{2}\\right)$"
      ],
      "text/plain": [
       "<IPython.core.display.Math object>"
      ]
     },
     "metadata": {},
     "output_type": "display_data"
    },
    {
     "data": {
      "text/latex": [
       "$\\displaystyle {G}{}^{2}\\,{}_{1}\\, = \\frac{\\delta \\frac{d}{d \\eta} a{\\left(\\eta \\right)} \\frac{\\partial}{\\partial \\eta} \\operatorname{hxy}{\\left(\\eta,x,y,z \\right)}}{a^{3}{\\left(\\eta \\right)}} + \\frac{\\delta \\frac{\\partial^{2}}{\\partial z\\partial x} \\operatorname{hyz}{\\left(\\eta,x,y,z \\right)}}{2 a^{2}{\\left(\\eta \\right)}} + \\frac{\\delta \\frac{\\partial^{2}}{\\partial z\\partial y} \\operatorname{hxz}{\\left(\\eta,x,y,z \\right)}}{2 a^{2}{\\left(\\eta \\right)}} - \\frac{\\delta \\frac{\\partial^{2}}{\\partial z^{2}} \\operatorname{hxy}{\\left(\\eta,x,y,z \\right)}}{2 a^{2}{\\left(\\eta \\right)}} + \\frac{\\delta \\frac{\\partial^{2}}{\\partial \\eta^{2}} \\operatorname{hxy}{\\left(\\eta,x,y,z \\right)}}{2 a^{2}{\\left(\\eta \\right)}} + O\\left(\\delta^{2}\\right)$"
      ],
      "text/plain": [
       "<IPython.core.display.Math object>"
      ]
     },
     "metadata": {},
     "output_type": "display_data"
    },
    {
     "data": {
      "text/latex": [
       "$\\displaystyle {G}{}^{2}\\,{}_{2}\\, = \\frac{\\left(\\frac{d}{d \\eta} a{\\left(\\eta \\right)}\\right)^{2}}{a^{4}{\\left(\\eta \\right)}} - \\frac{2 \\frac{d^{2}}{d \\eta^{2}} a{\\left(\\eta \\right)}}{a^{3}{\\left(\\eta \\right)}} - \\frac{\\delta \\frac{\\partial^{2}}{\\partial z\\partial x} \\operatorname{hxz}{\\left(\\eta,x,y,z \\right)}}{a^{2}{\\left(\\eta \\right)}} + O\\left(\\delta^{2}\\right)$"
      ],
      "text/plain": [
       "<IPython.core.display.Math object>"
      ]
     },
     "metadata": {},
     "output_type": "display_data"
    },
    {
     "data": {
      "text/latex": [
       "$\\displaystyle {G}{}^{2}\\,{}_{3}\\, = \\frac{\\delta \\frac{d}{d \\eta} a{\\left(\\eta \\right)} \\frac{\\partial}{\\partial \\eta} \\operatorname{hyz}{\\left(\\eta,x,y,z \\right)}}{a^{3}{\\left(\\eta \\right)}} + \\frac{\\delta \\frac{\\partial^{2}}{\\partial y\\partial x} \\operatorname{hxz}{\\left(\\eta,x,y,z \\right)}}{2 a^{2}{\\left(\\eta \\right)}} + \\frac{\\delta \\frac{\\partial^{2}}{\\partial z\\partial x} \\operatorname{hxy}{\\left(\\eta,x,y,z \\right)}}{2 a^{2}{\\left(\\eta \\right)}} - \\frac{\\delta \\frac{\\partial^{2}}{\\partial x^{2}} \\operatorname{hyz}{\\left(\\eta,x,y,z \\right)}}{2 a^{2}{\\left(\\eta \\right)}} + \\frac{\\delta \\frac{\\partial^{2}}{\\partial \\eta^{2}} \\operatorname{hyz}{\\left(\\eta,x,y,z \\right)}}{2 a^{2}{\\left(\\eta \\right)}} + O\\left(\\delta^{2}\\right)$"
      ],
      "text/plain": [
       "<IPython.core.display.Math object>"
      ]
     },
     "metadata": {},
     "output_type": "display_data"
    },
    {
     "data": {
      "text/latex": [
       "$\\displaystyle {G}{}^{3}\\,{}_{0}\\, = \\frac{\\delta \\frac{\\partial^{2}}{\\partial y\\partial \\eta} \\operatorname{hyz}{\\left(\\eta,x,y,z \\right)}}{2 a^{2}{\\left(\\eta \\right)}} + \\frac{\\delta \\frac{\\partial^{2}}{\\partial x\\partial \\eta} \\operatorname{hxz}{\\left(\\eta,x,y,z \\right)}}{2 a^{2}{\\left(\\eta \\right)}} + O\\left(\\delta^{2}\\right)$"
      ],
      "text/plain": [
       "<IPython.core.display.Math object>"
      ]
     },
     "metadata": {},
     "output_type": "display_data"
    },
    {
     "data": {
      "text/latex": [
       "$\\displaystyle {G}{}^{3}\\,{}_{1}\\, = \\frac{\\delta \\frac{d}{d \\eta} a{\\left(\\eta \\right)} \\frac{\\partial}{\\partial \\eta} \\operatorname{hxz}{\\left(\\eta,x,y,z \\right)}}{a^{3}{\\left(\\eta \\right)}} + \\frac{\\delta \\frac{\\partial^{2}}{\\partial y\\partial x} \\operatorname{hyz}{\\left(\\eta,x,y,z \\right)}}{2 a^{2}{\\left(\\eta \\right)}} + \\frac{\\delta \\frac{\\partial^{2}}{\\partial z\\partial y} \\operatorname{hxy}{\\left(\\eta,x,y,z \\right)}}{2 a^{2}{\\left(\\eta \\right)}} - \\frac{\\delta \\frac{\\partial^{2}}{\\partial y^{2}} \\operatorname{hxz}{\\left(\\eta,x,y,z \\right)}}{2 a^{2}{\\left(\\eta \\right)}} + \\frac{\\delta \\frac{\\partial^{2}}{\\partial \\eta^{2}} \\operatorname{hxz}{\\left(\\eta,x,y,z \\right)}}{2 a^{2}{\\left(\\eta \\right)}} + O\\left(\\delta^{2}\\right)$"
      ],
      "text/plain": [
       "<IPython.core.display.Math object>"
      ]
     },
     "metadata": {},
     "output_type": "display_data"
    },
    {
     "data": {
      "text/latex": [
       "$\\displaystyle {G}{}^{3}\\,{}_{2}\\, = \\frac{\\delta \\frac{d}{d \\eta} a{\\left(\\eta \\right)} \\frac{\\partial}{\\partial \\eta} \\operatorname{hyz}{\\left(\\eta,x,y,z \\right)}}{a^{3}{\\left(\\eta \\right)}} + \\frac{\\delta \\frac{\\partial^{2}}{\\partial y\\partial x} \\operatorname{hxz}{\\left(\\eta,x,y,z \\right)}}{2 a^{2}{\\left(\\eta \\right)}} + \\frac{\\delta \\frac{\\partial^{2}}{\\partial z\\partial x} \\operatorname{hxy}{\\left(\\eta,x,y,z \\right)}}{2 a^{2}{\\left(\\eta \\right)}} - \\frac{\\delta \\frac{\\partial^{2}}{\\partial x^{2}} \\operatorname{hyz}{\\left(\\eta,x,y,z \\right)}}{2 a^{2}{\\left(\\eta \\right)}} + \\frac{\\delta \\frac{\\partial^{2}}{\\partial \\eta^{2}} \\operatorname{hyz}{\\left(\\eta,x,y,z \\right)}}{2 a^{2}{\\left(\\eta \\right)}} + O\\left(\\delta^{2}\\right)$"
      ],
      "text/plain": [
       "<IPython.core.display.Math object>"
      ]
     },
     "metadata": {},
     "output_type": "display_data"
    },
    {
     "data": {
      "text/latex": [
       "$\\displaystyle {G}{}^{3}\\,{}_{3}\\, = \\frac{\\left(\\frac{d}{d \\eta} a{\\left(\\eta \\right)}\\right)^{2}}{a^{4}{\\left(\\eta \\right)}} - \\frac{2 \\frac{d^{2}}{d \\eta^{2}} a{\\left(\\eta \\right)}}{a^{3}{\\left(\\eta \\right)}} - \\frac{\\delta \\frac{\\partial^{2}}{\\partial y\\partial x} \\operatorname{hxy}{\\left(\\eta,x,y,z \\right)}}{a^{2}{\\left(\\eta \\right)}} + O\\left(\\delta^{2}\\right)$"
      ],
      "text/plain": [
       "<IPython.core.display.Math object>"
      ]
     },
     "metadata": {},
     "output_type": "display_data"
    }
   ],
   "source": [
    "# To calculate the default combination of the Einstein Tensor, i.e., (_,_):\n",
    "#G = pt.einstein()\n",
    "\n",
    "# To calculate all the combinations:\n",
    "G = pt.einstein(All = True)\n",
    "\n",
    "# To display the Einstein Tensor:\n",
    "G.display('^,_',aslist=True)\n",
    "\n",
    "# To show the tensor components as a list:\n",
    "# G.display(aslist = True)"
   ]
  },
  {
   "cell_type": "markdown",
   "metadata": {},
   "source": [
    "The display method uses matrix notation for all tensors with rank $\\leq$ 2 by default. To display the tensor components as a list, the user must include the \"aslist = True\" argument."
   ]
  }
 ],
 "metadata": {
  "kernelspec": {
   "display_name": "Python 3 (ipykernel)",
   "language": "python",
   "name": "python3"
  },
  "language_info": {
   "codemirror_mode": {
    "name": "ipython",
    "version": 3
   },
   "file_extension": ".py",
   "mimetype": "text/x-python",
   "name": "python",
   "nbconvert_exporter": "python",
   "pygments_lexer": "ipython3",
   "version": "3.10.7"
  }
 },
 "nbformat": 4,
 "nbformat_minor": 4
}
