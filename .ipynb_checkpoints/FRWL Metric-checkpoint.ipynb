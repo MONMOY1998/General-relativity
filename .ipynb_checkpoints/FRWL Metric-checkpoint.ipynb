{
 "cells": [
  {
   "cell_type": "code",
   "execution_count": 1,
   "id": "5161b08a",
   "metadata": {},
   "outputs": [],
   "source": [
    "import sympy as sp\n",
    "import numpy as np\n",
    "import matplotlib.pyplot as plt\n",
    "from einsteinpy.symbolic import MetricTensor,ChristoffelSymbols,RicciTensor,RicciScalar,EinsteinTensor"
   ]
  },
  {
   "cell_type": "code",
   "execution_count": 2,
   "id": "8bf79eab",
   "metadata": {},
   "outputs": [],
   "source": [
    "syms=sp.symbols(\"t r theta phi\")\n",
    "t,r,theta,phi=syms"
   ]
  },
  {
   "cell_type": "code",
   "execution_count": 3,
   "id": "8ceb2fb0",
   "metadata": {},
   "outputs": [],
   "source": [
    "a=sp.Function(\"a\")\n",
    "p=sp.Function(\"p\")\n",
    "rho=sp.Function(\"rho\")"
   ]
  },
  {
   "cell_type": "code",
   "execution_count": 4,
   "id": "fe64ac43",
   "metadata": {},
   "outputs": [],
   "source": [
    "k=sp.symbols(\"k\")"
   ]
  },
  {
   "cell_type": "code",
   "execution_count": 5,
   "id": "eb597338",
   "metadata": {},
   "outputs": [],
   "source": [
    "m = sp.diag(-1, ((a(t)**2)/(1-k*r**2)),(a(t)**2)*(r**2), (a(t)**2)*(r**2) *sp.sin(theta)**2).tolist()"
   ]
  },
  {
   "cell_type": "code",
   "execution_count": 6,
   "id": "ddad99ff",
   "metadata": {},
   "outputs": [],
   "source": [
    "metric = MetricTensor(m, syms)"
   ]
  },
  {
   "cell_type": "code",
   "execution_count": 7,
   "id": "3435a53a",
   "metadata": {},
   "outputs": [
    {
     "data": {
      "text/latex": [
       "$\\displaystyle \\left[\\begin{matrix}-1 & 0 & 0 & 0\\\\0 & \\frac{a^{2}{\\left(t \\right)}}{- k r^{2} + 1} & 0 & 0\\\\0 & 0 & r^{2} a^{2}{\\left(t \\right)} & 0\\\\0 & 0 & 0 & r^{2} a^{2}{\\left(t \\right)} \\sin^{2}{\\left(\\theta \\right)}\\end{matrix}\\right]$"
      ],
      "text/plain": [
       "[[-1, 0, 0, 0], [0, a(t)**2/(-k*r**2 + 1), 0, 0], [0, 0, r**2*a(t)**2, 0], [0, 0, 0, r**2*a(t)**2*sin(theta)**2]]"
      ]
     },
     "execution_count": 7,
     "metadata": {},
     "output_type": "execute_result"
    }
   ],
   "source": [
    "metric.tensor()"
   ]
  },
  {
   "cell_type": "code",
   "execution_count": 8,
   "id": "5ef1fbb0",
   "metadata": {},
   "outputs": [
    {
     "data": {
      "text/latex": [
       "$\\displaystyle \\left[\\begin{matrix}\\left[\\begin{matrix}0 & 0 & 0 & 0\\\\0 & - \\frac{a{\\left(t \\right)} \\frac{d}{d t} a{\\left(t \\right)}}{k r^{2} - 1} & 0 & 0\\\\0 & 0 & r^{2} a{\\left(t \\right)} \\frac{d}{d t} a{\\left(t \\right)} & 0\\\\0 & 0 & 0 & r^{2} a{\\left(t \\right)} \\sin^{2}{\\left(\\theta \\right)} \\frac{d}{d t} a{\\left(t \\right)}\\end{matrix}\\right] & \\left[\\begin{matrix}0 & \\frac{\\frac{d}{d t} a{\\left(t \\right)}}{a{\\left(t \\right)}} & 0 & 0\\\\\\frac{\\frac{d}{d t} a{\\left(t \\right)}}{a{\\left(t \\right)}} & - \\frac{k r}{k r^{2} - 1} & 0 & 0\\\\0 & 0 & k r^{3} - r & 0\\\\0 & 0 & 0 & r \\left(k r^{2} - 1\\right) \\sin^{2}{\\left(\\theta \\right)}\\end{matrix}\\right] & \\left[\\begin{matrix}0 & 0 & \\frac{\\frac{d}{d t} a{\\left(t \\right)}}{a{\\left(t \\right)}} & 0\\\\0 & 0 & \\frac{1}{r} & 0\\\\\\frac{\\frac{d}{d t} a{\\left(t \\right)}}{a{\\left(t \\right)}} & \\frac{1}{r} & 0 & 0\\\\0 & 0 & 0 & - \\frac{\\sin{\\left(2 \\theta \\right)}}{2}\\end{matrix}\\right] & \\left[\\begin{matrix}0 & 0 & 0 & \\frac{\\frac{d}{d t} a{\\left(t \\right)}}{a{\\left(t \\right)}}\\\\0 & 0 & 0 & \\frac{1}{r}\\\\0 & 0 & 0 & \\frac{1}{\\tan{\\left(\\theta \\right)}}\\\\\\frac{\\frac{d}{d t} a{\\left(t \\right)}}{a{\\left(t \\right)}} & \\frac{1}{r} & \\frac{1}{\\tan{\\left(\\theta \\right)}} & 0\\end{matrix}\\right]\\end{matrix}\\right]$"
      ],
      "text/plain": [
       "[[[0, 0, 0, 0], [0, -a(t)*Derivative(a(t), t)/(k*r**2 - 1), 0, 0], [0, 0, r**2*a(t)*Derivative(a(t), t), 0], [0, 0, 0, r**2*a(t)*sin(theta)**2*Derivative(a(t), t)]], [[0, Derivative(a(t), t)/a(t), 0, 0], [Derivative(a(t), t)/a(t), -k*r/(k*r**2 - 1), 0, 0], [0, 0, k*r**3 - r, 0], [0, 0, 0, r*(k*r**2 - 1)*sin(theta)**2]], [[0, 0, Derivative(a(t), t)/a(t), 0], [0, 0, 1/r, 0], [Derivative(a(t), t)/a(t), 1/r, 0, 0], [0, 0, 0, -sin(2*theta)/2]], [[0, 0, 0, Derivative(a(t), t)/a(t)], [0, 0, 0, 1/r], [0, 0, 0, 1/tan(theta)], [Derivative(a(t), t)/a(t), 1/r, 1/tan(theta), 0]]]"
      ]
     },
     "execution_count": 8,
     "metadata": {},
     "output_type": "execute_result"
    }
   ],
   "source": [
    "ch=ChristoffelSymbols.from_metric(metric)\n",
    "ch.simplify()"
   ]
  },
  {
   "cell_type": "code",
   "execution_count": 9,
   "id": "70d35b9e",
   "metadata": {},
   "outputs": [
    {
     "data": {
      "text/latex": [
       "$\\displaystyle \\left[\\begin{matrix}- \\frac{3 \\frac{d^{2}}{d t^{2}} a{\\left(t \\right)}}{a{\\left(t \\right)}} & 0 & 0 & 0\\\\0 & \\frac{- 2 k - a{\\left(t \\right)} \\frac{d^{2}}{d t^{2}} a{\\left(t \\right)} - 2 \\left(\\frac{d}{d t} a{\\left(t \\right)}\\right)^{2}}{k r^{2} - 1} & 0 & 0\\\\0 & 0 & r^{2} \\cdot \\left(2 k + a{\\left(t \\right)} \\frac{d^{2}}{d t^{2}} a{\\left(t \\right)} + 2 \\left(\\frac{d}{d t} a{\\left(t \\right)}\\right)^{2}\\right) & 0\\\\0 & 0 & 0 & r^{2} \\cdot \\left(2 k + a{\\left(t \\right)} \\frac{d^{2}}{d t^{2}} a{\\left(t \\right)} + 2 \\left(\\frac{d}{d t} a{\\left(t \\right)}\\right)^{2}\\right) \\sin^{2}{\\left(\\theta \\right)}\\end{matrix}\\right]$"
      ],
      "text/plain": [
       "[[-3*Derivative(a(t), (t, 2))/a(t), 0, 0, 0], [0, (-2*k - a(t)*Derivative(a(t), (t, 2)) - 2*Derivative(a(t), t)**2)/(k*r**2 - 1), 0, 0], [0, 0, r**2*(2*k + a(t)*Derivative(a(t), (t, 2)) + 2*Derivative(a(t), t)**2), 0], [0, 0, 0, r**2*(2*k + a(t)*Derivative(a(t), (t, 2)) + 2*Derivative(a(t), t)**2)*sin(theta)**2]]"
      ]
     },
     "execution_count": 9,
     "metadata": {},
     "output_type": "execute_result"
    }
   ],
   "source": [
    "ricci=RicciTensor.from_metric(metric)\n",
    "ricci.simplify()"
   ]
  },
  {
   "cell_type": "code",
   "execution_count": 10,
   "id": "ddc5b42b",
   "metadata": {},
   "outputs": [
    {
     "data": {
      "text/latex": [
       "$\\displaystyle \\frac{6 \\left(k + a{\\left(t \\right)} \\frac{d^{2}}{d t^{2}} a{\\left(t \\right)} + \\left(\\frac{d}{d t} a{\\left(t \\right)}\\right)^{2}\\right)}{a^{2}{\\left(t \\right)}}$"
      ],
      "text/plain": [
       "6*(k + a(t)*Derivative(a(t), (t, 2)) + Derivative(a(t), t)**2)/a(t)**2"
      ]
     },
     "execution_count": 10,
     "metadata": {},
     "output_type": "execute_result"
    }
   ],
   "source": [
    "ricci=RicciScalar.from_metric(metric)\n",
    "ricci.simplify()"
   ]
  },
  {
   "cell_type": "code",
   "execution_count": 11,
   "id": "3be2e183",
   "metadata": {},
   "outputs": [
    {
     "data": {
      "text/latex": [
       "$\\displaystyle \\left[\\begin{matrix}\\frac{3.0 \\left(k + \\left(\\frac{d}{d t} a{\\left(t \\right)}\\right)^{2}\\right)}{a^{2}{\\left(t \\right)}} & 0 & 0 & 0\\\\0 & \\frac{1.0 k + 2.0 a{\\left(t \\right)} \\frac{d^{2}}{d t^{2}} a{\\left(t \\right)} + 1.0 \\left(\\frac{d}{d t} a{\\left(t \\right)}\\right)^{2}}{k r^{2} - 1} & 0 & 0\\\\0 & 0 & r^{2} \\left(- 1.0 k - 2.0 a{\\left(t \\right)} \\frac{d^{2}}{d t^{2}} a{\\left(t \\right)} - 1.0 \\left(\\frac{d}{d t} a{\\left(t \\right)}\\right)^{2}\\right) & 0\\\\0 & 0 & 0 & r^{2} \\left(- 1.0 k - 2.0 a{\\left(t \\right)} \\frac{d^{2}}{d t^{2}} a{\\left(t \\right)} - 1.0 \\left(\\frac{d}{d t} a{\\left(t \\right)}\\right)^{2}\\right) \\sin^{2}{\\left(\\theta \\right)}\\end{matrix}\\right]$"
      ],
      "text/plain": [
       "[[3.0*(k + Derivative(a(t), t)**2)/a(t)**2, 0, 0, 0], [0, (1.0*k + 2.0*a(t)*Derivative(a(t), (t, 2)) + 1.0*Derivative(a(t), t)**2)/(k*r**2 - 1), 0, 0], [0, 0, r**2*(-1.0*k - 2.0*a(t)*Derivative(a(t), (t, 2)) - 1.0*Derivative(a(t), t)**2), 0], [0, 0, 0, r**2*(-1.0*k - 2.0*a(t)*Derivative(a(t), (t, 2)) - 1.0*Derivative(a(t), t)**2)*sin(theta)**2]]"
      ]
     },
     "execution_count": 11,
     "metadata": {},
     "output_type": "execute_result"
    }
   ],
   "source": [
    "einst = EinsteinTensor.from_metric(metric)\n",
    "einst.simplify()"
   ]
  },
  {
   "cell_type": "code",
   "execution_count": 12,
   "id": "827f7056",
   "metadata": {},
   "outputs": [],
   "source": [
    "G_00, G_11, G_22, G_33, T_00, T_11, T_22, T_33 = sp.symbols(\n",
    "    'G_00 G_11 G_22 G_33 T_00 T_11 T_22 T_33'\n",
    ")"
   ]
  },
  {
   "cell_type": "code",
   "execution_count": 13,
   "id": "ea970f6d",
   "metadata": {},
   "outputs": [
    {
     "data": {
      "text/latex": [
       "$\\displaystyle G_{00} = 8 \\pi T_{00}$"
      ],
      "text/plain": [
       "Eq(G_00, 8*pi*T_00)"
      ]
     },
     "execution_count": 13,
     "metadata": {},
     "output_type": "execute_result"
    }
   ],
   "source": [
    "einst_eq_1 = sp.Eq( G_00, 8 * sp.pi * T_00 )\n",
    "einst_eq_1"
   ]
  },
  {
   "cell_type": "code",
   "execution_count": 14,
   "id": "5b7738e6",
   "metadata": {},
   "outputs": [],
   "source": [
    "einst_eq_1_replaced = einst_eq_1.subs({G_00:einst.tensor()[0, 0], T_00:rho(t)})"
   ]
  },
  {
   "cell_type": "code",
   "execution_count": 15,
   "id": "5a94d0db",
   "metadata": {},
   "outputs": [],
   "source": [
    "EFE_1 = sp.simplify(einst_eq_1_replaced)"
   ]
  },
  {
   "cell_type": "code",
   "execution_count": 16,
   "id": "61087183",
   "metadata": {},
   "outputs": [
    {
     "data": {
      "text/latex": [
       "$\\displaystyle 8 \\pi \\rho{\\left(t \\right)} = \\frac{3.0 \\left(k + \\left(\\frac{d}{d t} a{\\left(t \\right)}\\right)^{2}\\right)}{a^{2}{\\left(t \\right)}}$"
      ],
      "text/plain": [
       "Eq(8*pi*rho(t), 3.0*(k + Derivative(a(t), t)**2)/a(t)**2)"
      ]
     },
     "execution_count": 16,
     "metadata": {},
     "output_type": "execute_result"
    }
   ],
   "source": [
    "EFE_1"
   ]
  },
  {
   "cell_type": "code",
   "execution_count": null,
   "id": "0949e7ea",
   "metadata": {},
   "outputs": [],
   "source": []
  },
  {
   "cell_type": "code",
   "execution_count": 17,
   "id": "f91e8620",
   "metadata": {},
   "outputs": [
    {
     "data": {
      "text/latex": [
       "$\\displaystyle G_{11} = 8 \\pi T_{11}$"
      ],
      "text/plain": [
       "Eq(G_11, 8*pi*T_11)"
      ]
     },
     "execution_count": 17,
     "metadata": {},
     "output_type": "execute_result"
    }
   ],
   "source": [
    "einst_eq_2 = sp.Eq( G_11, 8 * sp.pi * T_11 )\n",
    "einst_eq_2"
   ]
  },
  {
   "cell_type": "code",
   "execution_count": 18,
   "id": "3751e477",
   "metadata": {},
   "outputs": [],
   "source": [
    "einst_eq_2_replaced = einst_eq_2.subs({G_11:einst.tensor()[1, 1], T_11:p(t)*metric.tensor()[1,1]})"
   ]
  },
  {
   "cell_type": "code",
   "execution_count": 19,
   "id": "d3c60d24",
   "metadata": {},
   "outputs": [
    {
     "data": {
      "text/latex": [
       "$\\displaystyle \\frac{8 \\pi a^{2}{\\left(t \\right)} p{\\left(t \\right)}}{k r^{2} - 1} = - \\frac{1.0 k + 2.0 a{\\left(t \\right)} \\frac{d^{2}}{d t^{2}} a{\\left(t \\right)} + 1.0 \\left(\\frac{d}{d t} a{\\left(t \\right)}\\right)^{2}}{k r^{2} - 1}$"
      ],
      "text/plain": [
       "Eq(8*pi*a(t)**2*p(t)/(k*r**2 - 1), -(1.0*k + 2.0*a(t)*Derivative(a(t), (t, 2)) + 1.0*Derivative(a(t), t)**2)/(k*r**2 - 1))"
      ]
     },
     "execution_count": 19,
     "metadata": {},
     "output_type": "execute_result"
    }
   ],
   "source": [
    "EFE_2 = sp.simplify(einst_eq_2_replaced)\n",
    "EFE_2"
   ]
  },
  {
   "cell_type": "code",
   "execution_count": 20,
   "id": "2c7b8f80",
   "metadata": {},
   "outputs": [
    {
     "data": {
      "text/plain": [
       "[0.119366207318922*(k + Derivative(a(t), t)**2)/a(t)**2]"
      ]
     },
     "execution_count": 20,
     "metadata": {},
     "output_type": "execute_result"
    }
   ],
   "source": [
    "solution_1=sp.solve(EFE_1,rho(t))\n",
    "solution_1"
   ]
  },
  {
   "cell_type": "code",
   "execution_count": 21,
   "id": "f59b6ed3",
   "metadata": {},
   "outputs": [
    {
     "data": {
      "text/plain": [
       "[0.0397887357729738*(-k - 2.0*a(t)*Derivative(a(t), (t, 2)) - Derivative(a(t), t)**2)/a(t)**2]"
      ]
     },
     "execution_count": 21,
     "metadata": {},
     "output_type": "execute_result"
    }
   ],
   "source": [
    "solution_2=sp.solve(EFE_2,p(t))\n",
    "solution_2"
   ]
  },
  {
   "cell_type": "code",
   "execution_count": 22,
   "id": "8c2f1daf",
   "metadata": {},
   "outputs": [],
   "source": [
    "mu=sp.symbols(\"mu\")"
   ]
  },
  {
   "cell_type": "code",
   "execution_count": 23,
   "id": "f4682dea",
   "metadata": {},
   "outputs": [
    {
     "data": {
      "text/latex": [
       "$\\displaystyle p{\\left(t \\right)} = \\mu \\rho{\\left(t \\right)}$"
      ],
      "text/plain": [
       "Eq(p(t), mu*rho(t))"
      ]
     },
     "execution_count": 23,
     "metadata": {},
     "output_type": "execute_result"
    }
   ],
   "source": [
    "eq_3=sp.Eq(p(t),mu*rho(t))\n",
    "eq_3"
   ]
  },
  {
   "cell_type": "code",
   "execution_count": 24,
   "id": "f3e730ff",
   "metadata": {},
   "outputs": [
    {
     "data": {
      "text/latex": [
       "$\\displaystyle p{\\left(t \\right)} = 0$"
      ],
      "text/plain": [
       "Eq(p(t), 0)"
      ]
     },
     "execution_count": 24,
     "metadata": {},
     "output_type": "execute_result"
    }
   ],
   "source": [
    "eq_3_replaced=eq_3.subs(mu,0)\n",
    "eq_3_replaced"
   ]
  },
  {
   "cell_type": "code",
   "execution_count": 25,
   "id": "4948a062",
   "metadata": {},
   "outputs": [
    {
     "data": {
      "text/latex": [
       "$\\displaystyle \\frac{3 \\left(p{\\left(t \\right)} + \\rho{\\left(t \\right)}\\right) \\frac{d}{d t} a{\\left(t \\right)}}{a{\\left(t \\right)}} + \\frac{d}{d t} \\rho{\\left(t \\right)} = 0$"
      ],
      "text/plain": [
       "Eq(3*(p(t) + rho(t))*Derivative(a(t), t)/a(t) + Derivative(rho(t), t), 0)"
      ]
     },
     "execution_count": 25,
     "metadata": {},
     "output_type": "execute_result"
    }
   ],
   "source": [
    "Cons_eq=sp.Eq(sp.diff(rho(t),t)+(3/a(t))*(rho(t)+p(t))*sp.diff(a(t),t),0)\n",
    "Cons_eq"
   ]
  },
  {
   "cell_type": "code",
   "execution_count": 26,
   "id": "171a883b",
   "metadata": {},
   "outputs": [
    {
     "data": {
      "text/latex": [
       "$\\displaystyle \\frac{d}{d t} \\rho{\\left(t \\right)} + \\frac{3 \\rho{\\left(t \\right)} \\frac{d}{d t} a{\\left(t \\right)}}{a{\\left(t \\right)}} = 0$"
      ],
      "text/plain": [
       "Eq(Derivative(rho(t), t) + 3*rho(t)*Derivative(a(t), t)/a(t), 0)"
      ]
     },
     "execution_count": 26,
     "metadata": {},
     "output_type": "execute_result"
    }
   ],
   "source": [
    "Cons_eq_replaced=Cons_eq.subs(p(t),0)\n",
    "Cons_eq_replaced"
   ]
  },
  {
   "cell_type": "code",
   "execution_count": 27,
   "id": "0abc26ec",
   "metadata": {},
   "outputs": [
    {
     "data": {
      "text/latex": [
       "$\\displaystyle \\frac{1.125 \\left(k + \\left(\\frac{d}{d t} a{\\left(t \\right)}\\right)^{2}\\right) \\frac{d}{d t} a{\\left(t \\right)}}{\\pi a^{3}{\\left(t \\right)}} + \\frac{\\partial}{\\partial t} \\frac{0.375 \\left(k + \\left(\\frac{d}{d t} a{\\left(t \\right)}\\right)^{2}\\right)}{\\pi a^{2}{\\left(t \\right)}} = 0$"
      ],
      "text/plain": [
       "Eq(1.125*(k + Derivative(a(t), t)**2)*Derivative(a(t), t)/(pi*a(t)**3) + Derivative(0.375*(k + Derivative(a(t), t)**2)/(pi*a(t)**2), t), 0)"
      ]
     },
     "execution_count": 27,
     "metadata": {},
     "output_type": "execute_result"
    }
   ],
   "source": [
    "Cons_eq_replaced_2=Cons_eq_replaced.subs(rho(t),1/(8*sp.pi) * einst.tensor()[0, 0])\n",
    "Cons_eq_replaced_2"
   ]
  },
  {
   "cell_type": "code",
   "execution_count": 28,
   "id": "d6170678",
   "metadata": {},
   "outputs": [],
   "source": [
    "Cons_eq_simplify=sp.simplify(Cons_eq_replaced_2)"
   ]
  },
  {
   "cell_type": "code",
   "execution_count": 29,
   "id": "eb01e7c3",
   "metadata": {},
   "outputs": [
    {
     "data": {
      "text/latex": [
       "$\\displaystyle \\frac{1.125 \\left(k + \\left(\\frac{d}{d t} a{\\left(t \\right)}\\right)^{2}\\right) \\frac{d}{d t} a{\\left(t \\right)} + \\pi \\left(- \\frac{0.75 \\left(k + \\left(\\frac{d}{d t} a{\\left(t \\right)}\\right)^{2}\\right) \\frac{d}{d t} a{\\left(t \\right)}}{\\pi a^{3}{\\left(t \\right)}} + \\frac{0.75 \\frac{d}{d t} a{\\left(t \\right)} \\frac{d^{2}}{d t^{2}} a{\\left(t \\right)}}{\\pi a^{2}{\\left(t \\right)}}\\right) a^{3}{\\left(t \\right)}}{\\pi a^{3}{\\left(t \\right)}} = 0$"
      ],
      "text/plain": [
       "Eq((1.125*(k + Derivative(a(t), t)**2)*Derivative(a(t), t) + pi*(-0.75*(k + Derivative(a(t), t)**2)*Derivative(a(t), t)/(pi*a(t)**3) + 0.75*Derivative(a(t), t)*Derivative(a(t), (t, 2))/(pi*a(t)**2))*a(t)**3)/(pi*a(t)**3), 0)"
      ]
     },
     "execution_count": 29,
     "metadata": {},
     "output_type": "execute_result"
    }
   ],
   "source": [
    "Cons_eq_simplify"
   ]
  },
  {
   "cell_type": "code",
   "execution_count": 30,
   "id": "6f717b75",
   "metadata": {},
   "outputs": [
    {
     "data": {
      "text/latex": [
       "$\\displaystyle \\frac{\\pi \\left(- \\frac{0.75 \\left(\\left(\\frac{d}{d t} a{\\left(t \\right)}\\right)^{2} - 1\\right) \\frac{d}{d t} a{\\left(t \\right)}}{\\pi a^{3}{\\left(t \\right)}} + \\frac{0.75 \\frac{d}{d t} a{\\left(t \\right)} \\frac{d^{2}}{d t^{2}} a{\\left(t \\right)}}{\\pi a^{2}{\\left(t \\right)}}\\right) a^{3}{\\left(t \\right)} + 1.125 \\left(\\left(\\frac{d}{d t} a{\\left(t \\right)}\\right)^{2} - 1\\right) \\frac{d}{d t} a{\\left(t \\right)}}{\\pi a^{3}{\\left(t \\right)}} = 0$"
      ],
      "text/plain": [
       "Eq((pi*(-0.75*(Derivative(a(t), t)**2 - 1)*Derivative(a(t), t)/(pi*a(t)**3) + 0.75*Derivative(a(t), t)*Derivative(a(t), (t, 2))/(pi*a(t)**2))*a(t)**3 + 1.125*(Derivative(a(t), t)**2 - 1)*Derivative(a(t), t))/(pi*a(t)**3), 0)"
      ]
     },
     "execution_count": 30,
     "metadata": {},
     "output_type": "execute_result"
    }
   ],
   "source": [
    "Cons_eq_1=Cons_eq_simplify.subs(k,-1)\n",
    "Cons_eq_1"
   ]
  },
  {
   "cell_type": "code",
   "execution_count": 31,
   "id": "54f18f9b",
   "metadata": {},
   "outputs": [
    {
     "data": {
      "text/latex": [
       "$\\displaystyle \\frac{\\left(0.75 a{\\left(t \\right)} \\frac{d^{2}}{d t^{2}} a{\\left(t \\right)} + 0.375 \\left(\\frac{d}{d t} a{\\left(t \\right)}\\right)^{2} - 0.375\\right) \\frac{d}{d t} a{\\left(t \\right)}}{\\pi a^{3}{\\left(t \\right)}} = 0$"
      ],
      "text/plain": [
       "Eq((0.75*a(t)*Derivative(a(t), (t, 2)) + 0.375*Derivative(a(t), t)**2 - 0.375)*Derivative(a(t), t)/(pi*a(t)**3), 0)"
      ]
     },
     "execution_count": 31,
     "metadata": {},
     "output_type": "execute_result"
    }
   ],
   "source": [
    "Cons_eq_1_simplify=sp.simplify(Cons_eq_1)\n",
    "Cons_eq_1_simplify"
   ]
  },
  {
   "cell_type": "code",
   "execution_count": 32,
   "id": "a69f9701",
   "metadata": {},
   "outputs": [
    {
     "data": {
      "text/latex": [
       "$\\displaystyle \\frac{\\pi \\left(\\frac{0.75 \\frac{d}{d t} a{\\left(t \\right)} \\frac{d^{2}}{d t^{2}} a{\\left(t \\right)}}{\\pi a^{2}{\\left(t \\right)}} - \\frac{0.75 \\left(\\frac{d}{d t} a{\\left(t \\right)}\\right)^{3}}{\\pi a^{3}{\\left(t \\right)}}\\right) a^{3}{\\left(t \\right)} + 1.125 \\left(\\frac{d}{d t} a{\\left(t \\right)}\\right)^{3}}{\\pi a^{3}{\\left(t \\right)}} = 0$"
      ],
      "text/plain": [
       "Eq((pi*(0.75*Derivative(a(t), t)*Derivative(a(t), (t, 2))/(pi*a(t)**2) - 0.75*Derivative(a(t), t)**3/(pi*a(t)**3))*a(t)**3 + 1.125*Derivative(a(t), t)**3)/(pi*a(t)**3), 0)"
      ]
     },
     "execution_count": 32,
     "metadata": {},
     "output_type": "execute_result"
    }
   ],
   "source": [
    "Cons_eq_2=Cons_eq_simplify.subs(k,0)\n",
    "Cons_eq_2"
   ]
  },
  {
   "cell_type": "code",
   "execution_count": 33,
   "id": "062eeb18",
   "metadata": {},
   "outputs": [
    {
     "data": {
      "text/latex": [
       "$\\displaystyle \\frac{\\left(0.75 a{\\left(t \\right)} \\frac{d^{2}}{d t^{2}} a{\\left(t \\right)} + 0.375 \\left(\\frac{d}{d t} a{\\left(t \\right)}\\right)^{2}\\right) \\frac{d}{d t} a{\\left(t \\right)}}{\\pi a^{3}{\\left(t \\right)}} = 0$"
      ],
      "text/plain": [
       "Eq((0.75*a(t)*Derivative(a(t), (t, 2)) + 0.375*Derivative(a(t), t)**2)*Derivative(a(t), t)/(pi*a(t)**3), 0)"
      ]
     },
     "execution_count": 33,
     "metadata": {},
     "output_type": "execute_result"
    }
   ],
   "source": [
    "Cons_eq_2_simplify=sp.simplify(Cons_eq_2)\n",
    "Cons_eq_2_simplify"
   ]
  },
  {
   "cell_type": "code",
   "execution_count": 34,
   "id": "69818343",
   "metadata": {},
   "outputs": [
    {
     "data": {
      "text/latex": [
       "$\\displaystyle \\frac{\\pi \\left(- \\frac{0.75 \\left(\\left(\\frac{d}{d t} a{\\left(t \\right)}\\right)^{2} + 1\\right) \\frac{d}{d t} a{\\left(t \\right)}}{\\pi a^{3}{\\left(t \\right)}} + \\frac{0.75 \\frac{d}{d t} a{\\left(t \\right)} \\frac{d^{2}}{d t^{2}} a{\\left(t \\right)}}{\\pi a^{2}{\\left(t \\right)}}\\right) a^{3}{\\left(t \\right)} + 1.125 \\left(\\left(\\frac{d}{d t} a{\\left(t \\right)}\\right)^{2} + 1\\right) \\frac{d}{d t} a{\\left(t \\right)}}{\\pi a^{3}{\\left(t \\right)}} = 0$"
      ],
      "text/plain": [
       "Eq((pi*(-0.75*(Derivative(a(t), t)**2 + 1)*Derivative(a(t), t)/(pi*a(t)**3) + 0.75*Derivative(a(t), t)*Derivative(a(t), (t, 2))/(pi*a(t)**2))*a(t)**3 + 1.125*(Derivative(a(t), t)**2 + 1)*Derivative(a(t), t))/(pi*a(t)**3), 0)"
      ]
     },
     "execution_count": 34,
     "metadata": {},
     "output_type": "execute_result"
    }
   ],
   "source": [
    "Cons_eq_3=Cons_eq_simplify.subs(k,1)\n",
    "Cons_eq_3"
   ]
  },
  {
   "cell_type": "code",
   "execution_count": 35,
   "id": "68f76c9f",
   "metadata": {},
   "outputs": [
    {
     "data": {
      "text/latex": [
       "$\\displaystyle \\frac{\\left(0.75 a{\\left(t \\right)} \\frac{d^{2}}{d t^{2}} a{\\left(t \\right)} + 0.375 \\left(\\frac{d}{d t} a{\\left(t \\right)}\\right)^{2} + 0.375\\right) \\frac{d}{d t} a{\\left(t \\right)}}{\\pi a^{3}{\\left(t \\right)}} = 0$"
      ],
      "text/plain": [
       "Eq((0.75*a(t)*Derivative(a(t), (t, 2)) + 0.375*Derivative(a(t), t)**2 + 0.375)*Derivative(a(t), t)/(pi*a(t)**3), 0)"
      ]
     },
     "execution_count": 35,
     "metadata": {},
     "output_type": "execute_result"
    }
   ],
   "source": [
    "Cons_eq_3_simplify=sp.simplify(Cons_eq_3)\n",
    "Cons_eq_3_simplify"
   ]
  },
  {
   "cell_type": "code",
   "execution_count": 46,
   "id": "b48945df",
   "metadata": {},
   "outputs": [
    {
     "data": {
      "image/png": "[encoded data removed]",
      "text/plain": [
       "<Figure size 640x480 with 1 Axes>"
      ]
     },
     "metadata": {},
     "output_type": "display_data"
    }
   ],
   "source": [
    "from scipy.integrate import solve_ivp\n",
    "import numpy as np\n",
    "import matplotlib.pyplot as plt\n",
    "\n",
    "# Define the ODE system\n",
    "def ode_system(t, y):\n",
    "    y1, y2 = y\n",
    "    dy1_dt = y2\n",
    "    dy2_dt = -0.5 * (y2**2) / y1\n",
    "    return [dy1_dt, dy2_dt]\n",
    "\n",
    "# Initial conditions\n",
    "y1_0 = 1.0  # Initial value for a(t)\n",
    "y2_0 = 0.1  # Initial value for a'(t)\n",
    "y0 = [y1_0, y2_0]\n",
    "\n",
    "# Time span for the solution\n",
    "t_span = (0, 10)\n",
    "t_eval = np.linspace(*t_span, 400)\n",
    "\n",
    "# Solve the system of ODEs\n",
    "sol = solve_ivp(ode_system, t_span, y0, t_eval=t_eval)\n",
    "\n",
    "# Extract the solution\n",
    "a_vals = sol.y[0]  # y1 = a(t) values\n",
    "\n",
    "# Plot the solution for a(t)\n",
    "plt.plot(sol.t, a_vals)\n",
    "plt.xlabel('t')\n",
    "plt.ylabel('a(t)')\n",
    "plt.title('Numerical Solution of the Differential Equation')\n",
    "plt.grid(True)\n",
    "plt.show()\n"
   ]
  },
  {
   "cell_type": "code",
   "execution_count": 47,
   "id": "3fd144ad",
   "metadata": {},
   "outputs": [
    {
     "data": {
      "image/png": "[encoded data removed]",
      "text/plain": [
       "<Figure size 640x480 with 1 Axes>"
      ]
     },
     "metadata": {},
     "output_type": "display_data"
    }
   ],
   "source": [
    "from scipy.integrate import solve_ivp\n",
    "import numpy as np\n",
    "import matplotlib.pyplot as plt\n",
    "\n",
    "# Define the ODE system\n",
    "def ode_system(t, y):\n",
    "    y1, y2 = y\n",
    "    dy1_dt = y2\n",
    "    dy2_dt = -0.5 * (y2**2) / y1 + 1/(2*y1)\n",
    "    return [dy1_dt, dy2_dt]\n",
    "\n",
    "# Initial conditions\n",
    "y1_0 = 1.0  # Initial value for a(t)\n",
    "y2_0 = 0.1  # Initial value for a'(t)\n",
    "y0 = [y1_0, y2_0]\n",
    "\n",
    "# Time span for the solution\n",
    "t_span = (0, 10)\n",
    "t_eval = np.linspace(*t_span, 400)\n",
    "\n",
    "# Solve the system of ODEs\n",
    "sol = solve_ivp(ode_system, t_span, y0, t_eval=t_eval)\n",
    "\n",
    "# Extract the solution\n",
    "a_vals = sol.y[0]  # y1 = a(t) values\n",
    "\n",
    "# Plot the solution for a(t)\n",
    "plt.plot(sol.t, a_vals)\n",
    "plt.xlabel('t')\n",
    "plt.ylabel('a(t)')\n",
    "plt.title('Numerical Solution of the Differential Equation')\n",
    "plt.grid(True)\n",
    "plt.show()\n"
   ]
  },
  {
   "cell_type": "code",
   "execution_count": 48,
   "id": "7e630862",
   "metadata": {},
   "outputs": [
    {
     "data": {
      "image/png": "[encoded data removed]",
      "text/plain": [
       "<Figure size 640x480 with 1 Axes>"
      ]
     },
     "metadata": {},
     "output_type": "display_data"
    }
   ],
   "source": [
    "from scipy.integrate import solve_ivp\n",
    "import numpy as np\n",
    "import matplotlib.pyplot as plt\n",
    "\n",
    "# Define the ODE system\n",
    "def ode_system(t, y):\n",
    "    y1, y2 = y\n",
    "    dy1_dt = y2\n",
    "    dy2_dt = -0.5 * (y2**2) / y1 - 1/(2*y1)\n",
    "    return [dy1_dt, dy2_dt]\n",
    "\n",
    "# Initial conditions\n",
    "y1_0 = 1.0  # Initial value for a(t)\n",
    "y2_0 = 0.1  # Initial value for a'(t)\n",
    "y0 = [y1_0, y2_0]\n",
    "\n",
    "# Time span for the solution\n",
    "t_span = (0, 10)\n",
    "t_eval = np.linspace(*t_span, 400)\n",
    "\n",
    "# Solve the system of ODEs\n",
    "sol = solve_ivp(ode_system, t_span, y0, t_eval=t_eval)\n",
    "\n",
    "# Extract the solution\n",
    "a_vals = sol.y[0]  # y1 = a(t) values\n",
    "\n",
    "# Plot the solution for a(t)\n",
    "plt.plot(sol.t, a_vals)\n",
    "plt.xlabel('t')\n",
    "plt.ylabel('a(t)')\n",
    "plt.title('Numerical Solution of the Differential Equation')\n",
    "plt.grid(True)\n",
    "plt.show()\n"
   ]
  },
  {
   "cell_type": "code",
   "execution_count": null,
   "id": "b38473ea",
   "metadata": {},
   "outputs": [],
   "source": []
  }
 ],
 "metadata": {
  "kernelspec": {
   "display_name": "Python 3 (ipykernel)",
   "language": "python",
   "name": "python3"
  },
  "language_info": {
   "codemirror_mode": {
    "name": "ipython",
    "version": 3
   },
   "file_extension": ".py",
   "mimetype": "text/x-python",
   "name": "python",
   "nbconvert_exporter": "python",
   "pygments_lexer": "ipython3",
   "version": "3.10.7"
  }
 },
 "nbformat": 4,
 "nbformat_minor": 5
}
