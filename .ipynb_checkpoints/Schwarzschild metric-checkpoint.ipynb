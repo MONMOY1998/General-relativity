{
 "cells": [
  {
   "cell_type": "code",
   "execution_count": 1,
   "id": "b354e090",
   "metadata": {},
   "outputs": [
    {
     "name": "stdout",
     "output_type": "stream",
     "text": [
      "['AlcubierreWarp', 'AntiDeSitter', 'AntiDeSitterStatic', 'BarriolaVilekin', 'BaseRelativityTensor', 'BertottiKasner', 'BesselGravitationalWave', 'CMetric', 'ChristoffelSymbols', 'Davidson', 'DeSitter', 'EinsteinTensor', 'Ernst', 'GenericVector', 'Godel', 'JanisNewmanWinicour', 'Kerr', 'KerrNewman', 'MetricTensor', 'Minkowski', 'MinkowskiCartesian', 'MinkowskiPolar', 'ReissnerNordstorm', 'RicciScalar', 'RicciTensor', 'RiemannCurvatureTensor', 'SchoutenTensor', 'Schwarzschild', 'StressEnergyMomentumTensor', 'SymbolicConstant', 'Tensor', 'TransformationMatrix', 'WeylTensor', '__all__', '__builtins__', '__cached__', '__doc__', '__file__', '__loader__', '__name__', '__package__', '__path__', '__spec__', 'christoffel', 'constants', 'einstein', 'find', 'get_constant', 'helpers', 'metric', 'predefined', 'ricci', 'riemann', 'schouten', 'simplify_sympy_array', 'stress_energy_momentum', 'tensor', 'vector', 'weyl']\n"
     ]
    }
   ],
   "source": [
    "import einsteinpy.symbolic as esp\n",
    "\n",
    "print(dir(esp))\n"
   ]
  },
  {
   "cell_type": "markdown",
   "id": "ef0170e6",
   "metadata": {},
   "source": [
    "* `sympy`: **A Python library for symbolic mathematics.** <br><br> \n",
    "\n",
    "* `einsteinpy.symbolic`: **A module in the einsteinpy library for symbolic calculations in general relativity.**<br><br> \n",
    "\n",
    "* `MetricTensor`: **Class for creating metric tensors.**<br><br> \n",
    "\n",
    "* `ChristoffelSymbols`: **Class for calculating Christoffel symbols from a metric tensor.**<br><br> \n",
    "\n",
    "* `RicciTensor`: **Class for computing the Ricci tensor.**<br><br> \n",
    "\n",
    "* `RicciScalar`: **Class for computing the Ricci scalar.**<br><br> \n",
    " \n",
    "* `EinsteinTensor`: **Class for computing the Einstein tensor.**<br><br> "
   ]
  },
  {
   "cell_type": "code",
   "execution_count": 2,
   "id": "bd6dc3d3",
   "metadata": {},
   "outputs": [],
   "source": [
    "import sympy as sp\n",
    "from einsteinpy.symbolic import MetricTensor, ChristoffelSymbols, RicciTensor, RicciScalar, EinsteinTensor,StressEnergyMomentumTensor"
   ]
  },
  {
   "cell_type": "markdown",
   "id": "0e73415a",
   "metadata": {},
   "source": [
    "# # Defining the symbols for the coordinates"
   ]
  },
  {
   "cell_type": "code",
   "execution_count": 3,
   "id": "263f1ae0",
   "metadata": {},
   "outputs": [],
   "source": [
    "syms = sp.symbols(\"t r theta phi\")\n",
    "t, r, theta, phi = syms\n"
   ]
  },
  {
   "cell_type": "markdown",
   "id": "549e069d",
   "metadata": {},
   "source": [
    "\n",
    "\n",
    "* `sp.symbols(\"t r theta phi\")`: **Defines the symbols t, r, θ, and ϕ as variables for the Schwarzschild metric's coordinates.This is a function from the `sympy` library that creates multiple symbolic variables at once**<br><br>\n",
    "* `\"t r theta phi\"`: **This is a string of variable names separated by spaces. SymPy will create a symbol for each of these names.**<br><br>\n",
    "* ` syms`: **This variable holds the tuple of symbols `(t, r, theta, phi)`.**<br><br>\n",
    "*  **After this line, syms will be a tuple containing the four symbols: `t, r, theta, and phi`**<br><br>\n",
    "* `t, r, theta, phi = syms`:**This line unpacks the tuple `syms` into four individual variables.**<br><br>\n",
    "\n",
    "## Summary\n",
    "\n",
    "* `First Line`: **Creates four symbolic variables `t, r, theta, and phi` and stores them in a tuple called `syms`**.<br><br>\n",
    "\n",
    "* `Second Line`: **Unpacks this tuple into individual variables, so you can work with `t, r, theta, and phi` as separate symbolic variables.**"
   ]
  },
  {
   "cell_type": "markdown",
   "id": "9cdb0edc",
   "metadata": {},
   "source": [
    "# Defining functions for metric components"
   ]
  },
  {
   "cell_type": "code",
   "execution_count": 4,
   "id": "9e695d10",
   "metadata": {},
   "outputs": [],
   "source": [
    "A = sp.Function(\"A\")\n",
    "B=sp.Function(\"B\")\n",
    "rho=sp.Function(\"rho\")\n",
    "p=sp.Function(\"p\")"
   ]
  },
  {
   "cell_type": "markdown",
   "id": "fea13e94",
   "metadata": {},
   "source": [
    "**`sp.Function` is a class in SymPy used to define a symbolic function.**<br><br>\n",
    "\n",
    "When you write `A = sp.Function(\"A\")`, you are telling `SymPy` to create a symbolic function called `A`. This function can later be used to represent expressions like `A(x)`, `A(y, z)`, etc., where `x`, `y`, `z` are variables.\n",
    "\n",
    "* `A = sp.Function(\"A\")`: **Defines A(r) as a general function of r.**<br><br> \n",
    "\n",
    "\n",
    "* `B = sp.Function(\"B\")`: **Defines B(r) as another general function of r.**<br><br> "
   ]
  },
  {
   "cell_type": "markdown",
   "id": "a7c4597a",
   "metadata": {},
   "source": [
    "# Creating the metric tensor"
   ]
  },
  {
   "cell_type": "code",
   "execution_count": 5,
   "id": "96c03b44",
   "metadata": {},
   "outputs": [],
   "source": [
    "m = sp.diag(-A(r), B(r), r**2, r**2 *sp.sin(theta)**2).tolist()"
   ]
  },
  {
   "cell_type": "markdown",
   "id": "dcaa6f2a",
   "metadata": {},
   "source": [
    "- `sp.diag(-A(r), B(r), r**2, r**2 * sp.sin(theta)**2)`: **Creates a diagonal metric tensor with the given components.**<br><br>\n",
    "\n",
    "* `sp.diag(...)`:**This function from `SymPy` creates a diagonal matrix (tensor) with the elements provided as arguments**.\n",
    "\n",
    "- `-A(r)`: **Corresponds to the `$g_{tt}$` component.**<br><br> \n",
    "\n",
    "- B(r): **Corresponds to the `$g_{rr}$` component.**<br><br> \n",
    "\n",
    "- $r^2$: **Corresponds to the \\(g_{\\theta\\theta}\\) component.**<br><br> \n",
    "\n",
    "- $r^2. \\sin{\\theta}^2$: **Corresponds to the \\(g_{\\phi\\phi}\\) component.**<br><br> \n",
    "\n",
    "- `m.tolist()`: **Converts the metric tensor to a list format.**<br><br> \n",
    "\n",
    "- `MetricTensor(m, syms)`: **Initializes the `MetricTensor` object with the metric tensor \\(m\\) and the coordinate symbols `syms`.**<br><br> \n"
   ]
  },
  {
   "cell_type": "code",
   "execution_count": 29,
   "id": "e81e3185",
   "metadata": {},
   "outputs": [],
   "source": [
    "metric = MetricTensor(m, syms)"
   ]
  },
  {
   "cell_type": "markdown",
   "id": "e52a9d84",
   "metadata": {},
   "source": [
    "## Initialization of Metric Tensor:\n",
    "\n",
    "* **The line `metric = MetricTensor(m, syms)` initializes a `MetricTensor` object, where**:<br><br>\n",
    "\n",
    "    * **`m` provides the components of the metric tensor**.<br><br>\n",
    "    * **`syms` defines the coordinates over which the tensor is defined**.<br><br>\n",
    "           \n",
    "## Internal representation:\n",
    "\n",
    "* **Internally, `MetricTensor` stores the metric tensor in a symbolic form, allowing for various tensor operations such as computing Christoffel symbols, Riemann tensors, Ricci tensors, etc.**<br><br>\n",
    "\n",
    "* **It links the metric components to the corresponding coordinates, enabling calculations like covariant derivatives or raising and lowering indices.**<br><br>\n",
    "\n",
    "### Symbolic calculations:\n",
    "\n",
    "* **Once the` MetricTensor` is defined, you can use it to perform symbolic calculations related to general relativity. This includes deriving the Einstein tensor, computing curvature tensors, and solving Einstein’s field equations.**\n",
    "\n"
   ]
  },
  {
   "cell_type": "markdown",
   "id": "fc406534",
   "metadata": {},
   "source": [
    "# Displaying the metric tensor"
   ]
  },
  {
   "cell_type": "code",
   "execution_count": 7,
   "id": "d4acac1a",
   "metadata": {},
   "outputs": [
    {
     "data": {
      "text/latex": [
       "$\\displaystyle \\left[\\begin{matrix}- A{\\left(r \\right)} & 0 & 0 & 0\\\\0 & B{\\left(r \\right)} & 0 & 0\\\\0 & 0 & r^{2} & 0\\\\0 & 0 & 0 & r^{2} \\sin^{2}{\\left(\\theta \\right)}\\end{matrix}\\right]$"
      ],
      "text/plain": [
       "[[-A(r), 0, 0, 0], [0, B(r), 0, 0], [0, 0, r**2, 0], [0, 0, 0, r**2*sin(theta)**2]]"
      ]
     },
     "execution_count": 7,
     "metadata": {},
     "output_type": "execute_result"
    }
   ],
   "source": [
    "metric.tensor() #  A method to access and display the metric tensor in matrix form."
   ]
  },
  {
   "cell_type": "markdown",
   "id": "84cfa51a",
   "metadata": {},
   "source": [
    "# Calculating the Christoffel symbols"
   ]
  },
  {
   "cell_type": "code",
   "execution_count": 8,
   "id": "87a50586",
   "metadata": {},
   "outputs": [
    {
     "data": {
      "text/latex": [
       "$\\displaystyle \\left[\\begin{matrix}\\left[\\begin{matrix}0 & \\frac{\\frac{d}{d r} A{\\left(r \\right)}}{2 A{\\left(r \\right)}} & 0 & 0\\\\\\frac{\\frac{d}{d r} A{\\left(r \\right)}}{2 A{\\left(r \\right)}} & 0 & 0 & 0\\\\0 & 0 & 0 & 0\\\\0 & 0 & 0 & 0\\end{matrix}\\right] & \\left[\\begin{matrix}\\frac{\\frac{d}{d r} A{\\left(r \\right)}}{2 B{\\left(r \\right)}} & 0 & 0 & 0\\\\0 & \\frac{\\frac{d}{d r} B{\\left(r \\right)}}{2 B{\\left(r \\right)}} & 0 & 0\\\\0 & 0 & - \\frac{r}{B{\\left(r \\right)}} & 0\\\\0 & 0 & 0 & - \\frac{r \\sin^{2}{\\left(\\theta \\right)}}{B{\\left(r \\right)}}\\end{matrix}\\right] & \\left[\\begin{matrix}0 & 0 & 0 & 0\\\\0 & 0 & \\frac{1}{r} & 0\\\\0 & \\frac{1}{r} & 0 & 0\\\\0 & 0 & 0 & - \\frac{\\sin{\\left(2 \\theta \\right)}}{2}\\end{matrix}\\right] & \\left[\\begin{matrix}0 & 0 & 0 & 0\\\\0 & 0 & 0 & \\frac{1}{r}\\\\0 & 0 & 0 & \\frac{1}{\\tan{\\left(\\theta \\right)}}\\\\0 & \\frac{1}{r} & \\frac{1}{\\tan{\\left(\\theta \\right)}} & 0\\end{matrix}\\right]\\end{matrix}\\right]$"
      ],
      "text/plain": [
       "[[[0, Derivative(A(r), r)/(2*A(r)), 0, 0], [Derivative(A(r), r)/(2*A(r)), 0, 0, 0], [0, 0, 0, 0], [0, 0, 0, 0]], [[Derivative(A(r), r)/(2*B(r)), 0, 0, 0], [0, Derivative(B(r), r)/(2*B(r)), 0, 0], [0, 0, -r/B(r), 0], [0, 0, 0, -r*sin(theta)**2/B(r)]], [[0, 0, 0, 0], [0, 0, 1/r, 0], [0, 1/r, 0, 0], [0, 0, 0, -sin(2*theta)/2]], [[0, 0, 0, 0], [0, 0, 0, 1/r], [0, 0, 0, 1/tan(theta)], [0, 1/r, 1/tan(theta), 0]]]"
      ]
     },
     "execution_count": 8,
     "metadata": {},
     "output_type": "execute_result"
    }
   ],
   "source": [
    "ch=ChristoffelSymbols.from_metric(metric)\n",
    "ch.simplify()"
   ]
  },
  {
   "cell_type": "markdown",
   "id": "d37c4d97",
   "metadata": {},
   "source": [
    "* `ChristoffelSymbols.from_metric(metric)`: **Calculates the Christoffel symbols from the given metric tensor.**<br><br> \n",
    "\n",
    "* `ch.simplify()`: **Simplifies the Christoffel symbols for easier interpretation.**<br><br> "
   ]
  },
  {
   "cell_type": "markdown",
   "id": "3004aaad",
   "metadata": {},
   "source": [
    "# Calculating the Ricci tensor"
   ]
  },
  {
   "cell_type": "code",
   "execution_count": 9,
   "id": "af2b1c66",
   "metadata": {},
   "outputs": [
    {
     "data": {
      "text/latex": [
       "$\\displaystyle \\left[\\begin{matrix}\\frac{\\frac{d^{2}}{d r^{2}} A{\\left(r \\right)}}{2 B{\\left(r \\right)}} - \\frac{\\frac{d}{d r} A{\\left(r \\right)} \\frac{d}{d r} B{\\left(r \\right)}}{4 B^{2}{\\left(r \\right)}} - \\frac{\\left(\\frac{d}{d r} A{\\left(r \\right)}\\right)^{2}}{4 A{\\left(r \\right)} B{\\left(r \\right)}} + \\frac{\\frac{d}{d r} A{\\left(r \\right)}}{r B{\\left(r \\right)}} & 0 & 0 & 0\\\\0 & - \\frac{\\frac{d^{2}}{d r^{2}} A{\\left(r \\right)}}{2 A{\\left(r \\right)}} + \\frac{\\frac{d}{d r} A{\\left(r \\right)} \\frac{d}{d r} B{\\left(r \\right)}}{4 A{\\left(r \\right)} B{\\left(r \\right)}} + \\frac{\\left(\\frac{d}{d r} A{\\left(r \\right)}\\right)^{2}}{4 A^{2}{\\left(r \\right)}} + \\frac{\\frac{d}{d r} B{\\left(r \\right)}}{r B{\\left(r \\right)}} & 0 & 0\\\\0 & 0 & \\frac{r \\frac{d}{d r} B{\\left(r \\right)}}{2 B^{2}{\\left(r \\right)}} - \\frac{r \\frac{d}{d r} A{\\left(r \\right)}}{2 A{\\left(r \\right)} B{\\left(r \\right)}} + 1 - \\frac{1}{B{\\left(r \\right)}} & 0\\\\0 & 0 & 0 & \\frac{\\left(r A{\\left(r \\right)} \\frac{d}{d r} B{\\left(r \\right)} - r B{\\left(r \\right)} \\frac{d}{d r} A{\\left(r \\right)} + 2 \\left(B{\\left(r \\right)} - 1\\right) A{\\left(r \\right)} B{\\left(r \\right)}\\right) \\sin^{2}{\\left(\\theta \\right)}}{2 A{\\left(r \\right)} B^{2}{\\left(r \\right)}}\\end{matrix}\\right]$"
      ],
      "text/plain": [
       "[[Derivative(A(r), (r, 2))/(2*B(r)) - Derivative(A(r), r)*Derivative(B(r), r)/(4*B(r)**2) - Derivative(A(r), r)**2/(4*A(r)*B(r)) + Derivative(A(r), r)/(r*B(r)), 0, 0, 0], [0, -Derivative(A(r), (r, 2))/(2*A(r)) + Derivative(A(r), r)*Derivative(B(r), r)/(4*A(r)*B(r)) + Derivative(A(r), r)**2/(4*A(r)**2) + Derivative(B(r), r)/(r*B(r)), 0, 0], [0, 0, r*Derivative(B(r), r)/(2*B(r)**2) - r*Derivative(A(r), r)/(2*A(r)*B(r)) + 1 - 1/B(r), 0], [0, 0, 0, (r*A(r)*Derivative(B(r), r) - r*B(r)*Derivative(A(r), r) + 2*(B(r) - 1)*A(r)*B(r))*sin(theta)**2/(2*A(r)*B(r)**2)]]"
      ]
     },
     "execution_count": 9,
     "metadata": {},
     "output_type": "execute_result"
    }
   ],
   "source": [
    "ricci=RicciTensor.from_metric(metric)\n",
    "ricci.simplify()"
   ]
  },
  {
   "cell_type": "markdown",
   "id": "4deeb5b2",
   "metadata": {},
   "source": [
    "# Calculating ricci scalar"
   ]
  },
  {
   "cell_type": "code",
   "execution_count": 10,
   "id": "83751160",
   "metadata": {},
   "outputs": [
    {
     "data": {
      "text/latex": [
       "$\\displaystyle - \\frac{\\frac{d^{2}}{d r^{2}} A{\\left(r \\right)}}{A{\\left(r \\right)} B{\\left(r \\right)}} + \\frac{\\frac{d}{d r} A{\\left(r \\right)} \\frac{d}{d r} B{\\left(r \\right)}}{2 A{\\left(r \\right)} B^{2}{\\left(r \\right)}} + \\frac{\\left(\\frac{d}{d r} A{\\left(r \\right)}\\right)^{2}}{2 A^{2}{\\left(r \\right)} B{\\left(r \\right)}} + \\frac{2 \\frac{d}{d r} B{\\left(r \\right)}}{r B^{2}{\\left(r \\right)}} - \\frac{2 \\frac{d}{d r} A{\\left(r \\right)}}{r A{\\left(r \\right)} B{\\left(r \\right)}} + \\frac{2}{r^{2}} - \\frac{2}{r^{2} B{\\left(r \\right)}}$"
      ],
      "text/plain": [
       "-Derivative(A(r), (r, 2))/(A(r)*B(r)) + Derivative(A(r), r)*Derivative(B(r), r)/(2*A(r)*B(r)**2) + Derivative(A(r), r)**2/(2*A(r)**2*B(r)) + 2*Derivative(B(r), r)/(r*B(r)**2) - 2*Derivative(A(r), r)/(r*A(r)*B(r)) + 2/r**2 - 2/(r**2*B(r))"
      ]
     },
     "execution_count": 10,
     "metadata": {},
     "output_type": "execute_result"
    }
   ],
   "source": [
    "ricci=RicciScalar.from_metric(metric)\n",
    "ricci.simplify()"
   ]
  },
  {
   "cell_type": "markdown",
   "id": "15671176",
   "metadata": {},
   "source": [
    "# Calculating Einstein tensor"
   ]
  },
  {
   "cell_type": "code",
   "execution_count": 11,
   "id": "32c0a69d",
   "metadata": {},
   "outputs": [
    {
     "data": {
      "text/latex": [
       "$\\displaystyle \\left[\\begin{matrix}\\frac{1.0 \\left(r \\frac{d}{d r} B{\\left(r \\right)} + B^{2}{\\left(r \\right)} - B{\\left(r \\right)}\\right) A{\\left(r \\right)}}{r^{2} B^{2}{\\left(r \\right)}} & 0 & 0 & 0\\\\0 & \\frac{1.0 \\frac{d}{d r} A{\\left(r \\right)}}{r A{\\left(r \\right)}} - \\frac{1.0 B{\\left(r \\right)}}{r^{2}} + \\frac{1.0}{r^{2}} & 0 & 0\\\\0 & 0 & \\frac{0.5 r \\left(1.0 r A{\\left(r \\right)} B{\\left(r \\right)} \\frac{d^{2}}{d r^{2}} A{\\left(r \\right)} - 0.5 r A{\\left(r \\right)} \\frac{d}{d r} A{\\left(r \\right)} \\frac{d}{d r} B{\\left(r \\right)} - 0.5 r B{\\left(r \\right)} \\left(\\frac{d}{d r} A{\\left(r \\right)}\\right)^{2} - 1.0 A^{2}{\\left(r \\right)} \\frac{d}{d r} B{\\left(r \\right)} + 1.0 A{\\left(r \\right)} B{\\left(r \\right)} \\frac{d}{d r} A{\\left(r \\right)}\\right)}{A^{2}{\\left(r \\right)} B^{2}{\\left(r \\right)}} & 0\\\\0 & 0 & 0 & \\frac{0.5 r \\left(1.0 r A{\\left(r \\right)} B{\\left(r \\right)} \\frac{d^{2}}{d r^{2}} A{\\left(r \\right)} - 0.5 r A{\\left(r \\right)} \\frac{d}{d r} A{\\left(r \\right)} \\frac{d}{d r} B{\\left(r \\right)} - 0.5 r B{\\left(r \\right)} \\left(\\frac{d}{d r} A{\\left(r \\right)}\\right)^{2} - 1.0 A^{2}{\\left(r \\right)} \\frac{d}{d r} B{\\left(r \\right)} + 1.0 A{\\left(r \\right)} B{\\left(r \\right)} \\frac{d}{d r} A{\\left(r \\right)}\\right) \\sin^{2}{\\left(\\theta \\right)}}{A^{2}{\\left(r \\right)} B^{2}{\\left(r \\right)}}\\end{matrix}\\right]$"
      ],
      "text/plain": [
       "[[1.0*(r*Derivative(B(r), r) + B(r)**2 - B(r))*A(r)/(r**2*B(r)**2), 0, 0, 0], [0, 1.0*Derivative(A(r), r)/(r*A(r)) - 1.0*B(r)/r**2 + 1.0/r**2, 0, 0], [0, 0, 0.5*r*(1.0*r*A(r)*B(r)*Derivative(A(r), (r, 2)) - 0.5*r*A(r)*Derivative(A(r), r)*Derivative(B(r), r) - 0.5*r*B(r)*Derivative(A(r), r)**2 - 1.0*A(r)**2*Derivative(B(r), r) + 1.0*A(r)*B(r)*Derivative(A(r), r))/(A(r)**2*B(r)**2), 0], [0, 0, 0, 0.5*r*(1.0*r*A(r)*B(r)*Derivative(A(r), (r, 2)) - 0.5*r*A(r)*Derivative(A(r), r)*Derivative(B(r), r) - 0.5*r*B(r)*Derivative(A(r), r)**2 - 1.0*A(r)**2*Derivative(B(r), r) + 1.0*A(r)*B(r)*Derivative(A(r), r))*sin(theta)**2/(A(r)**2*B(r)**2)]]"
      ]
     },
     "execution_count": 11,
     "metadata": {},
     "output_type": "execute_result"
    }
   ],
   "source": [
    "einst = EinsteinTensor.from_metric(metric)\n",
    "einst.simplify()"
   ]
  },
  {
   "cell_type": "code",
   "execution_count": 12,
   "id": "780d0da9",
   "metadata": {},
   "outputs": [],
   "source": [
    "G_00, G_11, G_22, G_33, T_00, T_11, T_22, T_33 = sp.symbols(\n",
    "    'G_00 G_11 G_22 G_33 T_00 T_11 T_22 T_33'\n",
    ")"
   ]
  },
  {
   "cell_type": "code",
   "execution_count": 13,
   "id": "cbeba003",
   "metadata": {},
   "outputs": [
    {
     "data": {
      "text/latex": [
       "$\\displaystyle G_{00} = 8 \\pi T_{00}$"
      ],
      "text/plain": [
       "Eq(G_00, 8*pi*T_00)"
      ]
     },
     "execution_count": 13,
     "metadata": {},
     "output_type": "execute_result"
    }
   ],
   "source": [
    "einst_eq_1 = sp.Eq( G_00, 8 * sp.pi * T_00 )\n",
    "einst_eq_1"
   ]
  },
  {
   "cell_type": "code",
   "execution_count": null,
   "id": "1bff29db",
   "metadata": {},
   "outputs": [],
   "source": []
  },
  {
   "cell_type": "code",
   "execution_count": 14,
   "id": "68b1b18f",
   "metadata": {},
   "outputs": [],
   "source": [
    "einst_eq_1_replaced = einst_eq_1.subs({G_00:einst.tensor()[0, 0], T_00:rho(r)*A(r)})\n"
   ]
  },
  {
   "cell_type": "code",
   "execution_count": 15,
   "id": "63183c29",
   "metadata": {},
   "outputs": [],
   "source": [
    "einst_eq_1_replaced_simplified = sp.simplify(einst_eq_1_replaced)"
   ]
  },
  {
   "cell_type": "code",
   "execution_count": 16,
   "id": "a9f1be2b",
   "metadata": {},
   "outputs": [
    {
     "data": {
      "text/latex": [
       "$\\displaystyle 8 \\pi A{\\left(r \\right)} \\rho{\\left(r \\right)} = \\frac{1.0 \\left(r \\frac{d}{d r} B{\\left(r \\right)} + B^{2}{\\left(r \\right)} - B{\\left(r \\right)}\\right) A{\\left(r \\right)}}{r^{2} B^{2}{\\left(r \\right)}}$"
      ],
      "text/plain": [
       "Eq(8*pi*A(r)*rho(r), 1.0*(r*Derivative(B(r), r) + B(r)**2 - B(r))*A(r)/(r**2*B(r)**2))"
      ]
     },
     "execution_count": 16,
     "metadata": {},
     "output_type": "execute_result"
    }
   ],
   "source": [
    "einst_eq_1_replaced_simplified"
   ]
  },
  {
   "cell_type": "code",
   "execution_count": 20,
   "id": "3fd8357e",
   "metadata": {},
   "outputs": [],
   "source": [
    "solution_1 = sp.solve(einst_eq_1_replaced_simplified,rho(r))"
   ]
  },
  {
   "cell_type": "code",
   "execution_count": 21,
   "id": "476dfe43",
   "metadata": {},
   "outputs": [
    {
     "name": "stdout",
     "output_type": "stream",
     "text": [
      "Equation to solve:\n",
      "                    ⎛  d           2          ⎞     \n",
      "                1.0⋅⎜r⋅──(B(r)) + B (r) - B(r)⎟⋅A(r)\n",
      "                    ⎝  dr                     ⎠     \n",
      "8⋅π⋅A(r)⋅ρ(r) = ────────────────────────────────────\n",
      "                               2  2                 \n",
      "                              r ⋅B (r)              \n"
     ]
    }
   ],
   "source": [
    "print(\"Equation to solve:\")\n",
    "\n",
    "sp.pprint(einst_eq_1_replaced_simplified)"
   ]
  },
  {
   "cell_type": "code",
   "execution_count": 22,
   "id": "fe666b52",
   "metadata": {},
   "outputs": [
    {
     "name": "stdout",
     "output_type": "stream",
     "text": [
      "Solution for rho:\n",
      "[0.0397887357729738*(r*Derivative(B(r), r) + B(r)**2 - B(r))/(r**2*B(r)**2)]\n"
     ]
    }
   ],
   "source": [
    "print(\"Solution for rho:\")\n",
    "print(solution_1)"
   ]
  },
  {
   "cell_type": "code",
   "execution_count": 23,
   "id": "3ee755eb",
   "metadata": {},
   "outputs": [
    {
     "data": {
      "text/latex": [
       "$\\displaystyle G_{11} = 8 \\pi T_{11}$"
      ],
      "text/plain": [
       "Eq(G_11, 8*pi*T_11)"
      ]
     },
     "execution_count": 23,
     "metadata": {},
     "output_type": "execute_result"
    }
   ],
   "source": [
    "einst_eq_2 = sp.Eq( G_11, 8 * sp.pi * T_11 )\n",
    "einst_eq_2"
   ]
  },
  {
   "cell_type": "code",
   "execution_count": 24,
   "id": "8f933ea1",
   "metadata": {},
   "outputs": [],
   "source": [
    "einst_eq_2_replaced = einst_eq_2.subs({G_11:einst.tensor()[1, 1], T_11:p(r)*B(r)})"
   ]
  },
  {
   "cell_type": "code",
   "execution_count": 25,
   "id": "e62cb4bb",
   "metadata": {},
   "outputs": [],
   "source": [
    "einst_eq_2_replaced_simplified = sp.simplify(einst_eq_2_replaced)"
   ]
  },
  {
   "cell_type": "code",
   "execution_count": 26,
   "id": "070a59c3",
   "metadata": {},
   "outputs": [
    {
     "data": {
      "text/latex": [
       "$\\displaystyle 8 \\pi B{\\left(r \\right)} p{\\left(r \\right)} = \\frac{1.0 \\left(r \\frac{d}{d r} A{\\left(r \\right)} + \\left(1 - B{\\left(r \\right)}\\right) A{\\left(r \\right)}\\right)}{r^{2} A{\\left(r \\right)}}$"
      ],
      "text/plain": [
       "Eq(8*pi*B(r)*p(r), 1.0*(r*Derivative(A(r), r) + (1 - B(r))*A(r))/(r**2*A(r)))"
      ]
     },
     "execution_count": 26,
     "metadata": {},
     "output_type": "execute_result"
    }
   ],
   "source": [
    "einst_eq_2_replaced_simplified"
   ]
  },
  {
   "cell_type": "code",
   "execution_count": 27,
   "id": "9843fb26",
   "metadata": {},
   "outputs": [],
   "source": [
    "solution_2 = sp.solve(einst_eq_2_replaced_simplified,p(r))"
   ]
  },
  {
   "cell_type": "code",
   "execution_count": 31,
   "id": "df90eb35",
   "metadata": {},
   "outputs": [],
   "source": [
    "expr=solution_2"
   ]
  },
  {
   "cell_type": "code",
   "execution_count": 32,
   "id": "4b687c12",
   "metadata": {},
   "outputs": [
    {
     "name": "stdout",
     "output_type": "stream",
     "text": [
      "[0.0397887357729738*(r*Derivative(A(r), r) - A(r)*B(r) + A(r))/(r**2*A(r)*B(r))]\n"
     ]
    }
   ],
   "source": [
    "print(expr)"
   ]
  },
  {
   "cell_type": "code",
   "execution_count": 36,
   "id": "c0e37330",
   "metadata": {},
   "outputs": [],
   "source": [
    "expression=expr[0]"
   ]
  },
  {
   "cell_type": "code",
   "execution_count": 37,
   "id": "d5e3864f",
   "metadata": {},
   "outputs": [],
   "source": [
    "simplified_expr = sp.simplify(expression)"
   ]
  },
  {
   "cell_type": "code",
   "execution_count": 38,
   "id": "983f1acb",
   "metadata": {},
   "outputs": [
    {
     "data": {
      "text/latex": [
       "$\\displaystyle \\frac{0.0397887357729738 \\frac{d}{d r} A{\\left(r \\right)}}{r A{\\left(r \\right)} B{\\left(r \\right)}} - \\frac{0.0397887357729738}{r^{2}} + \\frac{0.0397887357729738}{r^{2} B{\\left(r \\right)}}$"
      ],
      "text/plain": [
       "0.0397887357729738*Derivative(A(r), r)/(r*A(r)*B(r)) - 0.0397887357729738/r**2 + 0.0397887357729738/(r**2*B(r))"
      ]
     },
     "execution_count": 38,
     "metadata": {},
     "output_type": "execute_result"
    }
   ],
   "source": [
    "simplified_expr"
   ]
  },
  {
   "cell_type": "code",
   "execution_count": null,
   "id": "83c1a315",
   "metadata": {},
   "outputs": [],
   "source": []
  }
 ],
 "metadata": {
  "kernelspec": {
   "display_name": "Python 3 (ipykernel)",
   "language": "python",
   "name": "python3"
  },
  "language_info": {
   "codemirror_mode": {
    "name": "ipython",
    "version": 3
   },
   "file_extension": ".py",
   "mimetype": "text/x-python",
   "name": "python",
   "nbconvert_exporter": "python",
   "pygments_lexer": "ipython3",
   "version": "3.10.7"
  }
 },
 "nbformat": 4,
 "nbformat_minor": 5
}
