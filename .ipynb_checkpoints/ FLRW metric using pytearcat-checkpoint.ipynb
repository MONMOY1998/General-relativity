{
 "cells": [
  {
   "cell_type": "code",
   "execution_count": 1,
   "id": "bb99f93f",
   "metadata": {},
   "outputs": [],
   "source": [
    "import pytearcat as pt\n",
    "import sympy as sp"
   ]
  },
  {
   "cell_type": "code",
   "execution_count": 2,
   "id": "a85b98db",
   "metadata": {},
   "outputs": [
    {
     "name": "stdout",
     "output_type": "stream",
     "text": [
      "['C', 'D', '__builtins__', '__cached__', '__doc__', '__file__', '__loader__', '__name__', '__package__', '__path__', '__spec__', 'christoffel', 'con', 'coords', 'det', 'display', 'einstein', 'expand', 'factor', 'fun', 'geodesic', 'gr', 'kdelta', 'lcivita', 'metric', 'order', 'ricci', 'riccis', 'riemann', 'series', 'simplify', 'spacetime', 'ten', 'tensor', 'var']\n"
     ]
    }
   ],
   "source": [
    "print(dir(pt))"
   ]
  },
  {
   "cell_type": "code",
   "execution_count": 3,
   "id": "1319cb60",
   "metadata": {},
   "outputs": [
    {
     "name": "stdout",
     "output_type": "stream",
     "text": [
      "Remember that the time coordinate must be the first coordinate.\n"
     ]
    }
   ],
   "source": [
    "t,r,theta,phi=pt.coords(\"t,r,theta,phi\")"
   ]
  },
  {
   "cell_type": "code",
   "execution_count": 4,
   "id": "9a4b77c9",
   "metadata": {},
   "outputs": [],
   "source": [
    "k=pt.con(\"k\")\n",
    "c=pt.con(\"c\")"
   ]
  },
  {
   "cell_type": "code",
   "execution_count": 5,
   "id": "f2362ec4",
   "metadata": {},
   "outputs": [],
   "source": [
    "a=pt.fun(\"a\",\"t\")"
   ]
  },
  {
   "cell_type": "code",
   "execution_count": 6,
   "id": "a83be5e9",
   "metadata": {},
   "outputs": [],
   "source": [
    "ds=\"ds2=-dt**2 + a**2 *((1/(1-k*r**2))*dr**2 +r**2 * dtheta**2 + r**2 * sin(theta)**2 * dphi**2)\""
   ]
  },
  {
   "cell_type": "code",
   "execution_count": 7,
   "id": "fcc9ff93",
   "metadata": {},
   "outputs": [
    {
     "name": "stdout",
     "output_type": "stream",
     "text": [
      "\n",
      "Dimension = 4\n",
      "Coordinates = t,r,theta,phi\n",
      "Metric defined successfully: \n",
      "\n"
     ]
    },
    {
     "data": {
      "text/latex": [
       "$\\displaystyle ds^2 = -1 \\cdot dt^2+\\frac{a^{2}{\\left(t \\right)}}{- k r^{2} + 1} \\cdot dr^2+r^{2} a^{2}{\\left(t \\right)} \\cdot d\\theta^2+r^{2} a^{2}{\\left(t \\right)} \\sin^{2}{\\left(\\theta \\right)} \\cdot d\\phi^2$"
      ],
      "text/plain": [
       "<IPython.core.display.Math object>"
      ]
     },
     "metadata": {},
     "output_type": "display_data"
    },
    {
     "data": {
      "text/latex": [
       "$\\displaystyle \\left[\\begin{matrix}-1 & 0 & 0 & 0\\\\0 & \\frac{a^{2}{\\left(t \\right)}}{- k r^{2} + 1} & 0 & 0\\\\0 & 0 & r^{2} a^{2}{\\left(t \\right)} & 0\\\\0 & 0 & 0 & r^{2} a^{2}{\\left(t \\right)} \\sin^{2}{\\left(\\theta \\right)}\\end{matrix}\\right]$"
      ],
      "text/plain": [
       "Matrix([\n",
       "[-1,                     0,            0,                          0],\n",
       "[ 0, a(t)**2/(-k*r**2 + 1),            0,                          0],\n",
       "[ 0,                     0, r**2*a(t)**2,                          0],\n",
       "[ 0,                     0,            0, r**2*a(t)**2*sin(theta)**2]])"
      ]
     },
     "metadata": {},
     "output_type": "display_data"
    }
   ],
   "source": [
    "g=pt.metric(ds)"
   ]
  },
  {
   "cell_type": "code",
   "execution_count": 8,
   "id": "75b57f4c",
   "metadata": {
    "scrolled": false
   },
   "outputs": [
    {
     "data": {
      "text/latex": [
       "Christoffel $\\Gamma_{\\alpha \\beta \\gamma}$ and $\\Gamma^{\\alpha}_{\\beta \\gamma}$"
      ],
      "text/plain": [
       "<IPython.core.display.Latex object>"
      ]
     },
     "metadata": {},
     "output_type": "display_data"
    },
    {
     "data": {
      "application/vnd.jupyter.widget-view+json": {
       "model_id": "4449a527973f430186af20609bd9e5a6",
       "version_major": 2,
       "version_minor": 0
      },
      "text/plain": [
       "  0%|          | 0/64 [00:00<?, ?it/s]"
      ]
     },
     "metadata": {},
     "output_type": "display_data"
    },
    {
     "data": {
      "text/latex": [
       "$\\displaystyle {\\Gamma}{}^{0}\\,{}_{1}\\,{}_{1}\\, = - \\frac{a{\\left(t \\right)} \\frac{d}{d t} a{\\left(t \\right)}}{k r^{2} - 1}$"
      ],
      "text/plain": [
       "<IPython.core.display.Math object>"
      ]
     },
     "metadata": {},
     "output_type": "display_data"
    },
    {
     "data": {
      "text/latex": [
       "$\\displaystyle {\\Gamma}{}^{0}\\,{}_{2}\\,{}_{2}\\, = r^{2} a{\\left(t \\right)} \\frac{d}{d t} a{\\left(t \\right)}$"
      ],
      "text/plain": [
       "<IPython.core.display.Math object>"
      ]
     },
     "metadata": {},
     "output_type": "display_data"
    },
    {
     "data": {
      "text/latex": [
       "$\\displaystyle {\\Gamma}{}^{0}\\,{}_{3}\\,{}_{3}\\, = r^{2} a{\\left(t \\right)} \\sin^{2}{\\left(\\theta \\right)} \\frac{d}{d t} a{\\left(t \\right)}$"
      ],
      "text/plain": [
       "<IPython.core.display.Math object>"
      ]
     },
     "metadata": {},
     "output_type": "display_data"
    },
    {
     "data": {
      "text/latex": [
       "$\\displaystyle {\\Gamma}{}^{1}\\,{}_{0}\\,{}_{1}\\, = \\frac{\\frac{d}{d t} a{\\left(t \\right)}}{a{\\left(t \\right)}}$"
      ],
      "text/plain": [
       "<IPython.core.display.Math object>"
      ]
     },
     "metadata": {},
     "output_type": "display_data"
    },
    {
     "data": {
      "text/latex": [
       "$\\displaystyle {\\Gamma}{}^{1}\\,{}_{1}\\,{}_{0}\\, = \\frac{\\frac{d}{d t} a{\\left(t \\right)}}{a{\\left(t \\right)}}$"
      ],
      "text/plain": [
       "<IPython.core.display.Math object>"
      ]
     },
     "metadata": {},
     "output_type": "display_data"
    },
    {
     "data": {
      "text/latex": [
       "$\\displaystyle {\\Gamma}{}^{1}\\,{}_{1}\\,{}_{1}\\, = - \\frac{k r}{k r^{2} - 1}$"
      ],
      "text/plain": [
       "<IPython.core.display.Math object>"
      ]
     },
     "metadata": {},
     "output_type": "display_data"
    },
    {
     "data": {
      "text/latex": [
       "$\\displaystyle {\\Gamma}{}^{1}\\,{}_{2}\\,{}_{2}\\, = r \\left(k r^{2} - 1\\right)$"
      ],
      "text/plain": [
       "<IPython.core.display.Math object>"
      ]
     },
     "metadata": {},
     "output_type": "display_data"
    },
    {
     "data": {
      "text/latex": [
       "$\\displaystyle {\\Gamma}{}^{1}\\,{}_{3}\\,{}_{3}\\, = r \\left(k r^{2} - 1\\right) \\sin^{2}{\\left(\\theta \\right)}$"
      ],
      "text/plain": [
       "<IPython.core.display.Math object>"
      ]
     },
     "metadata": {},
     "output_type": "display_data"
    },
    {
     "data": {
      "text/latex": [
       "$\\displaystyle {\\Gamma}{}^{2}\\,{}_{0}\\,{}_{2}\\, = \\frac{\\frac{d}{d t} a{\\left(t \\right)}}{a{\\left(t \\right)}}$"
      ],
      "text/plain": [
       "<IPython.core.display.Math object>"
      ]
     },
     "metadata": {},
     "output_type": "display_data"
    },
    {
     "data": {
      "text/latex": [
       "$\\displaystyle {\\Gamma}{}^{2}\\,{}_{1}\\,{}_{2}\\, = \\frac{1}{r}$"
      ],
      "text/plain": [
       "<IPython.core.display.Math object>"
      ]
     },
     "metadata": {},
     "output_type": "display_data"
    },
    {
     "data": {
      "text/latex": [
       "$\\displaystyle {\\Gamma}{}^{2}\\,{}_{2}\\,{}_{0}\\, = \\frac{\\frac{d}{d t} a{\\left(t \\right)}}{a{\\left(t \\right)}}$"
      ],
      "text/plain": [
       "<IPython.core.display.Math object>"
      ]
     },
     "metadata": {},
     "output_type": "display_data"
    },
    {
     "data": {
      "text/latex": [
       "$\\displaystyle {\\Gamma}{}^{2}\\,{}_{2}\\,{}_{1}\\, = \\frac{1}{r}$"
      ],
      "text/plain": [
       "<IPython.core.display.Math object>"
      ]
     },
     "metadata": {},
     "output_type": "display_data"
    },
    {
     "data": {
      "text/latex": [
       "$\\displaystyle {\\Gamma}{}^{2}\\,{}_{3}\\,{}_{3}\\, = - \\sin{\\left(\\theta \\right)} \\cos{\\left(\\theta \\right)}$"
      ],
      "text/plain": [
       "<IPython.core.display.Math object>"
      ]
     },
     "metadata": {},
     "output_type": "display_data"
    },
    {
     "data": {
      "text/latex": [
       "$\\displaystyle {\\Gamma}{}^{3}\\,{}_{0}\\,{}_{3}\\, = \\frac{\\frac{d}{d t} a{\\left(t \\right)}}{a{\\left(t \\right)}}$"
      ],
      "text/plain": [
       "<IPython.core.display.Math object>"
      ]
     },
     "metadata": {},
     "output_type": "display_data"
    },
    {
     "data": {
      "text/latex": [
       "$\\displaystyle {\\Gamma}{}^{3}\\,{}_{1}\\,{}_{3}\\, = \\frac{1}{r}$"
      ],
      "text/plain": [
       "<IPython.core.display.Math object>"
      ]
     },
     "metadata": {},
     "output_type": "display_data"
    },
    {
     "data": {
      "text/latex": [
       "$\\displaystyle {\\Gamma}{}^{3}\\,{}_{2}\\,{}_{3}\\, = \\frac{\\cos{\\left(\\theta \\right)}}{\\sin{\\left(\\theta \\right)}}$"
      ],
      "text/plain": [
       "<IPython.core.display.Math object>"
      ]
     },
     "metadata": {},
     "output_type": "display_data"
    },
    {
     "data": {
      "text/latex": [
       "$\\displaystyle {\\Gamma}{}^{3}\\,{}_{3}\\,{}_{0}\\, = \\frac{\\frac{d}{d t} a{\\left(t \\right)}}{a{\\left(t \\right)}}$"
      ],
      "text/plain": [
       "<IPython.core.display.Math object>"
      ]
     },
     "metadata": {},
     "output_type": "display_data"
    },
    {
     "data": {
      "text/latex": [
       "$\\displaystyle {\\Gamma}{}^{3}\\,{}_{3}\\,{}_{1}\\, = \\frac{1}{r}$"
      ],
      "text/plain": [
       "<IPython.core.display.Math object>"
      ]
     },
     "metadata": {},
     "output_type": "display_data"
    },
    {
     "data": {
      "text/latex": [
       "$\\displaystyle {\\Gamma}{}^{3}\\,{}_{3}\\,{}_{2}\\, = \\frac{\\cos{\\left(\\theta \\right)}}{\\sin{\\left(\\theta \\right)}}$"
      ],
      "text/plain": [
       "<IPython.core.display.Math object>"
      ]
     },
     "metadata": {},
     "output_type": "display_data"
    }
   ],
   "source": [
    "# To calculate the first kind without the second kind:\n",
    "# Chr = pt.christoffel(Second_kind = False)\n",
    "\n",
    "# To calculate the second kind without the first kind:\n",
    "# Chr = pt.christoffel(First_kind = False)\n",
    "# By default it displays all the non zero components for the two kinds of Christoffel Symbols.\n",
    "\n",
    "# To display only a particular combination of indices, e.g., the Second kind:\n",
    "# Chr.display(\"^,_,_\")\n",
    "\n",
    "\n",
    "# To calculate the First and Second kind Christoffel Symbols:\n",
    "\n",
    "chr=pt.christoffel()\n",
    "chr.display('^,_,_',aslist=True)"
   ]
  },
  {
   "cell_type": "code",
   "execution_count": 9,
   "id": "93c53788",
   "metadata": {},
   "outputs": [
    {
     "data": {
      "text/latex": [
       "Riemann Tensor $R^{\\alpha}_{\\beta \\gamma \\delta}$"
      ],
      "text/plain": [
       "<IPython.core.display.Latex object>"
      ]
     },
     "metadata": {},
     "output_type": "display_data"
    },
    {
     "data": {
      "application/vnd.jupyter.widget-view+json": {
       "model_id": "9b09412a7a724781a416b180acbd1f8a",
       "version_major": 2,
       "version_minor": 0
      },
      "text/plain": [
       "  0%|          | 0/256 [00:00<?, ?it/s]"
      ]
     },
     "metadata": {},
     "output_type": "display_data"
    },
    {
     "data": {
      "text/latex": [
       "$\\displaystyle {R}{}^{0}\\,{}_{1}\\,{}_{0}\\,{}_{1}\\, = - \\frac{a{\\left(t \\right)} \\frac{d^{2}}{d t^{2}} a{\\left(t \\right)}}{k r^{2} - 1}$"
      ],
      "text/plain": [
       "<IPython.core.display.Math object>"
      ]
     },
     "metadata": {},
     "output_type": "display_data"
    },
    {
     "data": {
      "text/latex": [
       "$\\displaystyle {R}{}^{0}\\,{}_{1}\\,{}_{1}\\,{}_{0}\\, = \\frac{a{\\left(t \\right)} \\frac{d^{2}}{d t^{2}} a{\\left(t \\right)}}{k r^{2} - 1}$"
      ],
      "text/plain": [
       "<IPython.core.display.Math object>"
      ]
     },
     "metadata": {},
     "output_type": "display_data"
    },
    {
     "data": {
      "text/latex": [
       "$\\displaystyle {R}{}^{0}\\,{}_{2}\\,{}_{0}\\,{}_{2}\\, = r^{2} a{\\left(t \\right)} \\frac{d^{2}}{d t^{2}} a{\\left(t \\right)}$"
      ],
      "text/plain": [
       "<IPython.core.display.Math object>"
      ]
     },
     "metadata": {},
     "output_type": "display_data"
    },
    {
     "data": {
      "text/latex": [
       "$\\displaystyle {R}{}^{0}\\,{}_{2}\\,{}_{2}\\,{}_{0}\\, = - r^{2} a{\\left(t \\right)} \\frac{d^{2}}{d t^{2}} a{\\left(t \\right)}$"
      ],
      "text/plain": [
       "<IPython.core.display.Math object>"
      ]
     },
     "metadata": {},
     "output_type": "display_data"
    },
    {
     "data": {
      "text/latex": [
       "$\\displaystyle {R}{}^{0}\\,{}_{3}\\,{}_{0}\\,{}_{3}\\, = r^{2} a{\\left(t \\right)} \\sin^{2}{\\left(\\theta \\right)} \\frac{d^{2}}{d t^{2}} a{\\left(t \\right)}$"
      ],
      "text/plain": [
       "<IPython.core.display.Math object>"
      ]
     },
     "metadata": {},
     "output_type": "display_data"
    },
    {
     "data": {
      "text/latex": [
       "$\\displaystyle {R}{}^{0}\\,{}_{3}\\,{}_{3}\\,{}_{0}\\, = - r^{2} a{\\left(t \\right)} \\sin^{2}{\\left(\\theta \\right)} \\frac{d^{2}}{d t^{2}} a{\\left(t \\right)}$"
      ],
      "text/plain": [
       "<IPython.core.display.Math object>"
      ]
     },
     "metadata": {},
     "output_type": "display_data"
    },
    {
     "data": {
      "text/latex": [
       "$\\displaystyle {R}{}^{1}\\,{}_{0}\\,{}_{0}\\,{}_{1}\\, = \\frac{\\frac{d^{2}}{d t^{2}} a{\\left(t \\right)}}{a{\\left(t \\right)}}$"
      ],
      "text/plain": [
       "<IPython.core.display.Math object>"
      ]
     },
     "metadata": {},
     "output_type": "display_data"
    },
    {
     "data": {
      "text/latex": [
       "$\\displaystyle {R}{}^{1}\\,{}_{0}\\,{}_{1}\\,{}_{0}\\, = - \\frac{\\frac{d^{2}}{d t^{2}} a{\\left(t \\right)}}{a{\\left(t \\right)}}$"
      ],
      "text/plain": [
       "<IPython.core.display.Math object>"
      ]
     },
     "metadata": {},
     "output_type": "display_data"
    },
    {
     "data": {
      "text/latex": [
       "$\\displaystyle {R}{}^{1}\\,{}_{2}\\,{}_{1}\\,{}_{2}\\, = r^{2} \\left(k + \\left(\\frac{d}{d t} a{\\left(t \\right)}\\right)^{2}\\right)$"
      ],
      "text/plain": [
       "<IPython.core.display.Math object>"
      ]
     },
     "metadata": {},
     "output_type": "display_data"
    },
    {
     "data": {
      "text/latex": [
       "$\\displaystyle {R}{}^{1}\\,{}_{2}\\,{}_{2}\\,{}_{1}\\, = - r^{2} \\left(k + \\left(\\frac{d}{d t} a{\\left(t \\right)}\\right)^{2}\\right)$"
      ],
      "text/plain": [
       "<IPython.core.display.Math object>"
      ]
     },
     "metadata": {},
     "output_type": "display_data"
    },
    {
     "data": {
      "text/latex": [
       "$\\displaystyle {R}{}^{1}\\,{}_{3}\\,{}_{1}\\,{}_{3}\\, = r^{2} \\left(k + \\left(\\frac{d}{d t} a{\\left(t \\right)}\\right)^{2}\\right) \\sin^{2}{\\left(\\theta \\right)}$"
      ],
      "text/plain": [
       "<IPython.core.display.Math object>"
      ]
     },
     "metadata": {},
     "output_type": "display_data"
    },
    {
     "data": {
      "text/latex": [
       "$\\displaystyle {R}{}^{1}\\,{}_{3}\\,{}_{3}\\,{}_{1}\\, = - r^{2} \\left(k + \\left(\\frac{d}{d t} a{\\left(t \\right)}\\right)^{2}\\right) \\sin^{2}{\\left(\\theta \\right)}$"
      ],
      "text/plain": [
       "<IPython.core.display.Math object>"
      ]
     },
     "metadata": {},
     "output_type": "display_data"
    },
    {
     "data": {
      "text/latex": [
       "$\\displaystyle {R}{}^{2}\\,{}_{0}\\,{}_{0}\\,{}_{2}\\, = \\frac{\\frac{d^{2}}{d t^{2}} a{\\left(t \\right)}}{a{\\left(t \\right)}}$"
      ],
      "text/plain": [
       "<IPython.core.display.Math object>"
      ]
     },
     "metadata": {},
     "output_type": "display_data"
    },
    {
     "data": {
      "text/latex": [
       "$\\displaystyle {R}{}^{2}\\,{}_{0}\\,{}_{2}\\,{}_{0}\\, = - \\frac{\\frac{d^{2}}{d t^{2}} a{\\left(t \\right)}}{a{\\left(t \\right)}}$"
      ],
      "text/plain": [
       "<IPython.core.display.Math object>"
      ]
     },
     "metadata": {},
     "output_type": "display_data"
    },
    {
     "data": {
      "text/latex": [
       "$\\displaystyle {R}{}^{2}\\,{}_{1}\\,{}_{1}\\,{}_{2}\\, = \\frac{k + \\left(\\frac{d}{d t} a{\\left(t \\right)}\\right)^{2}}{k r^{2} - 1}$"
      ],
      "text/plain": [
       "<IPython.core.display.Math object>"
      ]
     },
     "metadata": {},
     "output_type": "display_data"
    },
    {
     "data": {
      "text/latex": [
       "$\\displaystyle {R}{}^{2}\\,{}_{1}\\,{}_{2}\\,{}_{1}\\, = - \\frac{k + \\left(\\frac{d}{d t} a{\\left(t \\right)}\\right)^{2}}{k r^{2} - 1}$"
      ],
      "text/plain": [
       "<IPython.core.display.Math object>"
      ]
     },
     "metadata": {},
     "output_type": "display_data"
    },
    {
     "data": {
      "text/latex": [
       "$\\displaystyle {R}{}^{2}\\,{}_{3}\\,{}_{2}\\,{}_{3}\\, = r^{2} \\left(k + \\left(\\frac{d}{d t} a{\\left(t \\right)}\\right)^{2}\\right) \\sin^{2}{\\left(\\theta \\right)}$"
      ],
      "text/plain": [
       "<IPython.core.display.Math object>"
      ]
     },
     "metadata": {},
     "output_type": "display_data"
    },
    {
     "data": {
      "text/latex": [
       "$\\displaystyle {R}{}^{2}\\,{}_{3}\\,{}_{3}\\,{}_{2}\\, = - r^{2} \\left(k + \\left(\\frac{d}{d t} a{\\left(t \\right)}\\right)^{2}\\right) \\sin^{2}{\\left(\\theta \\right)}$"
      ],
      "text/plain": [
       "<IPython.core.display.Math object>"
      ]
     },
     "metadata": {},
     "output_type": "display_data"
    },
    {
     "data": {
      "text/latex": [
       "$\\displaystyle {R}{}^{3}\\,{}_{0}\\,{}_{0}\\,{}_{3}\\, = \\frac{\\frac{d^{2}}{d t^{2}} a{\\left(t \\right)}}{a{\\left(t \\right)}}$"
      ],
      "text/plain": [
       "<IPython.core.display.Math object>"
      ]
     },
     "metadata": {},
     "output_type": "display_data"
    },
    {
     "data": {
      "text/latex": [
       "$\\displaystyle {R}{}^{3}\\,{}_{0}\\,{}_{3}\\,{}_{0}\\, = - \\frac{\\frac{d^{2}}{d t^{2}} a{\\left(t \\right)}}{a{\\left(t \\right)}}$"
      ],
      "text/plain": [
       "<IPython.core.display.Math object>"
      ]
     },
     "metadata": {},
     "output_type": "display_data"
    },
    {
     "data": {
      "text/latex": [
       "$\\displaystyle {R}{}^{3}\\,{}_{1}\\,{}_{1}\\,{}_{3}\\, = \\frac{k + \\left(\\frac{d}{d t} a{\\left(t \\right)}\\right)^{2}}{k r^{2} - 1}$"
      ],
      "text/plain": [
       "<IPython.core.display.Math object>"
      ]
     },
     "metadata": {},
     "output_type": "display_data"
    },
    {
     "data": {
      "text/latex": [
       "$\\displaystyle {R}{}^{3}\\,{}_{1}\\,{}_{3}\\,{}_{1}\\, = - \\frac{k + \\left(\\frac{d}{d t} a{\\left(t \\right)}\\right)^{2}}{k r^{2} - 1}$"
      ],
      "text/plain": [
       "<IPython.core.display.Math object>"
      ]
     },
     "metadata": {},
     "output_type": "display_data"
    },
    {
     "data": {
      "text/latex": [
       "$\\displaystyle {R}{}^{3}\\,{}_{2}\\,{}_{2}\\,{}_{3}\\, = - r^{2} \\left(k + \\left(\\frac{d}{d t} a{\\left(t \\right)}\\right)^{2}\\right)$"
      ],
      "text/plain": [
       "<IPython.core.display.Math object>"
      ]
     },
     "metadata": {},
     "output_type": "display_data"
    },
    {
     "data": {
      "text/latex": [
       "$\\displaystyle {R}{}^{3}\\,{}_{2}\\,{}_{3}\\,{}_{2}\\, = r^{2} \\left(k + \\left(\\frac{d}{d t} a{\\left(t \\right)}\\right)^{2}\\right)$"
      ],
      "text/plain": [
       "<IPython.core.display.Math object>"
      ]
     },
     "metadata": {},
     "output_type": "display_data"
    }
   ],
   "source": [
    "# To calculate all the combinations:\n",
    "# R = pt.riemann(All = True)\n",
    "\n",
    "\n",
    "# To calculate the default combination of the Riemann Tensor, i.e, (^,_,_,_): \n",
    "R=pt.riemann()\n",
    "# To display the default Riemann tensor:\n",
    "R.display(\"^,_,_,_\")"
   ]
  },
  {
   "cell_type": "code",
   "execution_count": 10,
   "id": "96e73698",
   "metadata": {},
   "outputs": [
    {
     "data": {
      "text/latex": [
       "Ricci Tensor $R_{\\alpha \\beta}$"
      ],
      "text/plain": [
       "<IPython.core.display.Latex object>"
      ]
     },
     "metadata": {},
     "output_type": "display_data"
    },
    {
     "data": {
      "application/vnd.jupyter.widget-view+json": {
       "model_id": "28e204d83cfe4251aa1494a1f34b7dfe",
       "version_major": 2,
       "version_minor": 0
      },
      "text/plain": [
       "  0%|          | 0/16 [00:00<?, ?it/s]"
      ]
     },
     "metadata": {},
     "output_type": "display_data"
    },
    {
     "data": {
      "text/latex": [
       "$\\displaystyle \\left[\\begin{matrix}- \\frac{3 \\frac{d^{2}}{d t^{2}} a{\\left(t \\right)}}{a{\\left(t \\right)}} & 0 & 0 & 0\\\\0 & - \\frac{2 k + a{\\left(t \\right)} \\frac{d^{2}}{d t^{2}} a{\\left(t \\right)} + 2 \\left(\\frac{d}{d t} a{\\left(t \\right)}\\right)^{2}}{k r^{2} - 1} & 0 & 0\\\\0 & 0 & r^{2} \\cdot \\left(2 k + a{\\left(t \\right)} \\frac{d^{2}}{d t^{2}} a{\\left(t \\right)} + 2 \\left(\\frac{d}{d t} a{\\left(t \\right)}\\right)^{2}\\right) & 0\\\\0 & 0 & 0 & r^{2} \\cdot \\left(2 k + a{\\left(t \\right)} \\frac{d^{2}}{d t^{2}} a{\\left(t \\right)} + 2 \\left(\\frac{d}{d t} a{\\left(t \\right)}\\right)^{2}\\right) \\sin^{2}{\\left(\\theta \\right)}\\end{matrix}\\right]$"
      ],
      "text/plain": [
       "⎡     2                                                                       \n",
       "⎢    d                                                                        \n",
       "⎢-3⋅───(a(t))                                                                 \n",
       "⎢     2                                                                       \n",
       "⎢   dt                                                                        \n",
       "⎢─────────────                     0                                          \n",
       "⎢     a(t)                                                                    \n",
       "⎢                                                                             \n",
       "⎢                ⎛             2                     2⎞                       \n",
       "⎢                ⎜            d            ⎛d       ⎞ ⎟                       \n",
       "⎢               -⎜2⋅k + a(t)⋅───(a(t)) + 2⋅⎜──(a(t))⎟ ⎟                       \n",
       "⎢                ⎜             2           ⎝dt      ⎠ ⎟                       \n",
       "⎢                ⎝           dt                       ⎠                       \n",
       "⎢      0        ────────────────────────────────────────                      \n",
       "⎢                                  2                                          \n",
       "⎢                               k⋅r  - 1                                      \n",
       "⎢                                                                             \n",
       "⎢                                                            ⎛             2  \n",
       "⎢                                                          2 ⎜            d   \n",
       "⎢      0                           0                      r ⋅⎜2⋅k + a(t)⋅───(a\n",
       "⎢                                                            ⎜             2  \n",
       "⎢                                                            ⎝           dt   \n",
       "⎢                                                                             \n",
       "⎢                                                                             \n",
       "⎢                                                                             \n",
       "⎢      0                           0                                          \n",
       "⎢                                                                             \n",
       "⎣                                                                             \n",
       "\n",
       "                                                                        ⎤\n",
       "                                                                        ⎥\n",
       "                                                                        ⎥\n",
       "                                                                        ⎥\n",
       "                                                                        ⎥\n",
       "0                                              0                        ⎥\n",
       "                                                                        ⎥\n",
       "                                                                        ⎥\n",
       "                                                                        ⎥\n",
       "                                                                        ⎥\n",
       "                                                                        ⎥\n",
       "                                                                        ⎥\n",
       "                                                                        ⎥\n",
       "0                                              0                        ⎥\n",
       "                                                                        ⎥\n",
       "                                                                        ⎥\n",
       "                                                                        ⎥\n",
       "                   2⎞                                                   ⎥\n",
       "         ⎛d       ⎞ ⎟                                                   ⎥\n",
       "(t)) + 2⋅⎜──(a(t))⎟ ⎟                          0                        ⎥\n",
       "         ⎝dt      ⎠ ⎟                                                   ⎥\n",
       "                    ⎠                                                   ⎥\n",
       "                                                                        ⎥\n",
       "                          ⎛             2                     2⎞        ⎥\n",
       "                        2 ⎜            d            ⎛d       ⎞ ⎟    2   ⎥\n",
       "0                      r ⋅⎜2⋅k + a(t)⋅───(a(t)) + 2⋅⎜──(a(t))⎟ ⎟⋅sin (θ)⎥\n",
       "                          ⎜             2           ⎝dt      ⎠ ⎟        ⎥\n",
       "                          ⎝           dt                       ⎠        ⎦"
      ]
     },
     "metadata": {},
     "output_type": "display_data"
    }
   ],
   "source": [
    "\n",
    "\n",
    "\n",
    "# To calculate the default combination of the Ricci Tensor, i.e., (_,_):\n",
    "Ric=pt.ricci()\n",
    "Ric.display()"
   ]
  },
  {
   "cell_type": "code",
   "execution_count": 11,
   "id": "d77eebd4",
   "metadata": {},
   "outputs": [
    {
     "data": {
      "text/latex": [
       "Ricci Tensor $R_{\\alpha \\beta}$ already calculated"
      ],
      "text/plain": [
       "<IPython.core.display.Latex object>"
      ]
     },
     "metadata": {},
     "output_type": "display_data"
    },
    {
     "data": {
      "text/latex": [
       "$\\displaystyle {R}{}_{0}\\,{}_{0}\\, = - \\frac{3 \\frac{d^{2}}{d t^{2}} a{\\left(t \\right)}}{a{\\left(t \\right)}}$"
      ],
      "text/plain": [
       "<IPython.core.display.Math object>"
      ]
     },
     "metadata": {},
     "output_type": "display_data"
    },
    {
     "data": {
      "text/latex": [
       "$\\displaystyle {R}{}_{1}\\,{}_{1}\\, = - \\frac{2 k + a{\\left(t \\right)} \\frac{d^{2}}{d t^{2}} a{\\left(t \\right)} + 2 \\left(\\frac{d}{d t} a{\\left(t \\right)}\\right)^{2}}{k r^{2} - 1}$"
      ],
      "text/plain": [
       "<IPython.core.display.Math object>"
      ]
     },
     "metadata": {},
     "output_type": "display_data"
    },
    {
     "data": {
      "text/latex": [
       "$\\displaystyle {R}{}_{2}\\,{}_{2}\\, = r^{2} \\cdot \\left(2 k + a{\\left(t \\right)} \\frac{d^{2}}{d t^{2}} a{\\left(t \\right)} + 2 \\left(\\frac{d}{d t} a{\\left(t \\right)}\\right)^{2}\\right)$"
      ],
      "text/plain": [
       "<IPython.core.display.Math object>"
      ]
     },
     "metadata": {},
     "output_type": "display_data"
    },
    {
     "data": {
      "text/latex": [
       "$\\displaystyle {R}{}_{3}\\,{}_{3}\\, = r^{2} \\cdot \\left(2 k + a{\\left(t \\right)} \\frac{d^{2}}{d t^{2}} a{\\left(t \\right)} + 2 \\left(\\frac{d}{d t} a{\\left(t \\right)}\\right)^{2}\\right) \\sin^{2}{\\left(\\theta \\right)}$"
      ],
      "text/plain": [
       "<IPython.core.display.Math object>"
      ]
     },
     "metadata": {},
     "output_type": "display_data"
    }
   ],
   "source": [
    "Ric=pt.ricci()\n",
    "Ric.display(\"_,_\",aslist=True)"
   ]
  },
  {
   "cell_type": "code",
   "execution_count": 12,
   "id": "01fc3538",
   "metadata": {},
   "outputs": [
    {
     "data": {
      "application/vnd.jupyter.widget-view+json": {
       "model_id": "51dbe16dfb504242a800519d81fabb5f",
       "version_major": 2,
       "version_minor": 0
      },
      "text/plain": [
       "  0%|          | 0/16 [00:00<?, ?it/s]"
      ]
     },
     "metadata": {},
     "output_type": "display_data"
    },
    {
     "data": {
      "text/latex": [
       "Ricci Scalar $R$"
      ],
      "text/plain": [
       "<IPython.core.display.Latex object>"
      ]
     },
     "metadata": {},
     "output_type": "display_data"
    },
    {
     "data": {
      "text/latex": [
       "$\\displaystyle \\frac{6 \\left(k + a{\\left(t \\right)} \\frac{d^{2}}{d t^{2}} a{\\left(t \\right)} + \\left(\\frac{d}{d t} a{\\left(t \\right)}\\right)^{2}\\right)}{a^{2}{\\left(t \\right)}}$"
      ],
      "text/plain": [
       "<IPython.core.display.Math object>"
      ]
     },
     "metadata": {},
     "output_type": "display_data"
    }
   ],
   "source": [
    "S=pt.riccis()\n",
    "S.simplify()\n",
    "pt.display(S)"
   ]
  },
  {
   "cell_type": "code",
   "execution_count": 13,
   "id": "650d0012",
   "metadata": {},
   "outputs": [
    {
     "data": {
      "text/latex": [
       "Einstein Tensor $G_{\\alpha \\beta}$"
      ],
      "text/plain": [
       "<IPython.core.display.Latex object>"
      ]
     },
     "metadata": {},
     "output_type": "display_data"
    },
    {
     "data": {
      "application/vnd.jupyter.widget-view+json": {
       "model_id": "65be00c561754253bde51580ff74d6c6",
       "version_major": 2,
       "version_minor": 0
      },
      "text/plain": [
       "  0%|          | 0/16 [00:00<?, ?it/s]"
      ]
     },
     "metadata": {},
     "output_type": "display_data"
    },
    {
     "data": {
      "text/latex": [
       "$\\displaystyle {G}{}_{0}\\,{}_{0}\\, = \\frac{3 \\left(k + \\left(\\frac{d}{d t} a{\\left(t \\right)}\\right)^{2}\\right)}{a^{2}{\\left(t \\right)}}$"
      ],
      "text/plain": [
       "<IPython.core.display.Math object>"
      ]
     },
     "metadata": {},
     "output_type": "display_data"
    },
    {
     "data": {
      "text/latex": [
       "$\\displaystyle {G}{}_{1}\\,{}_{1}\\, = \\frac{k + 2 a{\\left(t \\right)} \\frac{d^{2}}{d t^{2}} a{\\left(t \\right)} + \\left(\\frac{d}{d t} a{\\left(t \\right)}\\right)^{2}}{k r^{2} - 1}$"
      ],
      "text/plain": [
       "<IPython.core.display.Math object>"
      ]
     },
     "metadata": {},
     "output_type": "display_data"
    },
    {
     "data": {
      "text/latex": [
       "$\\displaystyle {G}{}_{2}\\,{}_{2}\\, = - r^{2} \\left(k + 2 a{\\left(t \\right)} \\frac{d^{2}}{d t^{2}} a{\\left(t \\right)} + \\left(\\frac{d}{d t} a{\\left(t \\right)}\\right)^{2}\\right)$"
      ],
      "text/plain": [
       "<IPython.core.display.Math object>"
      ]
     },
     "metadata": {},
     "output_type": "display_data"
    },
    {
     "data": {
      "text/latex": [
       "$\\displaystyle {G}{}_{3}\\,{}_{3}\\, = - r^{2} \\left(k + 2 a{\\left(t \\right)} \\frac{d^{2}}{d t^{2}} a{\\left(t \\right)} + \\left(\\frac{d}{d t} a{\\left(t \\right)}\\right)^{2}\\right) \\sin^{2}{\\left(\\theta \\right)}$"
      ],
      "text/plain": [
       "<IPython.core.display.Math object>"
      ]
     },
     "metadata": {},
     "output_type": "display_data"
    }
   ],
   "source": [
    "# To calculate all the combinations:\n",
    "# G = pt.einstein(All = True)\n",
    "# To show the tensor components as a list:\n",
    "# G.display(aslist = True)\n",
    "\n",
    "\n",
    "G = pt.einstein()\n",
    "G.display(aslist=True)"
   ]
  },
  {
   "cell_type": "code",
   "execution_count": 14,
   "id": "cab8e3fd",
   "metadata": {},
   "outputs": [
    {
     "data": {
      "text/latex": [
       "$\\displaystyle \\left[\\begin{matrix}\\frac{3 \\left(k + \\left(\\frac{d}{d t} a{\\left(t \\right)}\\right)^{2}\\right)}{a^{2}{\\left(t \\right)}} & 0 & 0 & 0\\\\0 & \\frac{k + 2 a{\\left(t \\right)} \\frac{d^{2}}{d t^{2}} a{\\left(t \\right)} + \\left(\\frac{d}{d t} a{\\left(t \\right)}\\right)^{2}}{k r^{2} - 1} & 0 & 0\\\\0 & 0 & - r^{2} \\left(k + 2 a{\\left(t \\right)} \\frac{d^{2}}{d t^{2}} a{\\left(t \\right)} + \\left(\\frac{d}{d t} a{\\left(t \\right)}\\right)^{2}\\right) & 0\\\\0 & 0 & 0 & - r^{2} \\left(k + 2 a{\\left(t \\right)} \\frac{d^{2}}{d t^{2}} a{\\left(t \\right)} + \\left(\\frac{d}{d t} a{\\left(t \\right)}\\right)^{2}\\right) \\sin^{2}{\\left(\\theta \\right)}\\end{matrix}\\right]$"
      ],
      "text/plain": [
       "⎡  ⎛              2⎞                                                          \n",
       "⎢  ⎜    ⎛d       ⎞ ⎟                                                          \n",
       "⎢3⋅⎜k + ⎜──(a(t))⎟ ⎟                                                          \n",
       "⎢  ⎝    ⎝dt      ⎠ ⎠                                                          \n",
       "⎢───────────────────                  0                                      0\n",
       "⎢        2                                                                    \n",
       "⎢       a (t)                                                                 \n",
       "⎢                                                                             \n",
       "⎢                                  2                   2                      \n",
       "⎢                                 d          ⎛d       ⎞                       \n",
       "⎢                     k + 2⋅a(t)⋅───(a(t)) + ⎜──(a(t))⎟                       \n",
       "⎢                                  2         ⎝dt      ⎠                       \n",
       "⎢                                dt                                           \n",
       "⎢         0           ──────────────────────────────────                     0\n",
       "⎢                                     2                                       \n",
       "⎢                                  k⋅r  - 1                                   \n",
       "⎢                                                                             \n",
       "⎢                                                             ⎛             2 \n",
       "⎢                                                           2 ⎜            d  \n",
       "⎢         0                           0                   -r ⋅⎜k + 2⋅a(t)⋅───(\n",
       "⎢                                                             ⎜             2 \n",
       "⎢                                                             ⎝           dt  \n",
       "⎢                                                                             \n",
       "⎢                                                                             \n",
       "⎢                                                                             \n",
       "⎢         0                           0                                      0\n",
       "⎢                                                                             \n",
       "⎣                                                                             \n",
       "\n",
       "                                                                      ⎤\n",
       "                                                                      ⎥\n",
       "                                                                      ⎥\n",
       "                                                                      ⎥\n",
       "                                             0                        ⎥\n",
       "                                                                      ⎥\n",
       "                                                                      ⎥\n",
       "                                                                      ⎥\n",
       "                                                                      ⎥\n",
       "                                                                      ⎥\n",
       "                                                                      ⎥\n",
       "                                                                      ⎥\n",
       "                                                                      ⎥\n",
       "                                             0                        ⎥\n",
       "                                                                      ⎥\n",
       "                                                                      ⎥\n",
       "                                                                      ⎥\n",
       "                  2⎞                                                  ⎥\n",
       "        ⎛d       ⎞ ⎟                                                  ⎥\n",
       "a(t)) + ⎜──(a(t))⎟ ⎟                         0                        ⎥\n",
       "        ⎝dt      ⎠ ⎟                                                  ⎥\n",
       "                   ⎠                                                  ⎥\n",
       "                                                                      ⎥\n",
       "                          ⎛             2                   2⎞        ⎥\n",
       "                        2 ⎜            d          ⎛d       ⎞ ⎟    2   ⎥\n",
       "                      -r ⋅⎜k + 2⋅a(t)⋅───(a(t)) + ⎜──(a(t))⎟ ⎟⋅sin (θ)⎥\n",
       "                          ⎜             2         ⎝dt      ⎠ ⎟        ⎥\n",
       "                          ⎝           dt                     ⎠        ⎦"
      ]
     },
     "metadata": {},
     "output_type": "display_data"
    },
    {
     "name": "stdout",
     "output_type": "stream",
     "text": [
      "\n"
     ]
    }
   ],
   "source": [
    "print(G)"
   ]
  },
  {
   "cell_type": "code",
   "execution_count": 15,
   "id": "ddd48049",
   "metadata": {},
   "outputs": [],
   "source": [
    "# To define an arbitrary tensor, indicating the name and rank of the tensor.\n",
    "U=pt.ten(\"U\",1)"
   ]
  },
  {
   "cell_type": "code",
   "execution_count": 16,
   "id": "fca8e456",
   "metadata": {},
   "outputs": [
    {
     "name": "stdout",
     "output_type": "stream",
     "text": [
      "Elements assigned correctly to the ^ components\n"
     ]
    },
    {
     "data": {
      "text/latex": [
       "$\\displaystyle \\left[\\begin{matrix}1\\\\0\\\\0\\\\0\\end{matrix}\\right]$"
      ],
      "text/plain": [
       "⎡1⎤\n",
       "⎢ ⎥\n",
       "⎢0⎥\n",
       "⎢ ⎥\n",
       "⎢0⎥\n",
       "⎢ ⎥\n",
       "⎣0⎦"
      ]
     },
     "metadata": {},
     "output_type": "display_data"
    }
   ],
   "source": [
    "# To assign a list or array (even numpy arrays) to a particular component of the tensor.\n",
    "U.assign([1,0,0,0],\"^\")\n",
    "# Display the tensor, or vector in this particular example.\n",
    "U.display(\"^\")"
   ]
  },
  {
   "cell_type": "code",
   "execution_count": 17,
   "id": "cf16ce3c",
   "metadata": {},
   "outputs": [
    {
     "data": {
      "text/latex": [
       "$\\displaystyle \\left[\\begin{matrix}\\text{NaN} & \\text{NaN} & \\text{NaN} & \\text{NaN}\\end{matrix}\\right]$"
      ],
      "text/plain": [
       "[nan  nan  nan  nan]"
      ]
     },
     "metadata": {},
     "output_type": "display_data"
    }
   ],
   "source": [
    "U.display('_')"
   ]
  },
  {
   "cell_type": "code",
   "execution_count": 18,
   "id": "3deff21d",
   "metadata": {},
   "outputs": [
    {
     "name": "stdout",
     "output_type": "stream",
     "text": [
      "Elements assigned correctly to the ^mu,^nu components\n"
     ]
    },
    {
     "data": {
      "text/latex": [
       "$\\displaystyle \\left[\\begin{matrix}\\rho{\\left(t \\right)} & 0 & 0 & 0\\\\0 & \\frac{\\left(- k r^{2} + 1\\right) P{\\left(t \\right)}}{a^{2}{\\left(t \\right)}} & 0 & 0\\\\0 & 0 & \\frac{P{\\left(t \\right)}}{r^{2} a^{2}{\\left(t \\right)}} & 0\\\\0 & 0 & 0 & \\frac{P{\\left(t \\right)}}{r^{2} a^{2}{\\left(t \\right)} \\sin^{2}{\\left(\\theta \\right)}}\\end{matrix}\\right]$"
      ],
      "text/plain": [
       "⎡ρ(t)          0             0             0        ⎤\n",
       "⎢                                                   ⎥\n",
       "⎢      ⎛     2    ⎞                                 ⎥\n",
       "⎢      ⎝- k⋅r  + 1⎠⋅P(t)                            ⎥\n",
       "⎢ 0    ─────────────────     0             0        ⎥\n",
       "⎢             2                                     ⎥\n",
       "⎢            a (t)                                  ⎥\n",
       "⎢                                                   ⎥\n",
       "⎢                           P(t)                    ⎥\n",
       "⎢ 0            0          ────────         0        ⎥\n",
       "⎢                          2  2                     ⎥\n",
       "⎢                         r ⋅a (t)                  ⎥\n",
       "⎢                                                   ⎥\n",
       "⎢                                         P(t)      ⎥\n",
       "⎢ 0            0             0      ────────────────⎥\n",
       "⎢                                    2  2       2   ⎥\n",
       "⎣                                   r ⋅a (t)⋅sin (θ)⎦"
      ]
     },
     "metadata": {},
     "output_type": "display_data"
    }
   ],
   "source": [
    "rho=pt.fun(\"rho\",\"t\")\n",
    "P=pt.fun(\"P\",\"t\")\n",
    "T=pt.ten(\"T\",2)\n",
    "val=(rho+P)*U(\"^mu\")*U(\"^nu\")+P*g(\"^mu,^nu\")\n",
    "T.assign(val,\"^mu,^nu\")\n",
    "\n",
    "# One could also save the result of a tensor operation in a variable\n",
    "# For example: T_value = (rho+P/c**2)*U(\"^mu\")*U(\"^nu\")-P*g(\"^mu,^nu\")\n",
    "# And then, to assing that value to the tensor: \n",
    "# T.assign(T_value,'^mu,^nu')\n",
    "\n",
    "T.simplify()\n",
    "T.display(\"^,^\")\n"
   ]
  },
  {
   "cell_type": "code",
   "execution_count": 19,
   "id": "0aeb5f3e",
   "metadata": {},
   "outputs": [
    {
     "data": {
      "application/vnd.jupyter.widget-view+json": {
       "model_id": "6ad4a7bdd0084a2c99bcf7ffbb24075c",
       "version_major": 2,
       "version_minor": 0
      },
      "text/plain": [
       "T Tensor $T{_\\alpha}{^\\beta}$:   0%|          | 0/16 [00:00<?, ?it/s]"
      ]
     },
     "metadata": {},
     "output_type": "display_data"
    },
    {
     "data": {
      "application/vnd.jupyter.widget-view+json": {
       "model_id": "767c5c308e334013af14c129e3c99fbd",
       "version_major": 2,
       "version_minor": 0
      },
      "text/plain": [
       "T Tensor $T{_\\alpha}{_\\beta}$:   0%|          | 0/16 [00:00<?, ?it/s]"
      ]
     },
     "metadata": {},
     "output_type": "display_data"
    },
    {
     "data": {
      "application/vnd.jupyter.widget-view+json": {
       "model_id": "d5b98a9b34004c11a3096d3fdb7dbfbb",
       "version_major": 2,
       "version_minor": 0
      },
      "text/plain": [
       "T Tensor $T{^\\alpha}{_\\beta}$:   0%|          | 0/16 [00:00<?, ?it/s]"
      ]
     },
     "metadata": {},
     "output_type": "display_data"
    },
    {
     "data": {
      "text/latex": [
       "All other indices of T Tensor $T$  already calculated."
      ],
      "text/plain": [
       "<IPython.core.display.Latex object>"
      ]
     },
     "metadata": {},
     "output_type": "display_data"
    },
    {
     "data": {
      "text/latex": [
       "$\\displaystyle \\left[\\begin{matrix}\\rho{\\left(t \\right)} & 0 & 0 & 0\\\\0 & - \\frac{P{\\left(t \\right)} a^{2}{\\left(t \\right)}}{k r^{2} - 1} & 0 & 0\\\\0 & 0 & r^{2} P{\\left(t \\right)} a^{2}{\\left(t \\right)} & 0\\\\0 & 0 & 0 & r^{2} P{\\left(t \\right)} a^{2}{\\left(t \\right)} \\sin^{2}{\\left(\\theta \\right)}\\end{matrix}\\right]$"
      ],
      "text/plain": [
       "⎡ρ(t)       0              0                  0          ⎤\n",
       "⎢                                                        ⎥\n",
       "⎢             2                                          ⎥\n",
       "⎢      -P(t)⋅a (t)                                       ⎥\n",
       "⎢ 0    ────────────        0                  0          ⎥\n",
       "⎢           2                                            ⎥\n",
       "⎢        k⋅r  - 1                                        ⎥\n",
       "⎢                                                        ⎥\n",
       "⎢                     2       2                          ⎥\n",
       "⎢ 0         0        r ⋅P(t)⋅a (t)            0          ⎥\n",
       "⎢                                                        ⎥\n",
       "⎢                                    2       2       2   ⎥\n",
       "⎣ 0         0              0        r ⋅P(t)⋅a (t)⋅sin (θ)⎦"
      ]
     },
     "metadata": {},
     "output_type": "display_data"
    }
   ],
   "source": [
    "# To calculate the rest of indices combinations of the tensor:\n",
    "T.complete('^,^')\n",
    "T.simplify()\n",
    "T_components=T.display('_,_')\n"
   ]
  },
  {
   "cell_type": "code",
   "execution_count": 20,
   "id": "1836da98",
   "metadata": {
    "scrolled": true
   },
   "outputs": [
    {
     "name": "stdout",
     "output_type": "stream",
     "text": [
      "Elements assigned correctly to the ^mu components\n"
     ]
    },
    {
     "data": {
      "text/latex": [
       "$\\displaystyle \\left[\\begin{matrix}\\frac{3 P{\\left(t \\right)} \\frac{d}{d t} a{\\left(t \\right)} + a{\\left(t \\right)} \\frac{d}{d t} \\rho{\\left(t \\right)} + 3 \\rho{\\left(t \\right)} \\frac{d}{d t} a{\\left(t \\right)}}{a{\\left(t \\right)}}\\\\0\\\\0\\\\0\\end{matrix}\\right]$"
      ],
      "text/plain": [
       "⎡       d               d                 d       ⎤\n",
       "⎢3⋅P(t)⋅──(a(t)) + a(t)⋅──(ρ(t)) + 3⋅ρ(t)⋅──(a(t))⎥\n",
       "⎢       dt              dt                dt      ⎥\n",
       "⎢─────────────────────────────────────────────────⎥\n",
       "⎢                       a(t)                      ⎥\n",
       "⎢                                                 ⎥\n",
       "⎢                        0                        ⎥\n",
       "⎢                                                 ⎥\n",
       "⎢                        0                        ⎥\n",
       "⎢                                                 ⎥\n",
       "⎣                        0                        ⎦"
      ]
     },
     "metadata": {},
     "output_type": "display_data"
    }
   ],
   "source": [
    "data = pt.C(T(\"^mu,^nu\"),\"_nu\")\n",
    "cons = pt.ten('cons',1)\n",
    "cons.assign(data,\"^mu\")\n",
    "cons.simplify()\n",
    "cons.display('^')"
   ]
  },
  {
   "cell_type": "code",
   "execution_count": 21,
   "id": "4a64102e",
   "metadata": {},
   "outputs": [],
   "source": [
    "t, r, theta, phi = sp.symbols('t r theta phi')\n",
    "a = sp.Function('a')\n",
    "k = sp.symbols('k')\n",
    "c = sp.symbols('c')\n",
    "\n",
    "rho = sp.Function('rho')\n",
    "P = sp.Function('P')"
   ]
  },
  {
   "cell_type": "code",
   "execution_count": 22,
   "id": "d33d6919",
   "metadata": {},
   "outputs": [],
   "source": [
    "G_00, G_11, G_22, G_33, T_00, T_11, T_22, T_33 = sp.symbols(\n",
    "    'G_00 G_11 G_22 G_33 T_00 T_11 T_22 T_33'\n",
    ")"
   ]
  },
  {
   "cell_type": "code",
   "execution_count": 23,
   "id": "6c90d303",
   "metadata": {},
   "outputs": [],
   "source": [
    "G_00=3*(k+sp.diff(a(t),t)**2)/(a(t)**2)\n",
    "G_11=(k+2*a(t)*sp.diff(a(t),t,t)+(sp.diff(a(t),t))**2)/(k*r**2 -1)\n",
    "\n",
    "T_00=rho(t)\n",
    "T_11=P(t)*(a(t)**2)/(1- k*r**2)"
   ]
  },
  {
   "cell_type": "code",
   "execution_count": 24,
   "id": "643af0f7",
   "metadata": {},
   "outputs": [
    {
     "data": {
      "image/png": "[encoded data removed]",
      "text/latex": [
       "$\\displaystyle \\frac{3 k + 3 \\left(\\frac{d}{d t} a{\\left(t \\right)}\\right)^{2}}{a^{2}{\\left(t \\right)}} = 8 \\pi \\rho{\\left(t \\right)}$"
      ],
      "text/plain": [
       "                  2           \n",
       "        ⎛d       ⎞            \n",
       "3⋅k + 3⋅⎜──(a(t))⎟            \n",
       "        ⎝dt      ⎠            \n",
       "─────────────────── = 8⋅π⋅ρ(t)\n",
       "        2                     \n",
       "       a (t)                  "
      ]
     },
     "execution_count": 24,
     "metadata": {},
     "output_type": "execute_result"
    }
   ],
   "source": [
    "einst_eq_1 = sp.Eq( G_00, 8 * sp.pi * T_00 )\n",
    "einst_eq_1"
   ]
  },
  {
   "cell_type": "code",
   "execution_count": 25,
   "id": "2974be96",
   "metadata": {},
   "outputs": [
    {
     "data": {
      "image/png": "[encoded data removed]",
      "text/latex": [
       "$\\displaystyle \\frac{k + 2 a{\\left(t \\right)} \\frac{d^{2}}{d t^{2}} a{\\left(t \\right)} + \\left(\\frac{d}{d t} a{\\left(t \\right)}\\right)^{2}}{k r^{2} - 1} = \\frac{8 \\pi P{\\left(t \\right)} a^{2}{\\left(t \\right)}}{- k r^{2} + 1}$"
      ],
      "text/plain": [
       "             2                   2                 \n",
       "            d          ⎛d       ⎞                  \n",
       "k + 2⋅a(t)⋅───(a(t)) + ⎜──(a(t))⎟                  \n",
       "             2         ⎝dt      ⎠              2   \n",
       "           dt                        8⋅π⋅P(t)⋅a (t)\n",
       "────────────────────────────────── = ──────────────\n",
       "                2                           2      \n",
       "             k⋅r  - 1                  - k⋅r  + 1  "
      ]
     },
     "execution_count": 25,
     "metadata": {},
     "output_type": "execute_result"
    }
   ],
   "source": [
    "einst_eq_2 = sp.Eq( G_11, 8 * sp.pi * T_11 )\n",
    "einst_eq_2"
   ]
  },
  {
   "cell_type": "code",
   "execution_count": 26,
   "id": "81491e6e",
   "metadata": {},
   "outputs": [
    {
     "data": {
      "image/png": "[encoded data removed]",
      "text/latex": [
       "$\\displaystyle \\frac{3 \\left(k + \\left(\\frac{d}{d t} a{\\left(t \\right)}\\right)^{2}\\right)}{8 \\pi a^{2}{\\left(t \\right)}}$"
      ],
      "text/plain": [
       "  ⎛              2⎞\n",
       "  ⎜    ⎛d       ⎞ ⎟\n",
       "3⋅⎜k + ⎜──(a(t))⎟ ⎟\n",
       "  ⎝    ⎝dt      ⎠ ⎠\n",
       "───────────────────\n",
       "          2        \n",
       "     8⋅π⋅a (t)     "
      ]
     },
     "execution_count": 26,
     "metadata": {},
     "output_type": "execute_result"
    }
   ],
   "source": [
    "solution_1=sp.solve(einst_eq_1,rho(t))[0]\n",
    "solution_1"
   ]
  },
  {
   "cell_type": "code",
   "execution_count": 27,
   "id": "e65ea21b",
   "metadata": {},
   "outputs": [
    {
     "data": {
      "image/png": "[encoded data removed]",
      "text/latex": [
       "$\\displaystyle \\left[ \\frac{- k - 2 a{\\left(t \\right)} \\frac{d^{2}}{d t^{2}} a{\\left(t \\right)} - \\left(\\frac{d}{d t} a{\\left(t \\right)}\\right)^{2}}{8 \\pi a^{2}{\\left(t \\right)}}\\right]$"
      ],
      "text/plain": [
       "⎡              2                   2⎤\n",
       "⎢             d          ⎛d       ⎞ ⎥\n",
       "⎢-k - 2⋅a(t)⋅───(a(t)) - ⎜──(a(t))⎟ ⎥\n",
       "⎢              2         ⎝dt      ⎠ ⎥\n",
       "⎢            dt                     ⎥\n",
       "⎢───────────────────────────────────⎥\n",
       "⎢                  2                ⎥\n",
       "⎣             8⋅π⋅a (t)             ⎦"
      ]
     },
     "execution_count": 27,
     "metadata": {},
     "output_type": "execute_result"
    }
   ],
   "source": [
    "solution_2=sp.solve(einst_eq_2,P(t))\n",
    "solution_2"
   ]
  },
  {
   "cell_type": "code",
   "execution_count": 28,
   "id": "15ce66db",
   "metadata": {},
   "outputs": [],
   "source": [
    "mu=sp.symbols(\"mu\")"
   ]
  },
  {
   "cell_type": "code",
   "execution_count": 29,
   "id": "9277a069",
   "metadata": {},
   "outputs": [
    {
     "data": {
      "image/png": "[encoded data removed]",
      "text/latex": [
       "$\\displaystyle P{\\left(t \\right)} = \\mu \\rho{\\left(t \\right)}$"
      ],
      "text/plain": [
       "P(t) = μ⋅ρ(t)"
      ]
     },
     "execution_count": 29,
     "metadata": {},
     "output_type": "execute_result"
    }
   ],
   "source": [
    "eq=sp.Eq(P(t),mu*rho(t))\n",
    "eq"
   ]
  },
  {
   "cell_type": "code",
   "execution_count": 30,
   "id": "97e96057",
   "metadata": {},
   "outputs": [
    {
     "data": {
      "image/png": "[encoded data removed]",
      "text/latex": [
       "$\\displaystyle P{\\left(t \\right)} = 0$"
      ],
      "text/plain": [
       "P(t) = 0"
      ]
     },
     "execution_count": 30,
     "metadata": {},
     "output_type": "execute_result"
    }
   ],
   "source": [
    "eq_replaced=eq.subs(mu,0)\n",
    "eq_replaced"
   ]
  },
  {
   "cell_type": "code",
   "execution_count": 31,
   "id": "b761a491",
   "metadata": {},
   "outputs": [
    {
     "data": {
      "image/png": "[encoded data removed]",
      "text/latex": [
       "$\\displaystyle \\frac{3 \\left(P{\\left(t \\right)} + \\rho{\\left(t \\right)}\\right) \\frac{d}{d t} a{\\left(t \\right)}}{a{\\left(t \\right)}} + \\frac{d}{d t} \\rho{\\left(t \\right)} = 0$"
      ],
      "text/plain": [
       "                d                      \n",
       "3⋅(P(t) + ρ(t))⋅──(a(t))               \n",
       "                dt         d           \n",
       "──────────────────────── + ──(ρ(t)) = 0\n",
       "          a(t)             dt          "
      ]
     },
     "execution_count": 31,
     "metadata": {},
     "output_type": "execute_result"
    }
   ],
   "source": [
    "Cons_eq=sp.Eq(sp.diff(rho(t),t)+(3/a(t))*(rho(t)+P(t))*sp.diff(a(t),t),0)\n",
    "Cons_eq"
   ]
  },
  {
   "cell_type": "code",
   "execution_count": 32,
   "id": "ae03ff7a",
   "metadata": {},
   "outputs": [
    {
     "data": {
      "image/png": "[encoded data removed]",
      "text/latex": [
       "$\\displaystyle \\frac{d}{d t} \\rho{\\left(t \\right)} + \\frac{3 \\rho{\\left(t \\right)} \\frac{d}{d t} a{\\left(t \\right)}}{a{\\left(t \\right)}} = 0$"
      ],
      "text/plain": [
       "                  d           \n",
       "           3⋅ρ(t)⋅──(a(t))    \n",
       "d                 dt          \n",
       "──(ρ(t)) + ─────────────── = 0\n",
       "dt               a(t)         "
      ]
     },
     "execution_count": 32,
     "metadata": {},
     "output_type": "execute_result"
    }
   ],
   "source": [
    "Cons_eq_replaced=Cons_eq.subs(P(t),0)\n",
    "Cons_eq_replaced"
   ]
  },
  {
   "cell_type": "code",
   "execution_count": 33,
   "id": "6f6dc9ee",
   "metadata": {},
   "outputs": [
    {
     "data": {
      "image/png": "[encoded data removed]",
      "text/latex": [
       "$\\displaystyle \\frac{3 \\cdot \\left(3 k + 3 \\left(\\frac{d}{d t} a{\\left(t \\right)}\\right)^{2}\\right) \\frac{d}{d t} a{\\left(t \\right)}}{8 \\pi a^{3}{\\left(t \\right)}} + \\frac{\\partial}{\\partial t} \\frac{3 k + 3 \\left(\\frac{d}{d t} a{\\left(t \\right)}\\right)^{2}}{8 \\pi a^{2}{\\left(t \\right)}} = 0$"
      ],
      "text/plain": [
       "  ⎛                  2⎞              ⎛                  2⎞    \n",
       "  ⎜        ⎛d       ⎞ ⎟ d            ⎜        ⎛d       ⎞ ⎟    \n",
       "3⋅⎜3⋅k + 3⋅⎜──(a(t))⎟ ⎟⋅──(a(t))     ⎜3⋅k + 3⋅⎜──(a(t))⎟ ⎟    \n",
       "  ⎝        ⎝dt      ⎠ ⎠ dt         ∂ ⎜        ⎝dt      ⎠ ⎟    \n",
       "──────────────────────────────── + ──⎜───────────────────⎟ = 0\n",
       "                3                  ∂t⎜          2        ⎟    \n",
       "           8⋅π⋅a (t)                 ⎝     8⋅π⋅a (t)     ⎠    "
      ]
     },
     "execution_count": 33,
     "metadata": {},
     "output_type": "execute_result"
    }
   ],
   "source": [
    "Cons_eq_replaced_2=Cons_eq_replaced.subs(rho(t),1/(8*sp.pi) * G_00)\n",
    "Cons_eq_replaced_2"
   ]
  },
  {
   "cell_type": "code",
   "execution_count": 34,
   "id": "07f2df4a",
   "metadata": {},
   "outputs": [
    {
     "data": {
      "image/png": "[encoded data removed]",
      "text/latex": [
       "$\\displaystyle \\frac{\\frac{9 \\left(k + \\left(\\frac{d}{d t} a{\\left(t \\right)}\\right)^{2}\\right) \\frac{d}{d t} a{\\left(t \\right)}}{8} + \\pi \\left(- \\frac{3 \\left(k + \\left(\\frac{d}{d t} a{\\left(t \\right)}\\right)^{2}\\right) \\frac{d}{d t} a{\\left(t \\right)}}{4 \\pi a^{3}{\\left(t \\right)}} + \\frac{3 \\frac{d}{d t} a{\\left(t \\right)} \\frac{d^{2}}{d t^{2}} a{\\left(t \\right)}}{4 \\pi a^{2}{\\left(t \\right)}}\\right) a^{3}{\\left(t \\right)}}{\\pi a^{3}{\\left(t \\right)}} = 0$"
      ],
      "text/plain": [
       "                                 ⎛                                            \n",
       "  ⎛              2⎞              ⎜    ⎛              2⎞              d        \n",
       "  ⎜    ⎛d       ⎞ ⎟ d            ⎜    ⎜    ⎛d       ⎞ ⎟ d          3⋅──(a(t))⋅\n",
       "9⋅⎜k + ⎜──(a(t))⎟ ⎟⋅──(a(t))     ⎜  3⋅⎜k + ⎜──(a(t))⎟ ⎟⋅──(a(t))     dt       \n",
       "  ⎝    ⎝dt      ⎠ ⎠ dt           ⎜    ⎝    ⎝dt      ⎠ ⎠ dt                    \n",
       "──────────────────────────── + π⋅⎜- ──────────────────────────── + ───────────\n",
       "             8                   ⎜                3                          2\n",
       "                                 ⎝           4⋅π⋅a (t)                  4⋅π⋅a \n",
       "──────────────────────────────────────────────────────────────────────────────\n",
       "                                              3                               \n",
       "                                           π⋅a (t)                            \n",
       "\n",
       "  2      ⎞          \n",
       " d       ⎟          \n",
       "───(a(t))⎟          \n",
       "  2      ⎟          \n",
       "dt       ⎟  3       \n",
       "─────────⎟⋅a (t)    \n",
       "         ⎟          \n",
       "(t)      ⎠          \n",
       "──────────────── = 0\n",
       "                    \n",
       "                    "
      ]
     },
     "execution_count": 34,
     "metadata": {},
     "output_type": "execute_result"
    }
   ],
   "source": [
    "Cons_eq_simplify=sp.simplify(Cons_eq_replaced_2)\n",
    "Cons_eq_simplify"
   ]
  },
  {
   "cell_type": "code",
   "execution_count": 35,
   "id": "431eb053",
   "metadata": {},
   "outputs": [
    {
     "data": {
      "image/png": "[encoded data removed]",
      "text/latex": [
       "$\\displaystyle \\frac{\\pi \\left(- \\frac{3 \\left(\\left(\\frac{d}{d t} a{\\left(t \\right)}\\right)^{2} - 1\\right) \\frac{d}{d t} a{\\left(t \\right)}}{4 \\pi a^{3}{\\left(t \\right)}} + \\frac{3 \\frac{d}{d t} a{\\left(t \\right)} \\frac{d^{2}}{d t^{2}} a{\\left(t \\right)}}{4 \\pi a^{2}{\\left(t \\right)}}\\right) a^{3}{\\left(t \\right)} + \\frac{9 \\left(\\left(\\frac{d}{d t} a{\\left(t \\right)}\\right)^{2} - 1\\right) \\frac{d}{d t} a{\\left(t \\right)}}{8}}{\\pi a^{3}{\\left(t \\right)}} = 0$"
      ],
      "text/plain": [
       "  ⎛                                              2      ⎞                     \n",
       "  ⎜    ⎛          2    ⎞              d         d       ⎟           ⎛         \n",
       "  ⎜    ⎜⎛d       ⎞     ⎟ d          3⋅──(a(t))⋅───(a(t))⎟           ⎜⎛d       \n",
       "  ⎜  3⋅⎜⎜──(a(t))⎟  - 1⎟⋅──(a(t))     dt         2      ⎟         9⋅⎜⎜──(a(t))\n",
       "  ⎜    ⎝⎝dt      ⎠     ⎠ dt                    dt       ⎟  3        ⎝⎝dt      \n",
       "π⋅⎜- ──────────────────────────── + ────────────────────⎟⋅a (t) + ────────────\n",
       "  ⎜                3                          2         ⎟                     \n",
       "  ⎝           4⋅π⋅a (t)                  4⋅π⋅a (t)      ⎠                     \n",
       "──────────────────────────────────────────────────────────────────────────────\n",
       "                                              3                               \n",
       "                                           π⋅a (t)                            \n",
       "\n",
       "                    \n",
       " 2    ⎞             \n",
       "⎞     ⎟ d           \n",
       "⎟  - 1⎟⋅──(a(t))    \n",
       "⎠     ⎠ dt          \n",
       "────────────────    \n",
       " 8                  \n",
       "                    \n",
       "──────────────── = 0\n",
       "                    \n",
       "                    "
      ]
     },
     "execution_count": 35,
     "metadata": {},
     "output_type": "execute_result"
    }
   ],
   "source": [
    "Cons_eq_1=Cons_eq_simplify.subs(k,-1)\n",
    "Cons_eq_1"
   ]
  },
  {
   "cell_type": "code",
   "execution_count": 36,
   "id": "ea308804",
   "metadata": {},
   "outputs": [
    {
     "data": {
      "image/png": "[encoded data removed]",
      "text/latex": [
       "$\\displaystyle \\frac{3 \\cdot \\left(2 a{\\left(t \\right)} \\frac{d^{2}}{d t^{2}} a{\\left(t \\right)} + \\left(\\frac{d}{d t} a{\\left(t \\right)}\\right)^{2} - 1\\right) \\frac{d}{d t} a{\\left(t \\right)}}{8 \\pi a^{3}{\\left(t \\right)}} = 0$"
      ],
      "text/plain": [
       "  ⎛         2                   2    ⎞             \n",
       "  ⎜        d          ⎛d       ⎞     ⎟ d           \n",
       "3⋅⎜2⋅a(t)⋅───(a(t)) + ⎜──(a(t))⎟  - 1⎟⋅──(a(t))    \n",
       "  ⎜         2         ⎝dt      ⎠     ⎟ dt          \n",
       "  ⎝       dt                         ⎠             \n",
       "─────────────────────────────────────────────── = 0\n",
       "                        3                          \n",
       "                   8⋅π⋅a (t)                       "
      ]
     },
     "execution_count": 36,
     "metadata": {},
     "output_type": "execute_result"
    }
   ],
   "source": [
    "Cons_eq_1_simplify=sp.simplify(Cons_eq_1)\n",
    "Cons_eq_1_simplify"
   ]
  },
  {
   "cell_type": "code",
   "execution_count": 37,
   "id": "550add66",
   "metadata": {},
   "outputs": [
    {
     "data": {
      "image/png": "[encoded data removed]",
      "text/plain": [
       "<Figure size 640x480 with 1 Axes>"
      ]
     },
     "metadata": {},
     "output_type": "display_data"
    }
   ],
   "source": [
    "from scipy.integrate import solve_ivp\n",
    "import numpy as np\n",
    "import matplotlib.pyplot as plt\n",
    "\n",
    "# Define the ODE system\n",
    "def ode_system(t, y):\n",
    "    y1, y2 = y\n",
    "    dy1_dt = y2\n",
    "    dy2_dt = -0.5 * (y2**2) / y1 + 1/(2*y1)\n",
    "    return [dy1_dt, dy2_dt]\n",
    "\n",
    "# Initial conditions\n",
    "y1_0 = 1.0  # Initial value for a(t)\n",
    "y2_0 = 0.1  # Initial value for a'(t)\n",
    "y0 = [y1_0, y2_0]\n",
    "\n",
    "# Time span for the solution\n",
    "t_span = (0, 10)\n",
    "t_eval = np.linspace(*t_span, 400)\n",
    "\n",
    "# Solve the system of ODEs\n",
    "sol = solve_ivp(ode_system, t_span, y0, t_eval=t_eval)\n",
    "\n",
    "# Extract the solution\n",
    "a_vals = sol.y[0]  # y1 = a(t) values\n",
    "\n",
    "# Plot the solution for a(t)\n",
    "plt.plot(sol.t, a_vals)\n",
    "plt.xlabel('t')\n",
    "plt.ylabel('a(t)')\n",
    "plt.title('Numerical Solution of the Differential Equation for k=-1')\n",
    "plt.grid(True)\n",
    "plt.show()"
   ]
  },
  {
   "cell_type": "code",
   "execution_count": 38,
   "id": "3dd8fb01",
   "metadata": {},
   "outputs": [
    {
     "data": {
      "image/png": "[encoded data removed]",
      "text/latex": [
       "$\\displaystyle \\frac{\\pi \\left(\\frac{3 \\frac{d}{d t} a{\\left(t \\right)} \\frac{d^{2}}{d t^{2}} a{\\left(t \\right)}}{4 \\pi a^{2}{\\left(t \\right)}} - \\frac{3 \\left(\\frac{d}{d t} a{\\left(t \\right)}\\right)^{3}}{4 \\pi a^{3}{\\left(t \\right)}}\\right) a^{3}{\\left(t \\right)} + \\frac{9 \\left(\\frac{d}{d t} a{\\left(t \\right)}\\right)^{3}}{8}}{\\pi a^{3}{\\left(t \\right)}} = 0$"
      ],
      "text/plain": [
       "  ⎛             2                      ⎞                          \n",
       "  ⎜  d         d                      3⎟                     3    \n",
       "  ⎜3⋅──(a(t))⋅───(a(t))     ⎛d       ⎞ ⎟           ⎛d       ⎞     \n",
       "  ⎜  dt         2         3⋅⎜──(a(t))⎟ ⎟         9⋅⎜──(a(t))⎟     \n",
       "  ⎜           dt            ⎝dt      ⎠ ⎟  3        ⎝dt      ⎠     \n",
       "π⋅⎜──────────────────── - ─────────────⎟⋅a (t) + ─────────────    \n",
       "  ⎜          2                   3     ⎟               8          \n",
       "  ⎝     4⋅π⋅a (t)           4⋅π⋅a (t)  ⎠                          \n",
       "────────────────────────────────────────────────────────────── = 0\n",
       "                              3                                   \n",
       "                           π⋅a (t)                                "
      ]
     },
     "execution_count": 38,
     "metadata": {},
     "output_type": "execute_result"
    }
   ],
   "source": [
    "Cons_eq_2=Cons_eq_simplify.subs(k,0)\n",
    "Cons_eq_2"
   ]
  },
  {
   "cell_type": "code",
   "execution_count": 39,
   "id": "415af812",
   "metadata": {},
   "outputs": [
    {
     "data": {
      "image/png": "[encoded data removed]",
      "text/latex": [
       "$\\displaystyle \\frac{3 \\cdot \\left(2 a{\\left(t \\right)} \\frac{d^{2}}{d t^{2}} a{\\left(t \\right)} + \\left(\\frac{d}{d t} a{\\left(t \\right)}\\right)^{2}\\right) \\frac{d}{d t} a{\\left(t \\right)}}{8 \\pi a^{3}{\\left(t \\right)}} = 0$"
      ],
      "text/plain": [
       "  ⎛         2                   2⎞             \n",
       "  ⎜        d          ⎛d       ⎞ ⎟ d           \n",
       "3⋅⎜2⋅a(t)⋅───(a(t)) + ⎜──(a(t))⎟ ⎟⋅──(a(t))    \n",
       "  ⎜         2         ⎝dt      ⎠ ⎟ dt          \n",
       "  ⎝       dt                     ⎠             \n",
       "─────────────────────────────────────────── = 0\n",
       "                      3                        \n",
       "                 8⋅π⋅a (t)                     "
      ]
     },
     "execution_count": 39,
     "metadata": {},
     "output_type": "execute_result"
    }
   ],
   "source": [
    "Cons_eq_2_simplify=sp.simplify(Cons_eq_2)\n",
    "Cons_eq_2_simplify"
   ]
  },
  {
   "cell_type": "code",
   "execution_count": 40,
   "id": "b2b6b4b5",
   "metadata": {},
   "outputs": [
    {
     "data": {
      "image/png": "[encoded data removed]",
      "text/plain": [
       "<Figure size 640x480 with 1 Axes>"
      ]
     },
     "metadata": {},
     "output_type": "display_data"
    }
   ],
   "source": [
    "from scipy.integrate import solve_ivp\n",
    "import numpy as np\n",
    "import matplotlib.pyplot as plt\n",
    "\n",
    "# Define the ODE system\n",
    "def ode_system(t, y):\n",
    "    y1, y2 = y\n",
    "    dy1_dt = y2\n",
    "    dy2_dt = -0.5 * (y2**2) / y1\n",
    "    return [dy1_dt, dy2_dt]\n",
    "\n",
    "# Initial conditions\n",
    "y1_0 = 1.0  # Initial value for a(t)\n",
    "y2_0 = 0.1  # Initial value for a'(t)\n",
    "y0 = [y1_0, y2_0]\n",
    "\n",
    "# Time span for the solution\n",
    "t_span = (0, 10)\n",
    "t_eval = np.linspace(*t_span, 400)\n",
    "\n",
    "# Solve the system of ODEs\n",
    "sol = solve_ivp(ode_system, t_span, y0, t_eval=t_eval)\n",
    "\n",
    "# Extract the solution\n",
    "a_vals = sol.y[0]  # y1 = a(t) values\n",
    "\n",
    "# Plot the solution for a(t)\n",
    "plt.plot(sol.t, a_vals)\n",
    "plt.xlabel('t')\n",
    "plt.ylabel('a(t)')\n",
    "plt.title('Numerical Solution of the Differential Equation for k=0')\n",
    "plt.grid(True)\n",
    "plt.show()\n"
   ]
  },
  {
   "cell_type": "code",
   "execution_count": 41,
   "id": "ab7ae8fc",
   "metadata": {},
   "outputs": [
    {
     "data": {
      "image/png": "[encoded data removed]",
      "text/latex": [
       "$\\displaystyle \\frac{\\pi \\left(- \\frac{3 \\left(\\left(\\frac{d}{d t} a{\\left(t \\right)}\\right)^{2} + 1\\right) \\frac{d}{d t} a{\\left(t \\right)}}{4 \\pi a^{3}{\\left(t \\right)}} + \\frac{3 \\frac{d}{d t} a{\\left(t \\right)} \\frac{d^{2}}{d t^{2}} a{\\left(t \\right)}}{4 \\pi a^{2}{\\left(t \\right)}}\\right) a^{3}{\\left(t \\right)} + \\frac{9 \\left(\\left(\\frac{d}{d t} a{\\left(t \\right)}\\right)^{2} + 1\\right) \\frac{d}{d t} a{\\left(t \\right)}}{8}}{\\pi a^{3}{\\left(t \\right)}} = 0$"
      ],
      "text/plain": [
       "  ⎛                                              2      ⎞                     \n",
       "  ⎜    ⎛          2    ⎞              d         d       ⎟           ⎛         \n",
       "  ⎜    ⎜⎛d       ⎞     ⎟ d          3⋅──(a(t))⋅───(a(t))⎟           ⎜⎛d       \n",
       "  ⎜  3⋅⎜⎜──(a(t))⎟  + 1⎟⋅──(a(t))     dt         2      ⎟         9⋅⎜⎜──(a(t))\n",
       "  ⎜    ⎝⎝dt      ⎠     ⎠ dt                    dt       ⎟  3        ⎝⎝dt      \n",
       "π⋅⎜- ──────────────────────────── + ────────────────────⎟⋅a (t) + ────────────\n",
       "  ⎜                3                          2         ⎟                     \n",
       "  ⎝           4⋅π⋅a (t)                  4⋅π⋅a (t)      ⎠                     \n",
       "──────────────────────────────────────────────────────────────────────────────\n",
       "                                              3                               \n",
       "                                           π⋅a (t)                            \n",
       "\n",
       "                    \n",
       " 2    ⎞             \n",
       "⎞     ⎟ d           \n",
       "⎟  + 1⎟⋅──(a(t))    \n",
       "⎠     ⎠ dt          \n",
       "────────────────    \n",
       " 8                  \n",
       "                    \n",
       "──────────────── = 0\n",
       "                    \n",
       "                    "
      ]
     },
     "execution_count": 41,
     "metadata": {},
     "output_type": "execute_result"
    }
   ],
   "source": [
    "Cons_eq_3=Cons_eq_simplify.subs(k,1)\n",
    "Cons_eq_3"
   ]
  },
  {
   "cell_type": "code",
   "execution_count": 42,
   "id": "1c2d8136",
   "metadata": {},
   "outputs": [
    {
     "data": {
      "image/png": "[encoded data removed]",
      "text/latex": [
       "$\\displaystyle \\frac{3 \\cdot \\left(2 a{\\left(t \\right)} \\frac{d^{2}}{d t^{2}} a{\\left(t \\right)} + \\left(\\frac{d}{d t} a{\\left(t \\right)}\\right)^{2} + 1\\right) \\frac{d}{d t} a{\\left(t \\right)}}{8 \\pi a^{3}{\\left(t \\right)}} = 0$"
      ],
      "text/plain": [
       "  ⎛         2                   2    ⎞             \n",
       "  ⎜        d          ⎛d       ⎞     ⎟ d           \n",
       "3⋅⎜2⋅a(t)⋅───(a(t)) + ⎜──(a(t))⎟  + 1⎟⋅──(a(t))    \n",
       "  ⎜         2         ⎝dt      ⎠     ⎟ dt          \n",
       "  ⎝       dt                         ⎠             \n",
       "─────────────────────────────────────────────── = 0\n",
       "                        3                          \n",
       "                   8⋅π⋅a (t)                       "
      ]
     },
     "execution_count": 42,
     "metadata": {},
     "output_type": "execute_result"
    }
   ],
   "source": [
    "Cons_eq_3_simplify=sp.simplify(Cons_eq_3)\n",
    "Cons_eq_3_simplify"
   ]
  },
  {
   "cell_type": "code",
   "execution_count": 43,
   "id": "fcb29adb",
   "metadata": {},
   "outputs": [
    {
     "data": {
      "image/png": "[encoded data removed]",
      "text/plain": [
       "<Figure size 640x480 with 1 Axes>"
      ]
     },
     "metadata": {},
     "output_type": "display_data"
    }
   ],
   "source": [
    "from scipy.integrate import solve_ivp\n",
    "import numpy as np\n",
    "import matplotlib.pyplot as plt\n",
    "\n",
    "# Define the ODE system\n",
    "def ode_system(t, y):\n",
    "    y1, y2 = y\n",
    "    dy1_dt = y2\n",
    "    dy2_dt = -0.5 * (y2**2) / y1 - 1/(2*y1)\n",
    "    return [dy1_dt, dy2_dt]\n",
    "\n",
    "# Initial conditions\n",
    "y1_0 = 1.0  # Initial value for a(t)\n",
    "y2_0 = 0.1  # Initial value for a'(t)\n",
    "y0 = [y1_0, y2_0]\n",
    "\n",
    "# Time span for the solution\n",
    "t_span = (0, 10)\n",
    "t_eval = np.linspace(*t_span, 400)\n",
    "\n",
    "# Solve the system of ODEs\n",
    "sol = solve_ivp(ode_system, t_span, y0, t_eval=t_eval)\n",
    "\n",
    "# Extract the solution\n",
    "a_vals = sol.y[0]  # y1 = a(t) values\n",
    "\n",
    "# Plot the solution for a(t)\n",
    "plt.plot(sol.t, a_vals)\n",
    "plt.xlabel('t')\n",
    "plt.ylabel('a(t)')\n",
    "plt.title('Numerical Solution of the Differential Equation for k=1')\n",
    "plt.grid(True)\n",
    "plt.show()\n"
   ]
  },
  {
   "cell_type": "code",
   "execution_count": null,
   "id": "925b9bd3",
   "metadata": {},
   "outputs": [],
   "source": []
  }
 ],
 "metadata": {
  "kernelspec": {
   "display_name": "Python 3 (ipykernel)",
   "language": "python",
   "name": "python3"
  },
  "language_info": {
   "codemirror_mode": {
    "name": "ipython",
    "version": 3
   },
   "file_extension": ".py",
   "mimetype": "text/x-python",
   "name": "python",
   "nbconvert_exporter": "python",
   "pygments_lexer": "ipython3",
   "version": "3.10.7"
  }
 },
 "nbformat": 4,
 "nbformat_minor": 5
}
